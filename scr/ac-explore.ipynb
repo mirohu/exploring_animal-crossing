{
 "cells": [
  {
   "cell_type": "code",
   "execution_count": 1,
   "metadata": {},
   "outputs": [],
   "source": [
    "import pandas as pd\n",
    "from urllib.request import urlopen\n",
    "import requests\n",
    "from bs4 import BeautifulSoup\n",
    "from graphviz import Digraph\n",
    "import re\n",
    "import time\n",
    "import numpy as np"
   ]
  },
  {
   "cell_type": "code",
   "execution_count": 2,
   "metadata": {},
   "outputs": [],
   "source": [
    "an_urllib = urlopen(\"https://animalcrossing.fandom.com/wiki/Villager_list_(New_Horizons)\")"
   ]
  },
  {
   "cell_type": "code",
   "execution_count": 3,
   "metadata": {},
   "outputs": [],
   "source": [
    "an_request = requests.get(\"https://animalcrossing.fandom.com/wiki/Villager_list_(New_Horizons)\")"
   ]
  },
  {
   "cell_type": "code",
   "execution_count": 4,
   "metadata": {},
   "outputs": [
    {
     "name": "stdout",
     "output_type": "stream",
     "text": [
      "The status code is 200\n"
     ]
    }
   ],
   "source": [
    "# check the status code\n",
    "print('The status code is', an_request.status_code)"
   ]
  },
  {
   "cell_type": "code",
   "execution_count": 5,
   "metadata": {},
   "outputs": [],
   "source": [
    "an = BeautifulSoup(an_request.text)"
   ]
  },
  {
   "cell_type": "code",
   "execution_count": 6,
   "metadata": {},
   "outputs": [],
   "source": [
    "tables = an.find_all('table')"
   ]
  },
  {
   "cell_type": "code",
   "execution_count": 7,
   "metadata": {},
   "outputs": [],
   "source": [
    "village_table = []\n",
    "for row in tables[1].find_all(\"tr\"):\n",
    "    row_data = []\n",
    "    \n",
    "    for cell in row.find_all(\"td\"):\n",
    "        row_data.append(cell.text)\n",
    "        \n",
    "    if not row_data == []:\n",
    "        village_table.append(row_data)\n",
    "\n",
    "raw_data = pd.DataFrame(village_table)"
   ]
  },
  {
   "cell_type": "code",
   "execution_count": 8,
   "metadata": {},
   "outputs": [
    {
     "data": {
      "text/html": [
       "<div>\n",
       "<style scoped>\n",
       "    .dataframe tbody tr th:only-of-type {\n",
       "        vertical-align: middle;\n",
       "    }\n",
       "\n",
       "    .dataframe tbody tr th {\n",
       "        vertical-align: top;\n",
       "    }\n",
       "\n",
       "    .dataframe thead th {\n",
       "        text-align: right;\n",
       "    }\n",
       "</style>\n",
       "<table border=\"1\" class=\"dataframe\">\n",
       "  <thead>\n",
       "    <tr style=\"text-align: right;\">\n",
       "      <th></th>\n",
       "      <th>0</th>\n",
       "      <th>1</th>\n",
       "      <th>2</th>\n",
       "      <th>3</th>\n",
       "      <th>4</th>\n",
       "      <th>5</th>\n",
       "      <th>6</th>\n",
       "      <th>7</th>\n",
       "      <th>8</th>\n",
       "      <th>9</th>\n",
       "      <th>...</th>\n",
       "      <th>2728</th>\n",
       "      <th>2729</th>\n",
       "      <th>2730</th>\n",
       "      <th>2731</th>\n",
       "      <th>2732</th>\n",
       "      <th>2733</th>\n",
       "      <th>2734</th>\n",
       "      <th>2735</th>\n",
       "      <th>2736</th>\n",
       "      <th>2737</th>\n",
       "    </tr>\n",
       "  </thead>\n",
       "  <tbody>\n",
       "    <tr>\n",
       "      <th>0</th>\n",
       "      <td>\\n\\n\\nName\\n\\nImage\\n\\nPersonality [1]\\n\\nSpec...</td>\n",
       "      <td>Admiral\\n</td>\n",
       "      <td>\\n</td>\n",
       "      <td>♂ Cranky\\n</td>\n",
       "      <td>Bird\\n</td>\n",
       "      <td>January 27th\\n</td>\n",
       "      <td>\"aye aye\"\\n</td>\n",
       "      <td>Nature\\n</td>\n",
       "      <td>Agent S\\n</td>\n",
       "      <td>\\n</td>\n",
       "      <td>...</td>\n",
       "      <td>June 7th\\n</td>\n",
       "      <td>\"pronk\"\\n</td>\n",
       "      <td>Music\\n</td>\n",
       "      <td>Zucker\\n</td>\n",
       "      <td>\\n</td>\n",
       "      <td>♂ Lazy\\n</td>\n",
       "      <td>Octopus\\n</td>\n",
       "      <td>March 8th\\n</td>\n",
       "      <td>\"bloop\"\\n</td>\n",
       "      <td>Nature\\n</td>\n",
       "    </tr>\n",
       "    <tr>\n",
       "      <th>1</th>\n",
       "      <td>Admiral\\n</td>\n",
       "      <td>\\n</td>\n",
       "      <td>♂ Cranky\\n</td>\n",
       "      <td>Bird\\n</td>\n",
       "      <td>January 27th\\n</td>\n",
       "      <td>\"aye aye\"\\n</td>\n",
       "      <td>Nature\\n</td>\n",
       "      <td>None</td>\n",
       "      <td>None</td>\n",
       "      <td>None</td>\n",
       "      <td>...</td>\n",
       "      <td>None</td>\n",
       "      <td>None</td>\n",
       "      <td>None</td>\n",
       "      <td>None</td>\n",
       "      <td>None</td>\n",
       "      <td>None</td>\n",
       "      <td>None</td>\n",
       "      <td>None</td>\n",
       "      <td>None</td>\n",
       "      <td>None</td>\n",
       "    </tr>\n",
       "    <tr>\n",
       "      <th>2</th>\n",
       "      <td>Agent S\\n</td>\n",
       "      <td>\\n</td>\n",
       "      <td>♀ Peppy\\n</td>\n",
       "      <td>Squirrel\\n</td>\n",
       "      <td>July 2nd\\n</td>\n",
       "      <td>\"sidekick\"\\n</td>\n",
       "      <td>Fitness\\n</td>\n",
       "      <td>None</td>\n",
       "      <td>None</td>\n",
       "      <td>None</td>\n",
       "      <td>...</td>\n",
       "      <td>None</td>\n",
       "      <td>None</td>\n",
       "      <td>None</td>\n",
       "      <td>None</td>\n",
       "      <td>None</td>\n",
       "      <td>None</td>\n",
       "      <td>None</td>\n",
       "      <td>None</td>\n",
       "      <td>None</td>\n",
       "      <td>None</td>\n",
       "    </tr>\n",
       "    <tr>\n",
       "      <th>3</th>\n",
       "      <td>Agnes\\n</td>\n",
       "      <td>\\n</td>\n",
       "      <td>♀ Sisterly\\n</td>\n",
       "      <td>Pig\\n</td>\n",
       "      <td>April 21st\\n</td>\n",
       "      <td>\"snuffle\"\\n</td>\n",
       "      <td>Play\\n</td>\n",
       "      <td>None</td>\n",
       "      <td>None</td>\n",
       "      <td>None</td>\n",
       "      <td>...</td>\n",
       "      <td>None</td>\n",
       "      <td>None</td>\n",
       "      <td>None</td>\n",
       "      <td>None</td>\n",
       "      <td>None</td>\n",
       "      <td>None</td>\n",
       "      <td>None</td>\n",
       "      <td>None</td>\n",
       "      <td>None</td>\n",
       "      <td>None</td>\n",
       "    </tr>\n",
       "    <tr>\n",
       "      <th>4</th>\n",
       "      <td>Al\\n</td>\n",
       "      <td>\\n</td>\n",
       "      <td>♂ Lazy\\n</td>\n",
       "      <td>Gorilla\\n</td>\n",
       "      <td>October 18th\\n</td>\n",
       "      <td>\"ayyeeee\"\\n</td>\n",
       "      <td>Fitness\\n</td>\n",
       "      <td>None</td>\n",
       "      <td>None</td>\n",
       "      <td>None</td>\n",
       "      <td>...</td>\n",
       "      <td>None</td>\n",
       "      <td>None</td>\n",
       "      <td>None</td>\n",
       "      <td>None</td>\n",
       "      <td>None</td>\n",
       "      <td>None</td>\n",
       "      <td>None</td>\n",
       "      <td>None</td>\n",
       "      <td>None</td>\n",
       "      <td>None</td>\n",
       "    </tr>\n",
       "    <tr>\n",
       "      <th>...</th>\n",
       "      <td>...</td>\n",
       "      <td>...</td>\n",
       "      <td>...</td>\n",
       "      <td>...</td>\n",
       "      <td>...</td>\n",
       "      <td>...</td>\n",
       "      <td>...</td>\n",
       "      <td>...</td>\n",
       "      <td>...</td>\n",
       "      <td>...</td>\n",
       "      <td>...</td>\n",
       "      <td>...</td>\n",
       "      <td>...</td>\n",
       "      <td>...</td>\n",
       "      <td>...</td>\n",
       "      <td>...</td>\n",
       "      <td>...</td>\n",
       "      <td>...</td>\n",
       "      <td>...</td>\n",
       "      <td>...</td>\n",
       "      <td>...</td>\n",
       "    </tr>\n",
       "    <tr>\n",
       "      <th>387</th>\n",
       "      <td>Winnie\\n</td>\n",
       "      <td>\\n</td>\n",
       "      <td>♀ Peppy\\n</td>\n",
       "      <td>Horse\\n</td>\n",
       "      <td>January 31st\\n</td>\n",
       "      <td>\"hay-OK\"\\n</td>\n",
       "      <td>Fashion\\n</td>\n",
       "      <td>None</td>\n",
       "      <td>None</td>\n",
       "      <td>None</td>\n",
       "      <td>...</td>\n",
       "      <td>None</td>\n",
       "      <td>None</td>\n",
       "      <td>None</td>\n",
       "      <td>None</td>\n",
       "      <td>None</td>\n",
       "      <td>None</td>\n",
       "      <td>None</td>\n",
       "      <td>None</td>\n",
       "      <td>None</td>\n",
       "      <td>None</td>\n",
       "    </tr>\n",
       "    <tr>\n",
       "      <th>388</th>\n",
       "      <td>Wolfgang\\n</td>\n",
       "      <td>\\n</td>\n",
       "      <td>♂ Cranky\\n</td>\n",
       "      <td>Wolf\\n</td>\n",
       "      <td>November 25th\\n</td>\n",
       "      <td>\"snarrrl\"\\n</td>\n",
       "      <td>Education\\n</td>\n",
       "      <td>None</td>\n",
       "      <td>None</td>\n",
       "      <td>None</td>\n",
       "      <td>...</td>\n",
       "      <td>None</td>\n",
       "      <td>None</td>\n",
       "      <td>None</td>\n",
       "      <td>None</td>\n",
       "      <td>None</td>\n",
       "      <td>None</td>\n",
       "      <td>None</td>\n",
       "      <td>None</td>\n",
       "      <td>None</td>\n",
       "      <td>None</td>\n",
       "    </tr>\n",
       "    <tr>\n",
       "      <th>389</th>\n",
       "      <td>Yuka\\n</td>\n",
       "      <td>\\n</td>\n",
       "      <td>♀ Snooty\\n</td>\n",
       "      <td>Koala\\n</td>\n",
       "      <td>July 20th\\n</td>\n",
       "      <td>\"tsk tsk\"\\n</td>\n",
       "      <td>Fashion\\n</td>\n",
       "      <td>None</td>\n",
       "      <td>None</td>\n",
       "      <td>None</td>\n",
       "      <td>...</td>\n",
       "      <td>None</td>\n",
       "      <td>None</td>\n",
       "      <td>None</td>\n",
       "      <td>None</td>\n",
       "      <td>None</td>\n",
       "      <td>None</td>\n",
       "      <td>None</td>\n",
       "      <td>None</td>\n",
       "      <td>None</td>\n",
       "      <td>None</td>\n",
       "    </tr>\n",
       "    <tr>\n",
       "      <th>390</th>\n",
       "      <td>Zell\\n</td>\n",
       "      <td>\\n</td>\n",
       "      <td>♂ Smug\\n</td>\n",
       "      <td>Deer\\n</td>\n",
       "      <td>June 7th\\n</td>\n",
       "      <td>\"pronk\"\\n</td>\n",
       "      <td>Music\\n</td>\n",
       "      <td>None</td>\n",
       "      <td>None</td>\n",
       "      <td>None</td>\n",
       "      <td>...</td>\n",
       "      <td>None</td>\n",
       "      <td>None</td>\n",
       "      <td>None</td>\n",
       "      <td>None</td>\n",
       "      <td>None</td>\n",
       "      <td>None</td>\n",
       "      <td>None</td>\n",
       "      <td>None</td>\n",
       "      <td>None</td>\n",
       "      <td>None</td>\n",
       "    </tr>\n",
       "    <tr>\n",
       "      <th>391</th>\n",
       "      <td>Zucker\\n</td>\n",
       "      <td>\\n</td>\n",
       "      <td>♂ Lazy\\n</td>\n",
       "      <td>Octopus\\n</td>\n",
       "      <td>March 8th\\n</td>\n",
       "      <td>\"bloop\"\\n</td>\n",
       "      <td>Nature\\n</td>\n",
       "      <td>None</td>\n",
       "      <td>None</td>\n",
       "      <td>None</td>\n",
       "      <td>...</td>\n",
       "      <td>None</td>\n",
       "      <td>None</td>\n",
       "      <td>None</td>\n",
       "      <td>None</td>\n",
       "      <td>None</td>\n",
       "      <td>None</td>\n",
       "      <td>None</td>\n",
       "      <td>None</td>\n",
       "      <td>None</td>\n",
       "      <td>None</td>\n",
       "    </tr>\n",
       "  </tbody>\n",
       "</table>\n",
       "<p>392 rows × 2738 columns</p>\n",
       "</div>"
      ],
      "text/plain": [
       "                                                  0          1     \\\n",
       "0    \\n\\n\\nName\\n\\nImage\\n\\nPersonality [1]\\n\\nSpec...  Admiral\\n   \n",
       "1                                            Admiral\\n         \\n   \n",
       "2                                            Agent S\\n         \\n   \n",
       "3                                              Agnes\\n         \\n   \n",
       "4                                                 Al\\n         \\n   \n",
       "..                                                 ...        ...   \n",
       "387                                           Winnie\\n         \\n   \n",
       "388                                         Wolfgang\\n         \\n   \n",
       "389                                             Yuka\\n         \\n   \n",
       "390                                             Zell\\n         \\n   \n",
       "391                                           Zucker\\n         \\n   \n",
       "\n",
       "             2           3                4               5            6     \\\n",
       "0              \\n  ♂ Cranky\\n           Bird\\n  January 27th\\n  \"aye aye\"\\n   \n",
       "1      ♂ Cranky\\n      Bird\\n   January 27th\\n     \"aye aye\"\\n     Nature\\n   \n",
       "2       ♀ Peppy\\n  Squirrel\\n       July 2nd\\n    \"sidekick\"\\n    Fitness\\n   \n",
       "3    ♀ Sisterly\\n       Pig\\n     April 21st\\n     \"snuffle\"\\n       Play\\n   \n",
       "4        ♂ Lazy\\n   Gorilla\\n   October 18th\\n     \"ayyeeee\"\\n    Fitness\\n   \n",
       "..            ...         ...              ...             ...          ...   \n",
       "387     ♀ Peppy\\n     Horse\\n   January 31st\\n      \"hay-OK\"\\n    Fashion\\n   \n",
       "388    ♂ Cranky\\n      Wolf\\n  November 25th\\n     \"snarrrl\"\\n  Education\\n   \n",
       "389    ♀ Snooty\\n     Koala\\n      July 20th\\n     \"tsk tsk\"\\n    Fashion\\n   \n",
       "390      ♂ Smug\\n      Deer\\n       June 7th\\n       \"pronk\"\\n      Music\\n   \n",
       "391      ♂ Lazy\\n   Octopus\\n      March 8th\\n       \"bloop\"\\n     Nature\\n   \n",
       "\n",
       "         7          8     9     ...        2728       2729     2730      2731  \\\n",
       "0    Nature\\n  Agent S\\n    \\n  ...  June 7th\\n  \"pronk\"\\n  Music\\n  Zucker\\n   \n",
       "1        None       None  None  ...        None       None     None      None   \n",
       "2        None       None  None  ...        None       None     None      None   \n",
       "3        None       None  None  ...        None       None     None      None   \n",
       "4        None       None  None  ...        None       None     None      None   \n",
       "..        ...        ...   ...  ...         ...        ...      ...       ...   \n",
       "387      None       None  None  ...        None       None     None      None   \n",
       "388      None       None  None  ...        None       None     None      None   \n",
       "389      None       None  None  ...        None       None     None      None   \n",
       "390      None       None  None  ...        None       None     None      None   \n",
       "391      None       None  None  ...        None       None     None      None   \n",
       "\n",
       "     2732      2733       2734         2735       2736      2737  \n",
       "0      \\n  ♂ Lazy\\n  Octopus\\n  March 8th\\n  \"bloop\"\\n  Nature\\n  \n",
       "1    None      None       None         None       None      None  \n",
       "2    None      None       None         None       None      None  \n",
       "3    None      None       None         None       None      None  \n",
       "4    None      None       None         None       None      None  \n",
       "..    ...       ...        ...          ...        ...       ...  \n",
       "387  None      None       None         None       None      None  \n",
       "388  None      None       None         None       None      None  \n",
       "389  None      None       None         None       None      None  \n",
       "390  None      None       None         None       None      None  \n",
       "391  None      None       None         None       None      None  \n",
       "\n",
       "[392 rows x 2738 columns]"
      ]
     },
     "execution_count": 8,
     "metadata": {},
     "output_type": "execute_result"
    }
   ],
   "source": [
    "raw_data"
   ]
  },
  {
   "cell_type": "code",
   "execution_count": 9,
   "metadata": {},
   "outputs": [],
   "source": [
    "# clean the dataframe a bit\n",
    "# remove unneccessary columns\n",
    "cleaned_data = raw_data.iloc[1:,0:7]\n",
    "cleaned_data.columns = [\"name\", \"image\", \"personality\", \"species\", \n",
    "                        \"birthday\", \"catchphrase\", \"hobbies\"]\n",
    "cleaned_data = cleaned_data.drop(\"image\", axis = 1)"
   ]
  },
  {
   "cell_type": "code",
   "execution_count": 10,
   "metadata": {},
   "outputs": [],
   "source": [
    "# make the data clean a bit"
   ]
  },
  {
   "cell_type": "code",
   "execution_count": 11,
   "metadata": {},
   "outputs": [],
   "source": [
    "cleaned_data = cleaned_data.replace(\"\\n\", \"\", regex = True)\n",
    "cleaned_data = cleaned_data.replace(\"♂\", \"\", regex = True)\n",
    "cleaned_data = cleaned_data.replace(\"♀\", \"\", regex = True)\n",
    "cleaned_data = cleaned_data.replace(\" \", \"\", regex = True)"
   ]
  },
  {
   "cell_type": "code",
   "execution_count": 12,
   "metadata": {},
   "outputs": [],
   "source": [
    "# add gender column\n",
    "cleaned_data['gender'] = np.where((cleaned_data['personality'] == 'Cranky')|\\\n",
    "                                  (cleaned_data['personality'] == 'Jock')|\\\n",
    "                                  (cleaned_data['personality'] == 'Lazy')|\\\n",
    "                                  (cleaned_data['personality'] == 'Smug'), 'male', 'female' )"
   ]
  },
  {
   "cell_type": "code",
   "execution_count": 13,
   "metadata": {},
   "outputs": [
    {
     "data": {
      "text/html": [
       "<div>\n",
       "<style scoped>\n",
       "    .dataframe tbody tr th:only-of-type {\n",
       "        vertical-align: middle;\n",
       "    }\n",
       "\n",
       "    .dataframe tbody tr th {\n",
       "        vertical-align: top;\n",
       "    }\n",
       "\n",
       "    .dataframe thead th {\n",
       "        text-align: right;\n",
       "    }\n",
       "</style>\n",
       "<table border=\"1\" class=\"dataframe\">\n",
       "  <thead>\n",
       "    <tr style=\"text-align: right;\">\n",
       "      <th></th>\n",
       "      <th>name</th>\n",
       "      <th>personality</th>\n",
       "      <th>species</th>\n",
       "      <th>birthday</th>\n",
       "      <th>catchphrase</th>\n",
       "      <th>hobbies</th>\n",
       "      <th>gender</th>\n",
       "    </tr>\n",
       "  </thead>\n",
       "  <tbody>\n",
       "    <tr>\n",
       "      <th>1</th>\n",
       "      <td>Admiral</td>\n",
       "      <td>Cranky</td>\n",
       "      <td>Bird</td>\n",
       "      <td>January27th</td>\n",
       "      <td>\"ayeaye\"</td>\n",
       "      <td>Nature</td>\n",
       "      <td>male</td>\n",
       "    </tr>\n",
       "    <tr>\n",
       "      <th>2</th>\n",
       "      <td>AgentS</td>\n",
       "      <td>Peppy</td>\n",
       "      <td>Squirrel</td>\n",
       "      <td>July2nd</td>\n",
       "      <td>\"sidekick\"</td>\n",
       "      <td>Fitness</td>\n",
       "      <td>female</td>\n",
       "    </tr>\n",
       "    <tr>\n",
       "      <th>3</th>\n",
       "      <td>Agnes</td>\n",
       "      <td>Sisterly</td>\n",
       "      <td>Pig</td>\n",
       "      <td>April21st</td>\n",
       "      <td>\"snuffle\"</td>\n",
       "      <td>Play</td>\n",
       "      <td>female</td>\n",
       "    </tr>\n",
       "    <tr>\n",
       "      <th>4</th>\n",
       "      <td>Al</td>\n",
       "      <td>Lazy</td>\n",
       "      <td>Gorilla</td>\n",
       "      <td>October18th</td>\n",
       "      <td>\"ayyeeee\"</td>\n",
       "      <td>Fitness</td>\n",
       "      <td>male</td>\n",
       "    </tr>\n",
       "    <tr>\n",
       "      <th>5</th>\n",
       "      <td>Alfonso</td>\n",
       "      <td>Lazy</td>\n",
       "      <td>Alligator</td>\n",
       "      <td>June9th</td>\n",
       "      <td>\"it'same\"</td>\n",
       "      <td>Play</td>\n",
       "      <td>male</td>\n",
       "    </tr>\n",
       "    <tr>\n",
       "      <th>...</th>\n",
       "      <td>...</td>\n",
       "      <td>...</td>\n",
       "      <td>...</td>\n",
       "      <td>...</td>\n",
       "      <td>...</td>\n",
       "      <td>...</td>\n",
       "      <td>...</td>\n",
       "    </tr>\n",
       "    <tr>\n",
       "      <th>387</th>\n",
       "      <td>Winnie</td>\n",
       "      <td>Peppy</td>\n",
       "      <td>Horse</td>\n",
       "      <td>January31st</td>\n",
       "      <td>\"hay-OK\"</td>\n",
       "      <td>Fashion</td>\n",
       "      <td>female</td>\n",
       "    </tr>\n",
       "    <tr>\n",
       "      <th>388</th>\n",
       "      <td>Wolfgang</td>\n",
       "      <td>Cranky</td>\n",
       "      <td>Wolf</td>\n",
       "      <td>November25th</td>\n",
       "      <td>\"snarrrl\"</td>\n",
       "      <td>Education</td>\n",
       "      <td>male</td>\n",
       "    </tr>\n",
       "    <tr>\n",
       "      <th>389</th>\n",
       "      <td>Yuka</td>\n",
       "      <td>Snooty</td>\n",
       "      <td>Koala</td>\n",
       "      <td>July20th</td>\n",
       "      <td>\"tsktsk\"</td>\n",
       "      <td>Fashion</td>\n",
       "      <td>female</td>\n",
       "    </tr>\n",
       "    <tr>\n",
       "      <th>390</th>\n",
       "      <td>Zell</td>\n",
       "      <td>Smug</td>\n",
       "      <td>Deer</td>\n",
       "      <td>June7th</td>\n",
       "      <td>\"pronk\"</td>\n",
       "      <td>Music</td>\n",
       "      <td>male</td>\n",
       "    </tr>\n",
       "    <tr>\n",
       "      <th>391</th>\n",
       "      <td>Zucker</td>\n",
       "      <td>Lazy</td>\n",
       "      <td>Octopus</td>\n",
       "      <td>March8th</td>\n",
       "      <td>\"bloop\"</td>\n",
       "      <td>Nature</td>\n",
       "      <td>male</td>\n",
       "    </tr>\n",
       "  </tbody>\n",
       "</table>\n",
       "<p>391 rows × 7 columns</p>\n",
       "</div>"
      ],
      "text/plain": [
       "         name personality    species      birthday catchphrase    hobbies  \\\n",
       "1     Admiral      Cranky       Bird   January27th    \"ayeaye\"     Nature   \n",
       "2      AgentS       Peppy   Squirrel       July2nd  \"sidekick\"    Fitness   \n",
       "3       Agnes    Sisterly        Pig     April21st   \"snuffle\"       Play   \n",
       "4          Al        Lazy    Gorilla   October18th   \"ayyeeee\"    Fitness   \n",
       "5     Alfonso        Lazy  Alligator       June9th   \"it'same\"       Play   \n",
       "..        ...         ...        ...           ...         ...        ...   \n",
       "387    Winnie       Peppy      Horse   January31st    \"hay-OK\"    Fashion   \n",
       "388  Wolfgang      Cranky       Wolf  November25th   \"snarrrl\"  Education   \n",
       "389      Yuka      Snooty      Koala      July20th    \"tsktsk\"    Fashion   \n",
       "390      Zell        Smug       Deer       June7th     \"pronk\"      Music   \n",
       "391    Zucker        Lazy    Octopus      March8th     \"bloop\"     Nature   \n",
       "\n",
       "     gender  \n",
       "1      male  \n",
       "2    female  \n",
       "3    female  \n",
       "4      male  \n",
       "5      male  \n",
       "..      ...  \n",
       "387  female  \n",
       "388    male  \n",
       "389  female  \n",
       "390    male  \n",
       "391    male  \n",
       "\n",
       "[391 rows x 7 columns]"
      ]
     },
     "execution_count": 13,
     "metadata": {},
     "output_type": "execute_result"
    }
   ],
   "source": [
    "cleaned_data"
   ]
  },
  {
   "cell_type": "code",
   "execution_count": 14,
   "metadata": {},
   "outputs": [
    {
     "data": {
      "text/plain": [
       "RendererRegistry.enable('mimetype')"
      ]
     },
     "execution_count": 14,
     "metadata": {},
     "output_type": "execute_result"
    }
   ],
   "source": [
    "import altair as alt\n",
    "alt.renderers.enable('mimetype')"
   ]
  },
  {
   "cell_type": "code",
   "execution_count": 15,
   "metadata": {},
   "outputs": [
    {
     "data": {
      "application/vnd.vegalite.v4+json": {
       "$schema": "https://vega.github.io/schema/vega-lite/v4.8.1.json",
       "config": {
        "view": {
         "continuousHeight": 300,
         "continuousWidth": 400
        }
       },
       "data": {
        "name": "data-b6cd50f40cc3a8bb0161cf8bc8e8da85"
       },
       "datasets": {
        "data-b6cd50f40cc3a8bb0161cf8bc8e8da85": [
         {
          "birthday": "January27th",
          "catchphrase": "\"ayeaye\"",
          "gender": "male",
          "hobbies": "Nature",
          "name": "Admiral",
          "personality": "Cranky",
          "species": "Bird"
         },
         {
          "birthday": "July2nd",
          "catchphrase": "\"sidekick\"",
          "gender": "female",
          "hobbies": "Fitness",
          "name": "AgentS",
          "personality": "Peppy",
          "species": "Squirrel"
         },
         {
          "birthday": "April21st",
          "catchphrase": "\"snuffle\"",
          "gender": "female",
          "hobbies": "Play",
          "name": "Agnes",
          "personality": "Sisterly",
          "species": "Pig"
         },
         {
          "birthday": "October18th",
          "catchphrase": "\"ayyeeee\"",
          "gender": "male",
          "hobbies": "Fitness",
          "name": "Al",
          "personality": "Lazy",
          "species": "Gorilla"
         },
         {
          "birthday": "June9th",
          "catchphrase": "\"it'same\"",
          "gender": "male",
          "hobbies": "Play",
          "name": "Alfonso",
          "personality": "Lazy",
          "species": "Alligator"
         },
         {
          "birthday": "August19th",
          "catchphrase": "\"guvnor\"",
          "gender": "female",
          "hobbies": "Education",
          "name": "Alice",
          "personality": "Normal",
          "species": "Koala"
         },
         {
          "birthday": "November8th",
          "catchphrase": "\"graaagh\"",
          "gender": "female",
          "hobbies": "Fashion",
          "name": "Alli",
          "personality": "Snooty",
          "species": "Alligator"
         },
         {
          "birthday": "November19th",
          "catchphrase": "\"cuz\"",
          "gender": "female",
          "hobbies": "Music",
          "name": "Amelia",
          "personality": "Snooty",
          "species": "Eagle"
         },
         {
          "birthday": "February16th",
          "catchphrase": "\"snorty\"",
          "gender": "female",
          "hobbies": "Fashion",
          "name": "Anabelle",
          "personality": "Peppy",
          "species": "Anteater"
         },
         {
          "birthday": "March4th",
          "catchphrase": "\"chuurp\"",
          "gender": "male",
          "hobbies": "Play",
          "name": "Anchovy",
          "personality": "Lazy",
          "species": "Bird"
         },
         {
          "birthday": "April30th",
          "catchphrase": "\"macmoo\"",
          "gender": "male",
          "hobbies": "Fitness",
          "name": "Angus",
          "personality": "Cranky",
          "species": "Bull"
         },
         {
          "birthday": "February24th",
          "catchphrase": "\"cannoli\"",
          "gender": "female",
          "hobbies": "Fashion",
          "name": "Anicotti",
          "personality": "Peppy",
          "species": "Mouse"
         },
         {
          "birthday": "September22nd",
          "catchphrase": "\"memeow\"",
          "gender": "female",
          "hobbies": "Nature",
          "name": "Ankha",
          "personality": "Snooty",
          "species": "Cat"
         },
         {
          "birthday": "February6th",
          "catchphrase": "\"gumdrop\"",
          "gender": "female",
          "hobbies": "Nature",
          "name": "Annalisa",
          "personality": "Normal",
          "species": "Anteater"
         },
         {
          "birthday": "December2nd",
          "catchphrase": "\"nipper\"",
          "gender": "female",
          "hobbies": "Fashion",
          "name": "Annalise",
          "personality": "Snooty",
          "species": "Horse"
         },
         {
          "birthday": "October20th",
          "catchphrase": "\"honk\"",
          "gender": "male",
          "hobbies": "Fitness",
          "name": "Antonio",
          "personality": "Jock",
          "species": "Anteater"
         },
         {
          "birthday": "July4th",
          "catchphrase": "\"pah\"",
          "gender": "male",
          "hobbies": "Music",
          "name": "Apollo",
          "personality": "Cranky",
          "species": "Eagle"
         },
         {
          "birthday": "September24th",
          "catchphrase": "\"cheekers\"",
          "gender": "female",
          "hobbies": "Play",
          "name": "Apple",
          "personality": "Peppy",
          "species": "Hamster"
         },
         {
          "birthday": "September8th",
          "catchphrase": "\"mypet\"",
          "gender": "female",
          "hobbies": "Music",
          "name": "Astrid",
          "personality": "Snooty",
          "species": "Kangaroo"
         },
         {
          "birthday": "August31st",
          "catchphrase": "\"foxtrot\"",
          "gender": "female",
          "hobbies": "Fitness",
          "name": "Audie",
          "personality": "Peppy",
          "species": "Wolf"
         },
         {
          "birthday": "January27th",
          "catchphrase": "\"b-b-baby\"",
          "gender": "female",
          "hobbies": "Education",
          "name": "Aurora",
          "personality": "Normal",
          "species": "Penguin"
         },
         {
          "birthday": "April28th",
          "catchphrase": "\"beaker\"",
          "gender": "female",
          "hobbies": "Music",
          "name": "Ava",
          "personality": "Normal",
          "species": "Chicken"
         },
         {
          "birthday": "February22nd",
          "catchphrase": "\"skree-haw\"",
          "gender": "male",
          "hobbies": "Music",
          "name": "Avery",
          "personality": "Cranky",
          "species": "Eagle"
         },
         {
          "birthday": "March23rd",
          "catchphrase": "\"WHONK\"",
          "gender": "male",
          "hobbies": "Fitness",
          "name": "Axel",
          "personality": "Jock",
          "species": "Elephant"
         },
         {
          "birthday": "March28th",
          "catchphrase": "\"daahling\"",
          "gender": "female",
          "hobbies": "Fashion",
          "name": "Baabara",
          "personality": "Snooty",
          "species": "Sheep"
         },
         {
          "birthday": "November7th",
          "catchphrase": "\"kablang\"",
          "gender": "male",
          "hobbies": "Play",
          "name": "Bam",
          "personality": "Jock",
          "species": "Deer"
         },
         {
          "birthday": "August27th",
          "catchphrase": "\"growf\"",
          "gender": "female",
          "hobbies": "Fashion",
          "name": "Bangle",
          "personality": "Peppy",
          "species": "Tiger"
         },
         {
          "birthday": "March2nd",
          "catchphrase": "\"cubby\"",
          "gender": "male",
          "hobbies": "Play",
          "name": "Barold",
          "personality": "Lazy",
          "species": "Cub"
         },
         {
          "birthday": "October15th",
          "catchphrase": "\"bingo\"",
          "gender": "female",
          "hobbies": "Nature",
          "name": "Bea",
          "personality": "Normal",
          "species": "Dog"
         },
         {
          "birthday": "September27th",
          "catchphrase": "\"whiskers\"",
          "gender": "male",
          "hobbies": "Education",
          "name": "Beardo",
          "personality": "Smug",
          "species": "Bear"
         },
         {
          "birthday": "April5th",
          "catchphrase": "\"saltlick\"",
          "gender": "male",
          "hobbies": "Nature",
          "name": "Beau",
          "personality": "Lazy",
          "species": "Deer"
         },
         {
          "birthday": "December9th",
          "catchphrase": "\"chicklet\"",
          "gender": "female",
          "hobbies": "Music",
          "name": "Becky",
          "personality": "Snooty",
          "species": "Chicken"
         },
         {
          "birthday": "December28th",
          "catchphrase": "\"eeks\"",
          "gender": "female",
          "hobbies": "Music",
          "name": "Bella",
          "personality": "Peppy",
          "species": "Mouse"
         },
         {
          "birthday": "October10th",
          "catchphrase": "\"uh-hoo\"",
          "gender": "male",
          "hobbies": "Play",
          "name": "Benedict",
          "personality": "Lazy",
          "species": "Chicken"
         },
         {
          "birthday": "August3rd",
          "catchphrase": "\"alrighty\"",
          "gender": "male",
          "hobbies": "Nature",
          "name": "Benjamin",
          "personality": "Lazy",
          "species": "Dog"
         },
         {
          "birthday": "April25th",
          "catchphrase": "\"bloop\"",
          "gender": "female",
          "hobbies": "Education",
          "name": "Bertha",
          "personality": "Normal",
          "species": "Hippo"
         },
         {
          "birthday": "June12th",
          "catchphrase": "\"eekers\"",
          "gender": "female",
          "hobbies": "Education",
          "name": "Bettina",
          "personality": "Normal",
          "species": "Mouse"
         },
         {
          "birthday": "December13th",
          "catchphrase": "\"glimmer\"",
          "gender": "female",
          "hobbies": "Play",
          "name": "Bianca",
          "personality": "Peppy",
          "species": "Tiger"
         },
         {
          "birthday": "March29th",
          "catchphrase": "\"squirt\"",
          "gender": "male",
          "hobbies": "Fitness",
          "name": "Biff",
          "personality": "Jock",
          "species": "Hippo"
         },
         {
          "birthday": "October3rd",
          "catchphrase": "\"villain\"",
          "gender": "male",
          "hobbies": "Play",
          "name": "BigTop",
          "personality": "Lazy",
          "species": "Elephant"
         },
         {
          "birthday": "February1st",
          "catchphrase": "\"quacko\"",
          "gender": "male",
          "hobbies": "Play",
          "name": "Bill",
          "personality": "Jock",
          "species": "Duck"
         },
         {
          "birthday": "March25th",
          "catchphrase": "\"dagnaabit\"",
          "gender": "male",
          "hobbies": "Play",
          "name": "Billy",
          "personality": "Jock",
          "species": "Goat"
         },
         {
          "birthday": "May13th",
          "catchphrase": "\"dawg\"",
          "gender": "male",
          "hobbies": "Play",
          "name": "Biskit",
          "personality": "Lazy",
          "species": "Dog"
         },
         {
          "birthday": "October6th",
          "catchphrase": "\"mydear\"",
          "gender": "female",
          "hobbies": "Education",
          "name": "Bitty",
          "personality": "Snooty",
          "species": "Hippo"
         },
         {
          "birthday": "July3rd",
          "catchphrase": "\"nutlet\"",
          "gender": "female",
          "hobbies": "Fashion",
          "name": "Blaire",
          "personality": "Snooty",
          "species": "Squirrel"
         },
         {
          "birthday": "December21st",
          "catchphrase": "\"quiteso\"",
          "gender": "female",
          "hobbies": "Nature",
          "name": "Blanche",
          "personality": "Snooty",
          "species": "Ostrich"
         },
         {
          "birthday": "June24th",
          "catchphrase": "\"peach\"",
          "gender": "female",
          "hobbies": "Fashion",
          "name": "Bluebear",
          "personality": "Peppy",
          "species": "Cub"
         },
         {
          "birthday": "January1st",
          "catchphrase": "\"pthhpth\"",
          "gender": "male",
          "hobbies": "Play",
          "name": "Bob",
          "personality": "Lazy",
          "species": "Cat"
         },
         {
          "birthday": "March3rd",
          "catchphrase": "\"deelish\"",
          "gender": "female",
          "hobbies": "Play",
          "name": "Bonbon",
          "personality": "Peppy",
          "species": "Rabbit"
         },
         {
          "birthday": "August4th",
          "catchphrase": "\"yipyip\"",
          "gender": "male",
          "hobbies": "Play",
          "name": "Bones",
          "personality": "Lazy",
          "species": "Dog"
         },
         {
          "birthday": "February7th",
          "catchphrase": "\"human\"",
          "gender": "male",
          "hobbies": "Fitness",
          "name": "Boomer",
          "personality": "Lazy",
          "species": "Penguin"
         },
         {
          "birthday": "September12th",
          "catchphrase": "\"baboom\"",
          "gender": "male",
          "hobbies": "Fitness",
          "name": "Boone",
          "personality": "Jock",
          "species": "Gorilla"
         },
         {
          "birthday": "August7th",
          "catchphrase": "\"munchie\"",
          "gender": "male",
          "hobbies": "Play",
          "name": "Boots",
          "personality": "Jock",
          "species": "Alligator"
         },
         {
          "birthday": "November6th",
          "catchphrase": "\"schnort\"",
          "gender": "male",
          "hobbies": "Nature",
          "name": "Boris",
          "personality": "Cranky",
          "species": "Pig"
         },
         {
          "birthday": "October1st",
          "catchphrase": "\"uh-oh\"",
          "gender": "male",
          "hobbies": "Fitness",
          "name": "Boyd",
          "personality": "Cranky",
          "species": "Gorilla"
         },
         {
          "birthday": "July7th",
          "catchphrase": "\"cheeseball\"",
          "gender": "female",
          "hobbies": "Fashion",
          "name": "Bree",
          "personality": "Snooty",
          "species": "Mouse"
         },
         {
          "birthday": "June30th",
          "catchphrase": "\"eatit\"",
          "gender": "male",
          "hobbies": "Play",
          "name": "Broccolo",
          "personality": "Lazy",
          "species": "Mouse"
         },
         {
          "birthday": "October24th",
          "catchphrase": "\"cluckadoo\"",
          "gender": "female",
          "hobbies": "Music",
          "name": "Broffina",
          "personality": "Snooty",
          "species": "Chicken"
         },
         {
          "birthday": "May26th",
          "catchphrase": "\"gruff\"",
          "gender": "male",
          "hobbies": "Nature",
          "name": "Bruce",
          "personality": "Cranky",
          "species": "Deer"
         },
         {
          "birthday": "September18th",
          "catchphrase": "\"hipster\"",
          "gender": "female",
          "hobbies": "Fashion",
          "name": "Bubbles",
          "personality": "Peppy",
          "species": "Hippo"
         },
         {
          "birthday": "April4th",
          "catchphrase": "\"pardner\"",
          "gender": "male",
          "hobbies": "Fitness",
          "name": "Buck",
          "personality": "Jock",
          "species": "Horse"
         },
         {
          "birthday": "August8th",
          "catchphrase": "\"shredded\"",
          "gender": "male",
          "hobbies": "Fitness",
          "name": "Bud",
          "personality": "Jock",
          "species": "Lion"
         },
         {
          "birthday": "May9th",
          "catchphrase": "\"tee-hee\"",
          "gender": "female",
          "hobbies": "Fashion",
          "name": "Bunnie",
          "personality": "Peppy",
          "species": "Rabbit"
         },
         {
          "birthday": "November1st",
          "catchphrase": "\"ROOOOOWF\"",
          "gender": "male",
          "hobbies": "Music",
          "name": "Butch",
          "personality": "Cranky",
          "species": "Dog"
         },
         {
          "birthday": "December7th",
          "catchphrase": "\"captain\"",
          "gender": "male",
          "hobbies": "Nature",
          "name": "Buzz",
          "personality": "Cranky",
          "species": "Eagle"
         },
         {
          "birthday": "September4th",
          "catchphrase": "\"WHEE\"",
          "gender": "female",
          "hobbies": "Nature",
          "name": "Cally",
          "personality": "Normal",
          "species": "Squirrel"
         },
         {
          "birthday": "June5th",
          "catchphrase": "\"ten-hut\"",
          "gender": "male",
          "hobbies": "Music",
          "name": "Camofrog",
          "personality": "Cranky",
          "species": "Frog"
         },
         {
          "birthday": "May14th",
          "catchphrase": "\"nuhuh\"",
          "gender": "female",
          "hobbies": "Play",
          "name": "Canberra",
          "personality": "Sisterly",
          "species": "Koala"
         },
         {
          "birthday": "April13th",
          "catchphrase": "\"sweetie\"",
          "gender": "female",
          "hobbies": "Play",
          "name": "Candi",
          "personality": "Peppy",
          "species": "Mouse"
         },
         {
          "birthday": "January6th",
          "catchphrase": "\"nougat\"",
          "gender": "female",
          "hobbies": "Fashion",
          "name": "Carmen",
          "personality": "Peppy",
          "species": "Rabbit"
         },
         {
          "birthday": "July15th",
          "catchphrase": "\"hulaaaa\"",
          "gender": "female",
          "hobbies": "Music",
          "name": "Caroline",
          "personality": "Normal",
          "species": "Squirrel"
         },
         {
          "birthday": "December5th",
          "catchphrase": "\"littleone\"",
          "gender": "female",
          "hobbies": "Nature",
          "name": "Carrie",
          "personality": "Normal",
          "species": "Kangaroo"
         },
         {
          "birthday": "April2nd",
          "catchphrase": "\"baaaby\"",
          "gender": "female",
          "hobbies": "Fashion",
          "name": "Cashmere",
          "personality": "Snooty",
          "species": "Sheep"
         },
         {
          "birthday": "March25th",
          "catchphrase": "\"feathers\"",
          "gender": "female",
          "hobbies": "Nature",
          "name": "Celia",
          "personality": "Normal",
          "species": "Eagle"
         },
         {
          "birthday": "September6th",
          "catchphrase": "\"highness\"",
          "gender": "male",
          "hobbies": "Fitness",
          "name": "Cesar",
          "personality": "Cranky",
          "species": "Gorilla"
         },
         {
          "birthday": "December15th",
          "catchphrase": "\"fromage\"",
          "gender": "male",
          "hobbies": "Fitness",
          "name": "Chadder",
          "personality": "Smug",
          "species": "Mouse"
         },
         {
          "birthday": "April17th",
          "catchphrase": "\"urgh\"",
          "gender": "female",
          "hobbies": "Fitness",
          "name": "Charlise",
          "personality": "Sisterly",
          "species": "Bear"
         },
         {
          "birthday": "March17th",
          "catchphrase": "\"tralala\"",
          "gender": "female",
          "hobbies": "Fashion",
          "name": "Cheri",
          "personality": "Peppy",
          "species": "Cub"
         },
         {
          "birthday": "May11th",
          "catchphrase": "\"whatwhat\"",
          "gender": "female",
          "hobbies": "Music",
          "name": "Cherry",
          "personality": "Sisterly",
          "species": "Dog"
         },
         {
          "birthday": "August6th",
          "catchphrase": "\"rookie\"",
          "gender": "male",
          "hobbies": "Play",
          "name": "Chester",
          "personality": "Lazy",
          "species": "Cub"
         },
         {
          "birthday": "March6th",
          "catchphrase": "\"labaa\"",
          "gender": "female",
          "hobbies": "Education",
          "name": "Chevre",
          "personality": "Normal",
          "species": "Goat"
         },
         {
          "birthday": "December19th",
          "catchphrase": "\"harrumph\"",
          "gender": "male",
          "hobbies": "Music",
          "name": "Chief",
          "personality": "Cranky",
          "species": "Wolf"
         },
         {
          "birthday": "October13th",
          "catchphrase": "\"zoink\"",
          "gender": "male",
          "hobbies": "Education",
          "name": "Chops",
          "personality": "Smug",
          "species": "Pig"
         },
         {
          "birthday": "July22nd",
          "catchphrase": "\"aiya\"",
          "gender": "male",
          "hobbies": "Fitness",
          "name": "Chow",
          "personality": "Cranky",
          "species": "Bear"
         },
         {
          "birthday": "August28th",
          "catchphrase": "\"sparkles\"",
          "gender": "female",
          "hobbies": "Fashion",
          "name": "Chrissy",
          "personality": "Peppy",
          "species": "Rabbit"
         },
         {
          "birthday": "December3rd",
          "catchphrase": "\"hopalong\"",
          "gender": "male",
          "hobbies": "Nature",
          "name": "Claude",
          "personality": "Lazy",
          "species": "Rabbit"
         },
         {
          "birthday": "November22nd",
          "catchphrase": "\"oohlala\"",
          "gender": "female",
          "hobbies": "Music",
          "name": "Claudia",
          "personality": "Snooty",
          "species": "Tiger"
         },
         {
          "birthday": "October19th",
          "catchphrase": "\"thump\"",
          "gender": "male",
          "hobbies": "Nature",
          "name": "Clay",
          "personality": "Lazy",
          "species": "Hamster"
         },
         {
          "birthday": "February9th",
          "catchphrase": "\"sugar\"",
          "gender": "female",
          "hobbies": "Education",
          "name": "Cleo",
          "personality": "Snooty",
          "species": "Horse"
         },
         {
          "birthday": "May1st",
          "catchphrase": "\"clipclawp\"",
          "gender": "male",
          "hobbies": "Play",
          "name": "Clyde",
          "personality": "Lazy",
          "species": "Horse"
         },
         {
          "birthday": "April29th",
          "catchphrase": "\"stubble\"",
          "gender": "male",
          "hobbies": "Fitness",
          "name": "Coach",
          "personality": "Jock",
          "species": "Bull"
         },
         {
          "birthday": "October7th",
          "catchphrase": "\"hotdog\"",
          "gender": "male",
          "hobbies": "Education",
          "name": "Cobb",
          "personality": "Jock",
          "species": "Pig"
         },
         {
          "birthday": "March1st",
          "catchphrase": "\"doyoing\"",
          "gender": "female",
          "hobbies": "Education",
          "name": "Coco",
          "personality": "Normal",
          "species": "Rabbit"
         },
         {
          "birthday": "August10th",
          "catchphrase": "\"coooooool\"",
          "gender": "male",
          "hobbies": "Nature",
          "name": "Cole",
          "personality": "Lazy",
          "species": "Rabbit"
         },
         {
          "birthday": "May22nd",
          "catchphrase": "\"checkit\"",
          "gender": "male",
          "hobbies": "Nature",
          "name": "Colton",
          "personality": "Smug",
          "species": "Horse"
         },
         {
          "birthday": "June18th",
          "catchphrase": "\"arfer\"",
          "gender": "female",
          "hobbies": "Fashion",
          "name": "Cookie",
          "personality": "Peppy",
          "species": "Dog"
         },
         {
          "birthday": "December17th",
          "catchphrase": "\"ouioui\"",
          "gender": "male",
          "hobbies": "Fitness",
          "name": "Cousteau",
          "personality": "Jock",
          "species": "Frog"
         },
         {
          "birthday": "September23rd",
          "catchphrase": "\"sweatband\"",
          "gender": "male",
          "hobbies": "Nature",
          "name": "Cranston",
          "personality": "Lazy",
          "species": "Ostrich"
         },
         {
          "birthday": "July18th",
          "catchphrase": "\"asif\"",
          "gender": "male",
          "hobbies": "Nature",
          "name": "Croque",
          "personality": "Cranky",
          "species": "Frog"
         },
         {
          "birthday": "January29th",
          "catchphrase": "\"brainfreeze\"",
          "gender": "male",
          "hobbies": "Play",
          "name": "Cube",
          "personality": "Lazy",
          "species": "Penguin"
         },
         {
          "birthday": "May8th",
          "catchphrase": "\"shearly\"",
          "gender": "male",
          "hobbies": "Nature",
          "name": "Curlos",
          "personality": "Smug",
          "species": "Sheep"
         },
         {
          "birthday": "July26th",
          "catchphrase": "\"nyoink\"",
          "gender": "male",
          "hobbies": "Fitness",
          "name": "Curly",
          "personality": "Jock",
          "species": "Pig"
         },
         {
          "birthday": "July1st",
          "catchphrase": "\"fuzzball\"",
          "gender": "male",
          "hobbies": "Nature",
          "name": "Curt",
          "personality": "Cranky",
          "species": "Bear"
         },
         {
          "birthday": "June9th",
          "catchphrase": "\"rockin'\"",
          "gender": "male",
          "hobbies": "Music",
          "name": "Cyd",
          "personality": "Cranky",
          "species": "Elephant"
         },
         {
          "birthday": "March9th",
          "catchphrase": "\"ah-CHOO\"",
          "gender": "male",
          "hobbies": "Education",
          "name": "Cyrano",
          "personality": "Cranky",
          "species": "Anteater"
         },
         {
          "birthday": "November16th",
          "catchphrase": "\"bow-WOW\"",
          "gender": "female",
          "hobbies": "Education",
          "name": "Daisy",
          "personality": "Normal",
          "species": "Dog"
         },
         {
          "birthday": "June27th",
          "catchphrase": "\"woowoo\"",
          "gender": "female",
          "hobbies": "Education",
          "name": "Deena",
          "personality": "Normal",
          "species": "Duck"
         },
         {
          "birthday": "May4th",
          "catchphrase": "\"whatevs\"",
          "gender": "female",
          "hobbies": "Play",
          "name": "Deirdre",
          "personality": "Sisterly",
          "species": "Deer"
         },
         {
          "birthday": "May27th",
          "catchphrase": "\"gronk\"",
          "gender": "male",
          "hobbies": "Fitness",
          "name": "Del",
          "personality": "Cranky",
          "species": "Alligator"
         },
         {
          "birthday": "May24th",
          "catchphrase": "\"monch\"",
          "gender": "male",
          "hobbies": "Nature",
          "name": "Deli",
          "personality": "Lazy",
          "species": "Monkey"
         },
         {
          "birthday": "May25th",
          "catchphrase": "\"derrrrr\"",
          "gender": "male",
          "hobbies": "Play",
          "name": "Derwin",
          "personality": "Lazy",
          "species": "Duck"
         },
         {
          "birthday": "January4th",
          "catchphrase": "\"nodoy\"",
          "gender": "female",
          "hobbies": "Education",
          "name": "Diana",
          "personality": "Snooty",
          "species": "Deer"
         },
         {
          "birthday": "October2nd",
          "catchphrase": "\"yaknow\"",
          "gender": "female",
          "hobbies": "Fitness",
          "name": "Diva",
          "personality": "Sisterly",
          "species": "Frog"
         },
         {
          "birthday": "July14th",
          "catchphrase": "\"woo-oo\"",
          "gender": "male",
          "hobbies": "Play",
          "name": "Dizzy",
          "personality": "Lazy",
          "species": "Elephant"
         },
         {
          "birthday": "February17th",
          "catchphrase": "\"ohmmm\"",
          "gender": "male",
          "hobbies": "Nature",
          "name": "Dobie",
          "personality": "Cranky",
          "species": "Wolf"
         },
         {
          "birthday": "March16th",
          "catchphrase": "\"oldbunny\"",
          "gender": "male",
          "hobbies": "Education",
          "name": "Doc",
          "personality": "Lazy",
          "species": "Rabbit"
         },
         {
          "birthday": "March18th",
          "catchphrase": "\"indeedaroo\"",
          "gender": "male",
          "hobbies": "Play",
          "name": "Dom",
          "personality": "Jock",
          "species": "Sheep"
         },
         {
          "birthday": "February18th",
          "catchphrase": "\"squeaky\"",
          "gender": "female",
          "hobbies": "Education",
          "name": "Dora",
          "personality": "Normal",
          "species": "Mouse"
         },
         {
          "birthday": "March14th",
          "catchphrase": "\"weeone\"",
          "gender": "female",
          "hobbies": "Fashion",
          "name": "Dotty",
          "personality": "Peppy",
          "species": "Rabbit"
         },
         {
          "birthday": "February12th",
          "catchphrase": "\"burrrn\"",
          "gender": "male",
          "hobbies": "Nature",
          "name": "Drago",
          "personality": "Lazy",
          "species": "Alligator"
         },
         {
          "birthday": "June25th",
          "catchphrase": "\"quacko\"",
          "gender": "male",
          "hobbies": "Play",
          "name": "Drake",
          "personality": "Lazy",
          "species": "Duck"
         },
         {
          "birthday": "October9th",
          "catchphrase": "\"dribbit\"",
          "gender": "male",
          "hobbies": "Fitness",
          "name": "Drift",
          "personality": "Jock",
          "species": "Frog"
         },
         {
          "birthday": "September16th",
          "catchphrase": "\"greenhorn\"",
          "gender": "male",
          "hobbies": "Nature",
          "name": "Ed",
          "personality": "Smug",
          "species": "Horse"
         },
         {
          "birthday": "October14th",
          "catchphrase": "\"doodle-duh\"",
          "gender": "male",
          "hobbies": "Play",
          "name": "Egbert",
          "personality": "Lazy",
          "species": "Chicken"
         },
         {
          "birthday": "March21st",
          "catchphrase": "\"puh-lease\"",
          "gender": "female",
          "hobbies": "Fashion",
          "name": "Elise",
          "personality": "Snooty",
          "species": "Monkey"
         },
         {
          "birthday": "May12th",
          "catchphrase": "\"li'lone\"",
          "gender": "female",
          "hobbies": "Nature",
          "name": "Ellie",
          "personality": "Normal",
          "species": "Elephant"
         },
         {
          "birthday": "October5th",
          "catchphrase": "\"tenderfoot\"",
          "gender": "male",
          "hobbies": "Play",
          "name": "Elmer",
          "personality": "Lazy",
          "species": "Horse"
         },
         {
          "birthday": "December8th",
          "catchphrase": "\"tooooot\"",
          "gender": "female",
          "hobbies": "Fashion",
          "name": "Eloise",
          "personality": "Snooty",
          "species": "Elephant"
         },
         {
          "birthday": "July23rd",
          "catchphrase": "\"unh-hunh\"",
          "gender": "male",
          "hobbies": "Education",
          "name": "Elvis",
          "personality": "Cranky",
          "species": "Lion"
         },
         {
          "birthday": "July27th",
          "catchphrase": "\"chowdown\"",
          "gender": "male",
          "hobbies": "Nature",
          "name": "Erik",
          "personality": "Lazy",
          "species": "Deer"
         },
         {
          "birthday": "October26th",
          "catchphrase": "\"yeahbuddy\"",
          "gender": "male",
          "hobbies": "Music",
          "name": "Eugene",
          "personality": "Smug",
          "species": "Koala"
         },
         {
          "birthday": "April3rd",
          "catchphrase": "\"lambchop\"",
          "gender": "female",
          "hobbies": "Fashion",
          "name": "Eunice",
          "personality": "Normal",
          "species": "Sheep"
         },
         {
          "birthday": "December18th",
          "catchphrase": "\"cha-chomp\"",
          "gender": "male",
          "hobbies": "Education",
          "name": "Fang",
          "personality": "Cranky",
          "species": "Wolf"
         },
         {
          "birthday": "March26th",
          "catchphrase": "\"dearie\"",
          "gender": "female",
          "hobbies": "Nature",
          "name": "Fauna",
          "personality": "Normal",
          "species": "Deer"
         },
         {
          "birthday": "March30th",
          "catchphrase": "\"mimimi\"",
          "gender": "female",
          "hobbies": "Fashion",
          "name": "Felicity",
          "personality": "Peppy",
          "species": "Cat"
         },
         {
          "birthday": "June3rd",
          "catchphrase": "\"bucko\"",
          "gender": "male",
          "hobbies": "Nature",
          "name": "Filbert",
          "personality": "Lazy",
          "species": "Squirrel"
         },
         {
          "birthday": "November21st",
          "catchphrase": "\"rerack\"",
          "gender": "male",
          "hobbies": "Music",
          "name": "Flip",
          "personality": "Jock",
          "species": "Monkey"
         },
         {
          "birthday": "September2nd",
          "catchphrase": "\"cha\"",
          "gender": "female",
          "hobbies": "Music",
          "name": "Flo",
          "personality": "Sisterly",
          "species": "Penguin"
         },
         {
          "birthday": "February9th",
          "catchphrase": "\"pinky\"",
          "gender": "female",
          "hobbies": "Play",
          "name": "Flora",
          "personality": "Peppy",
          "species": "Ostrich"
         },
         {
          "birthday": "January30th",
          "catchphrase": "\"powderpuff\"",
          "gender": "female",
          "hobbies": "Nature",
          "name": "Flurry",
          "personality": "Normal",
          "species": "Hamster"
         },
         {
          "birthday": "January22nd",
          "catchphrase": "\"karat\"",
          "gender": "female",
          "hobbies": "Fashion",
          "name": "Francine",
          "personality": "Snooty",
          "species": "Rabbit"
         },
         {
          "birthday": "July30th",
          "catchphrase": "\"crushy\"",
          "gender": "male",
          "hobbies": "Education",
          "name": "Frank",
          "personality": "Cranky",
          "species": "Eagle"
         },
         {
          "birthday": "February19th",
          "catchphrase": "\"ducky\"",
          "gender": "female",
          "hobbies": "Fashion",
          "name": "Freckles",
          "personality": "Peppy",
          "species": "Duck"
         },
         {
          "birthday": "December14th",
          "catchphrase": "\"uffda\"",
          "gender": "female",
          "hobbies": "Fashion",
          "name": "Freya",
          "personality": "Snooty",
          "species": "Wolf"
         },
         {
          "birthday": "October16th",
          "catchphrase": "\"brrmph\"",
          "gender": "female",
          "hobbies": "Fashion",
          "name": "Friga",
          "personality": "Snooty",
          "species": "Penguin"
         },
         {
          "birthday": "July16th",
          "catchphrase": "\"ohewe\"",
          "gender": "female",
          "hobbies": "Music",
          "name": "Frita",
          "personality": "Sisterly",
          "species": "Sheep"
         },
         {
          "birthday": "February8th",
          "catchphrase": "\"fribbit\"",
          "gender": "male",
          "hobbies": "Fitness",
          "name": "Frobert",
          "personality": "Jock",
          "species": "Frog"
         },
         {
          "birthday": "September19th",
          "catchphrase": "\"precious\"",
          "gender": "female",
          "hobbies": "Music",
          "name": "Fuchsia",
          "personality": "Sisterly",
          "species": "Deer"
         },
         {
          "birthday": "December16th",
          "catchphrase": "\"honeybun\"",
          "gender": "female",
          "hobbies": "Fashion",
          "name": "Gabi",
          "personality": "Peppy",
          "species": "Rabbit"
         },
         {
          "birthday": "March5th",
          "catchphrase": "\"snortie\"",
          "gender": "female",
          "hobbies": "Education",
          "name": "Gala",
          "personality": "Normal",
          "species": "Pig"
         },
         {
          "birthday": "October28th",
          "catchphrase": "\"monchou\"",
          "gender": "male",
          "hobbies": "Education",
          "name": "Gaston",
          "personality": "Cranky",
          "species": "Rabbit"
         },
         {
          "birthday": "May17th",
          "catchphrase": "\"snacky\"",
          "gender": "female",
          "hobbies": "Nature",
          "name": "Gayle",
          "personality": "Normal",
          "species": "Alligator"
         },
         {
          "birthday": "January21st",
          "catchphrase": "\"mochi\"",
          "gender": "male",
          "hobbies": "Fitness",
          "name": "Genji",
          "personality": "Jock",
          "species": "Rabbit"
         },
         {
          "birthday": "August11th",
          "catchphrase": "\"ribbette\"",
          "gender": "female",
          "hobbies": "Fashion",
          "name": "Gigi",
          "personality": "Snooty",
          "species": "Frog"
         },
         {
          "birthday": "January15th",
          "catchphrase": "\"stretch\"",
          "gender": "female",
          "hobbies": "Education",
          "name": "Gladys",
          "personality": "Normal",
          "species": "Ostrich"
         },
         {
          "birthday": "August12th",
          "catchphrase": "\"quacker\"",
          "gender": "female",
          "hobbies": "Fashion",
          "name": "Gloria",
          "personality": "Snooty",
          "species": "Duck"
         },
         {
          "birthday": "December27th",
          "catchphrase": "\"woof\"",
          "gender": "female",
          "hobbies": "Nature",
          "name": "Goldie",
          "personality": "Normal",
          "species": "Dog"
         },
         {
          "birthday": "October13th",
          "catchphrase": "\"mate\"",
          "gender": "male",
          "hobbies": "Nature",
          "name": "Gonzo",
          "personality": "Cranky",
          "species": "Koala"
         },
         {
          "birthday": "October4th",
          "catchphrase": "\"buh-kay\"",
          "gender": "male",
          "hobbies": "Fitness",
          "name": "Goose",
          "personality": "Jock",
          "species": "Chicken"
         },
         {
          "birthday": "June20th",
          "catchphrase": "\"indeed\"",
          "gender": "male",
          "hobbies": "Education",
          "name": "Graham",
          "personality": "Smug",
          "species": "Hamster"
         },
         {
          "birthday": "September5th",
          "catchphrase": "\"yelp\"",
          "gender": "female",
          "hobbies": "Education",
          "name": "Greta",
          "personality": "Snooty",
          "species": "Mouse"
         },
         {
          "birthday": "July31st",
          "catchphrase": "\"grrr\"",
          "gender": "male",
          "hobbies": "Education",
          "name": "Grizzly",
          "personality": "Cranky",
          "species": "Bear"
         },
         {
          "birthday": "October23rd",
          "catchphrase": "\"grumble\"",
          "gender": "male",
          "hobbies": "Music",
          "name": "Groucho",
          "personality": "Cranky",
          "species": "Bear"
         },
         {
          "birthday": "August29th",
          "catchphrase": "\"bleheheh\"",
          "gender": "male",
          "hobbies": "Music",
          "name": "Gruff",
          "personality": "Cranky",
          "species": "Goat"
         },
         {
          "birthday": "January23rd",
          "catchphrase": "\"h-h-h-hon\"",
          "gender": "female",
          "hobbies": "Fashion",
          "name": "Gwen",
          "personality": "Snooty",
          "species": "Penguin"
         },
         {
          "birthday": "May30th",
          "catchphrase": "\"hammie\"",
          "gender": "male",
          "hobbies": "Play",
          "name": "Hamlet",
          "personality": "Jock",
          "species": "Hamster"
         },
         {
          "birthday": "February25th",
          "catchphrase": "\"snort\"",
          "gender": "male",
          "hobbies": "Nature",
          "name": "Hamphrey",
          "personality": "Cranky",
          "species": "Hamster"
         },
         {
          "birthday": "December5th",
          "catchphrase": "\"groovy\"",
          "gender": "male",
          "hobbies": "Fitness",
          "name": "Hans",
          "personality": "Smug",
          "species": "Gorilla"
         },
         {
          "birthday": "January7th",
          "catchphrase": "\"beachbum\"",
          "gender": "male",
          "hobbies": "Education",
          "name": "Harry",
          "personality": "Cranky",
          "species": "Hippo"
         },
         {
          "birthday": "August30th",
          "catchphrase": "\"uni-wow\"",
          "gender": "female",
          "hobbies": "Play",
          "name": "Hazel",
          "personality": "Sisterly",
          "species": "Squirrel"
         },
         {
          "birthday": "September21st",
          "catchphrase": "\"snoozit\"",
          "gender": "male",
          "hobbies": "Music",
          "name": "Henry",
          "personality": "Smug",
          "species": "Frog"
         },
         {
          "birthday": "October15th",
          "catchphrase": "\"natch\"",
          "gender": "male",
          "hobbies": "Education",
          "name": "Hippeux",
          "personality": "Smug",
          "species": "Hippo"
         },
         {
          "birthday": "March11th",
          "catchphrase": "\"thumper\"",
          "gender": "male",
          "hobbies": "Nature",
          "name": "Hopkins",
          "personality": "Lazy",
          "species": "Rabbit"
         },
         {
          "birthday": "April6th",
          "catchphrase": "\"slushie\"",
          "gender": "male",
          "hobbies": "Music",
          "name": "Hopper",
          "personality": "Cranky",
          "species": "Penguin"
         },
         {
          "birthday": "March20th",
          "catchphrase": "\"schnozzle\"",
          "gender": "male",
          "hobbies": "Nature",
          "name": "Hornsby",
          "personality": "Lazy",
          "species": "Rhino"
         },
         {
          "birthday": "July9th",
          "catchphrase": "\"hopper\"",
          "gender": "male",
          "hobbies": "Fitness",
          "name": "Huck",
          "personality": "Smug",
          "species": "Frog"
         },
         {
          "birthday": "December30th",
          "catchphrase": "\"snortle\"",
          "gender": "male",
          "hobbies": "Play",
          "name": "Hugh",
          "personality": "Lazy",
          "species": "Pig"
         },
         {
          "birthday": "November2nd",
          "catchphrase": "\"waddler\"",
          "gender": "male",
          "hobbies": "Fitness",
          "name": "Iggly",
          "personality": "Jock",
          "species": "Penguin"
         },
         {
          "birthday": "May16th",
          "catchphrase": "\"roadie\"",
          "gender": "male",
          "hobbies": "Nature",
          "name": "Ike",
          "personality": "Cranky",
          "species": "Bear"
         },
         {
          "birthday": "August24th",
          "catchphrase": "\"yafeel\"",
          "gender": "male",
          "hobbies": "Nature",
          "name": "JacobNAJakeyPAL",
          "personality": "Lazy",
          "species": "Bird"
         },
         {
          "birthday": "June22nd",
          "catchphrase": "\"zutalors\"",
          "gender": "male",
          "hobbies": "Music",
          "name": "Jacques",
          "personality": "Smug",
          "species": "Bird"
         },
         {
          "birthday": "October27th",
          "catchphrase": "\"croak-kay\"",
          "gender": "female",
          "hobbies": "Fashion",
          "name": "Jambette",
          "personality": "Normal",
          "species": "Frog"
         },
         {
          "birthday": "July17th",
          "catchphrase": "\"heeeeeyy\"",
          "gender": "male",
          "hobbies": "Fitness",
          "name": "Jay",
          "personality": "Jock",
          "species": "Bird"
         },
         {
          "birthday": "July8th",
          "catchphrase": "\"nee-deep\"",
          "gender": "male",
          "hobbies": "Play",
          "name": "Jeremiah",
          "personality": "Lazy",
          "species": "Frog"
         },
         {
          "birthday": "February2nd",
          "catchphrase": "\"bzzert\"",
          "gender": "male",
          "hobbies": "Fitness",
          "name": "Jitters",
          "personality": "Jock",
          "species": "Bird"
         },
         {
          "birthday": "January3rd",
          "catchphrase": "\"bleeeeeck\"",
          "gender": "male",
          "hobbies": "Play",
          "name": "Joey",
          "personality": "Lazy",
          "species": "Duck"
         },
         {
          "birthday": "March10th",
          "catchphrase": "\"myohmy\"",
          "gender": "female",
          "hobbies": "Music",
          "name": "Judy",
          "personality": "Snooty",
          "species": "Cub"
         },
         {
          "birthday": "July31st",
          "catchphrase": "\"dahling\"",
          "gender": "female",
          "hobbies": "Education",
          "name": "Julia",
          "personality": "Snooty",
          "species": "Ostrich"
         },
         {
          "birthday": "March15th",
          "catchphrase": "\"glitter\"",
          "gender": "male",
          "hobbies": "Music",
          "name": "Julian",
          "personality": "Smug",
          "species": "Horse"
         },
         {
          "birthday": "May21st",
          "catchphrase": "\"rainbow\"",
          "gender": "female",
          "hobbies": "Nature",
          "name": "June",
          "personality": "Normal",
          "species": "Cub"
         },
         {
          "birthday": "November29th",
          "catchphrase": "\"meooo-OH\"",
          "gender": "male",
          "hobbies": "Music",
          "name": "Kabuki",
          "personality": "Cranky",
          "species": "Cat"
         },
         {
          "birthday": "April27th",
          "catchphrase": "\"purrty\"",
          "gender": "female",
          "hobbies": "Music",
          "name": "Katt",
          "personality": "Sisterly",
          "species": "Cat"
         },
         {
          "birthday": "June1st",
          "catchphrase": "\"wingo\"",
          "gender": "male",
          "hobbies": "Music",
          "name": "Keaton",
          "personality": "Smug",
          "species": "Eagle"
         },
         {
          "birthday": "December23rd",
          "catchphrase": "\"nodoubt\"",
          "gender": "male",
          "hobbies": "Education",
          "name": "Ken",
          "personality": "Smug",
          "species": "Chicken"
         },
         {
          "birthday": "July27th",
          "catchphrase": "\"bitty\"",
          "gender": "female",
          "hobbies": "Play",
          "name": "Ketchup",
          "personality": "Peppy",
          "species": "Duck"
         },
         {
          "birthday": "April26th",
          "catchphrase": "\"weeweewee\"",
          "gender": "male",
          "hobbies": "Play",
          "name": "Kevin",
          "personality": "Jock",
          "species": "Pig"
         },
         {
          "birthday": "August1st",
          "catchphrase": "\"psst\"",
          "gender": "male",
          "hobbies": "Fitness",
          "name": "KidCat",
          "personality": "Jock",
          "species": "Cat"
         },
         {
          "birthday": "June28th",
          "catchphrase": "\"wut\"",
          "gender": "male",
          "hobbies": "Education",
          "name": "Kidd",
          "personality": "Smug",
          "species": "Goat"
         },
         {
          "birthday": "October8th",
          "catchphrase": "\"kittycat\"",
          "gender": "female",
          "hobbies": "Education",
          "name": "Kiki",
          "personality": "Normal",
          "species": "Cat"
         },
         {
          "birthday": "October11th",
          "catchphrase": "\"child\"",
          "gender": "female",
          "hobbies": "Education",
          "name": "Kitt",
          "personality": "Normal",
          "species": "Kangaroo"
         },
         {
          "birthday": "February15th",
          "catchphrase": "\"mrowrr\"",
          "gender": "female",
          "hobbies": "Fashion",
          "name": "Kitty",
          "personality": "Snooty",
          "species": "Cat"
         },
         {
          "birthday": "March31st",
          "catchphrase": "\"strudel\"",
          "gender": "male",
          "hobbies": "Education",
          "name": "Klaus",
          "personality": "Smug",
          "species": "Bear"
         },
         {
          "birthday": "November23rd",
          "catchphrase": "\"cluckling\"",
          "gender": "male",
          "hobbies": "Education",
          "name": "Knox",
          "personality": "Cranky",
          "species": "Chicken"
         },
         {
          "birthday": "September28th",
          "catchphrase": "\"grahgrah\"",
          "gender": "male",
          "hobbies": "Fitness",
          "name": "Kody",
          "personality": "Jock",
          "species": "Cub"
         },
         {
          "birthday": "December6th",
          "catchphrase": "\"alpha\"",
          "gender": "male",
          "hobbies": "Music",
          "name": "Kyle",
          "personality": "Smug",
          "species": "Wolf"
         },
         {
          "birthday": "May15th",
          "catchphrase": "\"flexin'\"",
          "gender": "male",
          "hobbies": "Fitness",
          "name": "Leonardo",
          "personality": "Jock",
          "species": "Tiger"
         },
         {
          "birthday": "August14th",
          "catchphrase": "\"lioncub\"",
          "gender": "male",
          "hobbies": "Education",
          "name": "Leopold",
          "personality": "Smug",
          "species": "Lion"
         },
         {
          "birthday": "February4th",
          "catchphrase": "\"toady\"",
          "gender": "female",
          "hobbies": "Education",
          "name": "Lily",
          "personality": "Normal",
          "species": "Frog"
         },
         {
          "birthday": "October17th",
          "catchphrase": "\"squinky\"",
          "gender": "male",
          "hobbies": "Education",
          "name": "Limberg",
          "personality": "Cranky",
          "species": "Mouse"
         },
         {
          "birthday": "July29th",
          "catchphrase": "\"precisely\"",
          "gender": "male",
          "hobbies": "Music",
          "name": "Lionel",
          "personality": "Smug",
          "species": "Lion"
         },
         {
          "birthday": "November5th",
          "catchphrase": "\"ah-rooooo\"",
          "gender": "male",
          "hobbies": "Education",
          "name": "Lobo",
          "personality": "Cranky",
          "species": "Wolf"
         },
         {
          "birthday": "March27th",
          "catchphrase": "\"bonbon\"",
          "gender": "female",
          "hobbies": "Music",
          "name": "Lolly",
          "personality": "Normal",
          "species": "Cat"
         },
         {
          "birthday": "August20th",
          "catchphrase": "\"badoom\"",
          "gender": "male",
          "hobbies": "Education",
          "name": "Lopez",
          "personality": "Smug",
          "species": "Deer"
         },
         {
          "birthday": "March26th",
          "catchphrase": "\"hoohooha\"",
          "gender": "male",
          "hobbies": "Fitness",
          "name": "Louie",
          "personality": "Jock",
          "species": "Gorilla"
         },
         {
          "birthday": "December12th",
          "catchphrase": "\"cacaw\"",
          "gender": "male",
          "hobbies": "Fitness",
          "name": "Lucha",
          "personality": "Smug",
          "species": "Bird"
         },
         {
          "birthday": "November4th",
          "catchphrase": "\"rrr-owch\"",
          "gender": "male",
          "hobbies": "Play",
          "name": "Lucky",
          "personality": "Lazy",
          "species": "Dog"
         },
         {
          "birthday": "June2nd",
          "catchphrase": "\"snoooink\"",
          "gender": "female",
          "hobbies": "Music",
          "name": "Lucy",
          "personality": "Normal",
          "species": "Pig"
         },
         {
          "birthday": "October12th",
          "catchphrase": "\"chips\"",
          "gender": "male",
          "hobbies": "Play",
          "name": "Lyman",
          "personality": "Jock",
          "species": "Koala"
         },
         {
          "birthday": "November11th",
          "catchphrase": "\"woowoof\"",
          "gender": "male",
          "hobbies": "Fitness",
          "name": "Mac",
          "personality": "Jock",
          "species": "Dog"
         },
         {
          "birthday": "January11th",
          "catchphrase": "\"yippee\"",
          "gender": "female",
          "hobbies": "Play",
          "name": "Maddie",
          "personality": "Peppy",
          "species": "Dog"
         },
         {
          "birthday": "April8th",
          "catchphrase": "\"duckling\"",
          "gender": "female",
          "hobbies": "Fashion",
          "name": "Maelle",
          "personality": "Snooty",
          "species": "Duck"
         },
         {
          "birthday": "September3rd",
          "catchphrase": "\"schep\"",
          "gender": "female",
          "hobbies": "Nature",
          "name": "Maggie",
          "personality": "Normal",
          "species": "Pig"
         },
         {
          "birthday": "November17th",
          "catchphrase": "\"quackpth\"",
          "gender": "female",
          "hobbies": "Fashion",
          "name": "Mallary",
          "personality": "Snooty",
          "species": "Duck"
         },
         {
          "birthday": "June15th",
          "catchphrase": "\"honey\"",
          "gender": "female",
          "hobbies": "Education",
          "name": "Maple",
          "personality": "Normal",
          "species": "Cub"
         },
         {
          "birthday": "December31st",
          "catchphrase": "\"non\"",
          "gender": "male",
          "hobbies": "Play",
          "name": "Marcel",
          "personality": "Lazy",
          "species": "Dog"
         },
         {
          "birthday": "May31st",
          "catchphrase": "\"pouches\"",
          "gender": "female",
          "hobbies": "Nature",
          "name": "Marcie",
          "personality": "Normal",
          "species": "Kangaroo"
         },
         {
          "birthday": "January28th",
          "catchphrase": "\"tootie\"",
          "gender": "female",
          "hobbies": "Education",
          "name": "Margie",
          "personality": "Normal",
          "species": "Elephant"
         },
         {
          "birthday": "June26th",
          "catchphrase": "\"blurp\"",
          "gender": "female",
          "hobbies": "Music",
          "name": "Marina",
          "personality": "Normal",
          "species": "Octopus"
         },
         {
          "birthday": "September29th",
          "catchphrase": "\"sulky\"",
          "gender": "male",
          "hobbies": "Music",
          "name": "Marshal",
          "personality": "Smug",
          "species": "Squirrel"
         },
         {
          "birthday": "November12th",
          "catchphrase": "\"weebaby\"",
          "gender": "female",
          "hobbies": "Fitness",
          "name": "Mathilda",
          "personality": "Snooty",
          "species": "Kangaroo"
         },
         {
          "birthday": "March13th",
          "catchphrase": "\"sundae\"",
          "gender": "female",
          "hobbies": "Nature",
          "name": "Megan",
          "personality": "Normal",
          "species": "Bear"
         },
         {
          "birthday": "April12th",
          "catchphrase": "\"toasty\"",
          "gender": "female",
          "hobbies": "Education",
          "name": "Melba",
          "personality": "Normal",
          "species": "Koala"
         },
         {
          "birthday": "March19th",
          "catchphrase": "\"shortcake\"",
          "gender": "female",
          "hobbies": "Nature",
          "name": "Merengue",
          "personality": "Normal",
          "species": "Rhino"
         },
         {
          "birthday": "June29th",
          "catchphrase": "\"mweee\"",
          "gender": "female",
          "hobbies": "Fashion",
          "name": "Merry",
          "personality": "Peppy",
          "species": "Cat"
         },
         {
          "birthday": "March12th",
          "catchphrase": "\"tweedledee\"",
          "gender": "female",
          "hobbies": "Education",
          "name": "Midge",
          "personality": "Normal",
          "species": "Bird"
         },
         {
          "birthday": "May2nd",
          "catchphrase": "\"ahhhhhh\"",
          "gender": "female",
          "hobbies": "Fashion",
          "name": "Mint",
          "personality": "Snooty",
          "species": "Squirrel"
         },
         {
          "birthday": "July6th",
          "catchphrase": "\"cottontail\"",
          "gender": "female",
          "hobbies": "Fitness",
          "name": "Mira",
          "personality": "Sisterly",
          "species": "Rabbit"
         },
         {
          "birthday": "April23rd",
          "catchphrase": "\"quackulous\"",
          "gender": "female",
          "hobbies": "Fashion",
          "name": "Miranda",
          "personality": "Snooty",
          "species": "Duck"
         },
         {
          "birthday": "September25th",
          "catchphrase": "\"mew\"",
          "gender": "female",
          "hobbies": "Education",
          "name": "Mitzi",
          "personality": "Normal",
          "species": "Cat"
         },
         {
          "birthday": "January12th",
          "catchphrase": "\"myawn\"",
          "gender": "male",
          "hobbies": "Play",
          "name": "Moe",
          "personality": "Lazy",
          "species": "Cat"
         },
         {
          "birthday": "March7th",
          "catchphrase": "\"quackidee\"",
          "gender": "female",
          "hobbies": "Nature",
          "name": "Molly",
          "personality": "Normal",
          "species": "Duck"
         },
         {
          "birthday": "September30th",
          "catchphrase": "\"pffffft\"",
          "gender": "female",
          "hobbies": "Fashion",
          "name": "Monique",
          "personality": "Snooty",
          "species": "Cat"
         },
         {
          "birthday": "December7th",
          "catchphrase": "\"g'tang\"",
          "gender": "male",
          "hobbies": "Education",
          "name": "Monty",
          "personality": "Cranky",
          "species": "Monkey"
         },
         {
          "birthday": "September13th",
          "catchphrase": "\"shorty\"",
          "gender": "male",
          "hobbies": "Fitness",
          "name": "Moose",
          "personality": "Jock",
          "species": "Mouse"
         },
         {
          "birthday": "July10th",
          "catchphrase": "\"cagey\"",
          "gender": "male",
          "hobbies": "Fitness",
          "name": "Mott",
          "personality": "Jock",
          "species": "Lion"
         },
         {
          "birthday": "February14th",
          "catchphrase": "\"nightshade\"",
          "gender": "female",
          "hobbies": "Music",
          "name": "Muffy",
          "personality": "Sisterly",
          "species": "Sheep"
         },
         {
          "birthday": "December29th",
          "catchphrase": "\"malarkey\"",
          "gender": "male",
          "hobbies": "Education",
          "name": "Murphy",
          "personality": "Cranky",
          "species": "Cub"
         },
         {
          "birthday": "August24th",
          "catchphrase": "\"kid\"",
          "gender": "female",
          "hobbies": "Nature",
          "name": "Nan",
          "personality": "Normal",
          "species": "Goat"
         },
         {
          "birthday": "August23rd",
          "catchphrase": "\"popo\"",
          "gender": "female",
          "hobbies": "Education",
          "name": "Nana",
          "personality": "Normal",
          "species": "Monkey"
         },
         {
          "birthday": "February28th",
          "catchphrase": "\"moolah\"",
          "gender": "female",
          "hobbies": "Fashion",
          "name": "Naomi",
          "personality": "Snooty",
          "species": "Cow"
         },
         {
          "birthday": "August16th",
          "catchphrase": "\"yawwwn\"",
          "gender": "male",
          "hobbies": "Play",
          "name": "Nate",
          "personality": "Lazy",
          "species": "Bear"
         },
         {
          "birthday": "July19th",
          "catchphrase": "\"niblet\"",
          "gender": "female",
          "hobbies": "Fashion",
          "name": "Nibbles",
          "personality": "Peppy",
          "species": "Squirrel"
         },
         {
          "birthday": "September20th",
          "catchphrase": "\"hoofhoo\"",
          "gender": "female",
          "hobbies": "Nature",
          "name": "Norma",
          "personality": "Normal",
          "species": "Cow"
         },
         {
          "birthday": "September20th",
          "catchphrase": "\"sucker\"",
          "gender": "male",
          "hobbies": "Play",
          "name": "Octavian",
          "personality": "Cranky",
          "species": "Octopus"
         },
         {
          "birthday": "July24th",
          "catchphrase": "\"amigo\"",
          "gender": "male",
          "hobbies": "Nature",
          "name": "O'Hare",
          "personality": "Smug",
          "species": "Rabbit"
         },
         {
          "birthday": "May19th",
          "catchphrase": "\"whiffa\"",
          "gender": "male",
          "hobbies": "Education",
          "name": "Olaf",
          "personality": "Smug",
          "species": "Anteater"
         },
         {
          "birthday": "July12th",
          "catchphrase": "\"sweetpea\"",
          "gender": "female",
          "hobbies": "Nature",
          "name": "Olive",
          "personality": "Normal",
          "species": "Cub"
         },
         {
          "birthday": "February3rd",
          "catchphrase": "\"purrr\"",
          "gender": "female",
          "hobbies": "Music",
          "name": "Olivia",
          "personality": "Snooty",
          "species": "Cat"
         },
         {
          "birthday": "January20th",
          "catchphrase": "\"snoot\"",
          "gender": "female",
          "hobbies": "Fashion",
          "name": "Opal",
          "personality": "Snooty",
          "species": "Elephant"
         },
         {
          "birthday": "May7th",
          "catchphrase": "\"ol'bear\"",
          "gender": "male",
          "hobbies": "Play",
          "name": "Ozzie",
          "personality": "Lazy",
          "species": "Koala"
         },
         {
          "birthday": "November14th",
          "catchphrase": "\"sooey\"",
          "gender": "female",
          "hobbies": "Music",
          "name": "Pancetti",
          "personality": "Snooty",
          "species": "Pig"
         },
         {
          "birthday": "November9th",
          "catchphrase": "\"snooooof\"",
          "gender": "female",
          "hobbies": "Fashion",
          "name": "Pango",
          "personality": "Peppy",
          "species": "Anteater"
         },
         {
          "birthday": "May5th",
          "catchphrase": "\"pal\"",
          "gender": "male",
          "hobbies": "Nature",
          "name": "Paolo",
          "personality": "Lazy",
          "species": "Elephant"
         },
         {
          "birthday": "January10th",
          "catchphrase": "\"haaay\"",
          "gender": "male",
          "hobbies": "Nature",
          "name": "Papi",
          "personality": "Lazy",
          "species": "Horse"
         },
         {
          "birthday": "December26th",
          "catchphrase": "\"kidders\"",
          "gender": "female",
          "hobbies": "Music",
          "name": "Pashmina",
          "personality": "Sisterly",
          "species": "Goat"
         },
         {
          "birthday": "February23rd",
          "catchphrase": "\"quackle\"",
          "gender": "female",
          "hobbies": "Fashion",
          "name": "Pate",
          "personality": "Peppy",
          "species": "Duck"
         },
         {
          "birthday": "May10th",
          "catchphrase": "\"how-now\"",
          "gender": "female",
          "hobbies": "Fashion",
          "name": "Patty",
          "personality": "Peppy",
          "species": "Cow"
         },
         {
          "birthday": "March22nd",
          "catchphrase": "\"yodelay\"",
          "gender": "female",
          "hobbies": "Fitness",
          "name": "Paula",
          "personality": "Sisterly",
          "species": "Bear"
         },
         {
          "birthday": "November28th",
          "catchphrase": "\"neighbor\"",
          "gender": "female",
          "hobbies": "Education",
          "name": "Peaches",
          "personality": "Normal",
          "species": "Horse"
         },
         {
          "birthday": "June8th",
          "catchphrase": "\"slacker\"",
          "gender": "female",
          "hobbies": "Fashion",
          "name": "Peanut",
          "personality": "Peppy",
          "species": "Squirrel"
         },
         {
          "birthday": "September10th",
          "catchphrase": "\"chipmunk\"",
          "gender": "female",
          "hobbies": "Fashion",
          "name": "Pecan",
          "personality": "Snooty",
          "species": "Squirrel"
         },
         {
          "birthday": "July25th",
          "catchphrase": "\"crunch\"",
          "gender": "male",
          "hobbies": "Play",
          "name": "Peck",
          "personality": "Jock",
          "species": "Bird"
         },
         {
          "birthday": "September11th",
          "catchphrase": "\"li'lbittybaby\"",
          "gender": "male",
          "hobbies": "Fitness",
          "name": "Peewee",
          "personality": "Cranky",
          "species": "Gorilla"
         },
         {
          "birthday": "May23rd",
          "catchphrase": "\"shweetie\"",
          "gender": "female",
          "hobbies": "Fashion",
          "name": "Peggy",
          "personality": "Peppy",
          "species": "Pig"
         },
         {
          "birthday": "May18th",
          "catchphrase": "\"bud\"",
          "gender": "female",
          "hobbies": "Nature",
          "name": "Pekoe",
          "personality": "Normal",
          "species": "Cub"
         },
         {
          "birthday": "February5th",
          "catchphrase": "\"ohbow\"",
          "gender": "female",
          "hobbies": "Fashion",
          "name": "Penelope",
          "personality": "Peppy",
          "species": "Mouse"
         },
         {
          "birthday": "November27th",
          "catchphrase": "\"hurk\"",
          "gender": "male",
          "hobbies": "Music",
          "name": "Phil",
          "personality": "Smug",
          "species": "Ostrich"
         },
         {
          "birthday": "April22nd",
          "catchphrase": "\"sparky\"",
          "gender": "female",
          "hobbies": "Fitness",
          "name": "Phoebe",
          "personality": "Sisterly",
          "species": "Ostrich"
         },
         {
          "birthday": "January8th",
          "catchphrase": "\"hawkeye\"",
          "gender": "male",
          "hobbies": "Fitness",
          "name": "Pierce",
          "personality": "Jock",
          "species": "Eagle"
         },
         {
          "birthday": "April19th",
          "catchphrase": "\"honkhonk\"",
          "gender": "male",
          "hobbies": "Music",
          "name": "Pietro",
          "personality": "Smug",
          "species": "Sheep"
         },
         {
          "birthday": "September9th",
          "catchphrase": "\"wah\"",
          "gender": "female",
          "hobbies": "Fashion",
          "name": "Pinky",
          "personality": "Peppy",
          "species": "Bear"
         },
         {
          "birthday": "April18th",
          "catchphrase": "\"chickadee\"",
          "gender": "female",
          "hobbies": "Play",
          "name": "Piper",
          "personality": "Peppy",
          "species": "Bird"
         },
         {
          "birthday": "June14th",
          "catchphrase": "\"li'lhare\"",
          "gender": "female",
          "hobbies": "Fashion",
          "name": "Pippy",
          "personality": "Peppy",
          "species": "Rabbit"
         },
         {
          "birthday": "October12th",
          "catchphrase": "\"chicky-poo\"",
          "gender": "female",
          "hobbies": "Play",
          "name": "Plucky",
          "personality": "Sisterly",
          "species": "Chicken"
         },
         {
          "birthday": "February11th",
          "catchphrase": "\"rahrah\"",
          "gender": "female",
          "hobbies": "Music",
          "name": "Pompom",
          "personality": "Peppy",
          "species": "Duck"
         },
         {
          "birthday": "January2nd",
          "catchphrase": "\"li'lbear\"",
          "gender": "male",
          "hobbies": "Fitness",
          "name": "Poncho",
          "personality": "Jock",
          "species": "Cub"
         },
         {
          "birthday": "August5th",
          "catchphrase": "\"nutty\"",
          "gender": "female",
          "hobbies": "Education",
          "name": "Poppy",
          "personality": "Normal",
          "species": "Squirrel"
         },
         {
          "birthday": "October25th",
          "catchphrase": "\"ruffian\"",
          "gender": "female",
          "hobbies": "Fashion",
          "name": "Portia",
          "personality": "Snooty",
          "species": "Dog"
         },
         {
          "birthday": "July21st",
          "catchphrase": "\"burrup\"",
          "gender": "male",
          "hobbies": "Play",
          "name": "Prince",
          "personality": "Lazy",
          "species": "Frog"
         },
         {
          "birthday": "February21st",
          "catchphrase": "\"brrrrrrrrr\"",
          "gender": "male",
          "hobbies": "Fitness",
          "name": "Puck",
          "personality": "Lazy",
          "species": "Penguin"
         },
         {
          "birthday": "January13th",
          "catchphrase": "\"splish\"",
          "gender": "female",
          "hobbies": "Fashion",
          "name": "Puddles",
          "personality": "Peppy",
          "species": "Frog"
         },
         {
          "birthday": "June11th",
          "catchphrase": "\"golly\"",
          "gender": "male",
          "hobbies": "Play",
          "name": "Pudge",
          "personality": "Lazy",
          "species": "Cub"
         },
         {
          "birthday": "April11th",
          "catchphrase": "\"mrmpht\"",
          "gender": "male",
          "hobbies": "Play",
          "name": "Punchy",
          "personality": "Lazy",
          "species": "Cat"
         },
         {
          "birthday": "May29th",
          "catchphrase": "\"kitten\"",
          "gender": "female",
          "hobbies": "Fashion",
          "name": "Purrl",
          "personality": "Snooty",
          "species": "Cat"
         },
         {
          "birthday": "November13th",
          "catchphrase": "\"chicken\"",
          "gender": "female",
          "hobbies": "Fashion",
          "name": "Queenie",
          "personality": "Snooty",
          "species": "Ostrich"
         },
         {
          "birthday": "December22nd",
          "catchphrase": "\"ridukulous\"",
          "gender": "male",
          "hobbies": "Music",
          "name": "Quillson",
          "personality": "Smug",
          "species": "Duck"
         },
         {
          "birthday": "June6th",
          "catchphrase": "\"aaach—\"",
          "gender": "male",
          "hobbies": "Nature",
          "name": "Raddle",
          "personality": "Lazy",
          "species": "Frog"
         },
         {
          "birthday": "April7th",
          "catchphrase": "\"swine\"",
          "gender": "male",
          "hobbies": "Music",
          "name": "Rasher",
          "personality": "Cranky",
          "species": "Pig"
         },
         {
          "birthday": "October1st",
          "catchphrase": "\"crisp\"",
          "gender": "male",
          "hobbies": "Nature",
          "name": "Raymond",
          "personality": "Smug",
          "species": "Cat"
         },
         {
          "birthday": "May28th",
          "catchphrase": "\"yoyoyo\"",
          "gender": "female",
          "hobbies": "Music",
          "name": "Renée",
          "personality": "Sisterly",
          "species": "Rhino"
         },
         {
          "birthday": "June4th",
          "catchphrase": "\"ayupyup\"",
          "gender": "female",
          "hobbies": "Play",
          "name": "Reneigh",
          "personality": "Sisterly",
          "species": "Horse"
         },
         {
          "birthday": "July24th",
          "catchphrase": "\"coolcat\"",
          "gender": "male",
          "hobbies": "Nature",
          "name": "Rex",
          "personality": "Lazy",
          "species": "Lion"
         },
         {
          "birthday": "January24th",
          "catchphrase": "\"bigfoot\"",
          "gender": "female",
          "hobbies": "Music",
          "name": "Rhonda",
          "personality": "Normal",
          "species": "Rhino"
         },
         {
          "birthday": "February13th",
          "catchphrase": "\"zzrrbbitt\"",
          "gender": "male",
          "hobbies": "Fitness",
          "name": "Ribbot",
          "personality": "Jock",
          "species": "Frog"
         },
         {
          "birthday": "September14th",
          "catchphrase": "\"nutcase\"",
          "gender": "male",
          "hobbies": "Education",
          "name": "Ricky",
          "personality": "Cranky",
          "species": "Squirrel"
         },
         {
          "birthday": "January17th",
          "catchphrase": "\"squee\"",
          "gender": "male",
          "hobbies": "Education",
          "name": "Rizzo",
          "personality": "Cranky",
          "species": "Mouse"
         },
         {
          "birthday": "January5th",
          "catchphrase": "\"b-b-buddy\"",
          "gender": "male",
          "hobbies": "Fitness",
          "name": "Roald",
          "personality": "Jock",
          "species": "Penguin"
         },
         {
          "birthday": "December4th",
          "catchphrase": "\"la-di-da\"",
          "gender": "female",
          "hobbies": "Fashion",
          "name": "Robin",
          "personality": "Snooty",
          "species": "Bird"
         },
         {
          "birthday": "August18th",
          "catchphrase": "\"hippie\"",
          "gender": "male",
          "hobbies": "Education",
          "name": "Rocco",
          "personality": "Cranky",
          "species": "Hippo"
         },
         {
          "birthday": "April14th",
          "catchphrase": "\"vroom\"",
          "gender": "female",
          "hobbies": "Fitness",
          "name": "Rocket",
          "personality": "Sisterly",
          "species": "Gorilla"
         },
         {
          "birthday": "August14th",
          "catchphrase": "\"ace\"",
          "gender": "male",
          "hobbies": "Fitness",
          "name": "Rod",
          "personality": "Jock",
          "species": "Mouse"
         },
         {
          "birthday": "October29th",
          "catchphrase": "\"chaps\"",
          "gender": "male",
          "hobbies": "Fitness",
          "name": "Rodeo",
          "personality": "Lazy",
          "species": "Bull"
         },
         {
          "birthday": "November10th",
          "catchphrase": "\"leham\"",
          "gender": "male",
          "hobbies": "Music",
          "name": "Rodney",
          "personality": "Smug",
          "species": "Hamster"
         },
         {
          "birthday": "August22nd",
          "catchphrase": "\"grrrolf\"",
          "gender": "male",
          "hobbies": "Fitness",
          "name": "Rolf",
          "personality": "Cranky",
          "species": "Tiger"
         },
         {
          "birthday": "December1st",
          "catchphrase": "\"punches\"",
          "gender": "male",
          "hobbies": "Fitness",
          "name": "Rooney",
          "personality": "Cranky",
          "species": "Kangaroo"
         },
         {
          "birthday": "August7th",
          "catchphrase": "\"capital\"",
          "gender": "male",
          "hobbies": "Music",
          "name": "Rory",
          "personality": "Jock",
          "species": "Lion"
         },
         {
          "birthday": "June16th",
          "catchphrase": "\"nay\"",
          "gender": "male",
          "hobbies": "Music",
          "name": "Roscoe",
          "personality": "Cranky",
          "species": "Horse"
         },
         {
          "birthday": "February27th",
          "catchphrase": "\"silly\"",
          "gender": "female",
          "hobbies": "Music",
          "name": "Rosie",
          "personality": "Peppy",
          "species": "Cat"
         },
         {
          "birthday": "August26th",
          "catchphrase": "\"mango\"",
          "gender": "male",
          "hobbies": "Fitness",
          "name": "Rowan",
          "personality": "Jock",
          "species": "Tiger"
         },
         {
          "birthday": "December25th",
          "catchphrase": "\"li'lears\"",
          "gender": "female",
          "hobbies": "Nature",
          "name": "Ruby",
          "personality": "Peppy",
          "species": "Rabbit"
         },
         {
          "birthday": "December20th",
          "catchphrase": "\"mush\"",
          "gender": "male",
          "hobbies": "Play",
          "name": "Rudy",
          "personality": "Jock",
          "species": "Cat"
         },
         {
          "birthday": "June19th",
          "catchphrase": "\"nutmeg\"",
          "gender": "female",
          "hobbies": "Music",
          "name": "Sally",
          "personality": "Normal",
          "species": "Squirrel"
         },
         {
          "birthday": "July5th",
          "catchphrase": "\"pipsqueak\"",
          "gender": "male",
          "hobbies": "Fitness",
          "name": "Samson",
          "personality": "Jock",
          "species": "Mouse"
         },
         {
          "birthday": "October21st",
          "catchphrase": "\"speedy\"",
          "gender": "female",
          "hobbies": "Nature",
          "name": "Sandy",
          "personality": "Normal",
          "species": "Ostrich"
         },
         {
          "birthday": "January25th",
          "catchphrase": "\"y'all\"",
          "gender": "female",
          "hobbies": "Music",
          "name": "Savannah",
          "personality": "Normal",
          "species": "Horse"
         },
         {
          "birthday": "June13th",
          "catchphrase": "\"zipzoom\"",
          "gender": "male",
          "hobbies": "Fitness",
          "name": "Scoot",
          "personality": "Jock",
          "species": "Duck"
         },
         {
          "birthday": "April10th",
          "catchphrase": "\"cheeky\"",
          "gender": "female",
          "hobbies": "Music",
          "name": "Shari",
          "personality": "Sisterly",
          "species": "Monkey"
         },
         {
          "birthday": "February26th",
          "catchphrase": "\"cardio\"",
          "gender": "male",
          "hobbies": "Play",
          "name": "Sheldon",
          "personality": "Jock",
          "species": "Squirrel"
         },
         {
          "birthday": "November24th",
          "catchphrase": "\"baabaabaa\"",
          "gender": "male",
          "hobbies": "Education",
          "name": "Shep",
          "personality": "Smug",
          "species": "Dog"
         },
         {
          "birthday": "January18th",
          "catchphrase": "\"bawwww\"",
          "gender": "male",
          "hobbies": "Nature",
          "name": "Sherb",
          "personality": "Lazy",
          "species": "Goat"
         },
         {
          "birthday": "January19th",
          "catchphrase": "\"zzzook\"",
          "gender": "male",
          "hobbies": "Play",
          "name": "Simon",
          "personality": "Lazy",
          "species": "Monkey"
         },
         {
          "birthday": "March24th",
          "catchphrase": "\"airmail\"",
          "gender": "female",
          "hobbies": "Music",
          "name": "Skye",
          "personality": "Normal",
          "species": "Wolf"
         },
         {
          "birthday": "November15th",
          "catchphrase": "\"hoo-rah\"",
          "gender": "male",
          "hobbies": "Play",
          "name": "Sly",
          "personality": "Jock",
          "species": "Alligator"
         },
         {
          "birthday": "November3rd",
          "catchphrase": "\"bunyip\"",
          "gender": "male",
          "hobbies": "Fitness",
          "name": "Snake",
          "personality": "Jock",
          "species": "Rabbit"
         },
         {
          "birthday": "October24th",
          "catchphrase": "\"sniffff\"",
          "gender": "female",
          "hobbies": "Education",
          "name": "Snooty",
          "personality": "Snooty",
          "species": "Anteater"
         },
         {
          "birthday": "August9th",
          "catchphrase": "\"tarnation\"",
          "gender": "female",
          "hobbies": "Education",
          "name": "Soleil",
          "personality": "Snooty",
          "species": "Hamster"
         },
         {
          "birthday": "November20th",
          "catchphrase": "\"likewhoa\"",
          "gender": "male",
          "hobbies": "Play",
          "name": "Sparro",
          "personality": "Jock",
          "species": "Bird"
         },
         {
          "birthday": "June17th",
          "catchphrase": "\"punk\"",
          "gender": "male",
          "hobbies": "Nature",
          "name": "Spike",
          "personality": "Cranky",
          "species": "Rhino"
         },
         {
          "birthday": "September3rd",
          "catchphrase": "\"snork\"",
          "gender": "male",
          "hobbies": "Play",
          "name": "SporkNACracklePAL",
          "personality": "Lazy",
          "species": "Pig"
         },
         {
          "birthday": "February20th",
          "catchphrase": "\"frappe\"",
          "gender": "female",
          "hobbies": "Play",
          "name": "Sprinkle",
          "personality": "Peppy",
          "species": "Penguin"
         },
         {
          "birthday": "December1st",
          "catchphrase": "\"zort\"",
          "gender": "male",
          "hobbies": "Music",
          "name": "Sprocket",
          "personality": "Jock",
          "species": "Ostrich"
         },
         {
          "birthday": "July9th",
          "catchphrase": "\"krzzt\"",
          "gender": "male",
          "hobbies": "Music",
          "name": "Static",
          "personality": "Cranky",
          "species": "Squirrel"
         },
         {
          "birthday": "April9th",
          "catchphrase": "\"baa-dabing\"",
          "gender": "female",
          "hobbies": "Nature",
          "name": "Stella",
          "personality": "Normal",
          "species": "Sheep"
         },
         {
          "birthday": "December11th",
          "catchphrase": "\"skraaaaw\"",
          "gender": "male",
          "hobbies": "Fitness",
          "name": "Sterling",
          "personality": "Jock",
          "species": "Eagle"
         },
         {
          "birthday": "August17th",
          "catchphrase": "\"GAAHHH\"",
          "gender": "male",
          "hobbies": "Fitness",
          "name": "Stinky",
          "personality": "Jock",
          "species": "Cat"
         },
         {
          "birthday": "February10th",
          "catchphrase": "\"stuffin'\"",
          "gender": "male",
          "hobbies": "Play",
          "name": "Stitches",
          "personality": "Lazy",
          "species": "Cub"
         },
         {
          "birthday": "April20th",
          "catchphrase": "\"mrooooo\"",
          "gender": "male",
          "hobbies": "Nature",
          "name": "Stu",
          "personality": "Lazy",
          "species": "Bull"
         },
         {
          "birthday": "June21st",
          "catchphrase": "\"sunshine\"",
          "gender": "female",
          "hobbies": "Music",
          "name": "Sydney",
          "personality": "Normal",
          "species": "Koala"
         },
         {
          "birthday": "October22nd",
          "catchphrase": "\"hubbub\"",
          "gender": "female",
          "hobbies": "Nature",
          "name": "Sylvana",
          "personality": "Normal",
          "species": "Squirrel"
         },
         {
          "birthday": "May3rd",
          "catchphrase": "\"boing\"",
          "gender": "female",
          "hobbies": "Music",
          "name": "Sylvia",
          "personality": "Sisterly",
          "species": "Kangaroo"
         },
         {
          "birthday": "August13th",
          "catchphrase": "\"me-WOW\"",
          "gender": "female",
          "hobbies": "Music",
          "name": "Tabby",
          "personality": "Peppy",
          "species": "Cat"
         },
         {
          "birthday": "August3rd",
          "catchphrase": "\"sluuuurp\"",
          "gender": "male",
          "hobbies": "Play",
          "name": "Tad",
          "personality": "Jock",
          "species": "Frog"
         },
         {
          "birthday": "April2nd",
          "catchphrase": "\"chimpy\"",
          "gender": "female",
          "hobbies": "Fashion",
          "name": "Tammi",
          "personality": "Peppy",
          "species": "Monkey"
         },
         {
          "birthday": "June23rd",
          "catchphrase": "\"yaheard\"",
          "gender": "female",
          "hobbies": "Play",
          "name": "Tammy",
          "personality": "Sisterly",
          "species": "Cub"
         },
         {
          "birthday": "June17th",
          "catchphrase": "\"reeeeOWR\"",
          "gender": "female",
          "hobbies": "Music",
          "name": "Tangy",
          "personality": "Peppy",
          "species": "Cat"
         },
         {
          "birthday": "May6th",
          "catchphrase": "\"kerPOW\"",
          "gender": "male",
          "hobbies": "Fitness",
          "name": "Tank",
          "personality": "Jock",
          "species": "Rhino"
         },
         {
          "birthday": "November30th",
          "catchphrase": "\"nicenice\"",
          "gender": "female",
          "hobbies": "Fitness",
          "name": "Tasha",
          "personality": "Snooty",
          "species": "Squirrel"
         },
         {
          "birthday": "May20th",
          "catchphrase": "\"moocher\"",
          "gender": "male",
          "hobbies": "Education",
          "name": "T-Bone",
          "personality": "Cranky",
          "species": "Bull"
         },
         {
          "birthday": "September26th",
          "catchphrase": "\"grooof\"",
          "gender": "male",
          "hobbies": "Fitness",
          "name": "Teddy",
          "personality": "Jock",
          "species": "Bear"
         },
         {
          "birthday": "October6th",
          "catchphrase": "\"picante\"",
          "gender": "male",
          "hobbies": "Music",
          "name": "Tex",
          "personality": "Smug",
          "species": "Penguin"
         },
         {
          "birthday": "November18th",
          "catchphrase": "\"teacup\"",
          "gender": "female",
          "hobbies": "Nature",
          "name": "Tia",
          "personality": "Normal",
          "species": "Elephant"
         },
         {
          "birthday": "January9th",
          "catchphrase": "\"bunbun\"",
          "gender": "female",
          "hobbies": "Fashion",
          "name": "Tiffany",
          "personality": "Snooty",
          "species": "Rabbit"
         },
         {
          "birthday": "October21st",
          "catchphrase": "\"pinenut\"",
          "gender": "female",
          "hobbies": "Education",
          "name": "Timbra",
          "personality": "Snooty",
          "species": "Sheep"
         },
         {
          "birthday": "August25th",
          "catchphrase": "\"pushy\"",
          "gender": "female",
          "hobbies": "Fashion",
          "name": "Tipper",
          "personality": "Snooty",
          "species": "Cow"
         },
         {
          "birthday": "December10th",
          "catchphrase": "\"me-YOWZA\"",
          "gender": "male",
          "hobbies": "Education",
          "name": "Tom",
          "personality": "Cranky",
          "species": "Cat"
         },
         {
          "birthday": "July28th",
          "catchphrase": "\"snoutie\"",
          "gender": "female",
          "hobbies": "Fashion",
          "name": "Truffles",
          "personality": "Peppy",
          "species": "Pig"
         },
         {
          "birthday": "September7th",
          "catchphrase": "\"fuzzers\"",
          "gender": "male",
          "hobbies": "Nature",
          "name": "Tucker",
          "personality": "Lazy",
          "species": "Elephant"
         },
         {
          "birthday": "September15th",
          "catchphrase": "\"twinkles\"",
          "gender": "female",
          "hobbies": "Fashion",
          "name": "Tutu",
          "personality": "Peppy",
          "species": "Bear"
         },
         {
          "birthday": "July13th",
          "catchphrase": "\"cheepers\"",
          "gender": "female",
          "hobbies": "Fashion",
          "name": "Twiggy",
          "personality": "Peppy",
          "species": "Bird"
         },
         {
          "birthday": "August19th",
          "catchphrase": "\"grrrRAH\"",
          "gender": "male",
          "hobbies": "Play",
          "name": "Tybalt",
          "personality": "Jock",
          "species": "Tiger"
         },
         {
          "birthday": "January16th",
          "catchphrase": "\"grooomph\"",
          "gender": "female",
          "hobbies": "Music",
          "name": "Ursala",
          "personality": "Sisterly",
          "species": "Bear"
         },
         {
          "birthday": "January14th",
          "catchphrase": "\"blih\"",
          "gender": "female",
          "hobbies": "Education",
          "name": "Velma",
          "personality": "Snooty",
          "species": "Goat"
         },
         {
          "birthday": "April16th",
          "catchphrase": "\"baaaffo\"",
          "gender": "female",
          "hobbies": "Fashion",
          "name": "Vesta",
          "personality": "Normal",
          "species": "Sheep"
         },
         {
          "birthday": "December29th",
          "catchphrase": "\"cud\"",
          "gender": "male",
          "hobbies": "Fitness",
          "name": "Vic",
          "personality": "Cranky",
          "species": "Bull"
         },
         {
          "birthday": "July11th",
          "catchphrase": "\"sugarcube\"",
          "gender": "female",
          "hobbies": "Fitness",
          "name": "Victoria",
          "personality": "Peppy",
          "species": "Horse"
         },
         {
          "birthday": "September1st",
          "catchphrase": "\"sweetie\"",
          "gender": "female",
          "hobbies": "Fitness",
          "name": "Violet",
          "personality": "Snooty",
          "species": "Gorilla"
         },
         {
          "birthday": "January26th",
          "catchphrase": "\"piffle\"",
          "gender": "female",
          "hobbies": "Education",
          "name": "Vivian",
          "personality": "Snooty",
          "species": "Wolf"
         },
         {
          "birthday": "August2nd",
          "catchphrase": "\"nyet\"",
          "gender": "male",
          "hobbies": "Play",
          "name": "Vladimir",
          "personality": "Cranky",
          "species": "Cub"
         },
         {
          "birthday": "October30th",
          "catchphrase": "\"soitgoes\"",
          "gender": "male",
          "hobbies": "Nature",
          "name": "Wade",
          "personality": "Lazy",
          "species": "Penguin"
         },
         {
          "birthday": "June10th",
          "catchphrase": "\"wuh\"",
          "gender": "male",
          "hobbies": "Play",
          "name": "Walker",
          "personality": "Lazy",
          "species": "Dog"
         },
         {
          "birthday": "April24th",
          "catchphrase": "\"pockets\"",
          "gender": "male",
          "hobbies": "Fitness",
          "name": "Walt",
          "personality": "Cranky",
          "species": "Kangaroo"
         },
         {
          "birthday": "August21st",
          "catchphrase": "\"grr-ribbit\"",
          "gender": "male",
          "hobbies": "Education",
          "name": "WartJr.",
          "personality": "Cranky",
          "species": "Frog"
         },
         {
          "birthday": "June30th",
          "catchphrase": "\"quaa\"",
          "gender": "male",
          "hobbies": "Nature",
          "name": "Weber",
          "personality": "Lazy",
          "species": "Duck"
         },
         {
          "birthday": "August15th",
          "catchphrase": "\"lambkins\"",
          "gender": "female",
          "hobbies": "Fashion",
          "name": "Wendy",
          "personality": "Peppy",
          "species": "Sheep"
         },
         {
          "birthday": "September17th",
          "catchphrase": "\"snappy\"",
          "gender": "female",
          "hobbies": "Fashion",
          "name": "Whitney",
          "personality": "Snooty",
          "species": "Wolf"
         },
         {
          "birthday": "November26th",
          "catchphrase": "\"bopeep\"",
          "gender": "female",
          "hobbies": "Fashion",
          "name": "Willow",
          "personality": "Snooty",
          "species": "Sheep"
         },
         {
          "birthday": "January31st",
          "catchphrase": "\"hay-OK\"",
          "gender": "female",
          "hobbies": "Fashion",
          "name": "Winnie",
          "personality": "Peppy",
          "species": "Horse"
         },
         {
          "birthday": "November25th",
          "catchphrase": "\"snarrrl\"",
          "gender": "male",
          "hobbies": "Education",
          "name": "Wolfgang",
          "personality": "Cranky",
          "species": "Wolf"
         },
         {
          "birthday": "July20th",
          "catchphrase": "\"tsktsk\"",
          "gender": "female",
          "hobbies": "Fashion",
          "name": "Yuka",
          "personality": "Snooty",
          "species": "Koala"
         },
         {
          "birthday": "June7th",
          "catchphrase": "\"pronk\"",
          "gender": "male",
          "hobbies": "Music",
          "name": "Zell",
          "personality": "Smug",
          "species": "Deer"
         },
         {
          "birthday": "March8th",
          "catchphrase": "\"bloop\"",
          "gender": "male",
          "hobbies": "Nature",
          "name": "Zucker",
          "personality": "Lazy",
          "species": "Octopus"
         }
        ]
       },
       "encoding": {
        "color": {
         "field": "gender",
         "type": "nominal"
        },
        "x": {
         "field": "species",
         "type": "nominal"
        },
        "y": {
         "aggregate": "count",
         "type": "quantitative"
        }
       },
       "mark": "bar"
      },
      "image/png": "[encoded data removed]",
      "text/plain": [
       "<VegaLite 4 object>\n",
       "\n",
       "If you see this message, it means the renderer has not been properly enabled\n",
       "for the frontend that you are using. For more information, see\n",
       "https://altair-viz.github.io/user_guide/troubleshooting.html\n"
      ]
     },
     "execution_count": 15,
     "metadata": {},
     "output_type": "execute_result"
    }
   ],
   "source": [
    "# find out the number of villages from each species\n",
    "alt.Chart(cleaned_data).mark_bar().encode(\n",
    "    alt.X('species'),\n",
    "    y = 'count()',\n",
    "    color = 'gender'\n",
    ")"
   ]
  },
  {
   "cell_type": "markdown",
   "metadata": {},
   "source": [
    "#### As we can see, there is more villagers that's Cat, Rabbit and Squirrel. It's rare to get a villager like Octopus or Cow.\n",
    "\n",
    "- Anteater, Cat, Duck, Kanteroo, Koala, Mouse, Ostrich, Rabbit, Sheep, Squirrel has more female than male villagers."
   ]
  },
  {
   "cell_type": "code",
   "execution_count": 16,
   "metadata": {},
   "outputs": [
    {
     "data": {
      "application/vnd.vegalite.v4+json": {
       "$schema": "https://vega.github.io/schema/vega-lite/v4.8.1.json",
       "config": {
        "view": {
         "continuousHeight": 300,
         "continuousWidth": 400
        }
       },
       "data": {
        "name": "data-b6cd50f40cc3a8bb0161cf8bc8e8da85"
       },
       "datasets": {
        "data-b6cd50f40cc3a8bb0161cf8bc8e8da85": [
         {
          "birthday": "January27th",
          "catchphrase": "\"ayeaye\"",
          "gender": "male",
          "hobbies": "Nature",
          "name": "Admiral",
          "personality": "Cranky",
          "species": "Bird"
         },
         {
          "birthday": "July2nd",
          "catchphrase": "\"sidekick\"",
          "gender": "female",
          "hobbies": "Fitness",
          "name": "AgentS",
          "personality": "Peppy",
          "species": "Squirrel"
         },
         {
          "birthday": "April21st",
          "catchphrase": "\"snuffle\"",
          "gender": "female",
          "hobbies": "Play",
          "name": "Agnes",
          "personality": "Sisterly",
          "species": "Pig"
         },
         {
          "birthday": "October18th",
          "catchphrase": "\"ayyeeee\"",
          "gender": "male",
          "hobbies": "Fitness",
          "name": "Al",
          "personality": "Lazy",
          "species": "Gorilla"
         },
         {
          "birthday": "June9th",
          "catchphrase": "\"it'same\"",
          "gender": "male",
          "hobbies": "Play",
          "name": "Alfonso",
          "personality": "Lazy",
          "species": "Alligator"
         },
         {
          "birthday": "August19th",
          "catchphrase": "\"guvnor\"",
          "gender": "female",
          "hobbies": "Education",
          "name": "Alice",
          "personality": "Normal",
          "species": "Koala"
         },
         {
          "birthday": "November8th",
          "catchphrase": "\"graaagh\"",
          "gender": "female",
          "hobbies": "Fashion",
          "name": "Alli",
          "personality": "Snooty",
          "species": "Alligator"
         },
         {
          "birthday": "November19th",
          "catchphrase": "\"cuz\"",
          "gender": "female",
          "hobbies": "Music",
          "name": "Amelia",
          "personality": "Snooty",
          "species": "Eagle"
         },
         {
          "birthday": "February16th",
          "catchphrase": "\"snorty\"",
          "gender": "female",
          "hobbies": "Fashion",
          "name": "Anabelle",
          "personality": "Peppy",
          "species": "Anteater"
         },
         {
          "birthday": "March4th",
          "catchphrase": "\"chuurp\"",
          "gender": "male",
          "hobbies": "Play",
          "name": "Anchovy",
          "personality": "Lazy",
          "species": "Bird"
         },
         {
          "birthday": "April30th",
          "catchphrase": "\"macmoo\"",
          "gender": "male",
          "hobbies": "Fitness",
          "name": "Angus",
          "personality": "Cranky",
          "species": "Bull"
         },
         {
          "birthday": "February24th",
          "catchphrase": "\"cannoli\"",
          "gender": "female",
          "hobbies": "Fashion",
          "name": "Anicotti",
          "personality": "Peppy",
          "species": "Mouse"
         },
         {
          "birthday": "September22nd",
          "catchphrase": "\"memeow\"",
          "gender": "female",
          "hobbies": "Nature",
          "name": "Ankha",
          "personality": "Snooty",
          "species": "Cat"
         },
         {
          "birthday": "February6th",
          "catchphrase": "\"gumdrop\"",
          "gender": "female",
          "hobbies": "Nature",
          "name": "Annalisa",
          "personality": "Normal",
          "species": "Anteater"
         },
         {
          "birthday": "December2nd",
          "catchphrase": "\"nipper\"",
          "gender": "female",
          "hobbies": "Fashion",
          "name": "Annalise",
          "personality": "Snooty",
          "species": "Horse"
         },
         {
          "birthday": "October20th",
          "catchphrase": "\"honk\"",
          "gender": "male",
          "hobbies": "Fitness",
          "name": "Antonio",
          "personality": "Jock",
          "species": "Anteater"
         },
         {
          "birthday": "July4th",
          "catchphrase": "\"pah\"",
          "gender": "male",
          "hobbies": "Music",
          "name": "Apollo",
          "personality": "Cranky",
          "species": "Eagle"
         },
         {
          "birthday": "September24th",
          "catchphrase": "\"cheekers\"",
          "gender": "female",
          "hobbies": "Play",
          "name": "Apple",
          "personality": "Peppy",
          "species": "Hamster"
         },
         {
          "birthday": "September8th",
          "catchphrase": "\"mypet\"",
          "gender": "female",
          "hobbies": "Music",
          "name": "Astrid",
          "personality": "Snooty",
          "species": "Kangaroo"
         },
         {
          "birthday": "August31st",
          "catchphrase": "\"foxtrot\"",
          "gender": "female",
          "hobbies": "Fitness",
          "name": "Audie",
          "personality": "Peppy",
          "species": "Wolf"
         },
         {
          "birthday": "January27th",
          "catchphrase": "\"b-b-baby\"",
          "gender": "female",
          "hobbies": "Education",
          "name": "Aurora",
          "personality": "Normal",
          "species": "Penguin"
         },
         {
          "birthday": "April28th",
          "catchphrase": "\"beaker\"",
          "gender": "female",
          "hobbies": "Music",
          "name": "Ava",
          "personality": "Normal",
          "species": "Chicken"
         },
         {
          "birthday": "February22nd",
          "catchphrase": "\"skree-haw\"",
          "gender": "male",
          "hobbies": "Music",
          "name": "Avery",
          "personality": "Cranky",
          "species": "Eagle"
         },
         {
          "birthday": "March23rd",
          "catchphrase": "\"WHONK\"",
          "gender": "male",
          "hobbies": "Fitness",
          "name": "Axel",
          "personality": "Jock",
          "species": "Elephant"
         },
         {
          "birthday": "March28th",
          "catchphrase": "\"daahling\"",
          "gender": "female",
          "hobbies": "Fashion",
          "name": "Baabara",
          "personality": "Snooty",
          "species": "Sheep"
         },
         {
          "birthday": "November7th",
          "catchphrase": "\"kablang\"",
          "gender": "male",
          "hobbies": "Play",
          "name": "Bam",
          "personality": "Jock",
          "species": "Deer"
         },
         {
          "birthday": "August27th",
          "catchphrase": "\"growf\"",
          "gender": "female",
          "hobbies": "Fashion",
          "name": "Bangle",
          "personality": "Peppy",
          "species": "Tiger"
         },
         {
          "birthday": "March2nd",
          "catchphrase": "\"cubby\"",
          "gender": "male",
          "hobbies": "Play",
          "name": "Barold",
          "personality": "Lazy",
          "species": "Cub"
         },
         {
          "birthday": "October15th",
          "catchphrase": "\"bingo\"",
          "gender": "female",
          "hobbies": "Nature",
          "name": "Bea",
          "personality": "Normal",
          "species": "Dog"
         },
         {
          "birthday": "September27th",
          "catchphrase": "\"whiskers\"",
          "gender": "male",
          "hobbies": "Education",
          "name": "Beardo",
          "personality": "Smug",
          "species": "Bear"
         },
         {
          "birthday": "April5th",
          "catchphrase": "\"saltlick\"",
          "gender": "male",
          "hobbies": "Nature",
          "name": "Beau",
          "personality": "Lazy",
          "species": "Deer"
         },
         {
          "birthday": "December9th",
          "catchphrase": "\"chicklet\"",
          "gender": "female",
          "hobbies": "Music",
          "name": "Becky",
          "personality": "Snooty",
          "species": "Chicken"
         },
         {
          "birthday": "December28th",
          "catchphrase": "\"eeks\"",
          "gender": "female",
          "hobbies": "Music",
          "name": "Bella",
          "personality": "Peppy",
          "species": "Mouse"
         },
         {
          "birthday": "October10th",
          "catchphrase": "\"uh-hoo\"",
          "gender": "male",
          "hobbies": "Play",
          "name": "Benedict",
          "personality": "Lazy",
          "species": "Chicken"
         },
         {
          "birthday": "August3rd",
          "catchphrase": "\"alrighty\"",
          "gender": "male",
          "hobbies": "Nature",
          "name": "Benjamin",
          "personality": "Lazy",
          "species": "Dog"
         },
         {
          "birthday": "April25th",
          "catchphrase": "\"bloop\"",
          "gender": "female",
          "hobbies": "Education",
          "name": "Bertha",
          "personality": "Normal",
          "species": "Hippo"
         },
         {
          "birthday": "June12th",
          "catchphrase": "\"eekers\"",
          "gender": "female",
          "hobbies": "Education",
          "name": "Bettina",
          "personality": "Normal",
          "species": "Mouse"
         },
         {
          "birthday": "December13th",
          "catchphrase": "\"glimmer\"",
          "gender": "female",
          "hobbies": "Play",
          "name": "Bianca",
          "personality": "Peppy",
          "species": "Tiger"
         },
         {
          "birthday": "March29th",
          "catchphrase": "\"squirt\"",
          "gender": "male",
          "hobbies": "Fitness",
          "name": "Biff",
          "personality": "Jock",
          "species": "Hippo"
         },
         {
          "birthday": "October3rd",
          "catchphrase": "\"villain\"",
          "gender": "male",
          "hobbies": "Play",
          "name": "BigTop",
          "personality": "Lazy",
          "species": "Elephant"
         },
         {
          "birthday": "February1st",
          "catchphrase": "\"quacko\"",
          "gender": "male",
          "hobbies": "Play",
          "name": "Bill",
          "personality": "Jock",
          "species": "Duck"
         },
         {
          "birthday": "March25th",
          "catchphrase": "\"dagnaabit\"",
          "gender": "male",
          "hobbies": "Play",
          "name": "Billy",
          "personality": "Jock",
          "species": "Goat"
         },
         {
          "birthday": "May13th",
          "catchphrase": "\"dawg\"",
          "gender": "male",
          "hobbies": "Play",
          "name": "Biskit",
          "personality": "Lazy",
          "species": "Dog"
         },
         {
          "birthday": "October6th",
          "catchphrase": "\"mydear\"",
          "gender": "female",
          "hobbies": "Education",
          "name": "Bitty",
          "personality": "Snooty",
          "species": "Hippo"
         },
         {
          "birthday": "July3rd",
          "catchphrase": "\"nutlet\"",
          "gender": "female",
          "hobbies": "Fashion",
          "name": "Blaire",
          "personality": "Snooty",
          "species": "Squirrel"
         },
         {
          "birthday": "December21st",
          "catchphrase": "\"quiteso\"",
          "gender": "female",
          "hobbies": "Nature",
          "name": "Blanche",
          "personality": "Snooty",
          "species": "Ostrich"
         },
         {
          "birthday": "June24th",
          "catchphrase": "\"peach\"",
          "gender": "female",
          "hobbies": "Fashion",
          "name": "Bluebear",
          "personality": "Peppy",
          "species": "Cub"
         },
         {
          "birthday": "January1st",
          "catchphrase": "\"pthhpth\"",
          "gender": "male",
          "hobbies": "Play",
          "name": "Bob",
          "personality": "Lazy",
          "species": "Cat"
         },
         {
          "birthday": "March3rd",
          "catchphrase": "\"deelish\"",
          "gender": "female",
          "hobbies": "Play",
          "name": "Bonbon",
          "personality": "Peppy",
          "species": "Rabbit"
         },
         {
          "birthday": "August4th",
          "catchphrase": "\"yipyip\"",
          "gender": "male",
          "hobbies": "Play",
          "name": "Bones",
          "personality": "Lazy",
          "species": "Dog"
         },
         {
          "birthday": "February7th",
          "catchphrase": "\"human\"",
          "gender": "male",
          "hobbies": "Fitness",
          "name": "Boomer",
          "personality": "Lazy",
          "species": "Penguin"
         },
         {
          "birthday": "September12th",
          "catchphrase": "\"baboom\"",
          "gender": "male",
          "hobbies": "Fitness",
          "name": "Boone",
          "personality": "Jock",
          "species": "Gorilla"
         },
         {
          "birthday": "August7th",
          "catchphrase": "\"munchie\"",
          "gender": "male",
          "hobbies": "Play",
          "name": "Boots",
          "personality": "Jock",
          "species": "Alligator"
         },
         {
          "birthday": "November6th",
          "catchphrase": "\"schnort\"",
          "gender": "male",
          "hobbies": "Nature",
          "name": "Boris",
          "personality": "Cranky",
          "species": "Pig"
         },
         {
          "birthday": "October1st",
          "catchphrase": "\"uh-oh\"",
          "gender": "male",
          "hobbies": "Fitness",
          "name": "Boyd",
          "personality": "Cranky",
          "species": "Gorilla"
         },
         {
          "birthday": "July7th",
          "catchphrase": "\"cheeseball\"",
          "gender": "female",
          "hobbies": "Fashion",
          "name": "Bree",
          "personality": "Snooty",
          "species": "Mouse"
         },
         {
          "birthday": "June30th",
          "catchphrase": "\"eatit\"",
          "gender": "male",
          "hobbies": "Play",
          "name": "Broccolo",
          "personality": "Lazy",
          "species": "Mouse"
         },
         {
          "birthday": "October24th",
          "catchphrase": "\"cluckadoo\"",
          "gender": "female",
          "hobbies": "Music",
          "name": "Broffina",
          "personality": "Snooty",
          "species": "Chicken"
         },
         {
          "birthday": "May26th",
          "catchphrase": "\"gruff\"",
          "gender": "male",
          "hobbies": "Nature",
          "name": "Bruce",
          "personality": "Cranky",
          "species": "Deer"
         },
         {
          "birthday": "September18th",
          "catchphrase": "\"hipster\"",
          "gender": "female",
          "hobbies": "Fashion",
          "name": "Bubbles",
          "personality": "Peppy",
          "species": "Hippo"
         },
         {
          "birthday": "April4th",
          "catchphrase": "\"pardner\"",
          "gender": "male",
          "hobbies": "Fitness",
          "name": "Buck",
          "personality": "Jock",
          "species": "Horse"
         },
         {
          "birthday": "August8th",
          "catchphrase": "\"shredded\"",
          "gender": "male",
          "hobbies": "Fitness",
          "name": "Bud",
          "personality": "Jock",
          "species": "Lion"
         },
         {
          "birthday": "May9th",
          "catchphrase": "\"tee-hee\"",
          "gender": "female",
          "hobbies": "Fashion",
          "name": "Bunnie",
          "personality": "Peppy",
          "species": "Rabbit"
         },
         {
          "birthday": "November1st",
          "catchphrase": "\"ROOOOOWF\"",
          "gender": "male",
          "hobbies": "Music",
          "name": "Butch",
          "personality": "Cranky",
          "species": "Dog"
         },
         {
          "birthday": "December7th",
          "catchphrase": "\"captain\"",
          "gender": "male",
          "hobbies": "Nature",
          "name": "Buzz",
          "personality": "Cranky",
          "species": "Eagle"
         },
         {
          "birthday": "September4th",
          "catchphrase": "\"WHEE\"",
          "gender": "female",
          "hobbies": "Nature",
          "name": "Cally",
          "personality": "Normal",
          "species": "Squirrel"
         },
         {
          "birthday": "June5th",
          "catchphrase": "\"ten-hut\"",
          "gender": "male",
          "hobbies": "Music",
          "name": "Camofrog",
          "personality": "Cranky",
          "species": "Frog"
         },
         {
          "birthday": "May14th",
          "catchphrase": "\"nuhuh\"",
          "gender": "female",
          "hobbies": "Play",
          "name": "Canberra",
          "personality": "Sisterly",
          "species": "Koala"
         },
         {
          "birthday": "April13th",
          "catchphrase": "\"sweetie\"",
          "gender": "female",
          "hobbies": "Play",
          "name": "Candi",
          "personality": "Peppy",
          "species": "Mouse"
         },
         {
          "birthday": "January6th",
          "catchphrase": "\"nougat\"",
          "gender": "female",
          "hobbies": "Fashion",
          "name": "Carmen",
          "personality": "Peppy",
          "species": "Rabbit"
         },
         {
          "birthday": "July15th",
          "catchphrase": "\"hulaaaa\"",
          "gender": "female",
          "hobbies": "Music",
          "name": "Caroline",
          "personality": "Normal",
          "species": "Squirrel"
         },
         {
          "birthday": "December5th",
          "catchphrase": "\"littleone\"",
          "gender": "female",
          "hobbies": "Nature",
          "name": "Carrie",
          "personality": "Normal",
          "species": "Kangaroo"
         },
         {
          "birthday": "April2nd",
          "catchphrase": "\"baaaby\"",
          "gender": "female",
          "hobbies": "Fashion",
          "name": "Cashmere",
          "personality": "Snooty",
          "species": "Sheep"
         },
         {
          "birthday": "March25th",
          "catchphrase": "\"feathers\"",
          "gender": "female",
          "hobbies": "Nature",
          "name": "Celia",
          "personality": "Normal",
          "species": "Eagle"
         },
         {
          "birthday": "September6th",
          "catchphrase": "\"highness\"",
          "gender": "male",
          "hobbies": "Fitness",
          "name": "Cesar",
          "personality": "Cranky",
          "species": "Gorilla"
         },
         {
          "birthday": "December15th",
          "catchphrase": "\"fromage\"",
          "gender": "male",
          "hobbies": "Fitness",
          "name": "Chadder",
          "personality": "Smug",
          "species": "Mouse"
         },
         {
          "birthday": "April17th",
          "catchphrase": "\"urgh\"",
          "gender": "female",
          "hobbies": "Fitness",
          "name": "Charlise",
          "personality": "Sisterly",
          "species": "Bear"
         },
         {
          "birthday": "March17th",
          "catchphrase": "\"tralala\"",
          "gender": "female",
          "hobbies": "Fashion",
          "name": "Cheri",
          "personality": "Peppy",
          "species": "Cub"
         },
         {
          "birthday": "May11th",
          "catchphrase": "\"whatwhat\"",
          "gender": "female",
          "hobbies": "Music",
          "name": "Cherry",
          "personality": "Sisterly",
          "species": "Dog"
         },
         {
          "birthday": "August6th",
          "catchphrase": "\"rookie\"",
          "gender": "male",
          "hobbies": "Play",
          "name": "Chester",
          "personality": "Lazy",
          "species": "Cub"
         },
         {
          "birthday": "March6th",
          "catchphrase": "\"labaa\"",
          "gender": "female",
          "hobbies": "Education",
          "name": "Chevre",
          "personality": "Normal",
          "species": "Goat"
         },
         {
          "birthday": "December19th",
          "catchphrase": "\"harrumph\"",
          "gender": "male",
          "hobbies": "Music",
          "name": "Chief",
          "personality": "Cranky",
          "species": "Wolf"
         },
         {
          "birthday": "October13th",
          "catchphrase": "\"zoink\"",
          "gender": "male",
          "hobbies": "Education",
          "name": "Chops",
          "personality": "Smug",
          "species": "Pig"
         },
         {
          "birthday": "July22nd",
          "catchphrase": "\"aiya\"",
          "gender": "male",
          "hobbies": "Fitness",
          "name": "Chow",
          "personality": "Cranky",
          "species": "Bear"
         },
         {
          "birthday": "August28th",
          "catchphrase": "\"sparkles\"",
          "gender": "female",
          "hobbies": "Fashion",
          "name": "Chrissy",
          "personality": "Peppy",
          "species": "Rabbit"
         },
         {
          "birthday": "December3rd",
          "catchphrase": "\"hopalong\"",
          "gender": "male",
          "hobbies": "Nature",
          "name": "Claude",
          "personality": "Lazy",
          "species": "Rabbit"
         },
         {
          "birthday": "November22nd",
          "catchphrase": "\"oohlala\"",
          "gender": "female",
          "hobbies": "Music",
          "name": "Claudia",
          "personality": "Snooty",
          "species": "Tiger"
         },
         {
          "birthday": "October19th",
          "catchphrase": "\"thump\"",
          "gender": "male",
          "hobbies": "Nature",
          "name": "Clay",
          "personality": "Lazy",
          "species": "Hamster"
         },
         {
          "birthday": "February9th",
          "catchphrase": "\"sugar\"",
          "gender": "female",
          "hobbies": "Education",
          "name": "Cleo",
          "personality": "Snooty",
          "species": "Horse"
         },
         {
          "birthday": "May1st",
          "catchphrase": "\"clipclawp\"",
          "gender": "male",
          "hobbies": "Play",
          "name": "Clyde",
          "personality": "Lazy",
          "species": "Horse"
         },
         {
          "birthday": "April29th",
          "catchphrase": "\"stubble\"",
          "gender": "male",
          "hobbies": "Fitness",
          "name": "Coach",
          "personality": "Jock",
          "species": "Bull"
         },
         {
          "birthday": "October7th",
          "catchphrase": "\"hotdog\"",
          "gender": "male",
          "hobbies": "Education",
          "name": "Cobb",
          "personality": "Jock",
          "species": "Pig"
         },
         {
          "birthday": "March1st",
          "catchphrase": "\"doyoing\"",
          "gender": "female",
          "hobbies": "Education",
          "name": "Coco",
          "personality": "Normal",
          "species": "Rabbit"
         },
         {
          "birthday": "August10th",
          "catchphrase": "\"coooooool\"",
          "gender": "male",
          "hobbies": "Nature",
          "name": "Cole",
          "personality": "Lazy",
          "species": "Rabbit"
         },
         {
          "birthday": "May22nd",
          "catchphrase": "\"checkit\"",
          "gender": "male",
          "hobbies": "Nature",
          "name": "Colton",
          "personality": "Smug",
          "species": "Horse"
         },
         {
          "birthday": "June18th",
          "catchphrase": "\"arfer\"",
          "gender": "female",
          "hobbies": "Fashion",
          "name": "Cookie",
          "personality": "Peppy",
          "species": "Dog"
         },
         {
          "birthday": "December17th",
          "catchphrase": "\"ouioui\"",
          "gender": "male",
          "hobbies": "Fitness",
          "name": "Cousteau",
          "personality": "Jock",
          "species": "Frog"
         },
         {
          "birthday": "September23rd",
          "catchphrase": "\"sweatband\"",
          "gender": "male",
          "hobbies": "Nature",
          "name": "Cranston",
          "personality": "Lazy",
          "species": "Ostrich"
         },
         {
          "birthday": "July18th",
          "catchphrase": "\"asif\"",
          "gender": "male",
          "hobbies": "Nature",
          "name": "Croque",
          "personality": "Cranky",
          "species": "Frog"
         },
         {
          "birthday": "January29th",
          "catchphrase": "\"brainfreeze\"",
          "gender": "male",
          "hobbies": "Play",
          "name": "Cube",
          "personality": "Lazy",
          "species": "Penguin"
         },
         {
          "birthday": "May8th",
          "catchphrase": "\"shearly\"",
          "gender": "male",
          "hobbies": "Nature",
          "name": "Curlos",
          "personality": "Smug",
          "species": "Sheep"
         },
         {
          "birthday": "July26th",
          "catchphrase": "\"nyoink\"",
          "gender": "male",
          "hobbies": "Fitness",
          "name": "Curly",
          "personality": "Jock",
          "species": "Pig"
         },
         {
          "birthday": "July1st",
          "catchphrase": "\"fuzzball\"",
          "gender": "male",
          "hobbies": "Nature",
          "name": "Curt",
          "personality": "Cranky",
          "species": "Bear"
         },
         {
          "birthday": "June9th",
          "catchphrase": "\"rockin'\"",
          "gender": "male",
          "hobbies": "Music",
          "name": "Cyd",
          "personality": "Cranky",
          "species": "Elephant"
         },
         {
          "birthday": "March9th",
          "catchphrase": "\"ah-CHOO\"",
          "gender": "male",
          "hobbies": "Education",
          "name": "Cyrano",
          "personality": "Cranky",
          "species": "Anteater"
         },
         {
          "birthday": "November16th",
          "catchphrase": "\"bow-WOW\"",
          "gender": "female",
          "hobbies": "Education",
          "name": "Daisy",
          "personality": "Normal",
          "species": "Dog"
         },
         {
          "birthday": "June27th",
          "catchphrase": "\"woowoo\"",
          "gender": "female",
          "hobbies": "Education",
          "name": "Deena",
          "personality": "Normal",
          "species": "Duck"
         },
         {
          "birthday": "May4th",
          "catchphrase": "\"whatevs\"",
          "gender": "female",
          "hobbies": "Play",
          "name": "Deirdre",
          "personality": "Sisterly",
          "species": "Deer"
         },
         {
          "birthday": "May27th",
          "catchphrase": "\"gronk\"",
          "gender": "male",
          "hobbies": "Fitness",
          "name": "Del",
          "personality": "Cranky",
          "species": "Alligator"
         },
         {
          "birthday": "May24th",
          "catchphrase": "\"monch\"",
          "gender": "male",
          "hobbies": "Nature",
          "name": "Deli",
          "personality": "Lazy",
          "species": "Monkey"
         },
         {
          "birthday": "May25th",
          "catchphrase": "\"derrrrr\"",
          "gender": "male",
          "hobbies": "Play",
          "name": "Derwin",
          "personality": "Lazy",
          "species": "Duck"
         },
         {
          "birthday": "January4th",
          "catchphrase": "\"nodoy\"",
          "gender": "female",
          "hobbies": "Education",
          "name": "Diana",
          "personality": "Snooty",
          "species": "Deer"
         },
         {
          "birthday": "October2nd",
          "catchphrase": "\"yaknow\"",
          "gender": "female",
          "hobbies": "Fitness",
          "name": "Diva",
          "personality": "Sisterly",
          "species": "Frog"
         },
         {
          "birthday": "July14th",
          "catchphrase": "\"woo-oo\"",
          "gender": "male",
          "hobbies": "Play",
          "name": "Dizzy",
          "personality": "Lazy",
          "species": "Elephant"
         },
         {
          "birthday": "February17th",
          "catchphrase": "\"ohmmm\"",
          "gender": "male",
          "hobbies": "Nature",
          "name": "Dobie",
          "personality": "Cranky",
          "species": "Wolf"
         },
         {
          "birthday": "March16th",
          "catchphrase": "\"oldbunny\"",
          "gender": "male",
          "hobbies": "Education",
          "name": "Doc",
          "personality": "Lazy",
          "species": "Rabbit"
         },
         {
          "birthday": "March18th",
          "catchphrase": "\"indeedaroo\"",
          "gender": "male",
          "hobbies": "Play",
          "name": "Dom",
          "personality": "Jock",
          "species": "Sheep"
         },
         {
          "birthday": "February18th",
          "catchphrase": "\"squeaky\"",
          "gender": "female",
          "hobbies": "Education",
          "name": "Dora",
          "personality": "Normal",
          "species": "Mouse"
         },
         {
          "birthday": "March14th",
          "catchphrase": "\"weeone\"",
          "gender": "female",
          "hobbies": "Fashion",
          "name": "Dotty",
          "personality": "Peppy",
          "species": "Rabbit"
         },
         {
          "birthday": "February12th",
          "catchphrase": "\"burrrn\"",
          "gender": "male",
          "hobbies": "Nature",
          "name": "Drago",
          "personality": "Lazy",
          "species": "Alligator"
         },
         {
          "birthday": "June25th",
          "catchphrase": "\"quacko\"",
          "gender": "male",
          "hobbies": "Play",
          "name": "Drake",
          "personality": "Lazy",
          "species": "Duck"
         },
         {
          "birthday": "October9th",
          "catchphrase": "\"dribbit\"",
          "gender": "male",
          "hobbies": "Fitness",
          "name": "Drift",
          "personality": "Jock",
          "species": "Frog"
         },
         {
          "birthday": "September16th",
          "catchphrase": "\"greenhorn\"",
          "gender": "male",
          "hobbies": "Nature",
          "name": "Ed",
          "personality": "Smug",
          "species": "Horse"
         },
         {
          "birthday": "October14th",
          "catchphrase": "\"doodle-duh\"",
          "gender": "male",
          "hobbies": "Play",
          "name": "Egbert",
          "personality": "Lazy",
          "species": "Chicken"
         },
         {
          "birthday": "March21st",
          "catchphrase": "\"puh-lease\"",
          "gender": "female",
          "hobbies": "Fashion",
          "name": "Elise",
          "personality": "Snooty",
          "species": "Monkey"
         },
         {
          "birthday": "May12th",
          "catchphrase": "\"li'lone\"",
          "gender": "female",
          "hobbies": "Nature",
          "name": "Ellie",
          "personality": "Normal",
          "species": "Elephant"
         },
         {
          "birthday": "October5th",
          "catchphrase": "\"tenderfoot\"",
          "gender": "male",
          "hobbies": "Play",
          "name": "Elmer",
          "personality": "Lazy",
          "species": "Horse"
         },
         {
          "birthday": "December8th",
          "catchphrase": "\"tooooot\"",
          "gender": "female",
          "hobbies": "Fashion",
          "name": "Eloise",
          "personality": "Snooty",
          "species": "Elephant"
         },
         {
          "birthday": "July23rd",
          "catchphrase": "\"unh-hunh\"",
          "gender": "male",
          "hobbies": "Education",
          "name": "Elvis",
          "personality": "Cranky",
          "species": "Lion"
         },
         {
          "birthday": "July27th",
          "catchphrase": "\"chowdown\"",
          "gender": "male",
          "hobbies": "Nature",
          "name": "Erik",
          "personality": "Lazy",
          "species": "Deer"
         },
         {
          "birthday": "October26th",
          "catchphrase": "\"yeahbuddy\"",
          "gender": "male",
          "hobbies": "Music",
          "name": "Eugene",
          "personality": "Smug",
          "species": "Koala"
         },
         {
          "birthday": "April3rd",
          "catchphrase": "\"lambchop\"",
          "gender": "female",
          "hobbies": "Fashion",
          "name": "Eunice",
          "personality": "Normal",
          "species": "Sheep"
         },
         {
          "birthday": "December18th",
          "catchphrase": "\"cha-chomp\"",
          "gender": "male",
          "hobbies": "Education",
          "name": "Fang",
          "personality": "Cranky",
          "species": "Wolf"
         },
         {
          "birthday": "March26th",
          "catchphrase": "\"dearie\"",
          "gender": "female",
          "hobbies": "Nature",
          "name": "Fauna",
          "personality": "Normal",
          "species": "Deer"
         },
         {
          "birthday": "March30th",
          "catchphrase": "\"mimimi\"",
          "gender": "female",
          "hobbies": "Fashion",
          "name": "Felicity",
          "personality": "Peppy",
          "species": "Cat"
         },
         {
          "birthday": "June3rd",
          "catchphrase": "\"bucko\"",
          "gender": "male",
          "hobbies": "Nature",
          "name": "Filbert",
          "personality": "Lazy",
          "species": "Squirrel"
         },
         {
          "birthday": "November21st",
          "catchphrase": "\"rerack\"",
          "gender": "male",
          "hobbies": "Music",
          "name": "Flip",
          "personality": "Jock",
          "species": "Monkey"
         },
         {
          "birthday": "September2nd",
          "catchphrase": "\"cha\"",
          "gender": "female",
          "hobbies": "Music",
          "name": "Flo",
          "personality": "Sisterly",
          "species": "Penguin"
         },
         {
          "birthday": "February9th",
          "catchphrase": "\"pinky\"",
          "gender": "female",
          "hobbies": "Play",
          "name": "Flora",
          "personality": "Peppy",
          "species": "Ostrich"
         },
         {
          "birthday": "January30th",
          "catchphrase": "\"powderpuff\"",
          "gender": "female",
          "hobbies": "Nature",
          "name": "Flurry",
          "personality": "Normal",
          "species": "Hamster"
         },
         {
          "birthday": "January22nd",
          "catchphrase": "\"karat\"",
          "gender": "female",
          "hobbies": "Fashion",
          "name": "Francine",
          "personality": "Snooty",
          "species": "Rabbit"
         },
         {
          "birthday": "July30th",
          "catchphrase": "\"crushy\"",
          "gender": "male",
          "hobbies": "Education",
          "name": "Frank",
          "personality": "Cranky",
          "species": "Eagle"
         },
         {
          "birthday": "February19th",
          "catchphrase": "\"ducky\"",
          "gender": "female",
          "hobbies": "Fashion",
          "name": "Freckles",
          "personality": "Peppy",
          "species": "Duck"
         },
         {
          "birthday": "December14th",
          "catchphrase": "\"uffda\"",
          "gender": "female",
          "hobbies": "Fashion",
          "name": "Freya",
          "personality": "Snooty",
          "species": "Wolf"
         },
         {
          "birthday": "October16th",
          "catchphrase": "\"brrmph\"",
          "gender": "female",
          "hobbies": "Fashion",
          "name": "Friga",
          "personality": "Snooty",
          "species": "Penguin"
         },
         {
          "birthday": "July16th",
          "catchphrase": "\"ohewe\"",
          "gender": "female",
          "hobbies": "Music",
          "name": "Frita",
          "personality": "Sisterly",
          "species": "Sheep"
         },
         {
          "birthday": "February8th",
          "catchphrase": "\"fribbit\"",
          "gender": "male",
          "hobbies": "Fitness",
          "name": "Frobert",
          "personality": "Jock",
          "species": "Frog"
         },
         {
          "birthday": "September19th",
          "catchphrase": "\"precious\"",
          "gender": "female",
          "hobbies": "Music",
          "name": "Fuchsia",
          "personality": "Sisterly",
          "species": "Deer"
         },
         {
          "birthday": "December16th",
          "catchphrase": "\"honeybun\"",
          "gender": "female",
          "hobbies": "Fashion",
          "name": "Gabi",
          "personality": "Peppy",
          "species": "Rabbit"
         },
         {
          "birthday": "March5th",
          "catchphrase": "\"snortie\"",
          "gender": "female",
          "hobbies": "Education",
          "name": "Gala",
          "personality": "Normal",
          "species": "Pig"
         },
         {
          "birthday": "October28th",
          "catchphrase": "\"monchou\"",
          "gender": "male",
          "hobbies": "Education",
          "name": "Gaston",
          "personality": "Cranky",
          "species": "Rabbit"
         },
         {
          "birthday": "May17th",
          "catchphrase": "\"snacky\"",
          "gender": "female",
          "hobbies": "Nature",
          "name": "Gayle",
          "personality": "Normal",
          "species": "Alligator"
         },
         {
          "birthday": "January21st",
          "catchphrase": "\"mochi\"",
          "gender": "male",
          "hobbies": "Fitness",
          "name": "Genji",
          "personality": "Jock",
          "species": "Rabbit"
         },
         {
          "birthday": "August11th",
          "catchphrase": "\"ribbette\"",
          "gender": "female",
          "hobbies": "Fashion",
          "name": "Gigi",
          "personality": "Snooty",
          "species": "Frog"
         },
         {
          "birthday": "January15th",
          "catchphrase": "\"stretch\"",
          "gender": "female",
          "hobbies": "Education",
          "name": "Gladys",
          "personality": "Normal",
          "species": "Ostrich"
         },
         {
          "birthday": "August12th",
          "catchphrase": "\"quacker\"",
          "gender": "female",
          "hobbies": "Fashion",
          "name": "Gloria",
          "personality": "Snooty",
          "species": "Duck"
         },
         {
          "birthday": "December27th",
          "catchphrase": "\"woof\"",
          "gender": "female",
          "hobbies": "Nature",
          "name": "Goldie",
          "personality": "Normal",
          "species": "Dog"
         },
         {
          "birthday": "October13th",
          "catchphrase": "\"mate\"",
          "gender": "male",
          "hobbies": "Nature",
          "name": "Gonzo",
          "personality": "Cranky",
          "species": "Koala"
         },
         {
          "birthday": "October4th",
          "catchphrase": "\"buh-kay\"",
          "gender": "male",
          "hobbies": "Fitness",
          "name": "Goose",
          "personality": "Jock",
          "species": "Chicken"
         },
         {
          "birthday": "June20th",
          "catchphrase": "\"indeed\"",
          "gender": "male",
          "hobbies": "Education",
          "name": "Graham",
          "personality": "Smug",
          "species": "Hamster"
         },
         {
          "birthday": "September5th",
          "catchphrase": "\"yelp\"",
          "gender": "female",
          "hobbies": "Education",
          "name": "Greta",
          "personality": "Snooty",
          "species": "Mouse"
         },
         {
          "birthday": "July31st",
          "catchphrase": "\"grrr\"",
          "gender": "male",
          "hobbies": "Education",
          "name": "Grizzly",
          "personality": "Cranky",
          "species": "Bear"
         },
         {
          "birthday": "October23rd",
          "catchphrase": "\"grumble\"",
          "gender": "male",
          "hobbies": "Music",
          "name": "Groucho",
          "personality": "Cranky",
          "species": "Bear"
         },
         {
          "birthday": "August29th",
          "catchphrase": "\"bleheheh\"",
          "gender": "male",
          "hobbies": "Music",
          "name": "Gruff",
          "personality": "Cranky",
          "species": "Goat"
         },
         {
          "birthday": "January23rd",
          "catchphrase": "\"h-h-h-hon\"",
          "gender": "female",
          "hobbies": "Fashion",
          "name": "Gwen",
          "personality": "Snooty",
          "species": "Penguin"
         },
         {
          "birthday": "May30th",
          "catchphrase": "\"hammie\"",
          "gender": "male",
          "hobbies": "Play",
          "name": "Hamlet",
          "personality": "Jock",
          "species": "Hamster"
         },
         {
          "birthday": "February25th",
          "catchphrase": "\"snort\"",
          "gender": "male",
          "hobbies": "Nature",
          "name": "Hamphrey",
          "personality": "Cranky",
          "species": "Hamster"
         },
         {
          "birthday": "December5th",
          "catchphrase": "\"groovy\"",
          "gender": "male",
          "hobbies": "Fitness",
          "name": "Hans",
          "personality": "Smug",
          "species": "Gorilla"
         },
         {
          "birthday": "January7th",
          "catchphrase": "\"beachbum\"",
          "gender": "male",
          "hobbies": "Education",
          "name": "Harry",
          "personality": "Cranky",
          "species": "Hippo"
         },
         {
          "birthday": "August30th",
          "catchphrase": "\"uni-wow\"",
          "gender": "female",
          "hobbies": "Play",
          "name": "Hazel",
          "personality": "Sisterly",
          "species": "Squirrel"
         },
         {
          "birthday": "September21st",
          "catchphrase": "\"snoozit\"",
          "gender": "male",
          "hobbies": "Music",
          "name": "Henry",
          "personality": "Smug",
          "species": "Frog"
         },
         {
          "birthday": "October15th",
          "catchphrase": "\"natch\"",
          "gender": "male",
          "hobbies": "Education",
          "name": "Hippeux",
          "personality": "Smug",
          "species": "Hippo"
         },
         {
          "birthday": "March11th",
          "catchphrase": "\"thumper\"",
          "gender": "male",
          "hobbies": "Nature",
          "name": "Hopkins",
          "personality": "Lazy",
          "species": "Rabbit"
         },
         {
          "birthday": "April6th",
          "catchphrase": "\"slushie\"",
          "gender": "male",
          "hobbies": "Music",
          "name": "Hopper",
          "personality": "Cranky",
          "species": "Penguin"
         },
         {
          "birthday": "March20th",
          "catchphrase": "\"schnozzle\"",
          "gender": "male",
          "hobbies": "Nature",
          "name": "Hornsby",
          "personality": "Lazy",
          "species": "Rhino"
         },
         {
          "birthday": "July9th",
          "catchphrase": "\"hopper\"",
          "gender": "male",
          "hobbies": "Fitness",
          "name": "Huck",
          "personality": "Smug",
          "species": "Frog"
         },
         {
          "birthday": "December30th",
          "catchphrase": "\"snortle\"",
          "gender": "male",
          "hobbies": "Play",
          "name": "Hugh",
          "personality": "Lazy",
          "species": "Pig"
         },
         {
          "birthday": "November2nd",
          "catchphrase": "\"waddler\"",
          "gender": "male",
          "hobbies": "Fitness",
          "name": "Iggly",
          "personality": "Jock",
          "species": "Penguin"
         },
         {
          "birthday": "May16th",
          "catchphrase": "\"roadie\"",
          "gender": "male",
          "hobbies": "Nature",
          "name": "Ike",
          "personality": "Cranky",
          "species": "Bear"
         },
         {
          "birthday": "August24th",
          "catchphrase": "\"yafeel\"",
          "gender": "male",
          "hobbies": "Nature",
          "name": "JacobNAJakeyPAL",
          "personality": "Lazy",
          "species": "Bird"
         },
         {
          "birthday": "June22nd",
          "catchphrase": "\"zutalors\"",
          "gender": "male",
          "hobbies": "Music",
          "name": "Jacques",
          "personality": "Smug",
          "species": "Bird"
         },
         {
          "birthday": "October27th",
          "catchphrase": "\"croak-kay\"",
          "gender": "female",
          "hobbies": "Fashion",
          "name": "Jambette",
          "personality": "Normal",
          "species": "Frog"
         },
         {
          "birthday": "July17th",
          "catchphrase": "\"heeeeeyy\"",
          "gender": "male",
          "hobbies": "Fitness",
          "name": "Jay",
          "personality": "Jock",
          "species": "Bird"
         },
         {
          "birthday": "July8th",
          "catchphrase": "\"nee-deep\"",
          "gender": "male",
          "hobbies": "Play",
          "name": "Jeremiah",
          "personality": "Lazy",
          "species": "Frog"
         },
         {
          "birthday": "February2nd",
          "catchphrase": "\"bzzert\"",
          "gender": "male",
          "hobbies": "Fitness",
          "name": "Jitters",
          "personality": "Jock",
          "species": "Bird"
         },
         {
          "birthday": "January3rd",
          "catchphrase": "\"bleeeeeck\"",
          "gender": "male",
          "hobbies": "Play",
          "name": "Joey",
          "personality": "Lazy",
          "species": "Duck"
         },
         {
          "birthday": "March10th",
          "catchphrase": "\"myohmy\"",
          "gender": "female",
          "hobbies": "Music",
          "name": "Judy",
          "personality": "Snooty",
          "species": "Cub"
         },
         {
          "birthday": "July31st",
          "catchphrase": "\"dahling\"",
          "gender": "female",
          "hobbies": "Education",
          "name": "Julia",
          "personality": "Snooty",
          "species": "Ostrich"
         },
         {
          "birthday": "March15th",
          "catchphrase": "\"glitter\"",
          "gender": "male",
          "hobbies": "Music",
          "name": "Julian",
          "personality": "Smug",
          "species": "Horse"
         },
         {
          "birthday": "May21st",
          "catchphrase": "\"rainbow\"",
          "gender": "female",
          "hobbies": "Nature",
          "name": "June",
          "personality": "Normal",
          "species": "Cub"
         },
         {
          "birthday": "November29th",
          "catchphrase": "\"meooo-OH\"",
          "gender": "male",
          "hobbies": "Music",
          "name": "Kabuki",
          "personality": "Cranky",
          "species": "Cat"
         },
         {
          "birthday": "April27th",
          "catchphrase": "\"purrty\"",
          "gender": "female",
          "hobbies": "Music",
          "name": "Katt",
          "personality": "Sisterly",
          "species": "Cat"
         },
         {
          "birthday": "June1st",
          "catchphrase": "\"wingo\"",
          "gender": "male",
          "hobbies": "Music",
          "name": "Keaton",
          "personality": "Smug",
          "species": "Eagle"
         },
         {
          "birthday": "December23rd",
          "catchphrase": "\"nodoubt\"",
          "gender": "male",
          "hobbies": "Education",
          "name": "Ken",
          "personality": "Smug",
          "species": "Chicken"
         },
         {
          "birthday": "July27th",
          "catchphrase": "\"bitty\"",
          "gender": "female",
          "hobbies": "Play",
          "name": "Ketchup",
          "personality": "Peppy",
          "species": "Duck"
         },
         {
          "birthday": "April26th",
          "catchphrase": "\"weeweewee\"",
          "gender": "male",
          "hobbies": "Play",
          "name": "Kevin",
          "personality": "Jock",
          "species": "Pig"
         },
         {
          "birthday": "August1st",
          "catchphrase": "\"psst\"",
          "gender": "male",
          "hobbies": "Fitness",
          "name": "KidCat",
          "personality": "Jock",
          "species": "Cat"
         },
         {
          "birthday": "June28th",
          "catchphrase": "\"wut\"",
          "gender": "male",
          "hobbies": "Education",
          "name": "Kidd",
          "personality": "Smug",
          "species": "Goat"
         },
         {
          "birthday": "October8th",
          "catchphrase": "\"kittycat\"",
          "gender": "female",
          "hobbies": "Education",
          "name": "Kiki",
          "personality": "Normal",
          "species": "Cat"
         },
         {
          "birthday": "October11th",
          "catchphrase": "\"child\"",
          "gender": "female",
          "hobbies": "Education",
          "name": "Kitt",
          "personality": "Normal",
          "species": "Kangaroo"
         },
         {
          "birthday": "February15th",
          "catchphrase": "\"mrowrr\"",
          "gender": "female",
          "hobbies": "Fashion",
          "name": "Kitty",
          "personality": "Snooty",
          "species": "Cat"
         },
         {
          "birthday": "March31st",
          "catchphrase": "\"strudel\"",
          "gender": "male",
          "hobbies": "Education",
          "name": "Klaus",
          "personality": "Smug",
          "species": "Bear"
         },
         {
          "birthday": "November23rd",
          "catchphrase": "\"cluckling\"",
          "gender": "male",
          "hobbies": "Education",
          "name": "Knox",
          "personality": "Cranky",
          "species": "Chicken"
         },
         {
          "birthday": "September28th",
          "catchphrase": "\"grahgrah\"",
          "gender": "male",
          "hobbies": "Fitness",
          "name": "Kody",
          "personality": "Jock",
          "species": "Cub"
         },
         {
          "birthday": "December6th",
          "catchphrase": "\"alpha\"",
          "gender": "male",
          "hobbies": "Music",
          "name": "Kyle",
          "personality": "Smug",
          "species": "Wolf"
         },
         {
          "birthday": "May15th",
          "catchphrase": "\"flexin'\"",
          "gender": "male",
          "hobbies": "Fitness",
          "name": "Leonardo",
          "personality": "Jock",
          "species": "Tiger"
         },
         {
          "birthday": "August14th",
          "catchphrase": "\"lioncub\"",
          "gender": "male",
          "hobbies": "Education",
          "name": "Leopold",
          "personality": "Smug",
          "species": "Lion"
         },
         {
          "birthday": "February4th",
          "catchphrase": "\"toady\"",
          "gender": "female",
          "hobbies": "Education",
          "name": "Lily",
          "personality": "Normal",
          "species": "Frog"
         },
         {
          "birthday": "October17th",
          "catchphrase": "\"squinky\"",
          "gender": "male",
          "hobbies": "Education",
          "name": "Limberg",
          "personality": "Cranky",
          "species": "Mouse"
         },
         {
          "birthday": "July29th",
          "catchphrase": "\"precisely\"",
          "gender": "male",
          "hobbies": "Music",
          "name": "Lionel",
          "personality": "Smug",
          "species": "Lion"
         },
         {
          "birthday": "November5th",
          "catchphrase": "\"ah-rooooo\"",
          "gender": "male",
          "hobbies": "Education",
          "name": "Lobo",
          "personality": "Cranky",
          "species": "Wolf"
         },
         {
          "birthday": "March27th",
          "catchphrase": "\"bonbon\"",
          "gender": "female",
          "hobbies": "Music",
          "name": "Lolly",
          "personality": "Normal",
          "species": "Cat"
         },
         {
          "birthday": "August20th",
          "catchphrase": "\"badoom\"",
          "gender": "male",
          "hobbies": "Education",
          "name": "Lopez",
          "personality": "Smug",
          "species": "Deer"
         },
         {
          "birthday": "March26th",
          "catchphrase": "\"hoohooha\"",
          "gender": "male",
          "hobbies": "Fitness",
          "name": "Louie",
          "personality": "Jock",
          "species": "Gorilla"
         },
         {
          "birthday": "December12th",
          "catchphrase": "\"cacaw\"",
          "gender": "male",
          "hobbies": "Fitness",
          "name": "Lucha",
          "personality": "Smug",
          "species": "Bird"
         },
         {
          "birthday": "November4th",
          "catchphrase": "\"rrr-owch\"",
          "gender": "male",
          "hobbies": "Play",
          "name": "Lucky",
          "personality": "Lazy",
          "species": "Dog"
         },
         {
          "birthday": "June2nd",
          "catchphrase": "\"snoooink\"",
          "gender": "female",
          "hobbies": "Music",
          "name": "Lucy",
          "personality": "Normal",
          "species": "Pig"
         },
         {
          "birthday": "October12th",
          "catchphrase": "\"chips\"",
          "gender": "male",
          "hobbies": "Play",
          "name": "Lyman",
          "personality": "Jock",
          "species": "Koala"
         },
         {
          "birthday": "November11th",
          "catchphrase": "\"woowoof\"",
          "gender": "male",
          "hobbies": "Fitness",
          "name": "Mac",
          "personality": "Jock",
          "species": "Dog"
         },
         {
          "birthday": "January11th",
          "catchphrase": "\"yippee\"",
          "gender": "female",
          "hobbies": "Play",
          "name": "Maddie",
          "personality": "Peppy",
          "species": "Dog"
         },
         {
          "birthday": "April8th",
          "catchphrase": "\"duckling\"",
          "gender": "female",
          "hobbies": "Fashion",
          "name": "Maelle",
          "personality": "Snooty",
          "species": "Duck"
         },
         {
          "birthday": "September3rd",
          "catchphrase": "\"schep\"",
          "gender": "female",
          "hobbies": "Nature",
          "name": "Maggie",
          "personality": "Normal",
          "species": "Pig"
         },
         {
          "birthday": "November17th",
          "catchphrase": "\"quackpth\"",
          "gender": "female",
          "hobbies": "Fashion",
          "name": "Mallary",
          "personality": "Snooty",
          "species": "Duck"
         },
         {
          "birthday": "June15th",
          "catchphrase": "\"honey\"",
          "gender": "female",
          "hobbies": "Education",
          "name": "Maple",
          "personality": "Normal",
          "species": "Cub"
         },
         {
          "birthday": "December31st",
          "catchphrase": "\"non\"",
          "gender": "male",
          "hobbies": "Play",
          "name": "Marcel",
          "personality": "Lazy",
          "species": "Dog"
         },
         {
          "birthday": "May31st",
          "catchphrase": "\"pouches\"",
          "gender": "female",
          "hobbies": "Nature",
          "name": "Marcie",
          "personality": "Normal",
          "species": "Kangaroo"
         },
         {
          "birthday": "January28th",
          "catchphrase": "\"tootie\"",
          "gender": "female",
          "hobbies": "Education",
          "name": "Margie",
          "personality": "Normal",
          "species": "Elephant"
         },
         {
          "birthday": "June26th",
          "catchphrase": "\"blurp\"",
          "gender": "female",
          "hobbies": "Music",
          "name": "Marina",
          "personality": "Normal",
          "species": "Octopus"
         },
         {
          "birthday": "September29th",
          "catchphrase": "\"sulky\"",
          "gender": "male",
          "hobbies": "Music",
          "name": "Marshal",
          "personality": "Smug",
          "species": "Squirrel"
         },
         {
          "birthday": "November12th",
          "catchphrase": "\"weebaby\"",
          "gender": "female",
          "hobbies": "Fitness",
          "name": "Mathilda",
          "personality": "Snooty",
          "species": "Kangaroo"
         },
         {
          "birthday": "March13th",
          "catchphrase": "\"sundae\"",
          "gender": "female",
          "hobbies": "Nature",
          "name": "Megan",
          "personality": "Normal",
          "species": "Bear"
         },
         {
          "birthday": "April12th",
          "catchphrase": "\"toasty\"",
          "gender": "female",
          "hobbies": "Education",
          "name": "Melba",
          "personality": "Normal",
          "species": "Koala"
         },
         {
          "birthday": "March19th",
          "catchphrase": "\"shortcake\"",
          "gender": "female",
          "hobbies": "Nature",
          "name": "Merengue",
          "personality": "Normal",
          "species": "Rhino"
         },
         {
          "birthday": "June29th",
          "catchphrase": "\"mweee\"",
          "gender": "female",
          "hobbies": "Fashion",
          "name": "Merry",
          "personality": "Peppy",
          "species": "Cat"
         },
         {
          "birthday": "March12th",
          "catchphrase": "\"tweedledee\"",
          "gender": "female",
          "hobbies": "Education",
          "name": "Midge",
          "personality": "Normal",
          "species": "Bird"
         },
         {
          "birthday": "May2nd",
          "catchphrase": "\"ahhhhhh\"",
          "gender": "female",
          "hobbies": "Fashion",
          "name": "Mint",
          "personality": "Snooty",
          "species": "Squirrel"
         },
         {
          "birthday": "July6th",
          "catchphrase": "\"cottontail\"",
          "gender": "female",
          "hobbies": "Fitness",
          "name": "Mira",
          "personality": "Sisterly",
          "species": "Rabbit"
         },
         {
          "birthday": "April23rd",
          "catchphrase": "\"quackulous\"",
          "gender": "female",
          "hobbies": "Fashion",
          "name": "Miranda",
          "personality": "Snooty",
          "species": "Duck"
         },
         {
          "birthday": "September25th",
          "catchphrase": "\"mew\"",
          "gender": "female",
          "hobbies": "Education",
          "name": "Mitzi",
          "personality": "Normal",
          "species": "Cat"
         },
         {
          "birthday": "January12th",
          "catchphrase": "\"myawn\"",
          "gender": "male",
          "hobbies": "Play",
          "name": "Moe",
          "personality": "Lazy",
          "species": "Cat"
         },
         {
          "birthday": "March7th",
          "catchphrase": "\"quackidee\"",
          "gender": "female",
          "hobbies": "Nature",
          "name": "Molly",
          "personality": "Normal",
          "species": "Duck"
         },
         {
          "birthday": "September30th",
          "catchphrase": "\"pffffft\"",
          "gender": "female",
          "hobbies": "Fashion",
          "name": "Monique",
          "personality": "Snooty",
          "species": "Cat"
         },
         {
          "birthday": "December7th",
          "catchphrase": "\"g'tang\"",
          "gender": "male",
          "hobbies": "Education",
          "name": "Monty",
          "personality": "Cranky",
          "species": "Monkey"
         },
         {
          "birthday": "September13th",
          "catchphrase": "\"shorty\"",
          "gender": "male",
          "hobbies": "Fitness",
          "name": "Moose",
          "personality": "Jock",
          "species": "Mouse"
         },
         {
          "birthday": "July10th",
          "catchphrase": "\"cagey\"",
          "gender": "male",
          "hobbies": "Fitness",
          "name": "Mott",
          "personality": "Jock",
          "species": "Lion"
         },
         {
          "birthday": "February14th",
          "catchphrase": "\"nightshade\"",
          "gender": "female",
          "hobbies": "Music",
          "name": "Muffy",
          "personality": "Sisterly",
          "species": "Sheep"
         },
         {
          "birthday": "December29th",
          "catchphrase": "\"malarkey\"",
          "gender": "male",
          "hobbies": "Education",
          "name": "Murphy",
          "personality": "Cranky",
          "species": "Cub"
         },
         {
          "birthday": "August24th",
          "catchphrase": "\"kid\"",
          "gender": "female",
          "hobbies": "Nature",
          "name": "Nan",
          "personality": "Normal",
          "species": "Goat"
         },
         {
          "birthday": "August23rd",
          "catchphrase": "\"popo\"",
          "gender": "female",
          "hobbies": "Education",
          "name": "Nana",
          "personality": "Normal",
          "species": "Monkey"
         },
         {
          "birthday": "February28th",
          "catchphrase": "\"moolah\"",
          "gender": "female",
          "hobbies": "Fashion",
          "name": "Naomi",
          "personality": "Snooty",
          "species": "Cow"
         },
         {
          "birthday": "August16th",
          "catchphrase": "\"yawwwn\"",
          "gender": "male",
          "hobbies": "Play",
          "name": "Nate",
          "personality": "Lazy",
          "species": "Bear"
         },
         {
          "birthday": "July19th",
          "catchphrase": "\"niblet\"",
          "gender": "female",
          "hobbies": "Fashion",
          "name": "Nibbles",
          "personality": "Peppy",
          "species": "Squirrel"
         },
         {
          "birthday": "September20th",
          "catchphrase": "\"hoofhoo\"",
          "gender": "female",
          "hobbies": "Nature",
          "name": "Norma",
          "personality": "Normal",
          "species": "Cow"
         },
         {
          "birthday": "September20th",
          "catchphrase": "\"sucker\"",
          "gender": "male",
          "hobbies": "Play",
          "name": "Octavian",
          "personality": "Cranky",
          "species": "Octopus"
         },
         {
          "birthday": "July24th",
          "catchphrase": "\"amigo\"",
          "gender": "male",
          "hobbies": "Nature",
          "name": "O'Hare",
          "personality": "Smug",
          "species": "Rabbit"
         },
         {
          "birthday": "May19th",
          "catchphrase": "\"whiffa\"",
          "gender": "male",
          "hobbies": "Education",
          "name": "Olaf",
          "personality": "Smug",
          "species": "Anteater"
         },
         {
          "birthday": "July12th",
          "catchphrase": "\"sweetpea\"",
          "gender": "female",
          "hobbies": "Nature",
          "name": "Olive",
          "personality": "Normal",
          "species": "Cub"
         },
         {
          "birthday": "February3rd",
          "catchphrase": "\"purrr\"",
          "gender": "female",
          "hobbies": "Music",
          "name": "Olivia",
          "personality": "Snooty",
          "species": "Cat"
         },
         {
          "birthday": "January20th",
          "catchphrase": "\"snoot\"",
          "gender": "female",
          "hobbies": "Fashion",
          "name": "Opal",
          "personality": "Snooty",
          "species": "Elephant"
         },
         {
          "birthday": "May7th",
          "catchphrase": "\"ol'bear\"",
          "gender": "male",
          "hobbies": "Play",
          "name": "Ozzie",
          "personality": "Lazy",
          "species": "Koala"
         },
         {
          "birthday": "November14th",
          "catchphrase": "\"sooey\"",
          "gender": "female",
          "hobbies": "Music",
          "name": "Pancetti",
          "personality": "Snooty",
          "species": "Pig"
         },
         {
          "birthday": "November9th",
          "catchphrase": "\"snooooof\"",
          "gender": "female",
          "hobbies": "Fashion",
          "name": "Pango",
          "personality": "Peppy",
          "species": "Anteater"
         },
         {
          "birthday": "May5th",
          "catchphrase": "\"pal\"",
          "gender": "male",
          "hobbies": "Nature",
          "name": "Paolo",
          "personality": "Lazy",
          "species": "Elephant"
         },
         {
          "birthday": "January10th",
          "catchphrase": "\"haaay\"",
          "gender": "male",
          "hobbies": "Nature",
          "name": "Papi",
          "personality": "Lazy",
          "species": "Horse"
         },
         {
          "birthday": "December26th",
          "catchphrase": "\"kidders\"",
          "gender": "female",
          "hobbies": "Music",
          "name": "Pashmina",
          "personality": "Sisterly",
          "species": "Goat"
         },
         {
          "birthday": "February23rd",
          "catchphrase": "\"quackle\"",
          "gender": "female",
          "hobbies": "Fashion",
          "name": "Pate",
          "personality": "Peppy",
          "species": "Duck"
         },
         {
          "birthday": "May10th",
          "catchphrase": "\"how-now\"",
          "gender": "female",
          "hobbies": "Fashion",
          "name": "Patty",
          "personality": "Peppy",
          "species": "Cow"
         },
         {
          "birthday": "March22nd",
          "catchphrase": "\"yodelay\"",
          "gender": "female",
          "hobbies": "Fitness",
          "name": "Paula",
          "personality": "Sisterly",
          "species": "Bear"
         },
         {
          "birthday": "November28th",
          "catchphrase": "\"neighbor\"",
          "gender": "female",
          "hobbies": "Education",
          "name": "Peaches",
          "personality": "Normal",
          "species": "Horse"
         },
         {
          "birthday": "June8th",
          "catchphrase": "\"slacker\"",
          "gender": "female",
          "hobbies": "Fashion",
          "name": "Peanut",
          "personality": "Peppy",
          "species": "Squirrel"
         },
         {
          "birthday": "September10th",
          "catchphrase": "\"chipmunk\"",
          "gender": "female",
          "hobbies": "Fashion",
          "name": "Pecan",
          "personality": "Snooty",
          "species": "Squirrel"
         },
         {
          "birthday": "July25th",
          "catchphrase": "\"crunch\"",
          "gender": "male",
          "hobbies": "Play",
          "name": "Peck",
          "personality": "Jock",
          "species": "Bird"
         },
         {
          "birthday": "September11th",
          "catchphrase": "\"li'lbittybaby\"",
          "gender": "male",
          "hobbies": "Fitness",
          "name": "Peewee",
          "personality": "Cranky",
          "species": "Gorilla"
         },
         {
          "birthday": "May23rd",
          "catchphrase": "\"shweetie\"",
          "gender": "female",
          "hobbies": "Fashion",
          "name": "Peggy",
          "personality": "Peppy",
          "species": "Pig"
         },
         {
          "birthday": "May18th",
          "catchphrase": "\"bud\"",
          "gender": "female",
          "hobbies": "Nature",
          "name": "Pekoe",
          "personality": "Normal",
          "species": "Cub"
         },
         {
          "birthday": "February5th",
          "catchphrase": "\"ohbow\"",
          "gender": "female",
          "hobbies": "Fashion",
          "name": "Penelope",
          "personality": "Peppy",
          "species": "Mouse"
         },
         {
          "birthday": "November27th",
          "catchphrase": "\"hurk\"",
          "gender": "male",
          "hobbies": "Music",
          "name": "Phil",
          "personality": "Smug",
          "species": "Ostrich"
         },
         {
          "birthday": "April22nd",
          "catchphrase": "\"sparky\"",
          "gender": "female",
          "hobbies": "Fitness",
          "name": "Phoebe",
          "personality": "Sisterly",
          "species": "Ostrich"
         },
         {
          "birthday": "January8th",
          "catchphrase": "\"hawkeye\"",
          "gender": "male",
          "hobbies": "Fitness",
          "name": "Pierce",
          "personality": "Jock",
          "species": "Eagle"
         },
         {
          "birthday": "April19th",
          "catchphrase": "\"honkhonk\"",
          "gender": "male",
          "hobbies": "Music",
          "name": "Pietro",
          "personality": "Smug",
          "species": "Sheep"
         },
         {
          "birthday": "September9th",
          "catchphrase": "\"wah\"",
          "gender": "female",
          "hobbies": "Fashion",
          "name": "Pinky",
          "personality": "Peppy",
          "species": "Bear"
         },
         {
          "birthday": "April18th",
          "catchphrase": "\"chickadee\"",
          "gender": "female",
          "hobbies": "Play",
          "name": "Piper",
          "personality": "Peppy",
          "species": "Bird"
         },
         {
          "birthday": "June14th",
          "catchphrase": "\"li'lhare\"",
          "gender": "female",
          "hobbies": "Fashion",
          "name": "Pippy",
          "personality": "Peppy",
          "species": "Rabbit"
         },
         {
          "birthday": "October12th",
          "catchphrase": "\"chicky-poo\"",
          "gender": "female",
          "hobbies": "Play",
          "name": "Plucky",
          "personality": "Sisterly",
          "species": "Chicken"
         },
         {
          "birthday": "February11th",
          "catchphrase": "\"rahrah\"",
          "gender": "female",
          "hobbies": "Music",
          "name": "Pompom",
          "personality": "Peppy",
          "species": "Duck"
         },
         {
          "birthday": "January2nd",
          "catchphrase": "\"li'lbear\"",
          "gender": "male",
          "hobbies": "Fitness",
          "name": "Poncho",
          "personality": "Jock",
          "species": "Cub"
         },
         {
          "birthday": "August5th",
          "catchphrase": "\"nutty\"",
          "gender": "female",
          "hobbies": "Education",
          "name": "Poppy",
          "personality": "Normal",
          "species": "Squirrel"
         },
         {
          "birthday": "October25th",
          "catchphrase": "\"ruffian\"",
          "gender": "female",
          "hobbies": "Fashion",
          "name": "Portia",
          "personality": "Snooty",
          "species": "Dog"
         },
         {
          "birthday": "July21st",
          "catchphrase": "\"burrup\"",
          "gender": "male",
          "hobbies": "Play",
          "name": "Prince",
          "personality": "Lazy",
          "species": "Frog"
         },
         {
          "birthday": "February21st",
          "catchphrase": "\"brrrrrrrrr\"",
          "gender": "male",
          "hobbies": "Fitness",
          "name": "Puck",
          "personality": "Lazy",
          "species": "Penguin"
         },
         {
          "birthday": "January13th",
          "catchphrase": "\"splish\"",
          "gender": "female",
          "hobbies": "Fashion",
          "name": "Puddles",
          "personality": "Peppy",
          "species": "Frog"
         },
         {
          "birthday": "June11th",
          "catchphrase": "\"golly\"",
          "gender": "male",
          "hobbies": "Play",
          "name": "Pudge",
          "personality": "Lazy",
          "species": "Cub"
         },
         {
          "birthday": "April11th",
          "catchphrase": "\"mrmpht\"",
          "gender": "male",
          "hobbies": "Play",
          "name": "Punchy",
          "personality": "Lazy",
          "species": "Cat"
         },
         {
          "birthday": "May29th",
          "catchphrase": "\"kitten\"",
          "gender": "female",
          "hobbies": "Fashion",
          "name": "Purrl",
          "personality": "Snooty",
          "species": "Cat"
         },
         {
          "birthday": "November13th",
          "catchphrase": "\"chicken\"",
          "gender": "female",
          "hobbies": "Fashion",
          "name": "Queenie",
          "personality": "Snooty",
          "species": "Ostrich"
         },
         {
          "birthday": "December22nd",
          "catchphrase": "\"ridukulous\"",
          "gender": "male",
          "hobbies": "Music",
          "name": "Quillson",
          "personality": "Smug",
          "species": "Duck"
         },
         {
          "birthday": "June6th",
          "catchphrase": "\"aaach—\"",
          "gender": "male",
          "hobbies": "Nature",
          "name": "Raddle",
          "personality": "Lazy",
          "species": "Frog"
         },
         {
          "birthday": "April7th",
          "catchphrase": "\"swine\"",
          "gender": "male",
          "hobbies": "Music",
          "name": "Rasher",
          "personality": "Cranky",
          "species": "Pig"
         },
         {
          "birthday": "October1st",
          "catchphrase": "\"crisp\"",
          "gender": "male",
          "hobbies": "Nature",
          "name": "Raymond",
          "personality": "Smug",
          "species": "Cat"
         },
         {
          "birthday": "May28th",
          "catchphrase": "\"yoyoyo\"",
          "gender": "female",
          "hobbies": "Music",
          "name": "Renée",
          "personality": "Sisterly",
          "species": "Rhino"
         },
         {
          "birthday": "June4th",
          "catchphrase": "\"ayupyup\"",
          "gender": "female",
          "hobbies": "Play",
          "name": "Reneigh",
          "personality": "Sisterly",
          "species": "Horse"
         },
         {
          "birthday": "July24th",
          "catchphrase": "\"coolcat\"",
          "gender": "male",
          "hobbies": "Nature",
          "name": "Rex",
          "personality": "Lazy",
          "species": "Lion"
         },
         {
          "birthday": "January24th",
          "catchphrase": "\"bigfoot\"",
          "gender": "female",
          "hobbies": "Music",
          "name": "Rhonda",
          "personality": "Normal",
          "species": "Rhino"
         },
         {
          "birthday": "February13th",
          "catchphrase": "\"zzrrbbitt\"",
          "gender": "male",
          "hobbies": "Fitness",
          "name": "Ribbot",
          "personality": "Jock",
          "species": "Frog"
         },
         {
          "birthday": "September14th",
          "catchphrase": "\"nutcase\"",
          "gender": "male",
          "hobbies": "Education",
          "name": "Ricky",
          "personality": "Cranky",
          "species": "Squirrel"
         },
         {
          "birthday": "January17th",
          "catchphrase": "\"squee\"",
          "gender": "male",
          "hobbies": "Education",
          "name": "Rizzo",
          "personality": "Cranky",
          "species": "Mouse"
         },
         {
          "birthday": "January5th",
          "catchphrase": "\"b-b-buddy\"",
          "gender": "male",
          "hobbies": "Fitness",
          "name": "Roald",
          "personality": "Jock",
          "species": "Penguin"
         },
         {
          "birthday": "December4th",
          "catchphrase": "\"la-di-da\"",
          "gender": "female",
          "hobbies": "Fashion",
          "name": "Robin",
          "personality": "Snooty",
          "species": "Bird"
         },
         {
          "birthday": "August18th",
          "catchphrase": "\"hippie\"",
          "gender": "male",
          "hobbies": "Education",
          "name": "Rocco",
          "personality": "Cranky",
          "species": "Hippo"
         },
         {
          "birthday": "April14th",
          "catchphrase": "\"vroom\"",
          "gender": "female",
          "hobbies": "Fitness",
          "name": "Rocket",
          "personality": "Sisterly",
          "species": "Gorilla"
         },
         {
          "birthday": "August14th",
          "catchphrase": "\"ace\"",
          "gender": "male",
          "hobbies": "Fitness",
          "name": "Rod",
          "personality": "Jock",
          "species": "Mouse"
         },
         {
          "birthday": "October29th",
          "catchphrase": "\"chaps\"",
          "gender": "male",
          "hobbies": "Fitness",
          "name": "Rodeo",
          "personality": "Lazy",
          "species": "Bull"
         },
         {
          "birthday": "November10th",
          "catchphrase": "\"leham\"",
          "gender": "male",
          "hobbies": "Music",
          "name": "Rodney",
          "personality": "Smug",
          "species": "Hamster"
         },
         {
          "birthday": "August22nd",
          "catchphrase": "\"grrrolf\"",
          "gender": "male",
          "hobbies": "Fitness",
          "name": "Rolf",
          "personality": "Cranky",
          "species": "Tiger"
         },
         {
          "birthday": "December1st",
          "catchphrase": "\"punches\"",
          "gender": "male",
          "hobbies": "Fitness",
          "name": "Rooney",
          "personality": "Cranky",
          "species": "Kangaroo"
         },
         {
          "birthday": "August7th",
          "catchphrase": "\"capital\"",
          "gender": "male",
          "hobbies": "Music",
          "name": "Rory",
          "personality": "Jock",
          "species": "Lion"
         },
         {
          "birthday": "June16th",
          "catchphrase": "\"nay\"",
          "gender": "male",
          "hobbies": "Music",
          "name": "Roscoe",
          "personality": "Cranky",
          "species": "Horse"
         },
         {
          "birthday": "February27th",
          "catchphrase": "\"silly\"",
          "gender": "female",
          "hobbies": "Music",
          "name": "Rosie",
          "personality": "Peppy",
          "species": "Cat"
         },
         {
          "birthday": "August26th",
          "catchphrase": "\"mango\"",
          "gender": "male",
          "hobbies": "Fitness",
          "name": "Rowan",
          "personality": "Jock",
          "species": "Tiger"
         },
         {
          "birthday": "December25th",
          "catchphrase": "\"li'lears\"",
          "gender": "female",
          "hobbies": "Nature",
          "name": "Ruby",
          "personality": "Peppy",
          "species": "Rabbit"
         },
         {
          "birthday": "December20th",
          "catchphrase": "\"mush\"",
          "gender": "male",
          "hobbies": "Play",
          "name": "Rudy",
          "personality": "Jock",
          "species": "Cat"
         },
         {
          "birthday": "June19th",
          "catchphrase": "\"nutmeg\"",
          "gender": "female",
          "hobbies": "Music",
          "name": "Sally",
          "personality": "Normal",
          "species": "Squirrel"
         },
         {
          "birthday": "July5th",
          "catchphrase": "\"pipsqueak\"",
          "gender": "male",
          "hobbies": "Fitness",
          "name": "Samson",
          "personality": "Jock",
          "species": "Mouse"
         },
         {
          "birthday": "October21st",
          "catchphrase": "\"speedy\"",
          "gender": "female",
          "hobbies": "Nature",
          "name": "Sandy",
          "personality": "Normal",
          "species": "Ostrich"
         },
         {
          "birthday": "January25th",
          "catchphrase": "\"y'all\"",
          "gender": "female",
          "hobbies": "Music",
          "name": "Savannah",
          "personality": "Normal",
          "species": "Horse"
         },
         {
          "birthday": "June13th",
          "catchphrase": "\"zipzoom\"",
          "gender": "male",
          "hobbies": "Fitness",
          "name": "Scoot",
          "personality": "Jock",
          "species": "Duck"
         },
         {
          "birthday": "April10th",
          "catchphrase": "\"cheeky\"",
          "gender": "female",
          "hobbies": "Music",
          "name": "Shari",
          "personality": "Sisterly",
          "species": "Monkey"
         },
         {
          "birthday": "February26th",
          "catchphrase": "\"cardio\"",
          "gender": "male",
          "hobbies": "Play",
          "name": "Sheldon",
          "personality": "Jock",
          "species": "Squirrel"
         },
         {
          "birthday": "November24th",
          "catchphrase": "\"baabaabaa\"",
          "gender": "male",
          "hobbies": "Education",
          "name": "Shep",
          "personality": "Smug",
          "species": "Dog"
         },
         {
          "birthday": "January18th",
          "catchphrase": "\"bawwww\"",
          "gender": "male",
          "hobbies": "Nature",
          "name": "Sherb",
          "personality": "Lazy",
          "species": "Goat"
         },
         {
          "birthday": "January19th",
          "catchphrase": "\"zzzook\"",
          "gender": "male",
          "hobbies": "Play",
          "name": "Simon",
          "personality": "Lazy",
          "species": "Monkey"
         },
         {
          "birthday": "March24th",
          "catchphrase": "\"airmail\"",
          "gender": "female",
          "hobbies": "Music",
          "name": "Skye",
          "personality": "Normal",
          "species": "Wolf"
         },
         {
          "birthday": "November15th",
          "catchphrase": "\"hoo-rah\"",
          "gender": "male",
          "hobbies": "Play",
          "name": "Sly",
          "personality": "Jock",
          "species": "Alligator"
         },
         {
          "birthday": "November3rd",
          "catchphrase": "\"bunyip\"",
          "gender": "male",
          "hobbies": "Fitness",
          "name": "Snake",
          "personality": "Jock",
          "species": "Rabbit"
         },
         {
          "birthday": "October24th",
          "catchphrase": "\"sniffff\"",
          "gender": "female",
          "hobbies": "Education",
          "name": "Snooty",
          "personality": "Snooty",
          "species": "Anteater"
         },
         {
          "birthday": "August9th",
          "catchphrase": "\"tarnation\"",
          "gender": "female",
          "hobbies": "Education",
          "name": "Soleil",
          "personality": "Snooty",
          "species": "Hamster"
         },
         {
          "birthday": "November20th",
          "catchphrase": "\"likewhoa\"",
          "gender": "male",
          "hobbies": "Play",
          "name": "Sparro",
          "personality": "Jock",
          "species": "Bird"
         },
         {
          "birthday": "June17th",
          "catchphrase": "\"punk\"",
          "gender": "male",
          "hobbies": "Nature",
          "name": "Spike",
          "personality": "Cranky",
          "species": "Rhino"
         },
         {
          "birthday": "September3rd",
          "catchphrase": "\"snork\"",
          "gender": "male",
          "hobbies": "Play",
          "name": "SporkNACracklePAL",
          "personality": "Lazy",
          "species": "Pig"
         },
         {
          "birthday": "February20th",
          "catchphrase": "\"frappe\"",
          "gender": "female",
          "hobbies": "Play",
          "name": "Sprinkle",
          "personality": "Peppy",
          "species": "Penguin"
         },
         {
          "birthday": "December1st",
          "catchphrase": "\"zort\"",
          "gender": "male",
          "hobbies": "Music",
          "name": "Sprocket",
          "personality": "Jock",
          "species": "Ostrich"
         },
         {
          "birthday": "July9th",
          "catchphrase": "\"krzzt\"",
          "gender": "male",
          "hobbies": "Music",
          "name": "Static",
          "personality": "Cranky",
          "species": "Squirrel"
         },
         {
          "birthday": "April9th",
          "catchphrase": "\"baa-dabing\"",
          "gender": "female",
          "hobbies": "Nature",
          "name": "Stella",
          "personality": "Normal",
          "species": "Sheep"
         },
         {
          "birthday": "December11th",
          "catchphrase": "\"skraaaaw\"",
          "gender": "male",
          "hobbies": "Fitness",
          "name": "Sterling",
          "personality": "Jock",
          "species": "Eagle"
         },
         {
          "birthday": "August17th",
          "catchphrase": "\"GAAHHH\"",
          "gender": "male",
          "hobbies": "Fitness",
          "name": "Stinky",
          "personality": "Jock",
          "species": "Cat"
         },
         {
          "birthday": "February10th",
          "catchphrase": "\"stuffin'\"",
          "gender": "male",
          "hobbies": "Play",
          "name": "Stitches",
          "personality": "Lazy",
          "species": "Cub"
         },
         {
          "birthday": "April20th",
          "catchphrase": "\"mrooooo\"",
          "gender": "male",
          "hobbies": "Nature",
          "name": "Stu",
          "personality": "Lazy",
          "species": "Bull"
         },
         {
          "birthday": "June21st",
          "catchphrase": "\"sunshine\"",
          "gender": "female",
          "hobbies": "Music",
          "name": "Sydney",
          "personality": "Normal",
          "species": "Koala"
         },
         {
          "birthday": "October22nd",
          "catchphrase": "\"hubbub\"",
          "gender": "female",
          "hobbies": "Nature",
          "name": "Sylvana",
          "personality": "Normal",
          "species": "Squirrel"
         },
         {
          "birthday": "May3rd",
          "catchphrase": "\"boing\"",
          "gender": "female",
          "hobbies": "Music",
          "name": "Sylvia",
          "personality": "Sisterly",
          "species": "Kangaroo"
         },
         {
          "birthday": "August13th",
          "catchphrase": "\"me-WOW\"",
          "gender": "female",
          "hobbies": "Music",
          "name": "Tabby",
          "personality": "Peppy",
          "species": "Cat"
         },
         {
          "birthday": "August3rd",
          "catchphrase": "\"sluuuurp\"",
          "gender": "male",
          "hobbies": "Play",
          "name": "Tad",
          "personality": "Jock",
          "species": "Frog"
         },
         {
          "birthday": "April2nd",
          "catchphrase": "\"chimpy\"",
          "gender": "female",
          "hobbies": "Fashion",
          "name": "Tammi",
          "personality": "Peppy",
          "species": "Monkey"
         },
         {
          "birthday": "June23rd",
          "catchphrase": "\"yaheard\"",
          "gender": "female",
          "hobbies": "Play",
          "name": "Tammy",
          "personality": "Sisterly",
          "species": "Cub"
         },
         {
          "birthday": "June17th",
          "catchphrase": "\"reeeeOWR\"",
          "gender": "female",
          "hobbies": "Music",
          "name": "Tangy",
          "personality": "Peppy",
          "species": "Cat"
         },
         {
          "birthday": "May6th",
          "catchphrase": "\"kerPOW\"",
          "gender": "male",
          "hobbies": "Fitness",
          "name": "Tank",
          "personality": "Jock",
          "species": "Rhino"
         },
         {
          "birthday": "November30th",
          "catchphrase": "\"nicenice\"",
          "gender": "female",
          "hobbies": "Fitness",
          "name": "Tasha",
          "personality": "Snooty",
          "species": "Squirrel"
         },
         {
          "birthday": "May20th",
          "catchphrase": "\"moocher\"",
          "gender": "male",
          "hobbies": "Education",
          "name": "T-Bone",
          "personality": "Cranky",
          "species": "Bull"
         },
         {
          "birthday": "September26th",
          "catchphrase": "\"grooof\"",
          "gender": "male",
          "hobbies": "Fitness",
          "name": "Teddy",
          "personality": "Jock",
          "species": "Bear"
         },
         {
          "birthday": "October6th",
          "catchphrase": "\"picante\"",
          "gender": "male",
          "hobbies": "Music",
          "name": "Tex",
          "personality": "Smug",
          "species": "Penguin"
         },
         {
          "birthday": "November18th",
          "catchphrase": "\"teacup\"",
          "gender": "female",
          "hobbies": "Nature",
          "name": "Tia",
          "personality": "Normal",
          "species": "Elephant"
         },
         {
          "birthday": "January9th",
          "catchphrase": "\"bunbun\"",
          "gender": "female",
          "hobbies": "Fashion",
          "name": "Tiffany",
          "personality": "Snooty",
          "species": "Rabbit"
         },
         {
          "birthday": "October21st",
          "catchphrase": "\"pinenut\"",
          "gender": "female",
          "hobbies": "Education",
          "name": "Timbra",
          "personality": "Snooty",
          "species": "Sheep"
         },
         {
          "birthday": "August25th",
          "catchphrase": "\"pushy\"",
          "gender": "female",
          "hobbies": "Fashion",
          "name": "Tipper",
          "personality": "Snooty",
          "species": "Cow"
         },
         {
          "birthday": "December10th",
          "catchphrase": "\"me-YOWZA\"",
          "gender": "male",
          "hobbies": "Education",
          "name": "Tom",
          "personality": "Cranky",
          "species": "Cat"
         },
         {
          "birthday": "July28th",
          "catchphrase": "\"snoutie\"",
          "gender": "female",
          "hobbies": "Fashion",
          "name": "Truffles",
          "personality": "Peppy",
          "species": "Pig"
         },
         {
          "birthday": "September7th",
          "catchphrase": "\"fuzzers\"",
          "gender": "male",
          "hobbies": "Nature",
          "name": "Tucker",
          "personality": "Lazy",
          "species": "Elephant"
         },
         {
          "birthday": "September15th",
          "catchphrase": "\"twinkles\"",
          "gender": "female",
          "hobbies": "Fashion",
          "name": "Tutu",
          "personality": "Peppy",
          "species": "Bear"
         },
         {
          "birthday": "July13th",
          "catchphrase": "\"cheepers\"",
          "gender": "female",
          "hobbies": "Fashion",
          "name": "Twiggy",
          "personality": "Peppy",
          "species": "Bird"
         },
         {
          "birthday": "August19th",
          "catchphrase": "\"grrrRAH\"",
          "gender": "male",
          "hobbies": "Play",
          "name": "Tybalt",
          "personality": "Jock",
          "species": "Tiger"
         },
         {
          "birthday": "January16th",
          "catchphrase": "\"grooomph\"",
          "gender": "female",
          "hobbies": "Music",
          "name": "Ursala",
          "personality": "Sisterly",
          "species": "Bear"
         },
         {
          "birthday": "January14th",
          "catchphrase": "\"blih\"",
          "gender": "female",
          "hobbies": "Education",
          "name": "Velma",
          "personality": "Snooty",
          "species": "Goat"
         },
         {
          "birthday": "April16th",
          "catchphrase": "\"baaaffo\"",
          "gender": "female",
          "hobbies": "Fashion",
          "name": "Vesta",
          "personality": "Normal",
          "species": "Sheep"
         },
         {
          "birthday": "December29th",
          "catchphrase": "\"cud\"",
          "gender": "male",
          "hobbies": "Fitness",
          "name": "Vic",
          "personality": "Cranky",
          "species": "Bull"
         },
         {
          "birthday": "July11th",
          "catchphrase": "\"sugarcube\"",
          "gender": "female",
          "hobbies": "Fitness",
          "name": "Victoria",
          "personality": "Peppy",
          "species": "Horse"
         },
         {
          "birthday": "September1st",
          "catchphrase": "\"sweetie\"",
          "gender": "female",
          "hobbies": "Fitness",
          "name": "Violet",
          "personality": "Snooty",
          "species": "Gorilla"
         },
         {
          "birthday": "January26th",
          "catchphrase": "\"piffle\"",
          "gender": "female",
          "hobbies": "Education",
          "name": "Vivian",
          "personality": "Snooty",
          "species": "Wolf"
         },
         {
          "birthday": "August2nd",
          "catchphrase": "\"nyet\"",
          "gender": "male",
          "hobbies": "Play",
          "name": "Vladimir",
          "personality": "Cranky",
          "species": "Cub"
         },
         {
          "birthday": "October30th",
          "catchphrase": "\"soitgoes\"",
          "gender": "male",
          "hobbies": "Nature",
          "name": "Wade",
          "personality": "Lazy",
          "species": "Penguin"
         },
         {
          "birthday": "June10th",
          "catchphrase": "\"wuh\"",
          "gender": "male",
          "hobbies": "Play",
          "name": "Walker",
          "personality": "Lazy",
          "species": "Dog"
         },
         {
          "birthday": "April24th",
          "catchphrase": "\"pockets\"",
          "gender": "male",
          "hobbies": "Fitness",
          "name": "Walt",
          "personality": "Cranky",
          "species": "Kangaroo"
         },
         {
          "birthday": "August21st",
          "catchphrase": "\"grr-ribbit\"",
          "gender": "male",
          "hobbies": "Education",
          "name": "WartJr.",
          "personality": "Cranky",
          "species": "Frog"
         },
         {
          "birthday": "June30th",
          "catchphrase": "\"quaa\"",
          "gender": "male",
          "hobbies": "Nature",
          "name": "Weber",
          "personality": "Lazy",
          "species": "Duck"
         },
         {
          "birthday": "August15th",
          "catchphrase": "\"lambkins\"",
          "gender": "female",
          "hobbies": "Fashion",
          "name": "Wendy",
          "personality": "Peppy",
          "species": "Sheep"
         },
         {
          "birthday": "September17th",
          "catchphrase": "\"snappy\"",
          "gender": "female",
          "hobbies": "Fashion",
          "name": "Whitney",
          "personality": "Snooty",
          "species": "Wolf"
         },
         {
          "birthday": "November26th",
          "catchphrase": "\"bopeep\"",
          "gender": "female",
          "hobbies": "Fashion",
          "name": "Willow",
          "personality": "Snooty",
          "species": "Sheep"
         },
         {
          "birthday": "January31st",
          "catchphrase": "\"hay-OK\"",
          "gender": "female",
          "hobbies": "Fashion",
          "name": "Winnie",
          "personality": "Peppy",
          "species": "Horse"
         },
         {
          "birthday": "November25th",
          "catchphrase": "\"snarrrl\"",
          "gender": "male",
          "hobbies": "Education",
          "name": "Wolfgang",
          "personality": "Cranky",
          "species": "Wolf"
         },
         {
          "birthday": "July20th",
          "catchphrase": "\"tsktsk\"",
          "gender": "female",
          "hobbies": "Fashion",
          "name": "Yuka",
          "personality": "Snooty",
          "species": "Koala"
         },
         {
          "birthday": "June7th",
          "catchphrase": "\"pronk\"",
          "gender": "male",
          "hobbies": "Music",
          "name": "Zell",
          "personality": "Smug",
          "species": "Deer"
         },
         {
          "birthday": "March8th",
          "catchphrase": "\"bloop\"",
          "gender": "male",
          "hobbies": "Nature",
          "name": "Zucker",
          "personality": "Lazy",
          "species": "Octopus"
         }
        ]
       },
       "encoding": {
        "color": {
         "field": "gender",
         "type": "nominal"
        },
        "x": {
         "field": "personality",
         "type": "nominal"
        },
        "y": {
         "aggregate": "count",
         "type": "quantitative"
        }
       },
       "mark": "bar"
      },
      "image/png": "[encoded data removed]",
      "text/plain": [
       "<VegaLite 4 object>\n",
       "\n",
       "If you see this message, it means the renderer has not been properly enabled\n",
       "for the frontend that you are using. For more information, see\n",
       "https://altair-viz.github.io/user_guide/troubleshooting.html\n"
      ]
     },
     "execution_count": 16,
     "metadata": {},
     "output_type": "execute_result"
    }
   ],
   "source": [
    "# find out the number of villages in different personailty\n",
    "alt.Chart(cleaned_data).mark_bar().encode(\n",
    "    alt.X('personality'),\n",
    "    y = 'count()',\n",
    "    color = 'gender'\n",
    ")"
   ]
  },
  {
   "cell_type": "markdown",
   "metadata": {},
   "source": [
    "#### There is more villagers with Normal and Lazy personality while it's relatively rare to see villagers with sistery and smug personality.\n",
    "\n",
    "- Lazy is the most common personality among male villager while Normal is the most common personality among female."
   ]
  },
  {
   "cell_type": "code",
   "execution_count": 17,
   "metadata": {},
   "outputs": [
    {
     "data": {
      "application/vnd.vegalite.v4+json": {
       "$schema": "https://vega.github.io/schema/vega-lite/v4.8.1.json",
       "config": {
        "view": {
         "continuousHeight": 300,
         "continuousWidth": 400
        }
       },
       "data": {
        "name": "data-b6cd50f40cc3a8bb0161cf8bc8e8da85"
       },
       "datasets": {
        "data-b6cd50f40cc3a8bb0161cf8bc8e8da85": [
         {
          "birthday": "January27th",
          "catchphrase": "\"ayeaye\"",
          "gender": "male",
          "hobbies": "Nature",
          "name": "Admiral",
          "personality": "Cranky",
          "species": "Bird"
         },
         {
          "birthday": "July2nd",
          "catchphrase": "\"sidekick\"",
          "gender": "female",
          "hobbies": "Fitness",
          "name": "AgentS",
          "personality": "Peppy",
          "species": "Squirrel"
         },
         {
          "birthday": "April21st",
          "catchphrase": "\"snuffle\"",
          "gender": "female",
          "hobbies": "Play",
          "name": "Agnes",
          "personality": "Sisterly",
          "species": "Pig"
         },
         {
          "birthday": "October18th",
          "catchphrase": "\"ayyeeee\"",
          "gender": "male",
          "hobbies": "Fitness",
          "name": "Al",
          "personality": "Lazy",
          "species": "Gorilla"
         },
         {
          "birthday": "June9th",
          "catchphrase": "\"it'same\"",
          "gender": "male",
          "hobbies": "Play",
          "name": "Alfonso",
          "personality": "Lazy",
          "species": "Alligator"
         },
         {
          "birthday": "August19th",
          "catchphrase": "\"guvnor\"",
          "gender": "female",
          "hobbies": "Education",
          "name": "Alice",
          "personality": "Normal",
          "species": "Koala"
         },
         {
          "birthday": "November8th",
          "catchphrase": "\"graaagh\"",
          "gender": "female",
          "hobbies": "Fashion",
          "name": "Alli",
          "personality": "Snooty",
          "species": "Alligator"
         },
         {
          "birthday": "November19th",
          "catchphrase": "\"cuz\"",
          "gender": "female",
          "hobbies": "Music",
          "name": "Amelia",
          "personality": "Snooty",
          "species": "Eagle"
         },
         {
          "birthday": "February16th",
          "catchphrase": "\"snorty\"",
          "gender": "female",
          "hobbies": "Fashion",
          "name": "Anabelle",
          "personality": "Peppy",
          "species": "Anteater"
         },
         {
          "birthday": "March4th",
          "catchphrase": "\"chuurp\"",
          "gender": "male",
          "hobbies": "Play",
          "name": "Anchovy",
          "personality": "Lazy",
          "species": "Bird"
         },
         {
          "birthday": "April30th",
          "catchphrase": "\"macmoo\"",
          "gender": "male",
          "hobbies": "Fitness",
          "name": "Angus",
          "personality": "Cranky",
          "species": "Bull"
         },
         {
          "birthday": "February24th",
          "catchphrase": "\"cannoli\"",
          "gender": "female",
          "hobbies": "Fashion",
          "name": "Anicotti",
          "personality": "Peppy",
          "species": "Mouse"
         },
         {
          "birthday": "September22nd",
          "catchphrase": "\"memeow\"",
          "gender": "female",
          "hobbies": "Nature",
          "name": "Ankha",
          "personality": "Snooty",
          "species": "Cat"
         },
         {
          "birthday": "February6th",
          "catchphrase": "\"gumdrop\"",
          "gender": "female",
          "hobbies": "Nature",
          "name": "Annalisa",
          "personality": "Normal",
          "species": "Anteater"
         },
         {
          "birthday": "December2nd",
          "catchphrase": "\"nipper\"",
          "gender": "female",
          "hobbies": "Fashion",
          "name": "Annalise",
          "personality": "Snooty",
          "species": "Horse"
         },
         {
          "birthday": "October20th",
          "catchphrase": "\"honk\"",
          "gender": "male",
          "hobbies": "Fitness",
          "name": "Antonio",
          "personality": "Jock",
          "species": "Anteater"
         },
         {
          "birthday": "July4th",
          "catchphrase": "\"pah\"",
          "gender": "male",
          "hobbies": "Music",
          "name": "Apollo",
          "personality": "Cranky",
          "species": "Eagle"
         },
         {
          "birthday": "September24th",
          "catchphrase": "\"cheekers\"",
          "gender": "female",
          "hobbies": "Play",
          "name": "Apple",
          "personality": "Peppy",
          "species": "Hamster"
         },
         {
          "birthday": "September8th",
          "catchphrase": "\"mypet\"",
          "gender": "female",
          "hobbies": "Music",
          "name": "Astrid",
          "personality": "Snooty",
          "species": "Kangaroo"
         },
         {
          "birthday": "August31st",
          "catchphrase": "\"foxtrot\"",
          "gender": "female",
          "hobbies": "Fitness",
          "name": "Audie",
          "personality": "Peppy",
          "species": "Wolf"
         },
         {
          "birthday": "January27th",
          "catchphrase": "\"b-b-baby\"",
          "gender": "female",
          "hobbies": "Education",
          "name": "Aurora",
          "personality": "Normal",
          "species": "Penguin"
         },
         {
          "birthday": "April28th",
          "catchphrase": "\"beaker\"",
          "gender": "female",
          "hobbies": "Music",
          "name": "Ava",
          "personality": "Normal",
          "species": "Chicken"
         },
         {
          "birthday": "February22nd",
          "catchphrase": "\"skree-haw\"",
          "gender": "male",
          "hobbies": "Music",
          "name": "Avery",
          "personality": "Cranky",
          "species": "Eagle"
         },
         {
          "birthday": "March23rd",
          "catchphrase": "\"WHONK\"",
          "gender": "male",
          "hobbies": "Fitness",
          "name": "Axel",
          "personality": "Jock",
          "species": "Elephant"
         },
         {
          "birthday": "March28th",
          "catchphrase": "\"daahling\"",
          "gender": "female",
          "hobbies": "Fashion",
          "name": "Baabara",
          "personality": "Snooty",
          "species": "Sheep"
         },
         {
          "birthday": "November7th",
          "catchphrase": "\"kablang\"",
          "gender": "male",
          "hobbies": "Play",
          "name": "Bam",
          "personality": "Jock",
          "species": "Deer"
         },
         {
          "birthday": "August27th",
          "catchphrase": "\"growf\"",
          "gender": "female",
          "hobbies": "Fashion",
          "name": "Bangle",
          "personality": "Peppy",
          "species": "Tiger"
         },
         {
          "birthday": "March2nd",
          "catchphrase": "\"cubby\"",
          "gender": "male",
          "hobbies": "Play",
          "name": "Barold",
          "personality": "Lazy",
          "species": "Cub"
         },
         {
          "birthday": "October15th",
          "catchphrase": "\"bingo\"",
          "gender": "female",
          "hobbies": "Nature",
          "name": "Bea",
          "personality": "Normal",
          "species": "Dog"
         },
         {
          "birthday": "September27th",
          "catchphrase": "\"whiskers\"",
          "gender": "male",
          "hobbies": "Education",
          "name": "Beardo",
          "personality": "Smug",
          "species": "Bear"
         },
         {
          "birthday": "April5th",
          "catchphrase": "\"saltlick\"",
          "gender": "male",
          "hobbies": "Nature",
          "name": "Beau",
          "personality": "Lazy",
          "species": "Deer"
         },
         {
          "birthday": "December9th",
          "catchphrase": "\"chicklet\"",
          "gender": "female",
          "hobbies": "Music",
          "name": "Becky",
          "personality": "Snooty",
          "species": "Chicken"
         },
         {
          "birthday": "December28th",
          "catchphrase": "\"eeks\"",
          "gender": "female",
          "hobbies": "Music",
          "name": "Bella",
          "personality": "Peppy",
          "species": "Mouse"
         },
         {
          "birthday": "October10th",
          "catchphrase": "\"uh-hoo\"",
          "gender": "male",
          "hobbies": "Play",
          "name": "Benedict",
          "personality": "Lazy",
          "species": "Chicken"
         },
         {
          "birthday": "August3rd",
          "catchphrase": "\"alrighty\"",
          "gender": "male",
          "hobbies": "Nature",
          "name": "Benjamin",
          "personality": "Lazy",
          "species": "Dog"
         },
         {
          "birthday": "April25th",
          "catchphrase": "\"bloop\"",
          "gender": "female",
          "hobbies": "Education",
          "name": "Bertha",
          "personality": "Normal",
          "species": "Hippo"
         },
         {
          "birthday": "June12th",
          "catchphrase": "\"eekers\"",
          "gender": "female",
          "hobbies": "Education",
          "name": "Bettina",
          "personality": "Normal",
          "species": "Mouse"
         },
         {
          "birthday": "December13th",
          "catchphrase": "\"glimmer\"",
          "gender": "female",
          "hobbies": "Play",
          "name": "Bianca",
          "personality": "Peppy",
          "species": "Tiger"
         },
         {
          "birthday": "March29th",
          "catchphrase": "\"squirt\"",
          "gender": "male",
          "hobbies": "Fitness",
          "name": "Biff",
          "personality": "Jock",
          "species": "Hippo"
         },
         {
          "birthday": "October3rd",
          "catchphrase": "\"villain\"",
          "gender": "male",
          "hobbies": "Play",
          "name": "BigTop",
          "personality": "Lazy",
          "species": "Elephant"
         },
         {
          "birthday": "February1st",
          "catchphrase": "\"quacko\"",
          "gender": "male",
          "hobbies": "Play",
          "name": "Bill",
          "personality": "Jock",
          "species": "Duck"
         },
         {
          "birthday": "March25th",
          "catchphrase": "\"dagnaabit\"",
          "gender": "male",
          "hobbies": "Play",
          "name": "Billy",
          "personality": "Jock",
          "species": "Goat"
         },
         {
          "birthday": "May13th",
          "catchphrase": "\"dawg\"",
          "gender": "male",
          "hobbies": "Play",
          "name": "Biskit",
          "personality": "Lazy",
          "species": "Dog"
         },
         {
          "birthday": "October6th",
          "catchphrase": "\"mydear\"",
          "gender": "female",
          "hobbies": "Education",
          "name": "Bitty",
          "personality": "Snooty",
          "species": "Hippo"
         },
         {
          "birthday": "July3rd",
          "catchphrase": "\"nutlet\"",
          "gender": "female",
          "hobbies": "Fashion",
          "name": "Blaire",
          "personality": "Snooty",
          "species": "Squirrel"
         },
         {
          "birthday": "December21st",
          "catchphrase": "\"quiteso\"",
          "gender": "female",
          "hobbies": "Nature",
          "name": "Blanche",
          "personality": "Snooty",
          "species": "Ostrich"
         },
         {
          "birthday": "June24th",
          "catchphrase": "\"peach\"",
          "gender": "female",
          "hobbies": "Fashion",
          "name": "Bluebear",
          "personality": "Peppy",
          "species": "Cub"
         },
         {
          "birthday": "January1st",
          "catchphrase": "\"pthhpth\"",
          "gender": "male",
          "hobbies": "Play",
          "name": "Bob",
          "personality": "Lazy",
          "species": "Cat"
         },
         {
          "birthday": "March3rd",
          "catchphrase": "\"deelish\"",
          "gender": "female",
          "hobbies": "Play",
          "name": "Bonbon",
          "personality": "Peppy",
          "species": "Rabbit"
         },
         {
          "birthday": "August4th",
          "catchphrase": "\"yipyip\"",
          "gender": "male",
          "hobbies": "Play",
          "name": "Bones",
          "personality": "Lazy",
          "species": "Dog"
         },
         {
          "birthday": "February7th",
          "catchphrase": "\"human\"",
          "gender": "male",
          "hobbies": "Fitness",
          "name": "Boomer",
          "personality": "Lazy",
          "species": "Penguin"
         },
         {
          "birthday": "September12th",
          "catchphrase": "\"baboom\"",
          "gender": "male",
          "hobbies": "Fitness",
          "name": "Boone",
          "personality": "Jock",
          "species": "Gorilla"
         },
         {
          "birthday": "August7th",
          "catchphrase": "\"munchie\"",
          "gender": "male",
          "hobbies": "Play",
          "name": "Boots",
          "personality": "Jock",
          "species": "Alligator"
         },
         {
          "birthday": "November6th",
          "catchphrase": "\"schnort\"",
          "gender": "male",
          "hobbies": "Nature",
          "name": "Boris",
          "personality": "Cranky",
          "species": "Pig"
         },
         {
          "birthday": "October1st",
          "catchphrase": "\"uh-oh\"",
          "gender": "male",
          "hobbies": "Fitness",
          "name": "Boyd",
          "personality": "Cranky",
          "species": "Gorilla"
         },
         {
          "birthday": "July7th",
          "catchphrase": "\"cheeseball\"",
          "gender": "female",
          "hobbies": "Fashion",
          "name": "Bree",
          "personality": "Snooty",
          "species": "Mouse"
         },
         {
          "birthday": "June30th",
          "catchphrase": "\"eatit\"",
          "gender": "male",
          "hobbies": "Play",
          "name": "Broccolo",
          "personality": "Lazy",
          "species": "Mouse"
         },
         {
          "birthday": "October24th",
          "catchphrase": "\"cluckadoo\"",
          "gender": "female",
          "hobbies": "Music",
          "name": "Broffina",
          "personality": "Snooty",
          "species": "Chicken"
         },
         {
          "birthday": "May26th",
          "catchphrase": "\"gruff\"",
          "gender": "male",
          "hobbies": "Nature",
          "name": "Bruce",
          "personality": "Cranky",
          "species": "Deer"
         },
         {
          "birthday": "September18th",
          "catchphrase": "\"hipster\"",
          "gender": "female",
          "hobbies": "Fashion",
          "name": "Bubbles",
          "personality": "Peppy",
          "species": "Hippo"
         },
         {
          "birthday": "April4th",
          "catchphrase": "\"pardner\"",
          "gender": "male",
          "hobbies": "Fitness",
          "name": "Buck",
          "personality": "Jock",
          "species": "Horse"
         },
         {
          "birthday": "August8th",
          "catchphrase": "\"shredded\"",
          "gender": "male",
          "hobbies": "Fitness",
          "name": "Bud",
          "personality": "Jock",
          "species": "Lion"
         },
         {
          "birthday": "May9th",
          "catchphrase": "\"tee-hee\"",
          "gender": "female",
          "hobbies": "Fashion",
          "name": "Bunnie",
          "personality": "Peppy",
          "species": "Rabbit"
         },
         {
          "birthday": "November1st",
          "catchphrase": "\"ROOOOOWF\"",
          "gender": "male",
          "hobbies": "Music",
          "name": "Butch",
          "personality": "Cranky",
          "species": "Dog"
         },
         {
          "birthday": "December7th",
          "catchphrase": "\"captain\"",
          "gender": "male",
          "hobbies": "Nature",
          "name": "Buzz",
          "personality": "Cranky",
          "species": "Eagle"
         },
         {
          "birthday": "September4th",
          "catchphrase": "\"WHEE\"",
          "gender": "female",
          "hobbies": "Nature",
          "name": "Cally",
          "personality": "Normal",
          "species": "Squirrel"
         },
         {
          "birthday": "June5th",
          "catchphrase": "\"ten-hut\"",
          "gender": "male",
          "hobbies": "Music",
          "name": "Camofrog",
          "personality": "Cranky",
          "species": "Frog"
         },
         {
          "birthday": "May14th",
          "catchphrase": "\"nuhuh\"",
          "gender": "female",
          "hobbies": "Play",
          "name": "Canberra",
          "personality": "Sisterly",
          "species": "Koala"
         },
         {
          "birthday": "April13th",
          "catchphrase": "\"sweetie\"",
          "gender": "female",
          "hobbies": "Play",
          "name": "Candi",
          "personality": "Peppy",
          "species": "Mouse"
         },
         {
          "birthday": "January6th",
          "catchphrase": "\"nougat\"",
          "gender": "female",
          "hobbies": "Fashion",
          "name": "Carmen",
          "personality": "Peppy",
          "species": "Rabbit"
         },
         {
          "birthday": "July15th",
          "catchphrase": "\"hulaaaa\"",
          "gender": "female",
          "hobbies": "Music",
          "name": "Caroline",
          "personality": "Normal",
          "species": "Squirrel"
         },
         {
          "birthday": "December5th",
          "catchphrase": "\"littleone\"",
          "gender": "female",
          "hobbies": "Nature",
          "name": "Carrie",
          "personality": "Normal",
          "species": "Kangaroo"
         },
         {
          "birthday": "April2nd",
          "catchphrase": "\"baaaby\"",
          "gender": "female",
          "hobbies": "Fashion",
          "name": "Cashmere",
          "personality": "Snooty",
          "species": "Sheep"
         },
         {
          "birthday": "March25th",
          "catchphrase": "\"feathers\"",
          "gender": "female",
          "hobbies": "Nature",
          "name": "Celia",
          "personality": "Normal",
          "species": "Eagle"
         },
         {
          "birthday": "September6th",
          "catchphrase": "\"highness\"",
          "gender": "male",
          "hobbies": "Fitness",
          "name": "Cesar",
          "personality": "Cranky",
          "species": "Gorilla"
         },
         {
          "birthday": "December15th",
          "catchphrase": "\"fromage\"",
          "gender": "male",
          "hobbies": "Fitness",
          "name": "Chadder",
          "personality": "Smug",
          "species": "Mouse"
         },
         {
          "birthday": "April17th",
          "catchphrase": "\"urgh\"",
          "gender": "female",
          "hobbies": "Fitness",
          "name": "Charlise",
          "personality": "Sisterly",
          "species": "Bear"
         },
         {
          "birthday": "March17th",
          "catchphrase": "\"tralala\"",
          "gender": "female",
          "hobbies": "Fashion",
          "name": "Cheri",
          "personality": "Peppy",
          "species": "Cub"
         },
         {
          "birthday": "May11th",
          "catchphrase": "\"whatwhat\"",
          "gender": "female",
          "hobbies": "Music",
          "name": "Cherry",
          "personality": "Sisterly",
          "species": "Dog"
         },
         {
          "birthday": "August6th",
          "catchphrase": "\"rookie\"",
          "gender": "male",
          "hobbies": "Play",
          "name": "Chester",
          "personality": "Lazy",
          "species": "Cub"
         },
         {
          "birthday": "March6th",
          "catchphrase": "\"labaa\"",
          "gender": "female",
          "hobbies": "Education",
          "name": "Chevre",
          "personality": "Normal",
          "species": "Goat"
         },
         {
          "birthday": "December19th",
          "catchphrase": "\"harrumph\"",
          "gender": "male",
          "hobbies": "Music",
          "name": "Chief",
          "personality": "Cranky",
          "species": "Wolf"
         },
         {
          "birthday": "October13th",
          "catchphrase": "\"zoink\"",
          "gender": "male",
          "hobbies": "Education",
          "name": "Chops",
          "personality": "Smug",
          "species": "Pig"
         },
         {
          "birthday": "July22nd",
          "catchphrase": "\"aiya\"",
          "gender": "male",
          "hobbies": "Fitness",
          "name": "Chow",
          "personality": "Cranky",
          "species": "Bear"
         },
         {
          "birthday": "August28th",
          "catchphrase": "\"sparkles\"",
          "gender": "female",
          "hobbies": "Fashion",
          "name": "Chrissy",
          "personality": "Peppy",
          "species": "Rabbit"
         },
         {
          "birthday": "December3rd",
          "catchphrase": "\"hopalong\"",
          "gender": "male",
          "hobbies": "Nature",
          "name": "Claude",
          "personality": "Lazy",
          "species": "Rabbit"
         },
         {
          "birthday": "November22nd",
          "catchphrase": "\"oohlala\"",
          "gender": "female",
          "hobbies": "Music",
          "name": "Claudia",
          "personality": "Snooty",
          "species": "Tiger"
         },
         {
          "birthday": "October19th",
          "catchphrase": "\"thump\"",
          "gender": "male",
          "hobbies": "Nature",
          "name": "Clay",
          "personality": "Lazy",
          "species": "Hamster"
         },
         {
          "birthday": "February9th",
          "catchphrase": "\"sugar\"",
          "gender": "female",
          "hobbies": "Education",
          "name": "Cleo",
          "personality": "Snooty",
          "species": "Horse"
         },
         {
          "birthday": "May1st",
          "catchphrase": "\"clipclawp\"",
          "gender": "male",
          "hobbies": "Play",
          "name": "Clyde",
          "personality": "Lazy",
          "species": "Horse"
         },
         {
          "birthday": "April29th",
          "catchphrase": "\"stubble\"",
          "gender": "male",
          "hobbies": "Fitness",
          "name": "Coach",
          "personality": "Jock",
          "species": "Bull"
         },
         {
          "birthday": "October7th",
          "catchphrase": "\"hotdog\"",
          "gender": "male",
          "hobbies": "Education",
          "name": "Cobb",
          "personality": "Jock",
          "species": "Pig"
         },
         {
          "birthday": "March1st",
          "catchphrase": "\"doyoing\"",
          "gender": "female",
          "hobbies": "Education",
          "name": "Coco",
          "personality": "Normal",
          "species": "Rabbit"
         },
         {
          "birthday": "August10th",
          "catchphrase": "\"coooooool\"",
          "gender": "male",
          "hobbies": "Nature",
          "name": "Cole",
          "personality": "Lazy",
          "species": "Rabbit"
         },
         {
          "birthday": "May22nd",
          "catchphrase": "\"checkit\"",
          "gender": "male",
          "hobbies": "Nature",
          "name": "Colton",
          "personality": "Smug",
          "species": "Horse"
         },
         {
          "birthday": "June18th",
          "catchphrase": "\"arfer\"",
          "gender": "female",
          "hobbies": "Fashion",
          "name": "Cookie",
          "personality": "Peppy",
          "species": "Dog"
         },
         {
          "birthday": "December17th",
          "catchphrase": "\"ouioui\"",
          "gender": "male",
          "hobbies": "Fitness",
          "name": "Cousteau",
          "personality": "Jock",
          "species": "Frog"
         },
         {
          "birthday": "September23rd",
          "catchphrase": "\"sweatband\"",
          "gender": "male",
          "hobbies": "Nature",
          "name": "Cranston",
          "personality": "Lazy",
          "species": "Ostrich"
         },
         {
          "birthday": "July18th",
          "catchphrase": "\"asif\"",
          "gender": "male",
          "hobbies": "Nature",
          "name": "Croque",
          "personality": "Cranky",
          "species": "Frog"
         },
         {
          "birthday": "January29th",
          "catchphrase": "\"brainfreeze\"",
          "gender": "male",
          "hobbies": "Play",
          "name": "Cube",
          "personality": "Lazy",
          "species": "Penguin"
         },
         {
          "birthday": "May8th",
          "catchphrase": "\"shearly\"",
          "gender": "male",
          "hobbies": "Nature",
          "name": "Curlos",
          "personality": "Smug",
          "species": "Sheep"
         },
         {
          "birthday": "July26th",
          "catchphrase": "\"nyoink\"",
          "gender": "male",
          "hobbies": "Fitness",
          "name": "Curly",
          "personality": "Jock",
          "species": "Pig"
         },
         {
          "birthday": "July1st",
          "catchphrase": "\"fuzzball\"",
          "gender": "male",
          "hobbies": "Nature",
          "name": "Curt",
          "personality": "Cranky",
          "species": "Bear"
         },
         {
          "birthday": "June9th",
          "catchphrase": "\"rockin'\"",
          "gender": "male",
          "hobbies": "Music",
          "name": "Cyd",
          "personality": "Cranky",
          "species": "Elephant"
         },
         {
          "birthday": "March9th",
          "catchphrase": "\"ah-CHOO\"",
          "gender": "male",
          "hobbies": "Education",
          "name": "Cyrano",
          "personality": "Cranky",
          "species": "Anteater"
         },
         {
          "birthday": "November16th",
          "catchphrase": "\"bow-WOW\"",
          "gender": "female",
          "hobbies": "Education",
          "name": "Daisy",
          "personality": "Normal",
          "species": "Dog"
         },
         {
          "birthday": "June27th",
          "catchphrase": "\"woowoo\"",
          "gender": "female",
          "hobbies": "Education",
          "name": "Deena",
          "personality": "Normal",
          "species": "Duck"
         },
         {
          "birthday": "May4th",
          "catchphrase": "\"whatevs\"",
          "gender": "female",
          "hobbies": "Play",
          "name": "Deirdre",
          "personality": "Sisterly",
          "species": "Deer"
         },
         {
          "birthday": "May27th",
          "catchphrase": "\"gronk\"",
          "gender": "male",
          "hobbies": "Fitness",
          "name": "Del",
          "personality": "Cranky",
          "species": "Alligator"
         },
         {
          "birthday": "May24th",
          "catchphrase": "\"monch\"",
          "gender": "male",
          "hobbies": "Nature",
          "name": "Deli",
          "personality": "Lazy",
          "species": "Monkey"
         },
         {
          "birthday": "May25th",
          "catchphrase": "\"derrrrr\"",
          "gender": "male",
          "hobbies": "Play",
          "name": "Derwin",
          "personality": "Lazy",
          "species": "Duck"
         },
         {
          "birthday": "January4th",
          "catchphrase": "\"nodoy\"",
          "gender": "female",
          "hobbies": "Education",
          "name": "Diana",
          "personality": "Snooty",
          "species": "Deer"
         },
         {
          "birthday": "October2nd",
          "catchphrase": "\"yaknow\"",
          "gender": "female",
          "hobbies": "Fitness",
          "name": "Diva",
          "personality": "Sisterly",
          "species": "Frog"
         },
         {
          "birthday": "July14th",
          "catchphrase": "\"woo-oo\"",
          "gender": "male",
          "hobbies": "Play",
          "name": "Dizzy",
          "personality": "Lazy",
          "species": "Elephant"
         },
         {
          "birthday": "February17th",
          "catchphrase": "\"ohmmm\"",
          "gender": "male",
          "hobbies": "Nature",
          "name": "Dobie",
          "personality": "Cranky",
          "species": "Wolf"
         },
         {
          "birthday": "March16th",
          "catchphrase": "\"oldbunny\"",
          "gender": "male",
          "hobbies": "Education",
          "name": "Doc",
          "personality": "Lazy",
          "species": "Rabbit"
         },
         {
          "birthday": "March18th",
          "catchphrase": "\"indeedaroo\"",
          "gender": "male",
          "hobbies": "Play",
          "name": "Dom",
          "personality": "Jock",
          "species": "Sheep"
         },
         {
          "birthday": "February18th",
          "catchphrase": "\"squeaky\"",
          "gender": "female",
          "hobbies": "Education",
          "name": "Dora",
          "personality": "Normal",
          "species": "Mouse"
         },
         {
          "birthday": "March14th",
          "catchphrase": "\"weeone\"",
          "gender": "female",
          "hobbies": "Fashion",
          "name": "Dotty",
          "personality": "Peppy",
          "species": "Rabbit"
         },
         {
          "birthday": "February12th",
          "catchphrase": "\"burrrn\"",
          "gender": "male",
          "hobbies": "Nature",
          "name": "Drago",
          "personality": "Lazy",
          "species": "Alligator"
         },
         {
          "birthday": "June25th",
          "catchphrase": "\"quacko\"",
          "gender": "male",
          "hobbies": "Play",
          "name": "Drake",
          "personality": "Lazy",
          "species": "Duck"
         },
         {
          "birthday": "October9th",
          "catchphrase": "\"dribbit\"",
          "gender": "male",
          "hobbies": "Fitness",
          "name": "Drift",
          "personality": "Jock",
          "species": "Frog"
         },
         {
          "birthday": "September16th",
          "catchphrase": "\"greenhorn\"",
          "gender": "male",
          "hobbies": "Nature",
          "name": "Ed",
          "personality": "Smug",
          "species": "Horse"
         },
         {
          "birthday": "October14th",
          "catchphrase": "\"doodle-duh\"",
          "gender": "male",
          "hobbies": "Play",
          "name": "Egbert",
          "personality": "Lazy",
          "species": "Chicken"
         },
         {
          "birthday": "March21st",
          "catchphrase": "\"puh-lease\"",
          "gender": "female",
          "hobbies": "Fashion",
          "name": "Elise",
          "personality": "Snooty",
          "species": "Monkey"
         },
         {
          "birthday": "May12th",
          "catchphrase": "\"li'lone\"",
          "gender": "female",
          "hobbies": "Nature",
          "name": "Ellie",
          "personality": "Normal",
          "species": "Elephant"
         },
         {
          "birthday": "October5th",
          "catchphrase": "\"tenderfoot\"",
          "gender": "male",
          "hobbies": "Play",
          "name": "Elmer",
          "personality": "Lazy",
          "species": "Horse"
         },
         {
          "birthday": "December8th",
          "catchphrase": "\"tooooot\"",
          "gender": "female",
          "hobbies": "Fashion",
          "name": "Eloise",
          "personality": "Snooty",
          "species": "Elephant"
         },
         {
          "birthday": "July23rd",
          "catchphrase": "\"unh-hunh\"",
          "gender": "male",
          "hobbies": "Education",
          "name": "Elvis",
          "personality": "Cranky",
          "species": "Lion"
         },
         {
          "birthday": "July27th",
          "catchphrase": "\"chowdown\"",
          "gender": "male",
          "hobbies": "Nature",
          "name": "Erik",
          "personality": "Lazy",
          "species": "Deer"
         },
         {
          "birthday": "October26th",
          "catchphrase": "\"yeahbuddy\"",
          "gender": "male",
          "hobbies": "Music",
          "name": "Eugene",
          "personality": "Smug",
          "species": "Koala"
         },
         {
          "birthday": "April3rd",
          "catchphrase": "\"lambchop\"",
          "gender": "female",
          "hobbies": "Fashion",
          "name": "Eunice",
          "personality": "Normal",
          "species": "Sheep"
         },
         {
          "birthday": "December18th",
          "catchphrase": "\"cha-chomp\"",
          "gender": "male",
          "hobbies": "Education",
          "name": "Fang",
          "personality": "Cranky",
          "species": "Wolf"
         },
         {
          "birthday": "March26th",
          "catchphrase": "\"dearie\"",
          "gender": "female",
          "hobbies": "Nature",
          "name": "Fauna",
          "personality": "Normal",
          "species": "Deer"
         },
         {
          "birthday": "March30th",
          "catchphrase": "\"mimimi\"",
          "gender": "female",
          "hobbies": "Fashion",
          "name": "Felicity",
          "personality": "Peppy",
          "species": "Cat"
         },
         {
          "birthday": "June3rd",
          "catchphrase": "\"bucko\"",
          "gender": "male",
          "hobbies": "Nature",
          "name": "Filbert",
          "personality": "Lazy",
          "species": "Squirrel"
         },
         {
          "birthday": "November21st",
          "catchphrase": "\"rerack\"",
          "gender": "male",
          "hobbies": "Music",
          "name": "Flip",
          "personality": "Jock",
          "species": "Monkey"
         },
         {
          "birthday": "September2nd",
          "catchphrase": "\"cha\"",
          "gender": "female",
          "hobbies": "Music",
          "name": "Flo",
          "personality": "Sisterly",
          "species": "Penguin"
         },
         {
          "birthday": "February9th",
          "catchphrase": "\"pinky\"",
          "gender": "female",
          "hobbies": "Play",
          "name": "Flora",
          "personality": "Peppy",
          "species": "Ostrich"
         },
         {
          "birthday": "January30th",
          "catchphrase": "\"powderpuff\"",
          "gender": "female",
          "hobbies": "Nature",
          "name": "Flurry",
          "personality": "Normal",
          "species": "Hamster"
         },
         {
          "birthday": "January22nd",
          "catchphrase": "\"karat\"",
          "gender": "female",
          "hobbies": "Fashion",
          "name": "Francine",
          "personality": "Snooty",
          "species": "Rabbit"
         },
         {
          "birthday": "July30th",
          "catchphrase": "\"crushy\"",
          "gender": "male",
          "hobbies": "Education",
          "name": "Frank",
          "personality": "Cranky",
          "species": "Eagle"
         },
         {
          "birthday": "February19th",
          "catchphrase": "\"ducky\"",
          "gender": "female",
          "hobbies": "Fashion",
          "name": "Freckles",
          "personality": "Peppy",
          "species": "Duck"
         },
         {
          "birthday": "December14th",
          "catchphrase": "\"uffda\"",
          "gender": "female",
          "hobbies": "Fashion",
          "name": "Freya",
          "personality": "Snooty",
          "species": "Wolf"
         },
         {
          "birthday": "October16th",
          "catchphrase": "\"brrmph\"",
          "gender": "female",
          "hobbies": "Fashion",
          "name": "Friga",
          "personality": "Snooty",
          "species": "Penguin"
         },
         {
          "birthday": "July16th",
          "catchphrase": "\"ohewe\"",
          "gender": "female",
          "hobbies": "Music",
          "name": "Frita",
          "personality": "Sisterly",
          "species": "Sheep"
         },
         {
          "birthday": "February8th",
          "catchphrase": "\"fribbit\"",
          "gender": "male",
          "hobbies": "Fitness",
          "name": "Frobert",
          "personality": "Jock",
          "species": "Frog"
         },
         {
          "birthday": "September19th",
          "catchphrase": "\"precious\"",
          "gender": "female",
          "hobbies": "Music",
          "name": "Fuchsia",
          "personality": "Sisterly",
          "species": "Deer"
         },
         {
          "birthday": "December16th",
          "catchphrase": "\"honeybun\"",
          "gender": "female",
          "hobbies": "Fashion",
          "name": "Gabi",
          "personality": "Peppy",
          "species": "Rabbit"
         },
         {
          "birthday": "March5th",
          "catchphrase": "\"snortie\"",
          "gender": "female",
          "hobbies": "Education",
          "name": "Gala",
          "personality": "Normal",
          "species": "Pig"
         },
         {
          "birthday": "October28th",
          "catchphrase": "\"monchou\"",
          "gender": "male",
          "hobbies": "Education",
          "name": "Gaston",
          "personality": "Cranky",
          "species": "Rabbit"
         },
         {
          "birthday": "May17th",
          "catchphrase": "\"snacky\"",
          "gender": "female",
          "hobbies": "Nature",
          "name": "Gayle",
          "personality": "Normal",
          "species": "Alligator"
         },
         {
          "birthday": "January21st",
          "catchphrase": "\"mochi\"",
          "gender": "male",
          "hobbies": "Fitness",
          "name": "Genji",
          "personality": "Jock",
          "species": "Rabbit"
         },
         {
          "birthday": "August11th",
          "catchphrase": "\"ribbette\"",
          "gender": "female",
          "hobbies": "Fashion",
          "name": "Gigi",
          "personality": "Snooty",
          "species": "Frog"
         },
         {
          "birthday": "January15th",
          "catchphrase": "\"stretch\"",
          "gender": "female",
          "hobbies": "Education",
          "name": "Gladys",
          "personality": "Normal",
          "species": "Ostrich"
         },
         {
          "birthday": "August12th",
          "catchphrase": "\"quacker\"",
          "gender": "female",
          "hobbies": "Fashion",
          "name": "Gloria",
          "personality": "Snooty",
          "species": "Duck"
         },
         {
          "birthday": "December27th",
          "catchphrase": "\"woof\"",
          "gender": "female",
          "hobbies": "Nature",
          "name": "Goldie",
          "personality": "Normal",
          "species": "Dog"
         },
         {
          "birthday": "October13th",
          "catchphrase": "\"mate\"",
          "gender": "male",
          "hobbies": "Nature",
          "name": "Gonzo",
          "personality": "Cranky",
          "species": "Koala"
         },
         {
          "birthday": "October4th",
          "catchphrase": "\"buh-kay\"",
          "gender": "male",
          "hobbies": "Fitness",
          "name": "Goose",
          "personality": "Jock",
          "species": "Chicken"
         },
         {
          "birthday": "June20th",
          "catchphrase": "\"indeed\"",
          "gender": "male",
          "hobbies": "Education",
          "name": "Graham",
          "personality": "Smug",
          "species": "Hamster"
         },
         {
          "birthday": "September5th",
          "catchphrase": "\"yelp\"",
          "gender": "female",
          "hobbies": "Education",
          "name": "Greta",
          "personality": "Snooty",
          "species": "Mouse"
         },
         {
          "birthday": "July31st",
          "catchphrase": "\"grrr\"",
          "gender": "male",
          "hobbies": "Education",
          "name": "Grizzly",
          "personality": "Cranky",
          "species": "Bear"
         },
         {
          "birthday": "October23rd",
          "catchphrase": "\"grumble\"",
          "gender": "male",
          "hobbies": "Music",
          "name": "Groucho",
          "personality": "Cranky",
          "species": "Bear"
         },
         {
          "birthday": "August29th",
          "catchphrase": "\"bleheheh\"",
          "gender": "male",
          "hobbies": "Music",
          "name": "Gruff",
          "personality": "Cranky",
          "species": "Goat"
         },
         {
          "birthday": "January23rd",
          "catchphrase": "\"h-h-h-hon\"",
          "gender": "female",
          "hobbies": "Fashion",
          "name": "Gwen",
          "personality": "Snooty",
          "species": "Penguin"
         },
         {
          "birthday": "May30th",
          "catchphrase": "\"hammie\"",
          "gender": "male",
          "hobbies": "Play",
          "name": "Hamlet",
          "personality": "Jock",
          "species": "Hamster"
         },
         {
          "birthday": "February25th",
          "catchphrase": "\"snort\"",
          "gender": "male",
          "hobbies": "Nature",
          "name": "Hamphrey",
          "personality": "Cranky",
          "species": "Hamster"
         },
         {
          "birthday": "December5th",
          "catchphrase": "\"groovy\"",
          "gender": "male",
          "hobbies": "Fitness",
          "name": "Hans",
          "personality": "Smug",
          "species": "Gorilla"
         },
         {
          "birthday": "January7th",
          "catchphrase": "\"beachbum\"",
          "gender": "male",
          "hobbies": "Education",
          "name": "Harry",
          "personality": "Cranky",
          "species": "Hippo"
         },
         {
          "birthday": "August30th",
          "catchphrase": "\"uni-wow\"",
          "gender": "female",
          "hobbies": "Play",
          "name": "Hazel",
          "personality": "Sisterly",
          "species": "Squirrel"
         },
         {
          "birthday": "September21st",
          "catchphrase": "\"snoozit\"",
          "gender": "male",
          "hobbies": "Music",
          "name": "Henry",
          "personality": "Smug",
          "species": "Frog"
         },
         {
          "birthday": "October15th",
          "catchphrase": "\"natch\"",
          "gender": "male",
          "hobbies": "Education",
          "name": "Hippeux",
          "personality": "Smug",
          "species": "Hippo"
         },
         {
          "birthday": "March11th",
          "catchphrase": "\"thumper\"",
          "gender": "male",
          "hobbies": "Nature",
          "name": "Hopkins",
          "personality": "Lazy",
          "species": "Rabbit"
         },
         {
          "birthday": "April6th",
          "catchphrase": "\"slushie\"",
          "gender": "male",
          "hobbies": "Music",
          "name": "Hopper",
          "personality": "Cranky",
          "species": "Penguin"
         },
         {
          "birthday": "March20th",
          "catchphrase": "\"schnozzle\"",
          "gender": "male",
          "hobbies": "Nature",
          "name": "Hornsby",
          "personality": "Lazy",
          "species": "Rhino"
         },
         {
          "birthday": "July9th",
          "catchphrase": "\"hopper\"",
          "gender": "male",
          "hobbies": "Fitness",
          "name": "Huck",
          "personality": "Smug",
          "species": "Frog"
         },
         {
          "birthday": "December30th",
          "catchphrase": "\"snortle\"",
          "gender": "male",
          "hobbies": "Play",
          "name": "Hugh",
          "personality": "Lazy",
          "species": "Pig"
         },
         {
          "birthday": "November2nd",
          "catchphrase": "\"waddler\"",
          "gender": "male",
          "hobbies": "Fitness",
          "name": "Iggly",
          "personality": "Jock",
          "species": "Penguin"
         },
         {
          "birthday": "May16th",
          "catchphrase": "\"roadie\"",
          "gender": "male",
          "hobbies": "Nature",
          "name": "Ike",
          "personality": "Cranky",
          "species": "Bear"
         },
         {
          "birthday": "August24th",
          "catchphrase": "\"yafeel\"",
          "gender": "male",
          "hobbies": "Nature",
          "name": "JacobNAJakeyPAL",
          "personality": "Lazy",
          "species": "Bird"
         },
         {
          "birthday": "June22nd",
          "catchphrase": "\"zutalors\"",
          "gender": "male",
          "hobbies": "Music",
          "name": "Jacques",
          "personality": "Smug",
          "species": "Bird"
         },
         {
          "birthday": "October27th",
          "catchphrase": "\"croak-kay\"",
          "gender": "female",
          "hobbies": "Fashion",
          "name": "Jambette",
          "personality": "Normal",
          "species": "Frog"
         },
         {
          "birthday": "July17th",
          "catchphrase": "\"heeeeeyy\"",
          "gender": "male",
          "hobbies": "Fitness",
          "name": "Jay",
          "personality": "Jock",
          "species": "Bird"
         },
         {
          "birthday": "July8th",
          "catchphrase": "\"nee-deep\"",
          "gender": "male",
          "hobbies": "Play",
          "name": "Jeremiah",
          "personality": "Lazy",
          "species": "Frog"
         },
         {
          "birthday": "February2nd",
          "catchphrase": "\"bzzert\"",
          "gender": "male",
          "hobbies": "Fitness",
          "name": "Jitters",
          "personality": "Jock",
          "species": "Bird"
         },
         {
          "birthday": "January3rd",
          "catchphrase": "\"bleeeeeck\"",
          "gender": "male",
          "hobbies": "Play",
          "name": "Joey",
          "personality": "Lazy",
          "species": "Duck"
         },
         {
          "birthday": "March10th",
          "catchphrase": "\"myohmy\"",
          "gender": "female",
          "hobbies": "Music",
          "name": "Judy",
          "personality": "Snooty",
          "species": "Cub"
         },
         {
          "birthday": "July31st",
          "catchphrase": "\"dahling\"",
          "gender": "female",
          "hobbies": "Education",
          "name": "Julia",
          "personality": "Snooty",
          "species": "Ostrich"
         },
         {
          "birthday": "March15th",
          "catchphrase": "\"glitter\"",
          "gender": "male",
          "hobbies": "Music",
          "name": "Julian",
          "personality": "Smug",
          "species": "Horse"
         },
         {
          "birthday": "May21st",
          "catchphrase": "\"rainbow\"",
          "gender": "female",
          "hobbies": "Nature",
          "name": "June",
          "personality": "Normal",
          "species": "Cub"
         },
         {
          "birthday": "November29th",
          "catchphrase": "\"meooo-OH\"",
          "gender": "male",
          "hobbies": "Music",
          "name": "Kabuki",
          "personality": "Cranky",
          "species": "Cat"
         },
         {
          "birthday": "April27th",
          "catchphrase": "\"purrty\"",
          "gender": "female",
          "hobbies": "Music",
          "name": "Katt",
          "personality": "Sisterly",
          "species": "Cat"
         },
         {
          "birthday": "June1st",
          "catchphrase": "\"wingo\"",
          "gender": "male",
          "hobbies": "Music",
          "name": "Keaton",
          "personality": "Smug",
          "species": "Eagle"
         },
         {
          "birthday": "December23rd",
          "catchphrase": "\"nodoubt\"",
          "gender": "male",
          "hobbies": "Education",
          "name": "Ken",
          "personality": "Smug",
          "species": "Chicken"
         },
         {
          "birthday": "July27th",
          "catchphrase": "\"bitty\"",
          "gender": "female",
          "hobbies": "Play",
          "name": "Ketchup",
          "personality": "Peppy",
          "species": "Duck"
         },
         {
          "birthday": "April26th",
          "catchphrase": "\"weeweewee\"",
          "gender": "male",
          "hobbies": "Play",
          "name": "Kevin",
          "personality": "Jock",
          "species": "Pig"
         },
         {
          "birthday": "August1st",
          "catchphrase": "\"psst\"",
          "gender": "male",
          "hobbies": "Fitness",
          "name": "KidCat",
          "personality": "Jock",
          "species": "Cat"
         },
         {
          "birthday": "June28th",
          "catchphrase": "\"wut\"",
          "gender": "male",
          "hobbies": "Education",
          "name": "Kidd",
          "personality": "Smug",
          "species": "Goat"
         },
         {
          "birthday": "October8th",
          "catchphrase": "\"kittycat\"",
          "gender": "female",
          "hobbies": "Education",
          "name": "Kiki",
          "personality": "Normal",
          "species": "Cat"
         },
         {
          "birthday": "October11th",
          "catchphrase": "\"child\"",
          "gender": "female",
          "hobbies": "Education",
          "name": "Kitt",
          "personality": "Normal",
          "species": "Kangaroo"
         },
         {
          "birthday": "February15th",
          "catchphrase": "\"mrowrr\"",
          "gender": "female",
          "hobbies": "Fashion",
          "name": "Kitty",
          "personality": "Snooty",
          "species": "Cat"
         },
         {
          "birthday": "March31st",
          "catchphrase": "\"strudel\"",
          "gender": "male",
          "hobbies": "Education",
          "name": "Klaus",
          "personality": "Smug",
          "species": "Bear"
         },
         {
          "birthday": "November23rd",
          "catchphrase": "\"cluckling\"",
          "gender": "male",
          "hobbies": "Education",
          "name": "Knox",
          "personality": "Cranky",
          "species": "Chicken"
         },
         {
          "birthday": "September28th",
          "catchphrase": "\"grahgrah\"",
          "gender": "male",
          "hobbies": "Fitness",
          "name": "Kody",
          "personality": "Jock",
          "species": "Cub"
         },
         {
          "birthday": "December6th",
          "catchphrase": "\"alpha\"",
          "gender": "male",
          "hobbies": "Music",
          "name": "Kyle",
          "personality": "Smug",
          "species": "Wolf"
         },
         {
          "birthday": "May15th",
          "catchphrase": "\"flexin'\"",
          "gender": "male",
          "hobbies": "Fitness",
          "name": "Leonardo",
          "personality": "Jock",
          "species": "Tiger"
         },
         {
          "birthday": "August14th",
          "catchphrase": "\"lioncub\"",
          "gender": "male",
          "hobbies": "Education",
          "name": "Leopold",
          "personality": "Smug",
          "species": "Lion"
         },
         {
          "birthday": "February4th",
          "catchphrase": "\"toady\"",
          "gender": "female",
          "hobbies": "Education",
          "name": "Lily",
          "personality": "Normal",
          "species": "Frog"
         },
         {
          "birthday": "October17th",
          "catchphrase": "\"squinky\"",
          "gender": "male",
          "hobbies": "Education",
          "name": "Limberg",
          "personality": "Cranky",
          "species": "Mouse"
         },
         {
          "birthday": "July29th",
          "catchphrase": "\"precisely\"",
          "gender": "male",
          "hobbies": "Music",
          "name": "Lionel",
          "personality": "Smug",
          "species": "Lion"
         },
         {
          "birthday": "November5th",
          "catchphrase": "\"ah-rooooo\"",
          "gender": "male",
          "hobbies": "Education",
          "name": "Lobo",
          "personality": "Cranky",
          "species": "Wolf"
         },
         {
          "birthday": "March27th",
          "catchphrase": "\"bonbon\"",
          "gender": "female",
          "hobbies": "Music",
          "name": "Lolly",
          "personality": "Normal",
          "species": "Cat"
         },
         {
          "birthday": "August20th",
          "catchphrase": "\"badoom\"",
          "gender": "male",
          "hobbies": "Education",
          "name": "Lopez",
          "personality": "Smug",
          "species": "Deer"
         },
         {
          "birthday": "March26th",
          "catchphrase": "\"hoohooha\"",
          "gender": "male",
          "hobbies": "Fitness",
          "name": "Louie",
          "personality": "Jock",
          "species": "Gorilla"
         },
         {
          "birthday": "December12th",
          "catchphrase": "\"cacaw\"",
          "gender": "male",
          "hobbies": "Fitness",
          "name": "Lucha",
          "personality": "Smug",
          "species": "Bird"
         },
         {
          "birthday": "November4th",
          "catchphrase": "\"rrr-owch\"",
          "gender": "male",
          "hobbies": "Play",
          "name": "Lucky",
          "personality": "Lazy",
          "species": "Dog"
         },
         {
          "birthday": "June2nd",
          "catchphrase": "\"snoooink\"",
          "gender": "female",
          "hobbies": "Music",
          "name": "Lucy",
          "personality": "Normal",
          "species": "Pig"
         },
         {
          "birthday": "October12th",
          "catchphrase": "\"chips\"",
          "gender": "male",
          "hobbies": "Play",
          "name": "Lyman",
          "personality": "Jock",
          "species": "Koala"
         },
         {
          "birthday": "November11th",
          "catchphrase": "\"woowoof\"",
          "gender": "male",
          "hobbies": "Fitness",
          "name": "Mac",
          "personality": "Jock",
          "species": "Dog"
         },
         {
          "birthday": "January11th",
          "catchphrase": "\"yippee\"",
          "gender": "female",
          "hobbies": "Play",
          "name": "Maddie",
          "personality": "Peppy",
          "species": "Dog"
         },
         {
          "birthday": "April8th",
          "catchphrase": "\"duckling\"",
          "gender": "female",
          "hobbies": "Fashion",
          "name": "Maelle",
          "personality": "Snooty",
          "species": "Duck"
         },
         {
          "birthday": "September3rd",
          "catchphrase": "\"schep\"",
          "gender": "female",
          "hobbies": "Nature",
          "name": "Maggie",
          "personality": "Normal",
          "species": "Pig"
         },
         {
          "birthday": "November17th",
          "catchphrase": "\"quackpth\"",
          "gender": "female",
          "hobbies": "Fashion",
          "name": "Mallary",
          "personality": "Snooty",
          "species": "Duck"
         },
         {
          "birthday": "June15th",
          "catchphrase": "\"honey\"",
          "gender": "female",
          "hobbies": "Education",
          "name": "Maple",
          "personality": "Normal",
          "species": "Cub"
         },
         {
          "birthday": "December31st",
          "catchphrase": "\"non\"",
          "gender": "male",
          "hobbies": "Play",
          "name": "Marcel",
          "personality": "Lazy",
          "species": "Dog"
         },
         {
          "birthday": "May31st",
          "catchphrase": "\"pouches\"",
          "gender": "female",
          "hobbies": "Nature",
          "name": "Marcie",
          "personality": "Normal",
          "species": "Kangaroo"
         },
         {
          "birthday": "January28th",
          "catchphrase": "\"tootie\"",
          "gender": "female",
          "hobbies": "Education",
          "name": "Margie",
          "personality": "Normal",
          "species": "Elephant"
         },
         {
          "birthday": "June26th",
          "catchphrase": "\"blurp\"",
          "gender": "female",
          "hobbies": "Music",
          "name": "Marina",
          "personality": "Normal",
          "species": "Octopus"
         },
         {
          "birthday": "September29th",
          "catchphrase": "\"sulky\"",
          "gender": "male",
          "hobbies": "Music",
          "name": "Marshal",
          "personality": "Smug",
          "species": "Squirrel"
         },
         {
          "birthday": "November12th",
          "catchphrase": "\"weebaby\"",
          "gender": "female",
          "hobbies": "Fitness",
          "name": "Mathilda",
          "personality": "Snooty",
          "species": "Kangaroo"
         },
         {
          "birthday": "March13th",
          "catchphrase": "\"sundae\"",
          "gender": "female",
          "hobbies": "Nature",
          "name": "Megan",
          "personality": "Normal",
          "species": "Bear"
         },
         {
          "birthday": "April12th",
          "catchphrase": "\"toasty\"",
          "gender": "female",
          "hobbies": "Education",
          "name": "Melba",
          "personality": "Normal",
          "species": "Koala"
         },
         {
          "birthday": "March19th",
          "catchphrase": "\"shortcake\"",
          "gender": "female",
          "hobbies": "Nature",
          "name": "Merengue",
          "personality": "Normal",
          "species": "Rhino"
         },
         {
          "birthday": "June29th",
          "catchphrase": "\"mweee\"",
          "gender": "female",
          "hobbies": "Fashion",
          "name": "Merry",
          "personality": "Peppy",
          "species": "Cat"
         },
         {
          "birthday": "March12th",
          "catchphrase": "\"tweedledee\"",
          "gender": "female",
          "hobbies": "Education",
          "name": "Midge",
          "personality": "Normal",
          "species": "Bird"
         },
         {
          "birthday": "May2nd",
          "catchphrase": "\"ahhhhhh\"",
          "gender": "female",
          "hobbies": "Fashion",
          "name": "Mint",
          "personality": "Snooty",
          "species": "Squirrel"
         },
         {
          "birthday": "July6th",
          "catchphrase": "\"cottontail\"",
          "gender": "female",
          "hobbies": "Fitness",
          "name": "Mira",
          "personality": "Sisterly",
          "species": "Rabbit"
         },
         {
          "birthday": "April23rd",
          "catchphrase": "\"quackulous\"",
          "gender": "female",
          "hobbies": "Fashion",
          "name": "Miranda",
          "personality": "Snooty",
          "species": "Duck"
         },
         {
          "birthday": "September25th",
          "catchphrase": "\"mew\"",
          "gender": "female",
          "hobbies": "Education",
          "name": "Mitzi",
          "personality": "Normal",
          "species": "Cat"
         },
         {
          "birthday": "January12th",
          "catchphrase": "\"myawn\"",
          "gender": "male",
          "hobbies": "Play",
          "name": "Moe",
          "personality": "Lazy",
          "species": "Cat"
         },
         {
          "birthday": "March7th",
          "catchphrase": "\"quackidee\"",
          "gender": "female",
          "hobbies": "Nature",
          "name": "Molly",
          "personality": "Normal",
          "species": "Duck"
         },
         {
          "birthday": "September30th",
          "catchphrase": "\"pffffft\"",
          "gender": "female",
          "hobbies": "Fashion",
          "name": "Monique",
          "personality": "Snooty",
          "species": "Cat"
         },
         {
          "birthday": "December7th",
          "catchphrase": "\"g'tang\"",
          "gender": "male",
          "hobbies": "Education",
          "name": "Monty",
          "personality": "Cranky",
          "species": "Monkey"
         },
         {
          "birthday": "September13th",
          "catchphrase": "\"shorty\"",
          "gender": "male",
          "hobbies": "Fitness",
          "name": "Moose",
          "personality": "Jock",
          "species": "Mouse"
         },
         {
          "birthday": "July10th",
          "catchphrase": "\"cagey\"",
          "gender": "male",
          "hobbies": "Fitness",
          "name": "Mott",
          "personality": "Jock",
          "species": "Lion"
         },
         {
          "birthday": "February14th",
          "catchphrase": "\"nightshade\"",
          "gender": "female",
          "hobbies": "Music",
          "name": "Muffy",
          "personality": "Sisterly",
          "species": "Sheep"
         },
         {
          "birthday": "December29th",
          "catchphrase": "\"malarkey\"",
          "gender": "male",
          "hobbies": "Education",
          "name": "Murphy",
          "personality": "Cranky",
          "species": "Cub"
         },
         {
          "birthday": "August24th",
          "catchphrase": "\"kid\"",
          "gender": "female",
          "hobbies": "Nature",
          "name": "Nan",
          "personality": "Normal",
          "species": "Goat"
         },
         {
          "birthday": "August23rd",
          "catchphrase": "\"popo\"",
          "gender": "female",
          "hobbies": "Education",
          "name": "Nana",
          "personality": "Normal",
          "species": "Monkey"
         },
         {
          "birthday": "February28th",
          "catchphrase": "\"moolah\"",
          "gender": "female",
          "hobbies": "Fashion",
          "name": "Naomi",
          "personality": "Snooty",
          "species": "Cow"
         },
         {
          "birthday": "August16th",
          "catchphrase": "\"yawwwn\"",
          "gender": "male",
          "hobbies": "Play",
          "name": "Nate",
          "personality": "Lazy",
          "species": "Bear"
         },
         {
          "birthday": "July19th",
          "catchphrase": "\"niblet\"",
          "gender": "female",
          "hobbies": "Fashion",
          "name": "Nibbles",
          "personality": "Peppy",
          "species": "Squirrel"
         },
         {
          "birthday": "September20th",
          "catchphrase": "\"hoofhoo\"",
          "gender": "female",
          "hobbies": "Nature",
          "name": "Norma",
          "personality": "Normal",
          "species": "Cow"
         },
         {
          "birthday": "September20th",
          "catchphrase": "\"sucker\"",
          "gender": "male",
          "hobbies": "Play",
          "name": "Octavian",
          "personality": "Cranky",
          "species": "Octopus"
         },
         {
          "birthday": "July24th",
          "catchphrase": "\"amigo\"",
          "gender": "male",
          "hobbies": "Nature",
          "name": "O'Hare",
          "personality": "Smug",
          "species": "Rabbit"
         },
         {
          "birthday": "May19th",
          "catchphrase": "\"whiffa\"",
          "gender": "male",
          "hobbies": "Education",
          "name": "Olaf",
          "personality": "Smug",
          "species": "Anteater"
         },
         {
          "birthday": "July12th",
          "catchphrase": "\"sweetpea\"",
          "gender": "female",
          "hobbies": "Nature",
          "name": "Olive",
          "personality": "Normal",
          "species": "Cub"
         },
         {
          "birthday": "February3rd",
          "catchphrase": "\"purrr\"",
          "gender": "female",
          "hobbies": "Music",
          "name": "Olivia",
          "personality": "Snooty",
          "species": "Cat"
         },
         {
          "birthday": "January20th",
          "catchphrase": "\"snoot\"",
          "gender": "female",
          "hobbies": "Fashion",
          "name": "Opal",
          "personality": "Snooty",
          "species": "Elephant"
         },
         {
          "birthday": "May7th",
          "catchphrase": "\"ol'bear\"",
          "gender": "male",
          "hobbies": "Play",
          "name": "Ozzie",
          "personality": "Lazy",
          "species": "Koala"
         },
         {
          "birthday": "November14th",
          "catchphrase": "\"sooey\"",
          "gender": "female",
          "hobbies": "Music",
          "name": "Pancetti",
          "personality": "Snooty",
          "species": "Pig"
         },
         {
          "birthday": "November9th",
          "catchphrase": "\"snooooof\"",
          "gender": "female",
          "hobbies": "Fashion",
          "name": "Pango",
          "personality": "Peppy",
          "species": "Anteater"
         },
         {
          "birthday": "May5th",
          "catchphrase": "\"pal\"",
          "gender": "male",
          "hobbies": "Nature",
          "name": "Paolo",
          "personality": "Lazy",
          "species": "Elephant"
         },
         {
          "birthday": "January10th",
          "catchphrase": "\"haaay\"",
          "gender": "male",
          "hobbies": "Nature",
          "name": "Papi",
          "personality": "Lazy",
          "species": "Horse"
         },
         {
          "birthday": "December26th",
          "catchphrase": "\"kidders\"",
          "gender": "female",
          "hobbies": "Music",
          "name": "Pashmina",
          "personality": "Sisterly",
          "species": "Goat"
         },
         {
          "birthday": "February23rd",
          "catchphrase": "\"quackle\"",
          "gender": "female",
          "hobbies": "Fashion",
          "name": "Pate",
          "personality": "Peppy",
          "species": "Duck"
         },
         {
          "birthday": "May10th",
          "catchphrase": "\"how-now\"",
          "gender": "female",
          "hobbies": "Fashion",
          "name": "Patty",
          "personality": "Peppy",
          "species": "Cow"
         },
         {
          "birthday": "March22nd",
          "catchphrase": "\"yodelay\"",
          "gender": "female",
          "hobbies": "Fitness",
          "name": "Paula",
          "personality": "Sisterly",
          "species": "Bear"
         },
         {
          "birthday": "November28th",
          "catchphrase": "\"neighbor\"",
          "gender": "female",
          "hobbies": "Education",
          "name": "Peaches",
          "personality": "Normal",
          "species": "Horse"
         },
         {
          "birthday": "June8th",
          "catchphrase": "\"slacker\"",
          "gender": "female",
          "hobbies": "Fashion",
          "name": "Peanut",
          "personality": "Peppy",
          "species": "Squirrel"
         },
         {
          "birthday": "September10th",
          "catchphrase": "\"chipmunk\"",
          "gender": "female",
          "hobbies": "Fashion",
          "name": "Pecan",
          "personality": "Snooty",
          "species": "Squirrel"
         },
         {
          "birthday": "July25th",
          "catchphrase": "\"crunch\"",
          "gender": "male",
          "hobbies": "Play",
          "name": "Peck",
          "personality": "Jock",
          "species": "Bird"
         },
         {
          "birthday": "September11th",
          "catchphrase": "\"li'lbittybaby\"",
          "gender": "male",
          "hobbies": "Fitness",
          "name": "Peewee",
          "personality": "Cranky",
          "species": "Gorilla"
         },
         {
          "birthday": "May23rd",
          "catchphrase": "\"shweetie\"",
          "gender": "female",
          "hobbies": "Fashion",
          "name": "Peggy",
          "personality": "Peppy",
          "species": "Pig"
         },
         {
          "birthday": "May18th",
          "catchphrase": "\"bud\"",
          "gender": "female",
          "hobbies": "Nature",
          "name": "Pekoe",
          "personality": "Normal",
          "species": "Cub"
         },
         {
          "birthday": "February5th",
          "catchphrase": "\"ohbow\"",
          "gender": "female",
          "hobbies": "Fashion",
          "name": "Penelope",
          "personality": "Peppy",
          "species": "Mouse"
         },
         {
          "birthday": "November27th",
          "catchphrase": "\"hurk\"",
          "gender": "male",
          "hobbies": "Music",
          "name": "Phil",
          "personality": "Smug",
          "species": "Ostrich"
         },
         {
          "birthday": "April22nd",
          "catchphrase": "\"sparky\"",
          "gender": "female",
          "hobbies": "Fitness",
          "name": "Phoebe",
          "personality": "Sisterly",
          "species": "Ostrich"
         },
         {
          "birthday": "January8th",
          "catchphrase": "\"hawkeye\"",
          "gender": "male",
          "hobbies": "Fitness",
          "name": "Pierce",
          "personality": "Jock",
          "species": "Eagle"
         },
         {
          "birthday": "April19th",
          "catchphrase": "\"honkhonk\"",
          "gender": "male",
          "hobbies": "Music",
          "name": "Pietro",
          "personality": "Smug",
          "species": "Sheep"
         },
         {
          "birthday": "September9th",
          "catchphrase": "\"wah\"",
          "gender": "female",
          "hobbies": "Fashion",
          "name": "Pinky",
          "personality": "Peppy",
          "species": "Bear"
         },
         {
          "birthday": "April18th",
          "catchphrase": "\"chickadee\"",
          "gender": "female",
          "hobbies": "Play",
          "name": "Piper",
          "personality": "Peppy",
          "species": "Bird"
         },
         {
          "birthday": "June14th",
          "catchphrase": "\"li'lhare\"",
          "gender": "female",
          "hobbies": "Fashion",
          "name": "Pippy",
          "personality": "Peppy",
          "species": "Rabbit"
         },
         {
          "birthday": "October12th",
          "catchphrase": "\"chicky-poo\"",
          "gender": "female",
          "hobbies": "Play",
          "name": "Plucky",
          "personality": "Sisterly",
          "species": "Chicken"
         },
         {
          "birthday": "February11th",
          "catchphrase": "\"rahrah\"",
          "gender": "female",
          "hobbies": "Music",
          "name": "Pompom",
          "personality": "Peppy",
          "species": "Duck"
         },
         {
          "birthday": "January2nd",
          "catchphrase": "\"li'lbear\"",
          "gender": "male",
          "hobbies": "Fitness",
          "name": "Poncho",
          "personality": "Jock",
          "species": "Cub"
         },
         {
          "birthday": "August5th",
          "catchphrase": "\"nutty\"",
          "gender": "female",
          "hobbies": "Education",
          "name": "Poppy",
          "personality": "Normal",
          "species": "Squirrel"
         },
         {
          "birthday": "October25th",
          "catchphrase": "\"ruffian\"",
          "gender": "female",
          "hobbies": "Fashion",
          "name": "Portia",
          "personality": "Snooty",
          "species": "Dog"
         },
         {
          "birthday": "July21st",
          "catchphrase": "\"burrup\"",
          "gender": "male",
          "hobbies": "Play",
          "name": "Prince",
          "personality": "Lazy",
          "species": "Frog"
         },
         {
          "birthday": "February21st",
          "catchphrase": "\"brrrrrrrrr\"",
          "gender": "male",
          "hobbies": "Fitness",
          "name": "Puck",
          "personality": "Lazy",
          "species": "Penguin"
         },
         {
          "birthday": "January13th",
          "catchphrase": "\"splish\"",
          "gender": "female",
          "hobbies": "Fashion",
          "name": "Puddles",
          "personality": "Peppy",
          "species": "Frog"
         },
         {
          "birthday": "June11th",
          "catchphrase": "\"golly\"",
          "gender": "male",
          "hobbies": "Play",
          "name": "Pudge",
          "personality": "Lazy",
          "species": "Cub"
         },
         {
          "birthday": "April11th",
          "catchphrase": "\"mrmpht\"",
          "gender": "male",
          "hobbies": "Play",
          "name": "Punchy",
          "personality": "Lazy",
          "species": "Cat"
         },
         {
          "birthday": "May29th",
          "catchphrase": "\"kitten\"",
          "gender": "female",
          "hobbies": "Fashion",
          "name": "Purrl",
          "personality": "Snooty",
          "species": "Cat"
         },
         {
          "birthday": "November13th",
          "catchphrase": "\"chicken\"",
          "gender": "female",
          "hobbies": "Fashion",
          "name": "Queenie",
          "personality": "Snooty",
          "species": "Ostrich"
         },
         {
          "birthday": "December22nd",
          "catchphrase": "\"ridukulous\"",
          "gender": "male",
          "hobbies": "Music",
          "name": "Quillson",
          "personality": "Smug",
          "species": "Duck"
         },
         {
          "birthday": "June6th",
          "catchphrase": "\"aaach—\"",
          "gender": "male",
          "hobbies": "Nature",
          "name": "Raddle",
          "personality": "Lazy",
          "species": "Frog"
         },
         {
          "birthday": "April7th",
          "catchphrase": "\"swine\"",
          "gender": "male",
          "hobbies": "Music",
          "name": "Rasher",
          "personality": "Cranky",
          "species": "Pig"
         },
         {
          "birthday": "October1st",
          "catchphrase": "\"crisp\"",
          "gender": "male",
          "hobbies": "Nature",
          "name": "Raymond",
          "personality": "Smug",
          "species": "Cat"
         },
         {
          "birthday": "May28th",
          "catchphrase": "\"yoyoyo\"",
          "gender": "female",
          "hobbies": "Music",
          "name": "Renée",
          "personality": "Sisterly",
          "species": "Rhino"
         },
         {
          "birthday": "June4th",
          "catchphrase": "\"ayupyup\"",
          "gender": "female",
          "hobbies": "Play",
          "name": "Reneigh",
          "personality": "Sisterly",
          "species": "Horse"
         },
         {
          "birthday": "July24th",
          "catchphrase": "\"coolcat\"",
          "gender": "male",
          "hobbies": "Nature",
          "name": "Rex",
          "personality": "Lazy",
          "species": "Lion"
         },
         {
          "birthday": "January24th",
          "catchphrase": "\"bigfoot\"",
          "gender": "female",
          "hobbies": "Music",
          "name": "Rhonda",
          "personality": "Normal",
          "species": "Rhino"
         },
         {
          "birthday": "February13th",
          "catchphrase": "\"zzrrbbitt\"",
          "gender": "male",
          "hobbies": "Fitness",
          "name": "Ribbot",
          "personality": "Jock",
          "species": "Frog"
         },
         {
          "birthday": "September14th",
          "catchphrase": "\"nutcase\"",
          "gender": "male",
          "hobbies": "Education",
          "name": "Ricky",
          "personality": "Cranky",
          "species": "Squirrel"
         },
         {
          "birthday": "January17th",
          "catchphrase": "\"squee\"",
          "gender": "male",
          "hobbies": "Education",
          "name": "Rizzo",
          "personality": "Cranky",
          "species": "Mouse"
         },
         {
          "birthday": "January5th",
          "catchphrase": "\"b-b-buddy\"",
          "gender": "male",
          "hobbies": "Fitness",
          "name": "Roald",
          "personality": "Jock",
          "species": "Penguin"
         },
         {
          "birthday": "December4th",
          "catchphrase": "\"la-di-da\"",
          "gender": "female",
          "hobbies": "Fashion",
          "name": "Robin",
          "personality": "Snooty",
          "species": "Bird"
         },
         {
          "birthday": "August18th",
          "catchphrase": "\"hippie\"",
          "gender": "male",
          "hobbies": "Education",
          "name": "Rocco",
          "personality": "Cranky",
          "species": "Hippo"
         },
         {
          "birthday": "April14th",
          "catchphrase": "\"vroom\"",
          "gender": "female",
          "hobbies": "Fitness",
          "name": "Rocket",
          "personality": "Sisterly",
          "species": "Gorilla"
         },
         {
          "birthday": "August14th",
          "catchphrase": "\"ace\"",
          "gender": "male",
          "hobbies": "Fitness",
          "name": "Rod",
          "personality": "Jock",
          "species": "Mouse"
         },
         {
          "birthday": "October29th",
          "catchphrase": "\"chaps\"",
          "gender": "male",
          "hobbies": "Fitness",
          "name": "Rodeo",
          "personality": "Lazy",
          "species": "Bull"
         },
         {
          "birthday": "November10th",
          "catchphrase": "\"leham\"",
          "gender": "male",
          "hobbies": "Music",
          "name": "Rodney",
          "personality": "Smug",
          "species": "Hamster"
         },
         {
          "birthday": "August22nd",
          "catchphrase": "\"grrrolf\"",
          "gender": "male",
          "hobbies": "Fitness",
          "name": "Rolf",
          "personality": "Cranky",
          "species": "Tiger"
         },
         {
          "birthday": "December1st",
          "catchphrase": "\"punches\"",
          "gender": "male",
          "hobbies": "Fitness",
          "name": "Rooney",
          "personality": "Cranky",
          "species": "Kangaroo"
         },
         {
          "birthday": "August7th",
          "catchphrase": "\"capital\"",
          "gender": "male",
          "hobbies": "Music",
          "name": "Rory",
          "personality": "Jock",
          "species": "Lion"
         },
         {
          "birthday": "June16th",
          "catchphrase": "\"nay\"",
          "gender": "male",
          "hobbies": "Music",
          "name": "Roscoe",
          "personality": "Cranky",
          "species": "Horse"
         },
         {
          "birthday": "February27th",
          "catchphrase": "\"silly\"",
          "gender": "female",
          "hobbies": "Music",
          "name": "Rosie",
          "personality": "Peppy",
          "species": "Cat"
         },
         {
          "birthday": "August26th",
          "catchphrase": "\"mango\"",
          "gender": "male",
          "hobbies": "Fitness",
          "name": "Rowan",
          "personality": "Jock",
          "species": "Tiger"
         },
         {
          "birthday": "December25th",
          "catchphrase": "\"li'lears\"",
          "gender": "female",
          "hobbies": "Nature",
          "name": "Ruby",
          "personality": "Peppy",
          "species": "Rabbit"
         },
         {
          "birthday": "December20th",
          "catchphrase": "\"mush\"",
          "gender": "male",
          "hobbies": "Play",
          "name": "Rudy",
          "personality": "Jock",
          "species": "Cat"
         },
         {
          "birthday": "June19th",
          "catchphrase": "\"nutmeg\"",
          "gender": "female",
          "hobbies": "Music",
          "name": "Sally",
          "personality": "Normal",
          "species": "Squirrel"
         },
         {
          "birthday": "July5th",
          "catchphrase": "\"pipsqueak\"",
          "gender": "male",
          "hobbies": "Fitness",
          "name": "Samson",
          "personality": "Jock",
          "species": "Mouse"
         },
         {
          "birthday": "October21st",
          "catchphrase": "\"speedy\"",
          "gender": "female",
          "hobbies": "Nature",
          "name": "Sandy",
          "personality": "Normal",
          "species": "Ostrich"
         },
         {
          "birthday": "January25th",
          "catchphrase": "\"y'all\"",
          "gender": "female",
          "hobbies": "Music",
          "name": "Savannah",
          "personality": "Normal",
          "species": "Horse"
         },
         {
          "birthday": "June13th",
          "catchphrase": "\"zipzoom\"",
          "gender": "male",
          "hobbies": "Fitness",
          "name": "Scoot",
          "personality": "Jock",
          "species": "Duck"
         },
         {
          "birthday": "April10th",
          "catchphrase": "\"cheeky\"",
          "gender": "female",
          "hobbies": "Music",
          "name": "Shari",
          "personality": "Sisterly",
          "species": "Monkey"
         },
         {
          "birthday": "February26th",
          "catchphrase": "\"cardio\"",
          "gender": "male",
          "hobbies": "Play",
          "name": "Sheldon",
          "personality": "Jock",
          "species": "Squirrel"
         },
         {
          "birthday": "November24th",
          "catchphrase": "\"baabaabaa\"",
          "gender": "male",
          "hobbies": "Education",
          "name": "Shep",
          "personality": "Smug",
          "species": "Dog"
         },
         {
          "birthday": "January18th",
          "catchphrase": "\"bawwww\"",
          "gender": "male",
          "hobbies": "Nature",
          "name": "Sherb",
          "personality": "Lazy",
          "species": "Goat"
         },
         {
          "birthday": "January19th",
          "catchphrase": "\"zzzook\"",
          "gender": "male",
          "hobbies": "Play",
          "name": "Simon",
          "personality": "Lazy",
          "species": "Monkey"
         },
         {
          "birthday": "March24th",
          "catchphrase": "\"airmail\"",
          "gender": "female",
          "hobbies": "Music",
          "name": "Skye",
          "personality": "Normal",
          "species": "Wolf"
         },
         {
          "birthday": "November15th",
          "catchphrase": "\"hoo-rah\"",
          "gender": "male",
          "hobbies": "Play",
          "name": "Sly",
          "personality": "Jock",
          "species": "Alligator"
         },
         {
          "birthday": "November3rd",
          "catchphrase": "\"bunyip\"",
          "gender": "male",
          "hobbies": "Fitness",
          "name": "Snake",
          "personality": "Jock",
          "species": "Rabbit"
         },
         {
          "birthday": "October24th",
          "catchphrase": "\"sniffff\"",
          "gender": "female",
          "hobbies": "Education",
          "name": "Snooty",
          "personality": "Snooty",
          "species": "Anteater"
         },
         {
          "birthday": "August9th",
          "catchphrase": "\"tarnation\"",
          "gender": "female",
          "hobbies": "Education",
          "name": "Soleil",
          "personality": "Snooty",
          "species": "Hamster"
         },
         {
          "birthday": "November20th",
          "catchphrase": "\"likewhoa\"",
          "gender": "male",
          "hobbies": "Play",
          "name": "Sparro",
          "personality": "Jock",
          "species": "Bird"
         },
         {
          "birthday": "June17th",
          "catchphrase": "\"punk\"",
          "gender": "male",
          "hobbies": "Nature",
          "name": "Spike",
          "personality": "Cranky",
          "species": "Rhino"
         },
         {
          "birthday": "September3rd",
          "catchphrase": "\"snork\"",
          "gender": "male",
          "hobbies": "Play",
          "name": "SporkNACracklePAL",
          "personality": "Lazy",
          "species": "Pig"
         },
         {
          "birthday": "February20th",
          "catchphrase": "\"frappe\"",
          "gender": "female",
          "hobbies": "Play",
          "name": "Sprinkle",
          "personality": "Peppy",
          "species": "Penguin"
         },
         {
          "birthday": "December1st",
          "catchphrase": "\"zort\"",
          "gender": "male",
          "hobbies": "Music",
          "name": "Sprocket",
          "personality": "Jock",
          "species": "Ostrich"
         },
         {
          "birthday": "July9th",
          "catchphrase": "\"krzzt\"",
          "gender": "male",
          "hobbies": "Music",
          "name": "Static",
          "personality": "Cranky",
          "species": "Squirrel"
         },
         {
          "birthday": "April9th",
          "catchphrase": "\"baa-dabing\"",
          "gender": "female",
          "hobbies": "Nature",
          "name": "Stella",
          "personality": "Normal",
          "species": "Sheep"
         },
         {
          "birthday": "December11th",
          "catchphrase": "\"skraaaaw\"",
          "gender": "male",
          "hobbies": "Fitness",
          "name": "Sterling",
          "personality": "Jock",
          "species": "Eagle"
         },
         {
          "birthday": "August17th",
          "catchphrase": "\"GAAHHH\"",
          "gender": "male",
          "hobbies": "Fitness",
          "name": "Stinky",
          "personality": "Jock",
          "species": "Cat"
         },
         {
          "birthday": "February10th",
          "catchphrase": "\"stuffin'\"",
          "gender": "male",
          "hobbies": "Play",
          "name": "Stitches",
          "personality": "Lazy",
          "species": "Cub"
         },
         {
          "birthday": "April20th",
          "catchphrase": "\"mrooooo\"",
          "gender": "male",
          "hobbies": "Nature",
          "name": "Stu",
          "personality": "Lazy",
          "species": "Bull"
         },
         {
          "birthday": "June21st",
          "catchphrase": "\"sunshine\"",
          "gender": "female",
          "hobbies": "Music",
          "name": "Sydney",
          "personality": "Normal",
          "species": "Koala"
         },
         {
          "birthday": "October22nd",
          "catchphrase": "\"hubbub\"",
          "gender": "female",
          "hobbies": "Nature",
          "name": "Sylvana",
          "personality": "Normal",
          "species": "Squirrel"
         },
         {
          "birthday": "May3rd",
          "catchphrase": "\"boing\"",
          "gender": "female",
          "hobbies": "Music",
          "name": "Sylvia",
          "personality": "Sisterly",
          "species": "Kangaroo"
         },
         {
          "birthday": "August13th",
          "catchphrase": "\"me-WOW\"",
          "gender": "female",
          "hobbies": "Music",
          "name": "Tabby",
          "personality": "Peppy",
          "species": "Cat"
         },
         {
          "birthday": "August3rd",
          "catchphrase": "\"sluuuurp\"",
          "gender": "male",
          "hobbies": "Play",
          "name": "Tad",
          "personality": "Jock",
          "species": "Frog"
         },
         {
          "birthday": "April2nd",
          "catchphrase": "\"chimpy\"",
          "gender": "female",
          "hobbies": "Fashion",
          "name": "Tammi",
          "personality": "Peppy",
          "species": "Monkey"
         },
         {
          "birthday": "June23rd",
          "catchphrase": "\"yaheard\"",
          "gender": "female",
          "hobbies": "Play",
          "name": "Tammy",
          "personality": "Sisterly",
          "species": "Cub"
         },
         {
          "birthday": "June17th",
          "catchphrase": "\"reeeeOWR\"",
          "gender": "female",
          "hobbies": "Music",
          "name": "Tangy",
          "personality": "Peppy",
          "species": "Cat"
         },
         {
          "birthday": "May6th",
          "catchphrase": "\"kerPOW\"",
          "gender": "male",
          "hobbies": "Fitness",
          "name": "Tank",
          "personality": "Jock",
          "species": "Rhino"
         },
         {
          "birthday": "November30th",
          "catchphrase": "\"nicenice\"",
          "gender": "female",
          "hobbies": "Fitness",
          "name": "Tasha",
          "personality": "Snooty",
          "species": "Squirrel"
         },
         {
          "birthday": "May20th",
          "catchphrase": "\"moocher\"",
          "gender": "male",
          "hobbies": "Education",
          "name": "T-Bone",
          "personality": "Cranky",
          "species": "Bull"
         },
         {
          "birthday": "September26th",
          "catchphrase": "\"grooof\"",
          "gender": "male",
          "hobbies": "Fitness",
          "name": "Teddy",
          "personality": "Jock",
          "species": "Bear"
         },
         {
          "birthday": "October6th",
          "catchphrase": "\"picante\"",
          "gender": "male",
          "hobbies": "Music",
          "name": "Tex",
          "personality": "Smug",
          "species": "Penguin"
         },
         {
          "birthday": "November18th",
          "catchphrase": "\"teacup\"",
          "gender": "female",
          "hobbies": "Nature",
          "name": "Tia",
          "personality": "Normal",
          "species": "Elephant"
         },
         {
          "birthday": "January9th",
          "catchphrase": "\"bunbun\"",
          "gender": "female",
          "hobbies": "Fashion",
          "name": "Tiffany",
          "personality": "Snooty",
          "species": "Rabbit"
         },
         {
          "birthday": "October21st",
          "catchphrase": "\"pinenut\"",
          "gender": "female",
          "hobbies": "Education",
          "name": "Timbra",
          "personality": "Snooty",
          "species": "Sheep"
         },
         {
          "birthday": "August25th",
          "catchphrase": "\"pushy\"",
          "gender": "female",
          "hobbies": "Fashion",
          "name": "Tipper",
          "personality": "Snooty",
          "species": "Cow"
         },
         {
          "birthday": "December10th",
          "catchphrase": "\"me-YOWZA\"",
          "gender": "male",
          "hobbies": "Education",
          "name": "Tom",
          "personality": "Cranky",
          "species": "Cat"
         },
         {
          "birthday": "July28th",
          "catchphrase": "\"snoutie\"",
          "gender": "female",
          "hobbies": "Fashion",
          "name": "Truffles",
          "personality": "Peppy",
          "species": "Pig"
         },
         {
          "birthday": "September7th",
          "catchphrase": "\"fuzzers\"",
          "gender": "male",
          "hobbies": "Nature",
          "name": "Tucker",
          "personality": "Lazy",
          "species": "Elephant"
         },
         {
          "birthday": "September15th",
          "catchphrase": "\"twinkles\"",
          "gender": "female",
          "hobbies": "Fashion",
          "name": "Tutu",
          "personality": "Peppy",
          "species": "Bear"
         },
         {
          "birthday": "July13th",
          "catchphrase": "\"cheepers\"",
          "gender": "female",
          "hobbies": "Fashion",
          "name": "Twiggy",
          "personality": "Peppy",
          "species": "Bird"
         },
         {
          "birthday": "August19th",
          "catchphrase": "\"grrrRAH\"",
          "gender": "male",
          "hobbies": "Play",
          "name": "Tybalt",
          "personality": "Jock",
          "species": "Tiger"
         },
         {
          "birthday": "January16th",
          "catchphrase": "\"grooomph\"",
          "gender": "female",
          "hobbies": "Music",
          "name": "Ursala",
          "personality": "Sisterly",
          "species": "Bear"
         },
         {
          "birthday": "January14th",
          "catchphrase": "\"blih\"",
          "gender": "female",
          "hobbies": "Education",
          "name": "Velma",
          "personality": "Snooty",
          "species": "Goat"
         },
         {
          "birthday": "April16th",
          "catchphrase": "\"baaaffo\"",
          "gender": "female",
          "hobbies": "Fashion",
          "name": "Vesta",
          "personality": "Normal",
          "species": "Sheep"
         },
         {
          "birthday": "December29th",
          "catchphrase": "\"cud\"",
          "gender": "male",
          "hobbies": "Fitness",
          "name": "Vic",
          "personality": "Cranky",
          "species": "Bull"
         },
         {
          "birthday": "July11th",
          "catchphrase": "\"sugarcube\"",
          "gender": "female",
          "hobbies": "Fitness",
          "name": "Victoria",
          "personality": "Peppy",
          "species": "Horse"
         },
         {
          "birthday": "September1st",
          "catchphrase": "\"sweetie\"",
          "gender": "female",
          "hobbies": "Fitness",
          "name": "Violet",
          "personality": "Snooty",
          "species": "Gorilla"
         },
         {
          "birthday": "January26th",
          "catchphrase": "\"piffle\"",
          "gender": "female",
          "hobbies": "Education",
          "name": "Vivian",
          "personality": "Snooty",
          "species": "Wolf"
         },
         {
          "birthday": "August2nd",
          "catchphrase": "\"nyet\"",
          "gender": "male",
          "hobbies": "Play",
          "name": "Vladimir",
          "personality": "Cranky",
          "species": "Cub"
         },
         {
          "birthday": "October30th",
          "catchphrase": "\"soitgoes\"",
          "gender": "male",
          "hobbies": "Nature",
          "name": "Wade",
          "personality": "Lazy",
          "species": "Penguin"
         },
         {
          "birthday": "June10th",
          "catchphrase": "\"wuh\"",
          "gender": "male",
          "hobbies": "Play",
          "name": "Walker",
          "personality": "Lazy",
          "species": "Dog"
         },
         {
          "birthday": "April24th",
          "catchphrase": "\"pockets\"",
          "gender": "male",
          "hobbies": "Fitness",
          "name": "Walt",
          "personality": "Cranky",
          "species": "Kangaroo"
         },
         {
          "birthday": "August21st",
          "catchphrase": "\"grr-ribbit\"",
          "gender": "male",
          "hobbies": "Education",
          "name": "WartJr.",
          "personality": "Cranky",
          "species": "Frog"
         },
         {
          "birthday": "June30th",
          "catchphrase": "\"quaa\"",
          "gender": "male",
          "hobbies": "Nature",
          "name": "Weber",
          "personality": "Lazy",
          "species": "Duck"
         },
         {
          "birthday": "August15th",
          "catchphrase": "\"lambkins\"",
          "gender": "female",
          "hobbies": "Fashion",
          "name": "Wendy",
          "personality": "Peppy",
          "species": "Sheep"
         },
         {
          "birthday": "September17th",
          "catchphrase": "\"snappy\"",
          "gender": "female",
          "hobbies": "Fashion",
          "name": "Whitney",
          "personality": "Snooty",
          "species": "Wolf"
         },
         {
          "birthday": "November26th",
          "catchphrase": "\"bopeep\"",
          "gender": "female",
          "hobbies": "Fashion",
          "name": "Willow",
          "personality": "Snooty",
          "species": "Sheep"
         },
         {
          "birthday": "January31st",
          "catchphrase": "\"hay-OK\"",
          "gender": "female",
          "hobbies": "Fashion",
          "name": "Winnie",
          "personality": "Peppy",
          "species": "Horse"
         },
         {
          "birthday": "November25th",
          "catchphrase": "\"snarrrl\"",
          "gender": "male",
          "hobbies": "Education",
          "name": "Wolfgang",
          "personality": "Cranky",
          "species": "Wolf"
         },
         {
          "birthday": "July20th",
          "catchphrase": "\"tsktsk\"",
          "gender": "female",
          "hobbies": "Fashion",
          "name": "Yuka",
          "personality": "Snooty",
          "species": "Koala"
         },
         {
          "birthday": "June7th",
          "catchphrase": "\"pronk\"",
          "gender": "male",
          "hobbies": "Music",
          "name": "Zell",
          "personality": "Smug",
          "species": "Deer"
         },
         {
          "birthday": "March8th",
          "catchphrase": "\"bloop\"",
          "gender": "male",
          "hobbies": "Nature",
          "name": "Zucker",
          "personality": "Lazy",
          "species": "Octopus"
         }
        ]
       },
       "encoding": {
        "x": {
         "field": "gender",
         "type": "nominal"
        },
        "y": {
         "aggregate": "count",
         "type": "quantitative"
        }
       },
       "mark": "bar"
      },
      "image/png": "[encoded data removed]",
      "text/plain": [
       "<VegaLite 4 object>\n",
       "\n",
       "If you see this message, it means the renderer has not been properly enabled\n",
       "for the frontend that you are using. For more information, see\n",
       "https://altair-viz.github.io/user_guide/troubleshooting.html\n"
      ]
     },
     "execution_count": 17,
     "metadata": {},
     "output_type": "execute_result"
    }
   ],
   "source": [
    "# number of male and female villagers\n",
    "alt.Chart(cleaned_data).mark_bar().encode(\n",
    "    alt.X('gender'),\n",
    "    y = 'count()'\n",
    ")"
   ]
  },
  {
   "cell_type": "markdown",
   "metadata": {},
   "source": [
    "### As we can see, there are more male villagers than female villagers."
   ]
  },
  {
   "cell_type": "markdown",
   "metadata": {},
   "source": [
    "## Let's look at their hobbies!"
   ]
  },
  {
   "cell_type": "code",
   "execution_count": 18,
   "metadata": {},
   "outputs": [
    {
     "data": {
      "application/vnd.vegalite.v4+json": {
       "$schema": "https://vega.github.io/schema/vega-lite/v4.8.1.json",
       "config": {
        "view": {
         "continuousHeight": 300,
         "continuousWidth": 400
        }
       },
       "data": {
        "name": "data-b6cd50f40cc3a8bb0161cf8bc8e8da85"
       },
       "datasets": {
        "data-b6cd50f40cc3a8bb0161cf8bc8e8da85": [
         {
          "birthday": "January27th",
          "catchphrase": "\"ayeaye\"",
          "gender": "male",
          "hobbies": "Nature",
          "name": "Admiral",
          "personality": "Cranky",
          "species": "Bird"
         },
         {
          "birthday": "July2nd",
          "catchphrase": "\"sidekick\"",
          "gender": "female",
          "hobbies": "Fitness",
          "name": "AgentS",
          "personality": "Peppy",
          "species": "Squirrel"
         },
         {
          "birthday": "April21st",
          "catchphrase": "\"snuffle\"",
          "gender": "female",
          "hobbies": "Play",
          "name": "Agnes",
          "personality": "Sisterly",
          "species": "Pig"
         },
         {
          "birthday": "October18th",
          "catchphrase": "\"ayyeeee\"",
          "gender": "male",
          "hobbies": "Fitness",
          "name": "Al",
          "personality": "Lazy",
          "species": "Gorilla"
         },
         {
          "birthday": "June9th",
          "catchphrase": "\"it'same\"",
          "gender": "male",
          "hobbies": "Play",
          "name": "Alfonso",
          "personality": "Lazy",
          "species": "Alligator"
         },
         {
          "birthday": "August19th",
          "catchphrase": "\"guvnor\"",
          "gender": "female",
          "hobbies": "Education",
          "name": "Alice",
          "personality": "Normal",
          "species": "Koala"
         },
         {
          "birthday": "November8th",
          "catchphrase": "\"graaagh\"",
          "gender": "female",
          "hobbies": "Fashion",
          "name": "Alli",
          "personality": "Snooty",
          "species": "Alligator"
         },
         {
          "birthday": "November19th",
          "catchphrase": "\"cuz\"",
          "gender": "female",
          "hobbies": "Music",
          "name": "Amelia",
          "personality": "Snooty",
          "species": "Eagle"
         },
         {
          "birthday": "February16th",
          "catchphrase": "\"snorty\"",
          "gender": "female",
          "hobbies": "Fashion",
          "name": "Anabelle",
          "personality": "Peppy",
          "species": "Anteater"
         },
         {
          "birthday": "March4th",
          "catchphrase": "\"chuurp\"",
          "gender": "male",
          "hobbies": "Play",
          "name": "Anchovy",
          "personality": "Lazy",
          "species": "Bird"
         },
         {
          "birthday": "April30th",
          "catchphrase": "\"macmoo\"",
          "gender": "male",
          "hobbies": "Fitness",
          "name": "Angus",
          "personality": "Cranky",
          "species": "Bull"
         },
         {
          "birthday": "February24th",
          "catchphrase": "\"cannoli\"",
          "gender": "female",
          "hobbies": "Fashion",
          "name": "Anicotti",
          "personality": "Peppy",
          "species": "Mouse"
         },
         {
          "birthday": "September22nd",
          "catchphrase": "\"memeow\"",
          "gender": "female",
          "hobbies": "Nature",
          "name": "Ankha",
          "personality": "Snooty",
          "species": "Cat"
         },
         {
          "birthday": "February6th",
          "catchphrase": "\"gumdrop\"",
          "gender": "female",
          "hobbies": "Nature",
          "name": "Annalisa",
          "personality": "Normal",
          "species": "Anteater"
         },
         {
          "birthday": "December2nd",
          "catchphrase": "\"nipper\"",
          "gender": "female",
          "hobbies": "Fashion",
          "name": "Annalise",
          "personality": "Snooty",
          "species": "Horse"
         },
         {
          "birthday": "October20th",
          "catchphrase": "\"honk\"",
          "gender": "male",
          "hobbies": "Fitness",
          "name": "Antonio",
          "personality": "Jock",
          "species": "Anteater"
         },
         {
          "birthday": "July4th",
          "catchphrase": "\"pah\"",
          "gender": "male",
          "hobbies": "Music",
          "name": "Apollo",
          "personality": "Cranky",
          "species": "Eagle"
         },
         {
          "birthday": "September24th",
          "catchphrase": "\"cheekers\"",
          "gender": "female",
          "hobbies": "Play",
          "name": "Apple",
          "personality": "Peppy",
          "species": "Hamster"
         },
         {
          "birthday": "September8th",
          "catchphrase": "\"mypet\"",
          "gender": "female",
          "hobbies": "Music",
          "name": "Astrid",
          "personality": "Snooty",
          "species": "Kangaroo"
         },
         {
          "birthday": "August31st",
          "catchphrase": "\"foxtrot\"",
          "gender": "female",
          "hobbies": "Fitness",
          "name": "Audie",
          "personality": "Peppy",
          "species": "Wolf"
         },
         {
          "birthday": "January27th",
          "catchphrase": "\"b-b-baby\"",
          "gender": "female",
          "hobbies": "Education",
          "name": "Aurora",
          "personality": "Normal",
          "species": "Penguin"
         },
         {
          "birthday": "April28th",
          "catchphrase": "\"beaker\"",
          "gender": "female",
          "hobbies": "Music",
          "name": "Ava",
          "personality": "Normal",
          "species": "Chicken"
         },
         {
          "birthday": "February22nd",
          "catchphrase": "\"skree-haw\"",
          "gender": "male",
          "hobbies": "Music",
          "name": "Avery",
          "personality": "Cranky",
          "species": "Eagle"
         },
         {
          "birthday": "March23rd",
          "catchphrase": "\"WHONK\"",
          "gender": "male",
          "hobbies": "Fitness",
          "name": "Axel",
          "personality": "Jock",
          "species": "Elephant"
         },
         {
          "birthday": "March28th",
          "catchphrase": "\"daahling\"",
          "gender": "female",
          "hobbies": "Fashion",
          "name": "Baabara",
          "personality": "Snooty",
          "species": "Sheep"
         },
         {
          "birthday": "November7th",
          "catchphrase": "\"kablang\"",
          "gender": "male",
          "hobbies": "Play",
          "name": "Bam",
          "personality": "Jock",
          "species": "Deer"
         },
         {
          "birthday": "August27th",
          "catchphrase": "\"growf\"",
          "gender": "female",
          "hobbies": "Fashion",
          "name": "Bangle",
          "personality": "Peppy",
          "species": "Tiger"
         },
         {
          "birthday": "March2nd",
          "catchphrase": "\"cubby\"",
          "gender": "male",
          "hobbies": "Play",
          "name": "Barold",
          "personality": "Lazy",
          "species": "Cub"
         },
         {
          "birthday": "October15th",
          "catchphrase": "\"bingo\"",
          "gender": "female",
          "hobbies": "Nature",
          "name": "Bea",
          "personality": "Normal",
          "species": "Dog"
         },
         {
          "birthday": "September27th",
          "catchphrase": "\"whiskers\"",
          "gender": "male",
          "hobbies": "Education",
          "name": "Beardo",
          "personality": "Smug",
          "species": "Bear"
         },
         {
          "birthday": "April5th",
          "catchphrase": "\"saltlick\"",
          "gender": "male",
          "hobbies": "Nature",
          "name": "Beau",
          "personality": "Lazy",
          "species": "Deer"
         },
         {
          "birthday": "December9th",
          "catchphrase": "\"chicklet\"",
          "gender": "female",
          "hobbies": "Music",
          "name": "Becky",
          "personality": "Snooty",
          "species": "Chicken"
         },
         {
          "birthday": "December28th",
          "catchphrase": "\"eeks\"",
          "gender": "female",
          "hobbies": "Music",
          "name": "Bella",
          "personality": "Peppy",
          "species": "Mouse"
         },
         {
          "birthday": "October10th",
          "catchphrase": "\"uh-hoo\"",
          "gender": "male",
          "hobbies": "Play",
          "name": "Benedict",
          "personality": "Lazy",
          "species": "Chicken"
         },
         {
          "birthday": "August3rd",
          "catchphrase": "\"alrighty\"",
          "gender": "male",
          "hobbies": "Nature",
          "name": "Benjamin",
          "personality": "Lazy",
          "species": "Dog"
         },
         {
          "birthday": "April25th",
          "catchphrase": "\"bloop\"",
          "gender": "female",
          "hobbies": "Education",
          "name": "Bertha",
          "personality": "Normal",
          "species": "Hippo"
         },
         {
          "birthday": "June12th",
          "catchphrase": "\"eekers\"",
          "gender": "female",
          "hobbies": "Education",
          "name": "Bettina",
          "personality": "Normal",
          "species": "Mouse"
         },
         {
          "birthday": "December13th",
          "catchphrase": "\"glimmer\"",
          "gender": "female",
          "hobbies": "Play",
          "name": "Bianca",
          "personality": "Peppy",
          "species": "Tiger"
         },
         {
          "birthday": "March29th",
          "catchphrase": "\"squirt\"",
          "gender": "male",
          "hobbies": "Fitness",
          "name": "Biff",
          "personality": "Jock",
          "species": "Hippo"
         },
         {
          "birthday": "October3rd",
          "catchphrase": "\"villain\"",
          "gender": "male",
          "hobbies": "Play",
          "name": "BigTop",
          "personality": "Lazy",
          "species": "Elephant"
         },
         {
          "birthday": "February1st",
          "catchphrase": "\"quacko\"",
          "gender": "male",
          "hobbies": "Play",
          "name": "Bill",
          "personality": "Jock",
          "species": "Duck"
         },
         {
          "birthday": "March25th",
          "catchphrase": "\"dagnaabit\"",
          "gender": "male",
          "hobbies": "Play",
          "name": "Billy",
          "personality": "Jock",
          "species": "Goat"
         },
         {
          "birthday": "May13th",
          "catchphrase": "\"dawg\"",
          "gender": "male",
          "hobbies": "Play",
          "name": "Biskit",
          "personality": "Lazy",
          "species": "Dog"
         },
         {
          "birthday": "October6th",
          "catchphrase": "\"mydear\"",
          "gender": "female",
          "hobbies": "Education",
          "name": "Bitty",
          "personality": "Snooty",
          "species": "Hippo"
         },
         {
          "birthday": "July3rd",
          "catchphrase": "\"nutlet\"",
          "gender": "female",
          "hobbies": "Fashion",
          "name": "Blaire",
          "personality": "Snooty",
          "species": "Squirrel"
         },
         {
          "birthday": "December21st",
          "catchphrase": "\"quiteso\"",
          "gender": "female",
          "hobbies": "Nature",
          "name": "Blanche",
          "personality": "Snooty",
          "species": "Ostrich"
         },
         {
          "birthday": "June24th",
          "catchphrase": "\"peach\"",
          "gender": "female",
          "hobbies": "Fashion",
          "name": "Bluebear",
          "personality": "Peppy",
          "species": "Cub"
         },
         {
          "birthday": "January1st",
          "catchphrase": "\"pthhpth\"",
          "gender": "male",
          "hobbies": "Play",
          "name": "Bob",
          "personality": "Lazy",
          "species": "Cat"
         },
         {
          "birthday": "March3rd",
          "catchphrase": "\"deelish\"",
          "gender": "female",
          "hobbies": "Play",
          "name": "Bonbon",
          "personality": "Peppy",
          "species": "Rabbit"
         },
         {
          "birthday": "August4th",
          "catchphrase": "\"yipyip\"",
          "gender": "male",
          "hobbies": "Play",
          "name": "Bones",
          "personality": "Lazy",
          "species": "Dog"
         },
         {
          "birthday": "February7th",
          "catchphrase": "\"human\"",
          "gender": "male",
          "hobbies": "Fitness",
          "name": "Boomer",
          "personality": "Lazy",
          "species": "Penguin"
         },
         {
          "birthday": "September12th",
          "catchphrase": "\"baboom\"",
          "gender": "male",
          "hobbies": "Fitness",
          "name": "Boone",
          "personality": "Jock",
          "species": "Gorilla"
         },
         {
          "birthday": "August7th",
          "catchphrase": "\"munchie\"",
          "gender": "male",
          "hobbies": "Play",
          "name": "Boots",
          "personality": "Jock",
          "species": "Alligator"
         },
         {
          "birthday": "November6th",
          "catchphrase": "\"schnort\"",
          "gender": "male",
          "hobbies": "Nature",
          "name": "Boris",
          "personality": "Cranky",
          "species": "Pig"
         },
         {
          "birthday": "October1st",
          "catchphrase": "\"uh-oh\"",
          "gender": "male",
          "hobbies": "Fitness",
          "name": "Boyd",
          "personality": "Cranky",
          "species": "Gorilla"
         },
         {
          "birthday": "July7th",
          "catchphrase": "\"cheeseball\"",
          "gender": "female",
          "hobbies": "Fashion",
          "name": "Bree",
          "personality": "Snooty",
          "species": "Mouse"
         },
         {
          "birthday": "June30th",
          "catchphrase": "\"eatit\"",
          "gender": "male",
          "hobbies": "Play",
          "name": "Broccolo",
          "personality": "Lazy",
          "species": "Mouse"
         },
         {
          "birthday": "October24th",
          "catchphrase": "\"cluckadoo\"",
          "gender": "female",
          "hobbies": "Music",
          "name": "Broffina",
          "personality": "Snooty",
          "species": "Chicken"
         },
         {
          "birthday": "May26th",
          "catchphrase": "\"gruff\"",
          "gender": "male",
          "hobbies": "Nature",
          "name": "Bruce",
          "personality": "Cranky",
          "species": "Deer"
         },
         {
          "birthday": "September18th",
          "catchphrase": "\"hipster\"",
          "gender": "female",
          "hobbies": "Fashion",
          "name": "Bubbles",
          "personality": "Peppy",
          "species": "Hippo"
         },
         {
          "birthday": "April4th",
          "catchphrase": "\"pardner\"",
          "gender": "male",
          "hobbies": "Fitness",
          "name": "Buck",
          "personality": "Jock",
          "species": "Horse"
         },
         {
          "birthday": "August8th",
          "catchphrase": "\"shredded\"",
          "gender": "male",
          "hobbies": "Fitness",
          "name": "Bud",
          "personality": "Jock",
          "species": "Lion"
         },
         {
          "birthday": "May9th",
          "catchphrase": "\"tee-hee\"",
          "gender": "female",
          "hobbies": "Fashion",
          "name": "Bunnie",
          "personality": "Peppy",
          "species": "Rabbit"
         },
         {
          "birthday": "November1st",
          "catchphrase": "\"ROOOOOWF\"",
          "gender": "male",
          "hobbies": "Music",
          "name": "Butch",
          "personality": "Cranky",
          "species": "Dog"
         },
         {
          "birthday": "December7th",
          "catchphrase": "\"captain\"",
          "gender": "male",
          "hobbies": "Nature",
          "name": "Buzz",
          "personality": "Cranky",
          "species": "Eagle"
         },
         {
          "birthday": "September4th",
          "catchphrase": "\"WHEE\"",
          "gender": "female",
          "hobbies": "Nature",
          "name": "Cally",
          "personality": "Normal",
          "species": "Squirrel"
         },
         {
          "birthday": "June5th",
          "catchphrase": "\"ten-hut\"",
          "gender": "male",
          "hobbies": "Music",
          "name": "Camofrog",
          "personality": "Cranky",
          "species": "Frog"
         },
         {
          "birthday": "May14th",
          "catchphrase": "\"nuhuh\"",
          "gender": "female",
          "hobbies": "Play",
          "name": "Canberra",
          "personality": "Sisterly",
          "species": "Koala"
         },
         {
          "birthday": "April13th",
          "catchphrase": "\"sweetie\"",
          "gender": "female",
          "hobbies": "Play",
          "name": "Candi",
          "personality": "Peppy",
          "species": "Mouse"
         },
         {
          "birthday": "January6th",
          "catchphrase": "\"nougat\"",
          "gender": "female",
          "hobbies": "Fashion",
          "name": "Carmen",
          "personality": "Peppy",
          "species": "Rabbit"
         },
         {
          "birthday": "July15th",
          "catchphrase": "\"hulaaaa\"",
          "gender": "female",
          "hobbies": "Music",
          "name": "Caroline",
          "personality": "Normal",
          "species": "Squirrel"
         },
         {
          "birthday": "December5th",
          "catchphrase": "\"littleone\"",
          "gender": "female",
          "hobbies": "Nature",
          "name": "Carrie",
          "personality": "Normal",
          "species": "Kangaroo"
         },
         {
          "birthday": "April2nd",
          "catchphrase": "\"baaaby\"",
          "gender": "female",
          "hobbies": "Fashion",
          "name": "Cashmere",
          "personality": "Snooty",
          "species": "Sheep"
         },
         {
          "birthday": "March25th",
          "catchphrase": "\"feathers\"",
          "gender": "female",
          "hobbies": "Nature",
          "name": "Celia",
          "personality": "Normal",
          "species": "Eagle"
         },
         {
          "birthday": "September6th",
          "catchphrase": "\"highness\"",
          "gender": "male",
          "hobbies": "Fitness",
          "name": "Cesar",
          "personality": "Cranky",
          "species": "Gorilla"
         },
         {
          "birthday": "December15th",
          "catchphrase": "\"fromage\"",
          "gender": "male",
          "hobbies": "Fitness",
          "name": "Chadder",
          "personality": "Smug",
          "species": "Mouse"
         },
         {
          "birthday": "April17th",
          "catchphrase": "\"urgh\"",
          "gender": "female",
          "hobbies": "Fitness",
          "name": "Charlise",
          "personality": "Sisterly",
          "species": "Bear"
         },
         {
          "birthday": "March17th",
          "catchphrase": "\"tralala\"",
          "gender": "female",
          "hobbies": "Fashion",
          "name": "Cheri",
          "personality": "Peppy",
          "species": "Cub"
         },
         {
          "birthday": "May11th",
          "catchphrase": "\"whatwhat\"",
          "gender": "female",
          "hobbies": "Music",
          "name": "Cherry",
          "personality": "Sisterly",
          "species": "Dog"
         },
         {
          "birthday": "August6th",
          "catchphrase": "\"rookie\"",
          "gender": "male",
          "hobbies": "Play",
          "name": "Chester",
          "personality": "Lazy",
          "species": "Cub"
         },
         {
          "birthday": "March6th",
          "catchphrase": "\"labaa\"",
          "gender": "female",
          "hobbies": "Education",
          "name": "Chevre",
          "personality": "Normal",
          "species": "Goat"
         },
         {
          "birthday": "December19th",
          "catchphrase": "\"harrumph\"",
          "gender": "male",
          "hobbies": "Music",
          "name": "Chief",
          "personality": "Cranky",
          "species": "Wolf"
         },
         {
          "birthday": "October13th",
          "catchphrase": "\"zoink\"",
          "gender": "male",
          "hobbies": "Education",
          "name": "Chops",
          "personality": "Smug",
          "species": "Pig"
         },
         {
          "birthday": "July22nd",
          "catchphrase": "\"aiya\"",
          "gender": "male",
          "hobbies": "Fitness",
          "name": "Chow",
          "personality": "Cranky",
          "species": "Bear"
         },
         {
          "birthday": "August28th",
          "catchphrase": "\"sparkles\"",
          "gender": "female",
          "hobbies": "Fashion",
          "name": "Chrissy",
          "personality": "Peppy",
          "species": "Rabbit"
         },
         {
          "birthday": "December3rd",
          "catchphrase": "\"hopalong\"",
          "gender": "male",
          "hobbies": "Nature",
          "name": "Claude",
          "personality": "Lazy",
          "species": "Rabbit"
         },
         {
          "birthday": "November22nd",
          "catchphrase": "\"oohlala\"",
          "gender": "female",
          "hobbies": "Music",
          "name": "Claudia",
          "personality": "Snooty",
          "species": "Tiger"
         },
         {
          "birthday": "October19th",
          "catchphrase": "\"thump\"",
          "gender": "male",
          "hobbies": "Nature",
          "name": "Clay",
          "personality": "Lazy",
          "species": "Hamster"
         },
         {
          "birthday": "February9th",
          "catchphrase": "\"sugar\"",
          "gender": "female",
          "hobbies": "Education",
          "name": "Cleo",
          "personality": "Snooty",
          "species": "Horse"
         },
         {
          "birthday": "May1st",
          "catchphrase": "\"clipclawp\"",
          "gender": "male",
          "hobbies": "Play",
          "name": "Clyde",
          "personality": "Lazy",
          "species": "Horse"
         },
         {
          "birthday": "April29th",
          "catchphrase": "\"stubble\"",
          "gender": "male",
          "hobbies": "Fitness",
          "name": "Coach",
          "personality": "Jock",
          "species": "Bull"
         },
         {
          "birthday": "October7th",
          "catchphrase": "\"hotdog\"",
          "gender": "male",
          "hobbies": "Education",
          "name": "Cobb",
          "personality": "Jock",
          "species": "Pig"
         },
         {
          "birthday": "March1st",
          "catchphrase": "\"doyoing\"",
          "gender": "female",
          "hobbies": "Education",
          "name": "Coco",
          "personality": "Normal",
          "species": "Rabbit"
         },
         {
          "birthday": "August10th",
          "catchphrase": "\"coooooool\"",
          "gender": "male",
          "hobbies": "Nature",
          "name": "Cole",
          "personality": "Lazy",
          "species": "Rabbit"
         },
         {
          "birthday": "May22nd",
          "catchphrase": "\"checkit\"",
          "gender": "male",
          "hobbies": "Nature",
          "name": "Colton",
          "personality": "Smug",
          "species": "Horse"
         },
         {
          "birthday": "June18th",
          "catchphrase": "\"arfer\"",
          "gender": "female",
          "hobbies": "Fashion",
          "name": "Cookie",
          "personality": "Peppy",
          "species": "Dog"
         },
         {
          "birthday": "December17th",
          "catchphrase": "\"ouioui\"",
          "gender": "male",
          "hobbies": "Fitness",
          "name": "Cousteau",
          "personality": "Jock",
          "species": "Frog"
         },
         {
          "birthday": "September23rd",
          "catchphrase": "\"sweatband\"",
          "gender": "male",
          "hobbies": "Nature",
          "name": "Cranston",
          "personality": "Lazy",
          "species": "Ostrich"
         },
         {
          "birthday": "July18th",
          "catchphrase": "\"asif\"",
          "gender": "male",
          "hobbies": "Nature",
          "name": "Croque",
          "personality": "Cranky",
          "species": "Frog"
         },
         {
          "birthday": "January29th",
          "catchphrase": "\"brainfreeze\"",
          "gender": "male",
          "hobbies": "Play",
          "name": "Cube",
          "personality": "Lazy",
          "species": "Penguin"
         },
         {
          "birthday": "May8th",
          "catchphrase": "\"shearly\"",
          "gender": "male",
          "hobbies": "Nature",
          "name": "Curlos",
          "personality": "Smug",
          "species": "Sheep"
         },
         {
          "birthday": "July26th",
          "catchphrase": "\"nyoink\"",
          "gender": "male",
          "hobbies": "Fitness",
          "name": "Curly",
          "personality": "Jock",
          "species": "Pig"
         },
         {
          "birthday": "July1st",
          "catchphrase": "\"fuzzball\"",
          "gender": "male",
          "hobbies": "Nature",
          "name": "Curt",
          "personality": "Cranky",
          "species": "Bear"
         },
         {
          "birthday": "June9th",
          "catchphrase": "\"rockin'\"",
          "gender": "male",
          "hobbies": "Music",
          "name": "Cyd",
          "personality": "Cranky",
          "species": "Elephant"
         },
         {
          "birthday": "March9th",
          "catchphrase": "\"ah-CHOO\"",
          "gender": "male",
          "hobbies": "Education",
          "name": "Cyrano",
          "personality": "Cranky",
          "species": "Anteater"
         },
         {
          "birthday": "November16th",
          "catchphrase": "\"bow-WOW\"",
          "gender": "female",
          "hobbies": "Education",
          "name": "Daisy",
          "personality": "Normal",
          "species": "Dog"
         },
         {
          "birthday": "June27th",
          "catchphrase": "\"woowoo\"",
          "gender": "female",
          "hobbies": "Education",
          "name": "Deena",
          "personality": "Normal",
          "species": "Duck"
         },
         {
          "birthday": "May4th",
          "catchphrase": "\"whatevs\"",
          "gender": "female",
          "hobbies": "Play",
          "name": "Deirdre",
          "personality": "Sisterly",
          "species": "Deer"
         },
         {
          "birthday": "May27th",
          "catchphrase": "\"gronk\"",
          "gender": "male",
          "hobbies": "Fitness",
          "name": "Del",
          "personality": "Cranky",
          "species": "Alligator"
         },
         {
          "birthday": "May24th",
          "catchphrase": "\"monch\"",
          "gender": "male",
          "hobbies": "Nature",
          "name": "Deli",
          "personality": "Lazy",
          "species": "Monkey"
         },
         {
          "birthday": "May25th",
          "catchphrase": "\"derrrrr\"",
          "gender": "male",
          "hobbies": "Play",
          "name": "Derwin",
          "personality": "Lazy",
          "species": "Duck"
         },
         {
          "birthday": "January4th",
          "catchphrase": "\"nodoy\"",
          "gender": "female",
          "hobbies": "Education",
          "name": "Diana",
          "personality": "Snooty",
          "species": "Deer"
         },
         {
          "birthday": "October2nd",
          "catchphrase": "\"yaknow\"",
          "gender": "female",
          "hobbies": "Fitness",
          "name": "Diva",
          "personality": "Sisterly",
          "species": "Frog"
         },
         {
          "birthday": "July14th",
          "catchphrase": "\"woo-oo\"",
          "gender": "male",
          "hobbies": "Play",
          "name": "Dizzy",
          "personality": "Lazy",
          "species": "Elephant"
         },
         {
          "birthday": "February17th",
          "catchphrase": "\"ohmmm\"",
          "gender": "male",
          "hobbies": "Nature",
          "name": "Dobie",
          "personality": "Cranky",
          "species": "Wolf"
         },
         {
          "birthday": "March16th",
          "catchphrase": "\"oldbunny\"",
          "gender": "male",
          "hobbies": "Education",
          "name": "Doc",
          "personality": "Lazy",
          "species": "Rabbit"
         },
         {
          "birthday": "March18th",
          "catchphrase": "\"indeedaroo\"",
          "gender": "male",
          "hobbies": "Play",
          "name": "Dom",
          "personality": "Jock",
          "species": "Sheep"
         },
         {
          "birthday": "February18th",
          "catchphrase": "\"squeaky\"",
          "gender": "female",
          "hobbies": "Education",
          "name": "Dora",
          "personality": "Normal",
          "species": "Mouse"
         },
         {
          "birthday": "March14th",
          "catchphrase": "\"weeone\"",
          "gender": "female",
          "hobbies": "Fashion",
          "name": "Dotty",
          "personality": "Peppy",
          "species": "Rabbit"
         },
         {
          "birthday": "February12th",
          "catchphrase": "\"burrrn\"",
          "gender": "male",
          "hobbies": "Nature",
          "name": "Drago",
          "personality": "Lazy",
          "species": "Alligator"
         },
         {
          "birthday": "June25th",
          "catchphrase": "\"quacko\"",
          "gender": "male",
          "hobbies": "Play",
          "name": "Drake",
          "personality": "Lazy",
          "species": "Duck"
         },
         {
          "birthday": "October9th",
          "catchphrase": "\"dribbit\"",
          "gender": "male",
          "hobbies": "Fitness",
          "name": "Drift",
          "personality": "Jock",
          "species": "Frog"
         },
         {
          "birthday": "September16th",
          "catchphrase": "\"greenhorn\"",
          "gender": "male",
          "hobbies": "Nature",
          "name": "Ed",
          "personality": "Smug",
          "species": "Horse"
         },
         {
          "birthday": "October14th",
          "catchphrase": "\"doodle-duh\"",
          "gender": "male",
          "hobbies": "Play",
          "name": "Egbert",
          "personality": "Lazy",
          "species": "Chicken"
         },
         {
          "birthday": "March21st",
          "catchphrase": "\"puh-lease\"",
          "gender": "female",
          "hobbies": "Fashion",
          "name": "Elise",
          "personality": "Snooty",
          "species": "Monkey"
         },
         {
          "birthday": "May12th",
          "catchphrase": "\"li'lone\"",
          "gender": "female",
          "hobbies": "Nature",
          "name": "Ellie",
          "personality": "Normal",
          "species": "Elephant"
         },
         {
          "birthday": "October5th",
          "catchphrase": "\"tenderfoot\"",
          "gender": "male",
          "hobbies": "Play",
          "name": "Elmer",
          "personality": "Lazy",
          "species": "Horse"
         },
         {
          "birthday": "December8th",
          "catchphrase": "\"tooooot\"",
          "gender": "female",
          "hobbies": "Fashion",
          "name": "Eloise",
          "personality": "Snooty",
          "species": "Elephant"
         },
         {
          "birthday": "July23rd",
          "catchphrase": "\"unh-hunh\"",
          "gender": "male",
          "hobbies": "Education",
          "name": "Elvis",
          "personality": "Cranky",
          "species": "Lion"
         },
         {
          "birthday": "July27th",
          "catchphrase": "\"chowdown\"",
          "gender": "male",
          "hobbies": "Nature",
          "name": "Erik",
          "personality": "Lazy",
          "species": "Deer"
         },
         {
          "birthday": "October26th",
          "catchphrase": "\"yeahbuddy\"",
          "gender": "male",
          "hobbies": "Music",
          "name": "Eugene",
          "personality": "Smug",
          "species": "Koala"
         },
         {
          "birthday": "April3rd",
          "catchphrase": "\"lambchop\"",
          "gender": "female",
          "hobbies": "Fashion",
          "name": "Eunice",
          "personality": "Normal",
          "species": "Sheep"
         },
         {
          "birthday": "December18th",
          "catchphrase": "\"cha-chomp\"",
          "gender": "male",
          "hobbies": "Education",
          "name": "Fang",
          "personality": "Cranky",
          "species": "Wolf"
         },
         {
          "birthday": "March26th",
          "catchphrase": "\"dearie\"",
          "gender": "female",
          "hobbies": "Nature",
          "name": "Fauna",
          "personality": "Normal",
          "species": "Deer"
         },
         {
          "birthday": "March30th",
          "catchphrase": "\"mimimi\"",
          "gender": "female",
          "hobbies": "Fashion",
          "name": "Felicity",
          "personality": "Peppy",
          "species": "Cat"
         },
         {
          "birthday": "June3rd",
          "catchphrase": "\"bucko\"",
          "gender": "male",
          "hobbies": "Nature",
          "name": "Filbert",
          "personality": "Lazy",
          "species": "Squirrel"
         },
         {
          "birthday": "November21st",
          "catchphrase": "\"rerack\"",
          "gender": "male",
          "hobbies": "Music",
          "name": "Flip",
          "personality": "Jock",
          "species": "Monkey"
         },
         {
          "birthday": "September2nd",
          "catchphrase": "\"cha\"",
          "gender": "female",
          "hobbies": "Music",
          "name": "Flo",
          "personality": "Sisterly",
          "species": "Penguin"
         },
         {
          "birthday": "February9th",
          "catchphrase": "\"pinky\"",
          "gender": "female",
          "hobbies": "Play",
          "name": "Flora",
          "personality": "Peppy",
          "species": "Ostrich"
         },
         {
          "birthday": "January30th",
          "catchphrase": "\"powderpuff\"",
          "gender": "female",
          "hobbies": "Nature",
          "name": "Flurry",
          "personality": "Normal",
          "species": "Hamster"
         },
         {
          "birthday": "January22nd",
          "catchphrase": "\"karat\"",
          "gender": "female",
          "hobbies": "Fashion",
          "name": "Francine",
          "personality": "Snooty",
          "species": "Rabbit"
         },
         {
          "birthday": "July30th",
          "catchphrase": "\"crushy\"",
          "gender": "male",
          "hobbies": "Education",
          "name": "Frank",
          "personality": "Cranky",
          "species": "Eagle"
         },
         {
          "birthday": "February19th",
          "catchphrase": "\"ducky\"",
          "gender": "female",
          "hobbies": "Fashion",
          "name": "Freckles",
          "personality": "Peppy",
          "species": "Duck"
         },
         {
          "birthday": "December14th",
          "catchphrase": "\"uffda\"",
          "gender": "female",
          "hobbies": "Fashion",
          "name": "Freya",
          "personality": "Snooty",
          "species": "Wolf"
         },
         {
          "birthday": "October16th",
          "catchphrase": "\"brrmph\"",
          "gender": "female",
          "hobbies": "Fashion",
          "name": "Friga",
          "personality": "Snooty",
          "species": "Penguin"
         },
         {
          "birthday": "July16th",
          "catchphrase": "\"ohewe\"",
          "gender": "female",
          "hobbies": "Music",
          "name": "Frita",
          "personality": "Sisterly",
          "species": "Sheep"
         },
         {
          "birthday": "February8th",
          "catchphrase": "\"fribbit\"",
          "gender": "male",
          "hobbies": "Fitness",
          "name": "Frobert",
          "personality": "Jock",
          "species": "Frog"
         },
         {
          "birthday": "September19th",
          "catchphrase": "\"precious\"",
          "gender": "female",
          "hobbies": "Music",
          "name": "Fuchsia",
          "personality": "Sisterly",
          "species": "Deer"
         },
         {
          "birthday": "December16th",
          "catchphrase": "\"honeybun\"",
          "gender": "female",
          "hobbies": "Fashion",
          "name": "Gabi",
          "personality": "Peppy",
          "species": "Rabbit"
         },
         {
          "birthday": "March5th",
          "catchphrase": "\"snortie\"",
          "gender": "female",
          "hobbies": "Education",
          "name": "Gala",
          "personality": "Normal",
          "species": "Pig"
         },
         {
          "birthday": "October28th",
          "catchphrase": "\"monchou\"",
          "gender": "male",
          "hobbies": "Education",
          "name": "Gaston",
          "personality": "Cranky",
          "species": "Rabbit"
         },
         {
          "birthday": "May17th",
          "catchphrase": "\"snacky\"",
          "gender": "female",
          "hobbies": "Nature",
          "name": "Gayle",
          "personality": "Normal",
          "species": "Alligator"
         },
         {
          "birthday": "January21st",
          "catchphrase": "\"mochi\"",
          "gender": "male",
          "hobbies": "Fitness",
          "name": "Genji",
          "personality": "Jock",
          "species": "Rabbit"
         },
         {
          "birthday": "August11th",
          "catchphrase": "\"ribbette\"",
          "gender": "female",
          "hobbies": "Fashion",
          "name": "Gigi",
          "personality": "Snooty",
          "species": "Frog"
         },
         {
          "birthday": "January15th",
          "catchphrase": "\"stretch\"",
          "gender": "female",
          "hobbies": "Education",
          "name": "Gladys",
          "personality": "Normal",
          "species": "Ostrich"
         },
         {
          "birthday": "August12th",
          "catchphrase": "\"quacker\"",
          "gender": "female",
          "hobbies": "Fashion",
          "name": "Gloria",
          "personality": "Snooty",
          "species": "Duck"
         },
         {
          "birthday": "December27th",
          "catchphrase": "\"woof\"",
          "gender": "female",
          "hobbies": "Nature",
          "name": "Goldie",
          "personality": "Normal",
          "species": "Dog"
         },
         {
          "birthday": "October13th",
          "catchphrase": "\"mate\"",
          "gender": "male",
          "hobbies": "Nature",
          "name": "Gonzo",
          "personality": "Cranky",
          "species": "Koala"
         },
         {
          "birthday": "October4th",
          "catchphrase": "\"buh-kay\"",
          "gender": "male",
          "hobbies": "Fitness",
          "name": "Goose",
          "personality": "Jock",
          "species": "Chicken"
         },
         {
          "birthday": "June20th",
          "catchphrase": "\"indeed\"",
          "gender": "male",
          "hobbies": "Education",
          "name": "Graham",
          "personality": "Smug",
          "species": "Hamster"
         },
         {
          "birthday": "September5th",
          "catchphrase": "\"yelp\"",
          "gender": "female",
          "hobbies": "Education",
          "name": "Greta",
          "personality": "Snooty",
          "species": "Mouse"
         },
         {
          "birthday": "July31st",
          "catchphrase": "\"grrr\"",
          "gender": "male",
          "hobbies": "Education",
          "name": "Grizzly",
          "personality": "Cranky",
          "species": "Bear"
         },
         {
          "birthday": "October23rd",
          "catchphrase": "\"grumble\"",
          "gender": "male",
          "hobbies": "Music",
          "name": "Groucho",
          "personality": "Cranky",
          "species": "Bear"
         },
         {
          "birthday": "August29th",
          "catchphrase": "\"bleheheh\"",
          "gender": "male",
          "hobbies": "Music",
          "name": "Gruff",
          "personality": "Cranky",
          "species": "Goat"
         },
         {
          "birthday": "January23rd",
          "catchphrase": "\"h-h-h-hon\"",
          "gender": "female",
          "hobbies": "Fashion",
          "name": "Gwen",
          "personality": "Snooty",
          "species": "Penguin"
         },
         {
          "birthday": "May30th",
          "catchphrase": "\"hammie\"",
          "gender": "male",
          "hobbies": "Play",
          "name": "Hamlet",
          "personality": "Jock",
          "species": "Hamster"
         },
         {
          "birthday": "February25th",
          "catchphrase": "\"snort\"",
          "gender": "male",
          "hobbies": "Nature",
          "name": "Hamphrey",
          "personality": "Cranky",
          "species": "Hamster"
         },
         {
          "birthday": "December5th",
          "catchphrase": "\"groovy\"",
          "gender": "male",
          "hobbies": "Fitness",
          "name": "Hans",
          "personality": "Smug",
          "species": "Gorilla"
         },
         {
          "birthday": "January7th",
          "catchphrase": "\"beachbum\"",
          "gender": "male",
          "hobbies": "Education",
          "name": "Harry",
          "personality": "Cranky",
          "species": "Hippo"
         },
         {
          "birthday": "August30th",
          "catchphrase": "\"uni-wow\"",
          "gender": "female",
          "hobbies": "Play",
          "name": "Hazel",
          "personality": "Sisterly",
          "species": "Squirrel"
         },
         {
          "birthday": "September21st",
          "catchphrase": "\"snoozit\"",
          "gender": "male",
          "hobbies": "Music",
          "name": "Henry",
          "personality": "Smug",
          "species": "Frog"
         },
         {
          "birthday": "October15th",
          "catchphrase": "\"natch\"",
          "gender": "male",
          "hobbies": "Education",
          "name": "Hippeux",
          "personality": "Smug",
          "species": "Hippo"
         },
         {
          "birthday": "March11th",
          "catchphrase": "\"thumper\"",
          "gender": "male",
          "hobbies": "Nature",
          "name": "Hopkins",
          "personality": "Lazy",
          "species": "Rabbit"
         },
         {
          "birthday": "April6th",
          "catchphrase": "\"slushie\"",
          "gender": "male",
          "hobbies": "Music",
          "name": "Hopper",
          "personality": "Cranky",
          "species": "Penguin"
         },
         {
          "birthday": "March20th",
          "catchphrase": "\"schnozzle\"",
          "gender": "male",
          "hobbies": "Nature",
          "name": "Hornsby",
          "personality": "Lazy",
          "species": "Rhino"
         },
         {
          "birthday": "July9th",
          "catchphrase": "\"hopper\"",
          "gender": "male",
          "hobbies": "Fitness",
          "name": "Huck",
          "personality": "Smug",
          "species": "Frog"
         },
         {
          "birthday": "December30th",
          "catchphrase": "\"snortle\"",
          "gender": "male",
          "hobbies": "Play",
          "name": "Hugh",
          "personality": "Lazy",
          "species": "Pig"
         },
         {
          "birthday": "November2nd",
          "catchphrase": "\"waddler\"",
          "gender": "male",
          "hobbies": "Fitness",
          "name": "Iggly",
          "personality": "Jock",
          "species": "Penguin"
         },
         {
          "birthday": "May16th",
          "catchphrase": "\"roadie\"",
          "gender": "male",
          "hobbies": "Nature",
          "name": "Ike",
          "personality": "Cranky",
          "species": "Bear"
         },
         {
          "birthday": "August24th",
          "catchphrase": "\"yafeel\"",
          "gender": "male",
          "hobbies": "Nature",
          "name": "JacobNAJakeyPAL",
          "personality": "Lazy",
          "species": "Bird"
         },
         {
          "birthday": "June22nd",
          "catchphrase": "\"zutalors\"",
          "gender": "male",
          "hobbies": "Music",
          "name": "Jacques",
          "personality": "Smug",
          "species": "Bird"
         },
         {
          "birthday": "October27th",
          "catchphrase": "\"croak-kay\"",
          "gender": "female",
          "hobbies": "Fashion",
          "name": "Jambette",
          "personality": "Normal",
          "species": "Frog"
         },
         {
          "birthday": "July17th",
          "catchphrase": "\"heeeeeyy\"",
          "gender": "male",
          "hobbies": "Fitness",
          "name": "Jay",
          "personality": "Jock",
          "species": "Bird"
         },
         {
          "birthday": "July8th",
          "catchphrase": "\"nee-deep\"",
          "gender": "male",
          "hobbies": "Play",
          "name": "Jeremiah",
          "personality": "Lazy",
          "species": "Frog"
         },
         {
          "birthday": "February2nd",
          "catchphrase": "\"bzzert\"",
          "gender": "male",
          "hobbies": "Fitness",
          "name": "Jitters",
          "personality": "Jock",
          "species": "Bird"
         },
         {
          "birthday": "January3rd",
          "catchphrase": "\"bleeeeeck\"",
          "gender": "male",
          "hobbies": "Play",
          "name": "Joey",
          "personality": "Lazy",
          "species": "Duck"
         },
         {
          "birthday": "March10th",
          "catchphrase": "\"myohmy\"",
          "gender": "female",
          "hobbies": "Music",
          "name": "Judy",
          "personality": "Snooty",
          "species": "Cub"
         },
         {
          "birthday": "July31st",
          "catchphrase": "\"dahling\"",
          "gender": "female",
          "hobbies": "Education",
          "name": "Julia",
          "personality": "Snooty",
          "species": "Ostrich"
         },
         {
          "birthday": "March15th",
          "catchphrase": "\"glitter\"",
          "gender": "male",
          "hobbies": "Music",
          "name": "Julian",
          "personality": "Smug",
          "species": "Horse"
         },
         {
          "birthday": "May21st",
          "catchphrase": "\"rainbow\"",
          "gender": "female",
          "hobbies": "Nature",
          "name": "June",
          "personality": "Normal",
          "species": "Cub"
         },
         {
          "birthday": "November29th",
          "catchphrase": "\"meooo-OH\"",
          "gender": "male",
          "hobbies": "Music",
          "name": "Kabuki",
          "personality": "Cranky",
          "species": "Cat"
         },
         {
          "birthday": "April27th",
          "catchphrase": "\"purrty\"",
          "gender": "female",
          "hobbies": "Music",
          "name": "Katt",
          "personality": "Sisterly",
          "species": "Cat"
         },
         {
          "birthday": "June1st",
          "catchphrase": "\"wingo\"",
          "gender": "male",
          "hobbies": "Music",
          "name": "Keaton",
          "personality": "Smug",
          "species": "Eagle"
         },
         {
          "birthday": "December23rd",
          "catchphrase": "\"nodoubt\"",
          "gender": "male",
          "hobbies": "Education",
          "name": "Ken",
          "personality": "Smug",
          "species": "Chicken"
         },
         {
          "birthday": "July27th",
          "catchphrase": "\"bitty\"",
          "gender": "female",
          "hobbies": "Play",
          "name": "Ketchup",
          "personality": "Peppy",
          "species": "Duck"
         },
         {
          "birthday": "April26th",
          "catchphrase": "\"weeweewee\"",
          "gender": "male",
          "hobbies": "Play",
          "name": "Kevin",
          "personality": "Jock",
          "species": "Pig"
         },
         {
          "birthday": "August1st",
          "catchphrase": "\"psst\"",
          "gender": "male",
          "hobbies": "Fitness",
          "name": "KidCat",
          "personality": "Jock",
          "species": "Cat"
         },
         {
          "birthday": "June28th",
          "catchphrase": "\"wut\"",
          "gender": "male",
          "hobbies": "Education",
          "name": "Kidd",
          "personality": "Smug",
          "species": "Goat"
         },
         {
          "birthday": "October8th",
          "catchphrase": "\"kittycat\"",
          "gender": "female",
          "hobbies": "Education",
          "name": "Kiki",
          "personality": "Normal",
          "species": "Cat"
         },
         {
          "birthday": "October11th",
          "catchphrase": "\"child\"",
          "gender": "female",
          "hobbies": "Education",
          "name": "Kitt",
          "personality": "Normal",
          "species": "Kangaroo"
         },
         {
          "birthday": "February15th",
          "catchphrase": "\"mrowrr\"",
          "gender": "female",
          "hobbies": "Fashion",
          "name": "Kitty",
          "personality": "Snooty",
          "species": "Cat"
         },
         {
          "birthday": "March31st",
          "catchphrase": "\"strudel\"",
          "gender": "male",
          "hobbies": "Education",
          "name": "Klaus",
          "personality": "Smug",
          "species": "Bear"
         },
         {
          "birthday": "November23rd",
          "catchphrase": "\"cluckling\"",
          "gender": "male",
          "hobbies": "Education",
          "name": "Knox",
          "personality": "Cranky",
          "species": "Chicken"
         },
         {
          "birthday": "September28th",
          "catchphrase": "\"grahgrah\"",
          "gender": "male",
          "hobbies": "Fitness",
          "name": "Kody",
          "personality": "Jock",
          "species": "Cub"
         },
         {
          "birthday": "December6th",
          "catchphrase": "\"alpha\"",
          "gender": "male",
          "hobbies": "Music",
          "name": "Kyle",
          "personality": "Smug",
          "species": "Wolf"
         },
         {
          "birthday": "May15th",
          "catchphrase": "\"flexin'\"",
          "gender": "male",
          "hobbies": "Fitness",
          "name": "Leonardo",
          "personality": "Jock",
          "species": "Tiger"
         },
         {
          "birthday": "August14th",
          "catchphrase": "\"lioncub\"",
          "gender": "male",
          "hobbies": "Education",
          "name": "Leopold",
          "personality": "Smug",
          "species": "Lion"
         },
         {
          "birthday": "February4th",
          "catchphrase": "\"toady\"",
          "gender": "female",
          "hobbies": "Education",
          "name": "Lily",
          "personality": "Normal",
          "species": "Frog"
         },
         {
          "birthday": "October17th",
          "catchphrase": "\"squinky\"",
          "gender": "male",
          "hobbies": "Education",
          "name": "Limberg",
          "personality": "Cranky",
          "species": "Mouse"
         },
         {
          "birthday": "July29th",
          "catchphrase": "\"precisely\"",
          "gender": "male",
          "hobbies": "Music",
          "name": "Lionel",
          "personality": "Smug",
          "species": "Lion"
         },
         {
          "birthday": "November5th",
          "catchphrase": "\"ah-rooooo\"",
          "gender": "male",
          "hobbies": "Education",
          "name": "Lobo",
          "personality": "Cranky",
          "species": "Wolf"
         },
         {
          "birthday": "March27th",
          "catchphrase": "\"bonbon\"",
          "gender": "female",
          "hobbies": "Music",
          "name": "Lolly",
          "personality": "Normal",
          "species": "Cat"
         },
         {
          "birthday": "August20th",
          "catchphrase": "\"badoom\"",
          "gender": "male",
          "hobbies": "Education",
          "name": "Lopez",
          "personality": "Smug",
          "species": "Deer"
         },
         {
          "birthday": "March26th",
          "catchphrase": "\"hoohooha\"",
          "gender": "male",
          "hobbies": "Fitness",
          "name": "Louie",
          "personality": "Jock",
          "species": "Gorilla"
         },
         {
          "birthday": "December12th",
          "catchphrase": "\"cacaw\"",
          "gender": "male",
          "hobbies": "Fitness",
          "name": "Lucha",
          "personality": "Smug",
          "species": "Bird"
         },
         {
          "birthday": "November4th",
          "catchphrase": "\"rrr-owch\"",
          "gender": "male",
          "hobbies": "Play",
          "name": "Lucky",
          "personality": "Lazy",
          "species": "Dog"
         },
         {
          "birthday": "June2nd",
          "catchphrase": "\"snoooink\"",
          "gender": "female",
          "hobbies": "Music",
          "name": "Lucy",
          "personality": "Normal",
          "species": "Pig"
         },
         {
          "birthday": "October12th",
          "catchphrase": "\"chips\"",
          "gender": "male",
          "hobbies": "Play",
          "name": "Lyman",
          "personality": "Jock",
          "species": "Koala"
         },
         {
          "birthday": "November11th",
          "catchphrase": "\"woowoof\"",
          "gender": "male",
          "hobbies": "Fitness",
          "name": "Mac",
          "personality": "Jock",
          "species": "Dog"
         },
         {
          "birthday": "January11th",
          "catchphrase": "\"yippee\"",
          "gender": "female",
          "hobbies": "Play",
          "name": "Maddie",
          "personality": "Peppy",
          "species": "Dog"
         },
         {
          "birthday": "April8th",
          "catchphrase": "\"duckling\"",
          "gender": "female",
          "hobbies": "Fashion",
          "name": "Maelle",
          "personality": "Snooty",
          "species": "Duck"
         },
         {
          "birthday": "September3rd",
          "catchphrase": "\"schep\"",
          "gender": "female",
          "hobbies": "Nature",
          "name": "Maggie",
          "personality": "Normal",
          "species": "Pig"
         },
         {
          "birthday": "November17th",
          "catchphrase": "\"quackpth\"",
          "gender": "female",
          "hobbies": "Fashion",
          "name": "Mallary",
          "personality": "Snooty",
          "species": "Duck"
         },
         {
          "birthday": "June15th",
          "catchphrase": "\"honey\"",
          "gender": "female",
          "hobbies": "Education",
          "name": "Maple",
          "personality": "Normal",
          "species": "Cub"
         },
         {
          "birthday": "December31st",
          "catchphrase": "\"non\"",
          "gender": "male",
          "hobbies": "Play",
          "name": "Marcel",
          "personality": "Lazy",
          "species": "Dog"
         },
         {
          "birthday": "May31st",
          "catchphrase": "\"pouches\"",
          "gender": "female",
          "hobbies": "Nature",
          "name": "Marcie",
          "personality": "Normal",
          "species": "Kangaroo"
         },
         {
          "birthday": "January28th",
          "catchphrase": "\"tootie\"",
          "gender": "female",
          "hobbies": "Education",
          "name": "Margie",
          "personality": "Normal",
          "species": "Elephant"
         },
         {
          "birthday": "June26th",
          "catchphrase": "\"blurp\"",
          "gender": "female",
          "hobbies": "Music",
          "name": "Marina",
          "personality": "Normal",
          "species": "Octopus"
         },
         {
          "birthday": "September29th",
          "catchphrase": "\"sulky\"",
          "gender": "male",
          "hobbies": "Music",
          "name": "Marshal",
          "personality": "Smug",
          "species": "Squirrel"
         },
         {
          "birthday": "November12th",
          "catchphrase": "\"weebaby\"",
          "gender": "female",
          "hobbies": "Fitness",
          "name": "Mathilda",
          "personality": "Snooty",
          "species": "Kangaroo"
         },
         {
          "birthday": "March13th",
          "catchphrase": "\"sundae\"",
          "gender": "female",
          "hobbies": "Nature",
          "name": "Megan",
          "personality": "Normal",
          "species": "Bear"
         },
         {
          "birthday": "April12th",
          "catchphrase": "\"toasty\"",
          "gender": "female",
          "hobbies": "Education",
          "name": "Melba",
          "personality": "Normal",
          "species": "Koala"
         },
         {
          "birthday": "March19th",
          "catchphrase": "\"shortcake\"",
          "gender": "female",
          "hobbies": "Nature",
          "name": "Merengue",
          "personality": "Normal",
          "species": "Rhino"
         },
         {
          "birthday": "June29th",
          "catchphrase": "\"mweee\"",
          "gender": "female",
          "hobbies": "Fashion",
          "name": "Merry",
          "personality": "Peppy",
          "species": "Cat"
         },
         {
          "birthday": "March12th",
          "catchphrase": "\"tweedledee\"",
          "gender": "female",
          "hobbies": "Education",
          "name": "Midge",
          "personality": "Normal",
          "species": "Bird"
         },
         {
          "birthday": "May2nd",
          "catchphrase": "\"ahhhhhh\"",
          "gender": "female",
          "hobbies": "Fashion",
          "name": "Mint",
          "personality": "Snooty",
          "species": "Squirrel"
         },
         {
          "birthday": "July6th",
          "catchphrase": "\"cottontail\"",
          "gender": "female",
          "hobbies": "Fitness",
          "name": "Mira",
          "personality": "Sisterly",
          "species": "Rabbit"
         },
         {
          "birthday": "April23rd",
          "catchphrase": "\"quackulous\"",
          "gender": "female",
          "hobbies": "Fashion",
          "name": "Miranda",
          "personality": "Snooty",
          "species": "Duck"
         },
         {
          "birthday": "September25th",
          "catchphrase": "\"mew\"",
          "gender": "female",
          "hobbies": "Education",
          "name": "Mitzi",
          "personality": "Normal",
          "species": "Cat"
         },
         {
          "birthday": "January12th",
          "catchphrase": "\"myawn\"",
          "gender": "male",
          "hobbies": "Play",
          "name": "Moe",
          "personality": "Lazy",
          "species": "Cat"
         },
         {
          "birthday": "March7th",
          "catchphrase": "\"quackidee\"",
          "gender": "female",
          "hobbies": "Nature",
          "name": "Molly",
          "personality": "Normal",
          "species": "Duck"
         },
         {
          "birthday": "September30th",
          "catchphrase": "\"pffffft\"",
          "gender": "female",
          "hobbies": "Fashion",
          "name": "Monique",
          "personality": "Snooty",
          "species": "Cat"
         },
         {
          "birthday": "December7th",
          "catchphrase": "\"g'tang\"",
          "gender": "male",
          "hobbies": "Education",
          "name": "Monty",
          "personality": "Cranky",
          "species": "Monkey"
         },
         {
          "birthday": "September13th",
          "catchphrase": "\"shorty\"",
          "gender": "male",
          "hobbies": "Fitness",
          "name": "Moose",
          "personality": "Jock",
          "species": "Mouse"
         },
         {
          "birthday": "July10th",
          "catchphrase": "\"cagey\"",
          "gender": "male",
          "hobbies": "Fitness",
          "name": "Mott",
          "personality": "Jock",
          "species": "Lion"
         },
         {
          "birthday": "February14th",
          "catchphrase": "\"nightshade\"",
          "gender": "female",
          "hobbies": "Music",
          "name": "Muffy",
          "personality": "Sisterly",
          "species": "Sheep"
         },
         {
          "birthday": "December29th",
          "catchphrase": "\"malarkey\"",
          "gender": "male",
          "hobbies": "Education",
          "name": "Murphy",
          "personality": "Cranky",
          "species": "Cub"
         },
         {
          "birthday": "August24th",
          "catchphrase": "\"kid\"",
          "gender": "female",
          "hobbies": "Nature",
          "name": "Nan",
          "personality": "Normal",
          "species": "Goat"
         },
         {
          "birthday": "August23rd",
          "catchphrase": "\"popo\"",
          "gender": "female",
          "hobbies": "Education",
          "name": "Nana",
          "personality": "Normal",
          "species": "Monkey"
         },
         {
          "birthday": "February28th",
          "catchphrase": "\"moolah\"",
          "gender": "female",
          "hobbies": "Fashion",
          "name": "Naomi",
          "personality": "Snooty",
          "species": "Cow"
         },
         {
          "birthday": "August16th",
          "catchphrase": "\"yawwwn\"",
          "gender": "male",
          "hobbies": "Play",
          "name": "Nate",
          "personality": "Lazy",
          "species": "Bear"
         },
         {
          "birthday": "July19th",
          "catchphrase": "\"niblet\"",
          "gender": "female",
          "hobbies": "Fashion",
          "name": "Nibbles",
          "personality": "Peppy",
          "species": "Squirrel"
         },
         {
          "birthday": "September20th",
          "catchphrase": "\"hoofhoo\"",
          "gender": "female",
          "hobbies": "Nature",
          "name": "Norma",
          "personality": "Normal",
          "species": "Cow"
         },
         {
          "birthday": "September20th",
          "catchphrase": "\"sucker\"",
          "gender": "male",
          "hobbies": "Play",
          "name": "Octavian",
          "personality": "Cranky",
          "species": "Octopus"
         },
         {
          "birthday": "July24th",
          "catchphrase": "\"amigo\"",
          "gender": "male",
          "hobbies": "Nature",
          "name": "O'Hare",
          "personality": "Smug",
          "species": "Rabbit"
         },
         {
          "birthday": "May19th",
          "catchphrase": "\"whiffa\"",
          "gender": "male",
          "hobbies": "Education",
          "name": "Olaf",
          "personality": "Smug",
          "species": "Anteater"
         },
         {
          "birthday": "July12th",
          "catchphrase": "\"sweetpea\"",
          "gender": "female",
          "hobbies": "Nature",
          "name": "Olive",
          "personality": "Normal",
          "species": "Cub"
         },
         {
          "birthday": "February3rd",
          "catchphrase": "\"purrr\"",
          "gender": "female",
          "hobbies": "Music",
          "name": "Olivia",
          "personality": "Snooty",
          "species": "Cat"
         },
         {
          "birthday": "January20th",
          "catchphrase": "\"snoot\"",
          "gender": "female",
          "hobbies": "Fashion",
          "name": "Opal",
          "personality": "Snooty",
          "species": "Elephant"
         },
         {
          "birthday": "May7th",
          "catchphrase": "\"ol'bear\"",
          "gender": "male",
          "hobbies": "Play",
          "name": "Ozzie",
          "personality": "Lazy",
          "species": "Koala"
         },
         {
          "birthday": "November14th",
          "catchphrase": "\"sooey\"",
          "gender": "female",
          "hobbies": "Music",
          "name": "Pancetti",
          "personality": "Snooty",
          "species": "Pig"
         },
         {
          "birthday": "November9th",
          "catchphrase": "\"snooooof\"",
          "gender": "female",
          "hobbies": "Fashion",
          "name": "Pango",
          "personality": "Peppy",
          "species": "Anteater"
         },
         {
          "birthday": "May5th",
          "catchphrase": "\"pal\"",
          "gender": "male",
          "hobbies": "Nature",
          "name": "Paolo",
          "personality": "Lazy",
          "species": "Elephant"
         },
         {
          "birthday": "January10th",
          "catchphrase": "\"haaay\"",
          "gender": "male",
          "hobbies": "Nature",
          "name": "Papi",
          "personality": "Lazy",
          "species": "Horse"
         },
         {
          "birthday": "December26th",
          "catchphrase": "\"kidders\"",
          "gender": "female",
          "hobbies": "Music",
          "name": "Pashmina",
          "personality": "Sisterly",
          "species": "Goat"
         },
         {
          "birthday": "February23rd",
          "catchphrase": "\"quackle\"",
          "gender": "female",
          "hobbies": "Fashion",
          "name": "Pate",
          "personality": "Peppy",
          "species": "Duck"
         },
         {
          "birthday": "May10th",
          "catchphrase": "\"how-now\"",
          "gender": "female",
          "hobbies": "Fashion",
          "name": "Patty",
          "personality": "Peppy",
          "species": "Cow"
         },
         {
          "birthday": "March22nd",
          "catchphrase": "\"yodelay\"",
          "gender": "female",
          "hobbies": "Fitness",
          "name": "Paula",
          "personality": "Sisterly",
          "species": "Bear"
         },
         {
          "birthday": "November28th",
          "catchphrase": "\"neighbor\"",
          "gender": "female",
          "hobbies": "Education",
          "name": "Peaches",
          "personality": "Normal",
          "species": "Horse"
         },
         {
          "birthday": "June8th",
          "catchphrase": "\"slacker\"",
          "gender": "female",
          "hobbies": "Fashion",
          "name": "Peanut",
          "personality": "Peppy",
          "species": "Squirrel"
         },
         {
          "birthday": "September10th",
          "catchphrase": "\"chipmunk\"",
          "gender": "female",
          "hobbies": "Fashion",
          "name": "Pecan",
          "personality": "Snooty",
          "species": "Squirrel"
         },
         {
          "birthday": "July25th",
          "catchphrase": "\"crunch\"",
          "gender": "male",
          "hobbies": "Play",
          "name": "Peck",
          "personality": "Jock",
          "species": "Bird"
         },
         {
          "birthday": "September11th",
          "catchphrase": "\"li'lbittybaby\"",
          "gender": "male",
          "hobbies": "Fitness",
          "name": "Peewee",
          "personality": "Cranky",
          "species": "Gorilla"
         },
         {
          "birthday": "May23rd",
          "catchphrase": "\"shweetie\"",
          "gender": "female",
          "hobbies": "Fashion",
          "name": "Peggy",
          "personality": "Peppy",
          "species": "Pig"
         },
         {
          "birthday": "May18th",
          "catchphrase": "\"bud\"",
          "gender": "female",
          "hobbies": "Nature",
          "name": "Pekoe",
          "personality": "Normal",
          "species": "Cub"
         },
         {
          "birthday": "February5th",
          "catchphrase": "\"ohbow\"",
          "gender": "female",
          "hobbies": "Fashion",
          "name": "Penelope",
          "personality": "Peppy",
          "species": "Mouse"
         },
         {
          "birthday": "November27th",
          "catchphrase": "\"hurk\"",
          "gender": "male",
          "hobbies": "Music",
          "name": "Phil",
          "personality": "Smug",
          "species": "Ostrich"
         },
         {
          "birthday": "April22nd",
          "catchphrase": "\"sparky\"",
          "gender": "female",
          "hobbies": "Fitness",
          "name": "Phoebe",
          "personality": "Sisterly",
          "species": "Ostrich"
         },
         {
          "birthday": "January8th",
          "catchphrase": "\"hawkeye\"",
          "gender": "male",
          "hobbies": "Fitness",
          "name": "Pierce",
          "personality": "Jock",
          "species": "Eagle"
         },
         {
          "birthday": "April19th",
          "catchphrase": "\"honkhonk\"",
          "gender": "male",
          "hobbies": "Music",
          "name": "Pietro",
          "personality": "Smug",
          "species": "Sheep"
         },
         {
          "birthday": "September9th",
          "catchphrase": "\"wah\"",
          "gender": "female",
          "hobbies": "Fashion",
          "name": "Pinky",
          "personality": "Peppy",
          "species": "Bear"
         },
         {
          "birthday": "April18th",
          "catchphrase": "\"chickadee\"",
          "gender": "female",
          "hobbies": "Play",
          "name": "Piper",
          "personality": "Peppy",
          "species": "Bird"
         },
         {
          "birthday": "June14th",
          "catchphrase": "\"li'lhare\"",
          "gender": "female",
          "hobbies": "Fashion",
          "name": "Pippy",
          "personality": "Peppy",
          "species": "Rabbit"
         },
         {
          "birthday": "October12th",
          "catchphrase": "\"chicky-poo\"",
          "gender": "female",
          "hobbies": "Play",
          "name": "Plucky",
          "personality": "Sisterly",
          "species": "Chicken"
         },
         {
          "birthday": "February11th",
          "catchphrase": "\"rahrah\"",
          "gender": "female",
          "hobbies": "Music",
          "name": "Pompom",
          "personality": "Peppy",
          "species": "Duck"
         },
         {
          "birthday": "January2nd",
          "catchphrase": "\"li'lbear\"",
          "gender": "male",
          "hobbies": "Fitness",
          "name": "Poncho",
          "personality": "Jock",
          "species": "Cub"
         },
         {
          "birthday": "August5th",
          "catchphrase": "\"nutty\"",
          "gender": "female",
          "hobbies": "Education",
          "name": "Poppy",
          "personality": "Normal",
          "species": "Squirrel"
         },
         {
          "birthday": "October25th",
          "catchphrase": "\"ruffian\"",
          "gender": "female",
          "hobbies": "Fashion",
          "name": "Portia",
          "personality": "Snooty",
          "species": "Dog"
         },
         {
          "birthday": "July21st",
          "catchphrase": "\"burrup\"",
          "gender": "male",
          "hobbies": "Play",
          "name": "Prince",
          "personality": "Lazy",
          "species": "Frog"
         },
         {
          "birthday": "February21st",
          "catchphrase": "\"brrrrrrrrr\"",
          "gender": "male",
          "hobbies": "Fitness",
          "name": "Puck",
          "personality": "Lazy",
          "species": "Penguin"
         },
         {
          "birthday": "January13th",
          "catchphrase": "\"splish\"",
          "gender": "female",
          "hobbies": "Fashion",
          "name": "Puddles",
          "personality": "Peppy",
          "species": "Frog"
         },
         {
          "birthday": "June11th",
          "catchphrase": "\"golly\"",
          "gender": "male",
          "hobbies": "Play",
          "name": "Pudge",
          "personality": "Lazy",
          "species": "Cub"
         },
         {
          "birthday": "April11th",
          "catchphrase": "\"mrmpht\"",
          "gender": "male",
          "hobbies": "Play",
          "name": "Punchy",
          "personality": "Lazy",
          "species": "Cat"
         },
         {
          "birthday": "May29th",
          "catchphrase": "\"kitten\"",
          "gender": "female",
          "hobbies": "Fashion",
          "name": "Purrl",
          "personality": "Snooty",
          "species": "Cat"
         },
         {
          "birthday": "November13th",
          "catchphrase": "\"chicken\"",
          "gender": "female",
          "hobbies": "Fashion",
          "name": "Queenie",
          "personality": "Snooty",
          "species": "Ostrich"
         },
         {
          "birthday": "December22nd",
          "catchphrase": "\"ridukulous\"",
          "gender": "male",
          "hobbies": "Music",
          "name": "Quillson",
          "personality": "Smug",
          "species": "Duck"
         },
         {
          "birthday": "June6th",
          "catchphrase": "\"aaach—\"",
          "gender": "male",
          "hobbies": "Nature",
          "name": "Raddle",
          "personality": "Lazy",
          "species": "Frog"
         },
         {
          "birthday": "April7th",
          "catchphrase": "\"swine\"",
          "gender": "male",
          "hobbies": "Music",
          "name": "Rasher",
          "personality": "Cranky",
          "species": "Pig"
         },
         {
          "birthday": "October1st",
          "catchphrase": "\"crisp\"",
          "gender": "male",
          "hobbies": "Nature",
          "name": "Raymond",
          "personality": "Smug",
          "species": "Cat"
         },
         {
          "birthday": "May28th",
          "catchphrase": "\"yoyoyo\"",
          "gender": "female",
          "hobbies": "Music",
          "name": "Renée",
          "personality": "Sisterly",
          "species": "Rhino"
         },
         {
          "birthday": "June4th",
          "catchphrase": "\"ayupyup\"",
          "gender": "female",
          "hobbies": "Play",
          "name": "Reneigh",
          "personality": "Sisterly",
          "species": "Horse"
         },
         {
          "birthday": "July24th",
          "catchphrase": "\"coolcat\"",
          "gender": "male",
          "hobbies": "Nature",
          "name": "Rex",
          "personality": "Lazy",
          "species": "Lion"
         },
         {
          "birthday": "January24th",
          "catchphrase": "\"bigfoot\"",
          "gender": "female",
          "hobbies": "Music",
          "name": "Rhonda",
          "personality": "Normal",
          "species": "Rhino"
         },
         {
          "birthday": "February13th",
          "catchphrase": "\"zzrrbbitt\"",
          "gender": "male",
          "hobbies": "Fitness",
          "name": "Ribbot",
          "personality": "Jock",
          "species": "Frog"
         },
         {
          "birthday": "September14th",
          "catchphrase": "\"nutcase\"",
          "gender": "male",
          "hobbies": "Education",
          "name": "Ricky",
          "personality": "Cranky",
          "species": "Squirrel"
         },
         {
          "birthday": "January17th",
          "catchphrase": "\"squee\"",
          "gender": "male",
          "hobbies": "Education",
          "name": "Rizzo",
          "personality": "Cranky",
          "species": "Mouse"
         },
         {
          "birthday": "January5th",
          "catchphrase": "\"b-b-buddy\"",
          "gender": "male",
          "hobbies": "Fitness",
          "name": "Roald",
          "personality": "Jock",
          "species": "Penguin"
         },
         {
          "birthday": "December4th",
          "catchphrase": "\"la-di-da\"",
          "gender": "female",
          "hobbies": "Fashion",
          "name": "Robin",
          "personality": "Snooty",
          "species": "Bird"
         },
         {
          "birthday": "August18th",
          "catchphrase": "\"hippie\"",
          "gender": "male",
          "hobbies": "Education",
          "name": "Rocco",
          "personality": "Cranky",
          "species": "Hippo"
         },
         {
          "birthday": "April14th",
          "catchphrase": "\"vroom\"",
          "gender": "female",
          "hobbies": "Fitness",
          "name": "Rocket",
          "personality": "Sisterly",
          "species": "Gorilla"
         },
         {
          "birthday": "August14th",
          "catchphrase": "\"ace\"",
          "gender": "male",
          "hobbies": "Fitness",
          "name": "Rod",
          "personality": "Jock",
          "species": "Mouse"
         },
         {
          "birthday": "October29th",
          "catchphrase": "\"chaps\"",
          "gender": "male",
          "hobbies": "Fitness",
          "name": "Rodeo",
          "personality": "Lazy",
          "species": "Bull"
         },
         {
          "birthday": "November10th",
          "catchphrase": "\"leham\"",
          "gender": "male",
          "hobbies": "Music",
          "name": "Rodney",
          "personality": "Smug",
          "species": "Hamster"
         },
         {
          "birthday": "August22nd",
          "catchphrase": "\"grrrolf\"",
          "gender": "male",
          "hobbies": "Fitness",
          "name": "Rolf",
          "personality": "Cranky",
          "species": "Tiger"
         },
         {
          "birthday": "December1st",
          "catchphrase": "\"punches\"",
          "gender": "male",
          "hobbies": "Fitness",
          "name": "Rooney",
          "personality": "Cranky",
          "species": "Kangaroo"
         },
         {
          "birthday": "August7th",
          "catchphrase": "\"capital\"",
          "gender": "male",
          "hobbies": "Music",
          "name": "Rory",
          "personality": "Jock",
          "species": "Lion"
         },
         {
          "birthday": "June16th",
          "catchphrase": "\"nay\"",
          "gender": "male",
          "hobbies": "Music",
          "name": "Roscoe",
          "personality": "Cranky",
          "species": "Horse"
         },
         {
          "birthday": "February27th",
          "catchphrase": "\"silly\"",
          "gender": "female",
          "hobbies": "Music",
          "name": "Rosie",
          "personality": "Peppy",
          "species": "Cat"
         },
         {
          "birthday": "August26th",
          "catchphrase": "\"mango\"",
          "gender": "male",
          "hobbies": "Fitness",
          "name": "Rowan",
          "personality": "Jock",
          "species": "Tiger"
         },
         {
          "birthday": "December25th",
          "catchphrase": "\"li'lears\"",
          "gender": "female",
          "hobbies": "Nature",
          "name": "Ruby",
          "personality": "Peppy",
          "species": "Rabbit"
         },
         {
          "birthday": "December20th",
          "catchphrase": "\"mush\"",
          "gender": "male",
          "hobbies": "Play",
          "name": "Rudy",
          "personality": "Jock",
          "species": "Cat"
         },
         {
          "birthday": "June19th",
          "catchphrase": "\"nutmeg\"",
          "gender": "female",
          "hobbies": "Music",
          "name": "Sally",
          "personality": "Normal",
          "species": "Squirrel"
         },
         {
          "birthday": "July5th",
          "catchphrase": "\"pipsqueak\"",
          "gender": "male",
          "hobbies": "Fitness",
          "name": "Samson",
          "personality": "Jock",
          "species": "Mouse"
         },
         {
          "birthday": "October21st",
          "catchphrase": "\"speedy\"",
          "gender": "female",
          "hobbies": "Nature",
          "name": "Sandy",
          "personality": "Normal",
          "species": "Ostrich"
         },
         {
          "birthday": "January25th",
          "catchphrase": "\"y'all\"",
          "gender": "female",
          "hobbies": "Music",
          "name": "Savannah",
          "personality": "Normal",
          "species": "Horse"
         },
         {
          "birthday": "June13th",
          "catchphrase": "\"zipzoom\"",
          "gender": "male",
          "hobbies": "Fitness",
          "name": "Scoot",
          "personality": "Jock",
          "species": "Duck"
         },
         {
          "birthday": "April10th",
          "catchphrase": "\"cheeky\"",
          "gender": "female",
          "hobbies": "Music",
          "name": "Shari",
          "personality": "Sisterly",
          "species": "Monkey"
         },
         {
          "birthday": "February26th",
          "catchphrase": "\"cardio\"",
          "gender": "male",
          "hobbies": "Play",
          "name": "Sheldon",
          "personality": "Jock",
          "species": "Squirrel"
         },
         {
          "birthday": "November24th",
          "catchphrase": "\"baabaabaa\"",
          "gender": "male",
          "hobbies": "Education",
          "name": "Shep",
          "personality": "Smug",
          "species": "Dog"
         },
         {
          "birthday": "January18th",
          "catchphrase": "\"bawwww\"",
          "gender": "male",
          "hobbies": "Nature",
          "name": "Sherb",
          "personality": "Lazy",
          "species": "Goat"
         },
         {
          "birthday": "January19th",
          "catchphrase": "\"zzzook\"",
          "gender": "male",
          "hobbies": "Play",
          "name": "Simon",
          "personality": "Lazy",
          "species": "Monkey"
         },
         {
          "birthday": "March24th",
          "catchphrase": "\"airmail\"",
          "gender": "female",
          "hobbies": "Music",
          "name": "Skye",
          "personality": "Normal",
          "species": "Wolf"
         },
         {
          "birthday": "November15th",
          "catchphrase": "\"hoo-rah\"",
          "gender": "male",
          "hobbies": "Play",
          "name": "Sly",
          "personality": "Jock",
          "species": "Alligator"
         },
         {
          "birthday": "November3rd",
          "catchphrase": "\"bunyip\"",
          "gender": "male",
          "hobbies": "Fitness",
          "name": "Snake",
          "personality": "Jock",
          "species": "Rabbit"
         },
         {
          "birthday": "October24th",
          "catchphrase": "\"sniffff\"",
          "gender": "female",
          "hobbies": "Education",
          "name": "Snooty",
          "personality": "Snooty",
          "species": "Anteater"
         },
         {
          "birthday": "August9th",
          "catchphrase": "\"tarnation\"",
          "gender": "female",
          "hobbies": "Education",
          "name": "Soleil",
          "personality": "Snooty",
          "species": "Hamster"
         },
         {
          "birthday": "November20th",
          "catchphrase": "\"likewhoa\"",
          "gender": "male",
          "hobbies": "Play",
          "name": "Sparro",
          "personality": "Jock",
          "species": "Bird"
         },
         {
          "birthday": "June17th",
          "catchphrase": "\"punk\"",
          "gender": "male",
          "hobbies": "Nature",
          "name": "Spike",
          "personality": "Cranky",
          "species": "Rhino"
         },
         {
          "birthday": "September3rd",
          "catchphrase": "\"snork\"",
          "gender": "male",
          "hobbies": "Play",
          "name": "SporkNACracklePAL",
          "personality": "Lazy",
          "species": "Pig"
         },
         {
          "birthday": "February20th",
          "catchphrase": "\"frappe\"",
          "gender": "female",
          "hobbies": "Play",
          "name": "Sprinkle",
          "personality": "Peppy",
          "species": "Penguin"
         },
         {
          "birthday": "December1st",
          "catchphrase": "\"zort\"",
          "gender": "male",
          "hobbies": "Music",
          "name": "Sprocket",
          "personality": "Jock",
          "species": "Ostrich"
         },
         {
          "birthday": "July9th",
          "catchphrase": "\"krzzt\"",
          "gender": "male",
          "hobbies": "Music",
          "name": "Static",
          "personality": "Cranky",
          "species": "Squirrel"
         },
         {
          "birthday": "April9th",
          "catchphrase": "\"baa-dabing\"",
          "gender": "female",
          "hobbies": "Nature",
          "name": "Stella",
          "personality": "Normal",
          "species": "Sheep"
         },
         {
          "birthday": "December11th",
          "catchphrase": "\"skraaaaw\"",
          "gender": "male",
          "hobbies": "Fitness",
          "name": "Sterling",
          "personality": "Jock",
          "species": "Eagle"
         },
         {
          "birthday": "August17th",
          "catchphrase": "\"GAAHHH\"",
          "gender": "male",
          "hobbies": "Fitness",
          "name": "Stinky",
          "personality": "Jock",
          "species": "Cat"
         },
         {
          "birthday": "February10th",
          "catchphrase": "\"stuffin'\"",
          "gender": "male",
          "hobbies": "Play",
          "name": "Stitches",
          "personality": "Lazy",
          "species": "Cub"
         },
         {
          "birthday": "April20th",
          "catchphrase": "\"mrooooo\"",
          "gender": "male",
          "hobbies": "Nature",
          "name": "Stu",
          "personality": "Lazy",
          "species": "Bull"
         },
         {
          "birthday": "June21st",
          "catchphrase": "\"sunshine\"",
          "gender": "female",
          "hobbies": "Music",
          "name": "Sydney",
          "personality": "Normal",
          "species": "Koala"
         },
         {
          "birthday": "October22nd",
          "catchphrase": "\"hubbub\"",
          "gender": "female",
          "hobbies": "Nature",
          "name": "Sylvana",
          "personality": "Normal",
          "species": "Squirrel"
         },
         {
          "birthday": "May3rd",
          "catchphrase": "\"boing\"",
          "gender": "female",
          "hobbies": "Music",
          "name": "Sylvia",
          "personality": "Sisterly",
          "species": "Kangaroo"
         },
         {
          "birthday": "August13th",
          "catchphrase": "\"me-WOW\"",
          "gender": "female",
          "hobbies": "Music",
          "name": "Tabby",
          "personality": "Peppy",
          "species": "Cat"
         },
         {
          "birthday": "August3rd",
          "catchphrase": "\"sluuuurp\"",
          "gender": "male",
          "hobbies": "Play",
          "name": "Tad",
          "personality": "Jock",
          "species": "Frog"
         },
         {
          "birthday": "April2nd",
          "catchphrase": "\"chimpy\"",
          "gender": "female",
          "hobbies": "Fashion",
          "name": "Tammi",
          "personality": "Peppy",
          "species": "Monkey"
         },
         {
          "birthday": "June23rd",
          "catchphrase": "\"yaheard\"",
          "gender": "female",
          "hobbies": "Play",
          "name": "Tammy",
          "personality": "Sisterly",
          "species": "Cub"
         },
         {
          "birthday": "June17th",
          "catchphrase": "\"reeeeOWR\"",
          "gender": "female",
          "hobbies": "Music",
          "name": "Tangy",
          "personality": "Peppy",
          "species": "Cat"
         },
         {
          "birthday": "May6th",
          "catchphrase": "\"kerPOW\"",
          "gender": "male",
          "hobbies": "Fitness",
          "name": "Tank",
          "personality": "Jock",
          "species": "Rhino"
         },
         {
          "birthday": "November30th",
          "catchphrase": "\"nicenice\"",
          "gender": "female",
          "hobbies": "Fitness",
          "name": "Tasha",
          "personality": "Snooty",
          "species": "Squirrel"
         },
         {
          "birthday": "May20th",
          "catchphrase": "\"moocher\"",
          "gender": "male",
          "hobbies": "Education",
          "name": "T-Bone",
          "personality": "Cranky",
          "species": "Bull"
         },
         {
          "birthday": "September26th",
          "catchphrase": "\"grooof\"",
          "gender": "male",
          "hobbies": "Fitness",
          "name": "Teddy",
          "personality": "Jock",
          "species": "Bear"
         },
         {
          "birthday": "October6th",
          "catchphrase": "\"picante\"",
          "gender": "male",
          "hobbies": "Music",
          "name": "Tex",
          "personality": "Smug",
          "species": "Penguin"
         },
         {
          "birthday": "November18th",
          "catchphrase": "\"teacup\"",
          "gender": "female",
          "hobbies": "Nature",
          "name": "Tia",
          "personality": "Normal",
          "species": "Elephant"
         },
         {
          "birthday": "January9th",
          "catchphrase": "\"bunbun\"",
          "gender": "female",
          "hobbies": "Fashion",
          "name": "Tiffany",
          "personality": "Snooty",
          "species": "Rabbit"
         },
         {
          "birthday": "October21st",
          "catchphrase": "\"pinenut\"",
          "gender": "female",
          "hobbies": "Education",
          "name": "Timbra",
          "personality": "Snooty",
          "species": "Sheep"
         },
         {
          "birthday": "August25th",
          "catchphrase": "\"pushy\"",
          "gender": "female",
          "hobbies": "Fashion",
          "name": "Tipper",
          "personality": "Snooty",
          "species": "Cow"
         },
         {
          "birthday": "December10th",
          "catchphrase": "\"me-YOWZA\"",
          "gender": "male",
          "hobbies": "Education",
          "name": "Tom",
          "personality": "Cranky",
          "species": "Cat"
         },
         {
          "birthday": "July28th",
          "catchphrase": "\"snoutie\"",
          "gender": "female",
          "hobbies": "Fashion",
          "name": "Truffles",
          "personality": "Peppy",
          "species": "Pig"
         },
         {
          "birthday": "September7th",
          "catchphrase": "\"fuzzers\"",
          "gender": "male",
          "hobbies": "Nature",
          "name": "Tucker",
          "personality": "Lazy",
          "species": "Elephant"
         },
         {
          "birthday": "September15th",
          "catchphrase": "\"twinkles\"",
          "gender": "female",
          "hobbies": "Fashion",
          "name": "Tutu",
          "personality": "Peppy",
          "species": "Bear"
         },
         {
          "birthday": "July13th",
          "catchphrase": "\"cheepers\"",
          "gender": "female",
          "hobbies": "Fashion",
          "name": "Twiggy",
          "personality": "Peppy",
          "species": "Bird"
         },
         {
          "birthday": "August19th",
          "catchphrase": "\"grrrRAH\"",
          "gender": "male",
          "hobbies": "Play",
          "name": "Tybalt",
          "personality": "Jock",
          "species": "Tiger"
         },
         {
          "birthday": "January16th",
          "catchphrase": "\"grooomph\"",
          "gender": "female",
          "hobbies": "Music",
          "name": "Ursala",
          "personality": "Sisterly",
          "species": "Bear"
         },
         {
          "birthday": "January14th",
          "catchphrase": "\"blih\"",
          "gender": "female",
          "hobbies": "Education",
          "name": "Velma",
          "personality": "Snooty",
          "species": "Goat"
         },
         {
          "birthday": "April16th",
          "catchphrase": "\"baaaffo\"",
          "gender": "female",
          "hobbies": "Fashion",
          "name": "Vesta",
          "personality": "Normal",
          "species": "Sheep"
         },
         {
          "birthday": "December29th",
          "catchphrase": "\"cud\"",
          "gender": "male",
          "hobbies": "Fitness",
          "name": "Vic",
          "personality": "Cranky",
          "species": "Bull"
         },
         {
          "birthday": "July11th",
          "catchphrase": "\"sugarcube\"",
          "gender": "female",
          "hobbies": "Fitness",
          "name": "Victoria",
          "personality": "Peppy",
          "species": "Horse"
         },
         {
          "birthday": "September1st",
          "catchphrase": "\"sweetie\"",
          "gender": "female",
          "hobbies": "Fitness",
          "name": "Violet",
          "personality": "Snooty",
          "species": "Gorilla"
         },
         {
          "birthday": "January26th",
          "catchphrase": "\"piffle\"",
          "gender": "female",
          "hobbies": "Education",
          "name": "Vivian",
          "personality": "Snooty",
          "species": "Wolf"
         },
         {
          "birthday": "August2nd",
          "catchphrase": "\"nyet\"",
          "gender": "male",
          "hobbies": "Play",
          "name": "Vladimir",
          "personality": "Cranky",
          "species": "Cub"
         },
         {
          "birthday": "October30th",
          "catchphrase": "\"soitgoes\"",
          "gender": "male",
          "hobbies": "Nature",
          "name": "Wade",
          "personality": "Lazy",
          "species": "Penguin"
         },
         {
          "birthday": "June10th",
          "catchphrase": "\"wuh\"",
          "gender": "male",
          "hobbies": "Play",
          "name": "Walker",
          "personality": "Lazy",
          "species": "Dog"
         },
         {
          "birthday": "April24th",
          "catchphrase": "\"pockets\"",
          "gender": "male",
          "hobbies": "Fitness",
          "name": "Walt",
          "personality": "Cranky",
          "species": "Kangaroo"
         },
         {
          "birthday": "August21st",
          "catchphrase": "\"grr-ribbit\"",
          "gender": "male",
          "hobbies": "Education",
          "name": "WartJr.",
          "personality": "Cranky",
          "species": "Frog"
         },
         {
          "birthday": "June30th",
          "catchphrase": "\"quaa\"",
          "gender": "male",
          "hobbies": "Nature",
          "name": "Weber",
          "personality": "Lazy",
          "species": "Duck"
         },
         {
          "birthday": "August15th",
          "catchphrase": "\"lambkins\"",
          "gender": "female",
          "hobbies": "Fashion",
          "name": "Wendy",
          "personality": "Peppy",
          "species": "Sheep"
         },
         {
          "birthday": "September17th",
          "catchphrase": "\"snappy\"",
          "gender": "female",
          "hobbies": "Fashion",
          "name": "Whitney",
          "personality": "Snooty",
          "species": "Wolf"
         },
         {
          "birthday": "November26th",
          "catchphrase": "\"bopeep\"",
          "gender": "female",
          "hobbies": "Fashion",
          "name": "Willow",
          "personality": "Snooty",
          "species": "Sheep"
         },
         {
          "birthday": "January31st",
          "catchphrase": "\"hay-OK\"",
          "gender": "female",
          "hobbies": "Fashion",
          "name": "Winnie",
          "personality": "Peppy",
          "species": "Horse"
         },
         {
          "birthday": "November25th",
          "catchphrase": "\"snarrrl\"",
          "gender": "male",
          "hobbies": "Education",
          "name": "Wolfgang",
          "personality": "Cranky",
          "species": "Wolf"
         },
         {
          "birthday": "July20th",
          "catchphrase": "\"tsktsk\"",
          "gender": "female",
          "hobbies": "Fashion",
          "name": "Yuka",
          "personality": "Snooty",
          "species": "Koala"
         },
         {
          "birthday": "June7th",
          "catchphrase": "\"pronk\"",
          "gender": "male",
          "hobbies": "Music",
          "name": "Zell",
          "personality": "Smug",
          "species": "Deer"
         },
         {
          "birthday": "March8th",
          "catchphrase": "\"bloop\"",
          "gender": "male",
          "hobbies": "Nature",
          "name": "Zucker",
          "personality": "Lazy",
          "species": "Octopus"
         }
        ]
       },
       "encoding": {
        "color": {
         "field": "gender",
         "type": "nominal"
        },
        "x": {
         "field": "hobbies",
         "type": "nominal"
        },
        "y": {
         "aggregate": "count",
         "type": "quantitative"
        }
       },
       "mark": "bar"
      },
      "image/png": "[encoded data removed]",
      "text/plain": [
       "<VegaLite 4 object>\n",
       "\n",
       "If you see this message, it means the renderer has not been properly enabled\n",
       "for the frontend that you are using. For more information, see\n",
       "https://altair-viz.github.io/user_guide/troubleshooting.html\n"
      ]
     },
     "execution_count": 18,
     "metadata": {},
     "output_type": "execute_result"
    }
   ],
   "source": [
    "alt.Chart(cleaned_data).mark_bar().encode(\n",
    "    alt.X('hobbies'),\n",
    "    y = 'count()',\n",
    "    color = 'gender'\n",
    ")"
   ]
  },
  {
   "cell_type": "markdown",
   "metadata": {},
   "source": [
    "### Hmm... It seens like no male villagers is interested in **Fashion**. The gender ration seems to be well balanced among Education and Music hobbies. There are more male villages interested into Natural and Play."
   ]
  },
  {
   "cell_type": "code",
   "execution_count": 19,
   "metadata": {},
   "outputs": [
    {
     "data": {
      "application/vnd.vegalite.v4+json": {
       "$schema": "https://vega.github.io/schema/vega-lite/v4.8.1.json",
       "config": {
        "view": {
         "continuousHeight": 300,
         "continuousWidth": 400
        }
       },
       "data": {
        "name": "data-b6cd50f40cc3a8bb0161cf8bc8e8da85"
       },
       "datasets": {
        "data-b6cd50f40cc3a8bb0161cf8bc8e8da85": [
         {
          "birthday": "January27th",
          "catchphrase": "\"ayeaye\"",
          "gender": "male",
          "hobbies": "Nature",
          "name": "Admiral",
          "personality": "Cranky",
          "species": "Bird"
         },
         {
          "birthday": "July2nd",
          "catchphrase": "\"sidekick\"",
          "gender": "female",
          "hobbies": "Fitness",
          "name": "AgentS",
          "personality": "Peppy",
          "species": "Squirrel"
         },
         {
          "birthday": "April21st",
          "catchphrase": "\"snuffle\"",
          "gender": "female",
          "hobbies": "Play",
          "name": "Agnes",
          "personality": "Sisterly",
          "species": "Pig"
         },
         {
          "birthday": "October18th",
          "catchphrase": "\"ayyeeee\"",
          "gender": "male",
          "hobbies": "Fitness",
          "name": "Al",
          "personality": "Lazy",
          "species": "Gorilla"
         },
         {
          "birthday": "June9th",
          "catchphrase": "\"it'same\"",
          "gender": "male",
          "hobbies": "Play",
          "name": "Alfonso",
          "personality": "Lazy",
          "species": "Alligator"
         },
         {
          "birthday": "August19th",
          "catchphrase": "\"guvnor\"",
          "gender": "female",
          "hobbies": "Education",
          "name": "Alice",
          "personality": "Normal",
          "species": "Koala"
         },
         {
          "birthday": "November8th",
          "catchphrase": "\"graaagh\"",
          "gender": "female",
          "hobbies": "Fashion",
          "name": "Alli",
          "personality": "Snooty",
          "species": "Alligator"
         },
         {
          "birthday": "November19th",
          "catchphrase": "\"cuz\"",
          "gender": "female",
          "hobbies": "Music",
          "name": "Amelia",
          "personality": "Snooty",
          "species": "Eagle"
         },
         {
          "birthday": "February16th",
          "catchphrase": "\"snorty\"",
          "gender": "female",
          "hobbies": "Fashion",
          "name": "Anabelle",
          "personality": "Peppy",
          "species": "Anteater"
         },
         {
          "birthday": "March4th",
          "catchphrase": "\"chuurp\"",
          "gender": "male",
          "hobbies": "Play",
          "name": "Anchovy",
          "personality": "Lazy",
          "species": "Bird"
         },
         {
          "birthday": "April30th",
          "catchphrase": "\"macmoo\"",
          "gender": "male",
          "hobbies": "Fitness",
          "name": "Angus",
          "personality": "Cranky",
          "species": "Bull"
         },
         {
          "birthday": "February24th",
          "catchphrase": "\"cannoli\"",
          "gender": "female",
          "hobbies": "Fashion",
          "name": "Anicotti",
          "personality": "Peppy",
          "species": "Mouse"
         },
         {
          "birthday": "September22nd",
          "catchphrase": "\"memeow\"",
          "gender": "female",
          "hobbies": "Nature",
          "name": "Ankha",
          "personality": "Snooty",
          "species": "Cat"
         },
         {
          "birthday": "February6th",
          "catchphrase": "\"gumdrop\"",
          "gender": "female",
          "hobbies": "Nature",
          "name": "Annalisa",
          "personality": "Normal",
          "species": "Anteater"
         },
         {
          "birthday": "December2nd",
          "catchphrase": "\"nipper\"",
          "gender": "female",
          "hobbies": "Fashion",
          "name": "Annalise",
          "personality": "Snooty",
          "species": "Horse"
         },
         {
          "birthday": "October20th",
          "catchphrase": "\"honk\"",
          "gender": "male",
          "hobbies": "Fitness",
          "name": "Antonio",
          "personality": "Jock",
          "species": "Anteater"
         },
         {
          "birthday": "July4th",
          "catchphrase": "\"pah\"",
          "gender": "male",
          "hobbies": "Music",
          "name": "Apollo",
          "personality": "Cranky",
          "species": "Eagle"
         },
         {
          "birthday": "September24th",
          "catchphrase": "\"cheekers\"",
          "gender": "female",
          "hobbies": "Play",
          "name": "Apple",
          "personality": "Peppy",
          "species": "Hamster"
         },
         {
          "birthday": "September8th",
          "catchphrase": "\"mypet\"",
          "gender": "female",
          "hobbies": "Music",
          "name": "Astrid",
          "personality": "Snooty",
          "species": "Kangaroo"
         },
         {
          "birthday": "August31st",
          "catchphrase": "\"foxtrot\"",
          "gender": "female",
          "hobbies": "Fitness",
          "name": "Audie",
          "personality": "Peppy",
          "species": "Wolf"
         },
         {
          "birthday": "January27th",
          "catchphrase": "\"b-b-baby\"",
          "gender": "female",
          "hobbies": "Education",
          "name": "Aurora",
          "personality": "Normal",
          "species": "Penguin"
         },
         {
          "birthday": "April28th",
          "catchphrase": "\"beaker\"",
          "gender": "female",
          "hobbies": "Music",
          "name": "Ava",
          "personality": "Normal",
          "species": "Chicken"
         },
         {
          "birthday": "February22nd",
          "catchphrase": "\"skree-haw\"",
          "gender": "male",
          "hobbies": "Music",
          "name": "Avery",
          "personality": "Cranky",
          "species": "Eagle"
         },
         {
          "birthday": "March23rd",
          "catchphrase": "\"WHONK\"",
          "gender": "male",
          "hobbies": "Fitness",
          "name": "Axel",
          "personality": "Jock",
          "species": "Elephant"
         },
         {
          "birthday": "March28th",
          "catchphrase": "\"daahling\"",
          "gender": "female",
          "hobbies": "Fashion",
          "name": "Baabara",
          "personality": "Snooty",
          "species": "Sheep"
         },
         {
          "birthday": "November7th",
          "catchphrase": "\"kablang\"",
          "gender": "male",
          "hobbies": "Play",
          "name": "Bam",
          "personality": "Jock",
          "species": "Deer"
         },
         {
          "birthday": "August27th",
          "catchphrase": "\"growf\"",
          "gender": "female",
          "hobbies": "Fashion",
          "name": "Bangle",
          "personality": "Peppy",
          "species": "Tiger"
         },
         {
          "birthday": "March2nd",
          "catchphrase": "\"cubby\"",
          "gender": "male",
          "hobbies": "Play",
          "name": "Barold",
          "personality": "Lazy",
          "species": "Cub"
         },
         {
          "birthday": "October15th",
          "catchphrase": "\"bingo\"",
          "gender": "female",
          "hobbies": "Nature",
          "name": "Bea",
          "personality": "Normal",
          "species": "Dog"
         },
         {
          "birthday": "September27th",
          "catchphrase": "\"whiskers\"",
          "gender": "male",
          "hobbies": "Education",
          "name": "Beardo",
          "personality": "Smug",
          "species": "Bear"
         },
         {
          "birthday": "April5th",
          "catchphrase": "\"saltlick\"",
          "gender": "male",
          "hobbies": "Nature",
          "name": "Beau",
          "personality": "Lazy",
          "species": "Deer"
         },
         {
          "birthday": "December9th",
          "catchphrase": "\"chicklet\"",
          "gender": "female",
          "hobbies": "Music",
          "name": "Becky",
          "personality": "Snooty",
          "species": "Chicken"
         },
         {
          "birthday": "December28th",
          "catchphrase": "\"eeks\"",
          "gender": "female",
          "hobbies": "Music",
          "name": "Bella",
          "personality": "Peppy",
          "species": "Mouse"
         },
         {
          "birthday": "October10th",
          "catchphrase": "\"uh-hoo\"",
          "gender": "male",
          "hobbies": "Play",
          "name": "Benedict",
          "personality": "Lazy",
          "species": "Chicken"
         },
         {
          "birthday": "August3rd",
          "catchphrase": "\"alrighty\"",
          "gender": "male",
          "hobbies": "Nature",
          "name": "Benjamin",
          "personality": "Lazy",
          "species": "Dog"
         },
         {
          "birthday": "April25th",
          "catchphrase": "\"bloop\"",
          "gender": "female",
          "hobbies": "Education",
          "name": "Bertha",
          "personality": "Normal",
          "species": "Hippo"
         },
         {
          "birthday": "June12th",
          "catchphrase": "\"eekers\"",
          "gender": "female",
          "hobbies": "Education",
          "name": "Bettina",
          "personality": "Normal",
          "species": "Mouse"
         },
         {
          "birthday": "December13th",
          "catchphrase": "\"glimmer\"",
          "gender": "female",
          "hobbies": "Play",
          "name": "Bianca",
          "personality": "Peppy",
          "species": "Tiger"
         },
         {
          "birthday": "March29th",
          "catchphrase": "\"squirt\"",
          "gender": "male",
          "hobbies": "Fitness",
          "name": "Biff",
          "personality": "Jock",
          "species": "Hippo"
         },
         {
          "birthday": "October3rd",
          "catchphrase": "\"villain\"",
          "gender": "male",
          "hobbies": "Play",
          "name": "BigTop",
          "personality": "Lazy",
          "species": "Elephant"
         },
         {
          "birthday": "February1st",
          "catchphrase": "\"quacko\"",
          "gender": "male",
          "hobbies": "Play",
          "name": "Bill",
          "personality": "Jock",
          "species": "Duck"
         },
         {
          "birthday": "March25th",
          "catchphrase": "\"dagnaabit\"",
          "gender": "male",
          "hobbies": "Play",
          "name": "Billy",
          "personality": "Jock",
          "species": "Goat"
         },
         {
          "birthday": "May13th",
          "catchphrase": "\"dawg\"",
          "gender": "male",
          "hobbies": "Play",
          "name": "Biskit",
          "personality": "Lazy",
          "species": "Dog"
         },
         {
          "birthday": "October6th",
          "catchphrase": "\"mydear\"",
          "gender": "female",
          "hobbies": "Education",
          "name": "Bitty",
          "personality": "Snooty",
          "species": "Hippo"
         },
         {
          "birthday": "July3rd",
          "catchphrase": "\"nutlet\"",
          "gender": "female",
          "hobbies": "Fashion",
          "name": "Blaire",
          "personality": "Snooty",
          "species": "Squirrel"
         },
         {
          "birthday": "December21st",
          "catchphrase": "\"quiteso\"",
          "gender": "female",
          "hobbies": "Nature",
          "name": "Blanche",
          "personality": "Snooty",
          "species": "Ostrich"
         },
         {
          "birthday": "June24th",
          "catchphrase": "\"peach\"",
          "gender": "female",
          "hobbies": "Fashion",
          "name": "Bluebear",
          "personality": "Peppy",
          "species": "Cub"
         },
         {
          "birthday": "January1st",
          "catchphrase": "\"pthhpth\"",
          "gender": "male",
          "hobbies": "Play",
          "name": "Bob",
          "personality": "Lazy",
          "species": "Cat"
         },
         {
          "birthday": "March3rd",
          "catchphrase": "\"deelish\"",
          "gender": "female",
          "hobbies": "Play",
          "name": "Bonbon",
          "personality": "Peppy",
          "species": "Rabbit"
         },
         {
          "birthday": "August4th",
          "catchphrase": "\"yipyip\"",
          "gender": "male",
          "hobbies": "Play",
          "name": "Bones",
          "personality": "Lazy",
          "species": "Dog"
         },
         {
          "birthday": "February7th",
          "catchphrase": "\"human\"",
          "gender": "male",
          "hobbies": "Fitness",
          "name": "Boomer",
          "personality": "Lazy",
          "species": "Penguin"
         },
         {
          "birthday": "September12th",
          "catchphrase": "\"baboom\"",
          "gender": "male",
          "hobbies": "Fitness",
          "name": "Boone",
          "personality": "Jock",
          "species": "Gorilla"
         },
         {
          "birthday": "August7th",
          "catchphrase": "\"munchie\"",
          "gender": "male",
          "hobbies": "Play",
          "name": "Boots",
          "personality": "Jock",
          "species": "Alligator"
         },
         {
          "birthday": "November6th",
          "catchphrase": "\"schnort\"",
          "gender": "male",
          "hobbies": "Nature",
          "name": "Boris",
          "personality": "Cranky",
          "species": "Pig"
         },
         {
          "birthday": "October1st",
          "catchphrase": "\"uh-oh\"",
          "gender": "male",
          "hobbies": "Fitness",
          "name": "Boyd",
          "personality": "Cranky",
          "species": "Gorilla"
         },
         {
          "birthday": "July7th",
          "catchphrase": "\"cheeseball\"",
          "gender": "female",
          "hobbies": "Fashion",
          "name": "Bree",
          "personality": "Snooty",
          "species": "Mouse"
         },
         {
          "birthday": "June30th",
          "catchphrase": "\"eatit\"",
          "gender": "male",
          "hobbies": "Play",
          "name": "Broccolo",
          "personality": "Lazy",
          "species": "Mouse"
         },
         {
          "birthday": "October24th",
          "catchphrase": "\"cluckadoo\"",
          "gender": "female",
          "hobbies": "Music",
          "name": "Broffina",
          "personality": "Snooty",
          "species": "Chicken"
         },
         {
          "birthday": "May26th",
          "catchphrase": "\"gruff\"",
          "gender": "male",
          "hobbies": "Nature",
          "name": "Bruce",
          "personality": "Cranky",
          "species": "Deer"
         },
         {
          "birthday": "September18th",
          "catchphrase": "\"hipster\"",
          "gender": "female",
          "hobbies": "Fashion",
          "name": "Bubbles",
          "personality": "Peppy",
          "species": "Hippo"
         },
         {
          "birthday": "April4th",
          "catchphrase": "\"pardner\"",
          "gender": "male",
          "hobbies": "Fitness",
          "name": "Buck",
          "personality": "Jock",
          "species": "Horse"
         },
         {
          "birthday": "August8th",
          "catchphrase": "\"shredded\"",
          "gender": "male",
          "hobbies": "Fitness",
          "name": "Bud",
          "personality": "Jock",
          "species": "Lion"
         },
         {
          "birthday": "May9th",
          "catchphrase": "\"tee-hee\"",
          "gender": "female",
          "hobbies": "Fashion",
          "name": "Bunnie",
          "personality": "Peppy",
          "species": "Rabbit"
         },
         {
          "birthday": "November1st",
          "catchphrase": "\"ROOOOOWF\"",
          "gender": "male",
          "hobbies": "Music",
          "name": "Butch",
          "personality": "Cranky",
          "species": "Dog"
         },
         {
          "birthday": "December7th",
          "catchphrase": "\"captain\"",
          "gender": "male",
          "hobbies": "Nature",
          "name": "Buzz",
          "personality": "Cranky",
          "species": "Eagle"
         },
         {
          "birthday": "September4th",
          "catchphrase": "\"WHEE\"",
          "gender": "female",
          "hobbies": "Nature",
          "name": "Cally",
          "personality": "Normal",
          "species": "Squirrel"
         },
         {
          "birthday": "June5th",
          "catchphrase": "\"ten-hut\"",
          "gender": "male",
          "hobbies": "Music",
          "name": "Camofrog",
          "personality": "Cranky",
          "species": "Frog"
         },
         {
          "birthday": "May14th",
          "catchphrase": "\"nuhuh\"",
          "gender": "female",
          "hobbies": "Play",
          "name": "Canberra",
          "personality": "Sisterly",
          "species": "Koala"
         },
         {
          "birthday": "April13th",
          "catchphrase": "\"sweetie\"",
          "gender": "female",
          "hobbies": "Play",
          "name": "Candi",
          "personality": "Peppy",
          "species": "Mouse"
         },
         {
          "birthday": "January6th",
          "catchphrase": "\"nougat\"",
          "gender": "female",
          "hobbies": "Fashion",
          "name": "Carmen",
          "personality": "Peppy",
          "species": "Rabbit"
         },
         {
          "birthday": "July15th",
          "catchphrase": "\"hulaaaa\"",
          "gender": "female",
          "hobbies": "Music",
          "name": "Caroline",
          "personality": "Normal",
          "species": "Squirrel"
         },
         {
          "birthday": "December5th",
          "catchphrase": "\"littleone\"",
          "gender": "female",
          "hobbies": "Nature",
          "name": "Carrie",
          "personality": "Normal",
          "species": "Kangaroo"
         },
         {
          "birthday": "April2nd",
          "catchphrase": "\"baaaby\"",
          "gender": "female",
          "hobbies": "Fashion",
          "name": "Cashmere",
          "personality": "Snooty",
          "species": "Sheep"
         },
         {
          "birthday": "March25th",
          "catchphrase": "\"feathers\"",
          "gender": "female",
          "hobbies": "Nature",
          "name": "Celia",
          "personality": "Normal",
          "species": "Eagle"
         },
         {
          "birthday": "September6th",
          "catchphrase": "\"highness\"",
          "gender": "male",
          "hobbies": "Fitness",
          "name": "Cesar",
          "personality": "Cranky",
          "species": "Gorilla"
         },
         {
          "birthday": "December15th",
          "catchphrase": "\"fromage\"",
          "gender": "male",
          "hobbies": "Fitness",
          "name": "Chadder",
          "personality": "Smug",
          "species": "Mouse"
         },
         {
          "birthday": "April17th",
          "catchphrase": "\"urgh\"",
          "gender": "female",
          "hobbies": "Fitness",
          "name": "Charlise",
          "personality": "Sisterly",
          "species": "Bear"
         },
         {
          "birthday": "March17th",
          "catchphrase": "\"tralala\"",
          "gender": "female",
          "hobbies": "Fashion",
          "name": "Cheri",
          "personality": "Peppy",
          "species": "Cub"
         },
         {
          "birthday": "May11th",
          "catchphrase": "\"whatwhat\"",
          "gender": "female",
          "hobbies": "Music",
          "name": "Cherry",
          "personality": "Sisterly",
          "species": "Dog"
         },
         {
          "birthday": "August6th",
          "catchphrase": "\"rookie\"",
          "gender": "male",
          "hobbies": "Play",
          "name": "Chester",
          "personality": "Lazy",
          "species": "Cub"
         },
         {
          "birthday": "March6th",
          "catchphrase": "\"labaa\"",
          "gender": "female",
          "hobbies": "Education",
          "name": "Chevre",
          "personality": "Normal",
          "species": "Goat"
         },
         {
          "birthday": "December19th",
          "catchphrase": "\"harrumph\"",
          "gender": "male",
          "hobbies": "Music",
          "name": "Chief",
          "personality": "Cranky",
          "species": "Wolf"
         },
         {
          "birthday": "October13th",
          "catchphrase": "\"zoink\"",
          "gender": "male",
          "hobbies": "Education",
          "name": "Chops",
          "personality": "Smug",
          "species": "Pig"
         },
         {
          "birthday": "July22nd",
          "catchphrase": "\"aiya\"",
          "gender": "male",
          "hobbies": "Fitness",
          "name": "Chow",
          "personality": "Cranky",
          "species": "Bear"
         },
         {
          "birthday": "August28th",
          "catchphrase": "\"sparkles\"",
          "gender": "female",
          "hobbies": "Fashion",
          "name": "Chrissy",
          "personality": "Peppy",
          "species": "Rabbit"
         },
         {
          "birthday": "December3rd",
          "catchphrase": "\"hopalong\"",
          "gender": "male",
          "hobbies": "Nature",
          "name": "Claude",
          "personality": "Lazy",
          "species": "Rabbit"
         },
         {
          "birthday": "November22nd",
          "catchphrase": "\"oohlala\"",
          "gender": "female",
          "hobbies": "Music",
          "name": "Claudia",
          "personality": "Snooty",
          "species": "Tiger"
         },
         {
          "birthday": "October19th",
          "catchphrase": "\"thump\"",
          "gender": "male",
          "hobbies": "Nature",
          "name": "Clay",
          "personality": "Lazy",
          "species": "Hamster"
         },
         {
          "birthday": "February9th",
          "catchphrase": "\"sugar\"",
          "gender": "female",
          "hobbies": "Education",
          "name": "Cleo",
          "personality": "Snooty",
          "species": "Horse"
         },
         {
          "birthday": "May1st",
          "catchphrase": "\"clipclawp\"",
          "gender": "male",
          "hobbies": "Play",
          "name": "Clyde",
          "personality": "Lazy",
          "species": "Horse"
         },
         {
          "birthday": "April29th",
          "catchphrase": "\"stubble\"",
          "gender": "male",
          "hobbies": "Fitness",
          "name": "Coach",
          "personality": "Jock",
          "species": "Bull"
         },
         {
          "birthday": "October7th",
          "catchphrase": "\"hotdog\"",
          "gender": "male",
          "hobbies": "Education",
          "name": "Cobb",
          "personality": "Jock",
          "species": "Pig"
         },
         {
          "birthday": "March1st",
          "catchphrase": "\"doyoing\"",
          "gender": "female",
          "hobbies": "Education",
          "name": "Coco",
          "personality": "Normal",
          "species": "Rabbit"
         },
         {
          "birthday": "August10th",
          "catchphrase": "\"coooooool\"",
          "gender": "male",
          "hobbies": "Nature",
          "name": "Cole",
          "personality": "Lazy",
          "species": "Rabbit"
         },
         {
          "birthday": "May22nd",
          "catchphrase": "\"checkit\"",
          "gender": "male",
          "hobbies": "Nature",
          "name": "Colton",
          "personality": "Smug",
          "species": "Horse"
         },
         {
          "birthday": "June18th",
          "catchphrase": "\"arfer\"",
          "gender": "female",
          "hobbies": "Fashion",
          "name": "Cookie",
          "personality": "Peppy",
          "species": "Dog"
         },
         {
          "birthday": "December17th",
          "catchphrase": "\"ouioui\"",
          "gender": "male",
          "hobbies": "Fitness",
          "name": "Cousteau",
          "personality": "Jock",
          "species": "Frog"
         },
         {
          "birthday": "September23rd",
          "catchphrase": "\"sweatband\"",
          "gender": "male",
          "hobbies": "Nature",
          "name": "Cranston",
          "personality": "Lazy",
          "species": "Ostrich"
         },
         {
          "birthday": "July18th",
          "catchphrase": "\"asif\"",
          "gender": "male",
          "hobbies": "Nature",
          "name": "Croque",
          "personality": "Cranky",
          "species": "Frog"
         },
         {
          "birthday": "January29th",
          "catchphrase": "\"brainfreeze\"",
          "gender": "male",
          "hobbies": "Play",
          "name": "Cube",
          "personality": "Lazy",
          "species": "Penguin"
         },
         {
          "birthday": "May8th",
          "catchphrase": "\"shearly\"",
          "gender": "male",
          "hobbies": "Nature",
          "name": "Curlos",
          "personality": "Smug",
          "species": "Sheep"
         },
         {
          "birthday": "July26th",
          "catchphrase": "\"nyoink\"",
          "gender": "male",
          "hobbies": "Fitness",
          "name": "Curly",
          "personality": "Jock",
          "species": "Pig"
         },
         {
          "birthday": "July1st",
          "catchphrase": "\"fuzzball\"",
          "gender": "male",
          "hobbies": "Nature",
          "name": "Curt",
          "personality": "Cranky",
          "species": "Bear"
         },
         {
          "birthday": "June9th",
          "catchphrase": "\"rockin'\"",
          "gender": "male",
          "hobbies": "Music",
          "name": "Cyd",
          "personality": "Cranky",
          "species": "Elephant"
         },
         {
          "birthday": "March9th",
          "catchphrase": "\"ah-CHOO\"",
          "gender": "male",
          "hobbies": "Education",
          "name": "Cyrano",
          "personality": "Cranky",
          "species": "Anteater"
         },
         {
          "birthday": "November16th",
          "catchphrase": "\"bow-WOW\"",
          "gender": "female",
          "hobbies": "Education",
          "name": "Daisy",
          "personality": "Normal",
          "species": "Dog"
         },
         {
          "birthday": "June27th",
          "catchphrase": "\"woowoo\"",
          "gender": "female",
          "hobbies": "Education",
          "name": "Deena",
          "personality": "Normal",
          "species": "Duck"
         },
         {
          "birthday": "May4th",
          "catchphrase": "\"whatevs\"",
          "gender": "female",
          "hobbies": "Play",
          "name": "Deirdre",
          "personality": "Sisterly",
          "species": "Deer"
         },
         {
          "birthday": "May27th",
          "catchphrase": "\"gronk\"",
          "gender": "male",
          "hobbies": "Fitness",
          "name": "Del",
          "personality": "Cranky",
          "species": "Alligator"
         },
         {
          "birthday": "May24th",
          "catchphrase": "\"monch\"",
          "gender": "male",
          "hobbies": "Nature",
          "name": "Deli",
          "personality": "Lazy",
          "species": "Monkey"
         },
         {
          "birthday": "May25th",
          "catchphrase": "\"derrrrr\"",
          "gender": "male",
          "hobbies": "Play",
          "name": "Derwin",
          "personality": "Lazy",
          "species": "Duck"
         },
         {
          "birthday": "January4th",
          "catchphrase": "\"nodoy\"",
          "gender": "female",
          "hobbies": "Education",
          "name": "Diana",
          "personality": "Snooty",
          "species": "Deer"
         },
         {
          "birthday": "October2nd",
          "catchphrase": "\"yaknow\"",
          "gender": "female",
          "hobbies": "Fitness",
          "name": "Diva",
          "personality": "Sisterly",
          "species": "Frog"
         },
         {
          "birthday": "July14th",
          "catchphrase": "\"woo-oo\"",
          "gender": "male",
          "hobbies": "Play",
          "name": "Dizzy",
          "personality": "Lazy",
          "species": "Elephant"
         },
         {
          "birthday": "February17th",
          "catchphrase": "\"ohmmm\"",
          "gender": "male",
          "hobbies": "Nature",
          "name": "Dobie",
          "personality": "Cranky",
          "species": "Wolf"
         },
         {
          "birthday": "March16th",
          "catchphrase": "\"oldbunny\"",
          "gender": "male",
          "hobbies": "Education",
          "name": "Doc",
          "personality": "Lazy",
          "species": "Rabbit"
         },
         {
          "birthday": "March18th",
          "catchphrase": "\"indeedaroo\"",
          "gender": "male",
          "hobbies": "Play",
          "name": "Dom",
          "personality": "Jock",
          "species": "Sheep"
         },
         {
          "birthday": "February18th",
          "catchphrase": "\"squeaky\"",
          "gender": "female",
          "hobbies": "Education",
          "name": "Dora",
          "personality": "Normal",
          "species": "Mouse"
         },
         {
          "birthday": "March14th",
          "catchphrase": "\"weeone\"",
          "gender": "female",
          "hobbies": "Fashion",
          "name": "Dotty",
          "personality": "Peppy",
          "species": "Rabbit"
         },
         {
          "birthday": "February12th",
          "catchphrase": "\"burrrn\"",
          "gender": "male",
          "hobbies": "Nature",
          "name": "Drago",
          "personality": "Lazy",
          "species": "Alligator"
         },
         {
          "birthday": "June25th",
          "catchphrase": "\"quacko\"",
          "gender": "male",
          "hobbies": "Play",
          "name": "Drake",
          "personality": "Lazy",
          "species": "Duck"
         },
         {
          "birthday": "October9th",
          "catchphrase": "\"dribbit\"",
          "gender": "male",
          "hobbies": "Fitness",
          "name": "Drift",
          "personality": "Jock",
          "species": "Frog"
         },
         {
          "birthday": "September16th",
          "catchphrase": "\"greenhorn\"",
          "gender": "male",
          "hobbies": "Nature",
          "name": "Ed",
          "personality": "Smug",
          "species": "Horse"
         },
         {
          "birthday": "October14th",
          "catchphrase": "\"doodle-duh\"",
          "gender": "male",
          "hobbies": "Play",
          "name": "Egbert",
          "personality": "Lazy",
          "species": "Chicken"
         },
         {
          "birthday": "March21st",
          "catchphrase": "\"puh-lease\"",
          "gender": "female",
          "hobbies": "Fashion",
          "name": "Elise",
          "personality": "Snooty",
          "species": "Monkey"
         },
         {
          "birthday": "May12th",
          "catchphrase": "\"li'lone\"",
          "gender": "female",
          "hobbies": "Nature",
          "name": "Ellie",
          "personality": "Normal",
          "species": "Elephant"
         },
         {
          "birthday": "October5th",
          "catchphrase": "\"tenderfoot\"",
          "gender": "male",
          "hobbies": "Play",
          "name": "Elmer",
          "personality": "Lazy",
          "species": "Horse"
         },
         {
          "birthday": "December8th",
          "catchphrase": "\"tooooot\"",
          "gender": "female",
          "hobbies": "Fashion",
          "name": "Eloise",
          "personality": "Snooty",
          "species": "Elephant"
         },
         {
          "birthday": "July23rd",
          "catchphrase": "\"unh-hunh\"",
          "gender": "male",
          "hobbies": "Education",
          "name": "Elvis",
          "personality": "Cranky",
          "species": "Lion"
         },
         {
          "birthday": "July27th",
          "catchphrase": "\"chowdown\"",
          "gender": "male",
          "hobbies": "Nature",
          "name": "Erik",
          "personality": "Lazy",
          "species": "Deer"
         },
         {
          "birthday": "October26th",
          "catchphrase": "\"yeahbuddy\"",
          "gender": "male",
          "hobbies": "Music",
          "name": "Eugene",
          "personality": "Smug",
          "species": "Koala"
         },
         {
          "birthday": "April3rd",
          "catchphrase": "\"lambchop\"",
          "gender": "female",
          "hobbies": "Fashion",
          "name": "Eunice",
          "personality": "Normal",
          "species": "Sheep"
         },
         {
          "birthday": "December18th",
          "catchphrase": "\"cha-chomp\"",
          "gender": "male",
          "hobbies": "Education",
          "name": "Fang",
          "personality": "Cranky",
          "species": "Wolf"
         },
         {
          "birthday": "March26th",
          "catchphrase": "\"dearie\"",
          "gender": "female",
          "hobbies": "Nature",
          "name": "Fauna",
          "personality": "Normal",
          "species": "Deer"
         },
         {
          "birthday": "March30th",
          "catchphrase": "\"mimimi\"",
          "gender": "female",
          "hobbies": "Fashion",
          "name": "Felicity",
          "personality": "Peppy",
          "species": "Cat"
         },
         {
          "birthday": "June3rd",
          "catchphrase": "\"bucko\"",
          "gender": "male",
          "hobbies": "Nature",
          "name": "Filbert",
          "personality": "Lazy",
          "species": "Squirrel"
         },
         {
          "birthday": "November21st",
          "catchphrase": "\"rerack\"",
          "gender": "male",
          "hobbies": "Music",
          "name": "Flip",
          "personality": "Jock",
          "species": "Monkey"
         },
         {
          "birthday": "September2nd",
          "catchphrase": "\"cha\"",
          "gender": "female",
          "hobbies": "Music",
          "name": "Flo",
          "personality": "Sisterly",
          "species": "Penguin"
         },
         {
          "birthday": "February9th",
          "catchphrase": "\"pinky\"",
          "gender": "female",
          "hobbies": "Play",
          "name": "Flora",
          "personality": "Peppy",
          "species": "Ostrich"
         },
         {
          "birthday": "January30th",
          "catchphrase": "\"powderpuff\"",
          "gender": "female",
          "hobbies": "Nature",
          "name": "Flurry",
          "personality": "Normal",
          "species": "Hamster"
         },
         {
          "birthday": "January22nd",
          "catchphrase": "\"karat\"",
          "gender": "female",
          "hobbies": "Fashion",
          "name": "Francine",
          "personality": "Snooty",
          "species": "Rabbit"
         },
         {
          "birthday": "July30th",
          "catchphrase": "\"crushy\"",
          "gender": "male",
          "hobbies": "Education",
          "name": "Frank",
          "personality": "Cranky",
          "species": "Eagle"
         },
         {
          "birthday": "February19th",
          "catchphrase": "\"ducky\"",
          "gender": "female",
          "hobbies": "Fashion",
          "name": "Freckles",
          "personality": "Peppy",
          "species": "Duck"
         },
         {
          "birthday": "December14th",
          "catchphrase": "\"uffda\"",
          "gender": "female",
          "hobbies": "Fashion",
          "name": "Freya",
          "personality": "Snooty",
          "species": "Wolf"
         },
         {
          "birthday": "October16th",
          "catchphrase": "\"brrmph\"",
          "gender": "female",
          "hobbies": "Fashion",
          "name": "Friga",
          "personality": "Snooty",
          "species": "Penguin"
         },
         {
          "birthday": "July16th",
          "catchphrase": "\"ohewe\"",
          "gender": "female",
          "hobbies": "Music",
          "name": "Frita",
          "personality": "Sisterly",
          "species": "Sheep"
         },
         {
          "birthday": "February8th",
          "catchphrase": "\"fribbit\"",
          "gender": "male",
          "hobbies": "Fitness",
          "name": "Frobert",
          "personality": "Jock",
          "species": "Frog"
         },
         {
          "birthday": "September19th",
          "catchphrase": "\"precious\"",
          "gender": "female",
          "hobbies": "Music",
          "name": "Fuchsia",
          "personality": "Sisterly",
          "species": "Deer"
         },
         {
          "birthday": "December16th",
          "catchphrase": "\"honeybun\"",
          "gender": "female",
          "hobbies": "Fashion",
          "name": "Gabi",
          "personality": "Peppy",
          "species": "Rabbit"
         },
         {
          "birthday": "March5th",
          "catchphrase": "\"snortie\"",
          "gender": "female",
          "hobbies": "Education",
          "name": "Gala",
          "personality": "Normal",
          "species": "Pig"
         },
         {
          "birthday": "October28th",
          "catchphrase": "\"monchou\"",
          "gender": "male",
          "hobbies": "Education",
          "name": "Gaston",
          "personality": "Cranky",
          "species": "Rabbit"
         },
         {
          "birthday": "May17th",
          "catchphrase": "\"snacky\"",
          "gender": "female",
          "hobbies": "Nature",
          "name": "Gayle",
          "personality": "Normal",
          "species": "Alligator"
         },
         {
          "birthday": "January21st",
          "catchphrase": "\"mochi\"",
          "gender": "male",
          "hobbies": "Fitness",
          "name": "Genji",
          "personality": "Jock",
          "species": "Rabbit"
         },
         {
          "birthday": "August11th",
          "catchphrase": "\"ribbette\"",
          "gender": "female",
          "hobbies": "Fashion",
          "name": "Gigi",
          "personality": "Snooty",
          "species": "Frog"
         },
         {
          "birthday": "January15th",
          "catchphrase": "\"stretch\"",
          "gender": "female",
          "hobbies": "Education",
          "name": "Gladys",
          "personality": "Normal",
          "species": "Ostrich"
         },
         {
          "birthday": "August12th",
          "catchphrase": "\"quacker\"",
          "gender": "female",
          "hobbies": "Fashion",
          "name": "Gloria",
          "personality": "Snooty",
          "species": "Duck"
         },
         {
          "birthday": "December27th",
          "catchphrase": "\"woof\"",
          "gender": "female",
          "hobbies": "Nature",
          "name": "Goldie",
          "personality": "Normal",
          "species": "Dog"
         },
         {
          "birthday": "October13th",
          "catchphrase": "\"mate\"",
          "gender": "male",
          "hobbies": "Nature",
          "name": "Gonzo",
          "personality": "Cranky",
          "species": "Koala"
         },
         {
          "birthday": "October4th",
          "catchphrase": "\"buh-kay\"",
          "gender": "male",
          "hobbies": "Fitness",
          "name": "Goose",
          "personality": "Jock",
          "species": "Chicken"
         },
         {
          "birthday": "June20th",
          "catchphrase": "\"indeed\"",
          "gender": "male",
          "hobbies": "Education",
          "name": "Graham",
          "personality": "Smug",
          "species": "Hamster"
         },
         {
          "birthday": "September5th",
          "catchphrase": "\"yelp\"",
          "gender": "female",
          "hobbies": "Education",
          "name": "Greta",
          "personality": "Snooty",
          "species": "Mouse"
         },
         {
          "birthday": "July31st",
          "catchphrase": "\"grrr\"",
          "gender": "male",
          "hobbies": "Education",
          "name": "Grizzly",
          "personality": "Cranky",
          "species": "Bear"
         },
         {
          "birthday": "October23rd",
          "catchphrase": "\"grumble\"",
          "gender": "male",
          "hobbies": "Music",
          "name": "Groucho",
          "personality": "Cranky",
          "species": "Bear"
         },
         {
          "birthday": "August29th",
          "catchphrase": "\"bleheheh\"",
          "gender": "male",
          "hobbies": "Music",
          "name": "Gruff",
          "personality": "Cranky",
          "species": "Goat"
         },
         {
          "birthday": "January23rd",
          "catchphrase": "\"h-h-h-hon\"",
          "gender": "female",
          "hobbies": "Fashion",
          "name": "Gwen",
          "personality": "Snooty",
          "species": "Penguin"
         },
         {
          "birthday": "May30th",
          "catchphrase": "\"hammie\"",
          "gender": "male",
          "hobbies": "Play",
          "name": "Hamlet",
          "personality": "Jock",
          "species": "Hamster"
         },
         {
          "birthday": "February25th",
          "catchphrase": "\"snort\"",
          "gender": "male",
          "hobbies": "Nature",
          "name": "Hamphrey",
          "personality": "Cranky",
          "species": "Hamster"
         },
         {
          "birthday": "December5th",
          "catchphrase": "\"groovy\"",
          "gender": "male",
          "hobbies": "Fitness",
          "name": "Hans",
          "personality": "Smug",
          "species": "Gorilla"
         },
         {
          "birthday": "January7th",
          "catchphrase": "\"beachbum\"",
          "gender": "male",
          "hobbies": "Education",
          "name": "Harry",
          "personality": "Cranky",
          "species": "Hippo"
         },
         {
          "birthday": "August30th",
          "catchphrase": "\"uni-wow\"",
          "gender": "female",
          "hobbies": "Play",
          "name": "Hazel",
          "personality": "Sisterly",
          "species": "Squirrel"
         },
         {
          "birthday": "September21st",
          "catchphrase": "\"snoozit\"",
          "gender": "male",
          "hobbies": "Music",
          "name": "Henry",
          "personality": "Smug",
          "species": "Frog"
         },
         {
          "birthday": "October15th",
          "catchphrase": "\"natch\"",
          "gender": "male",
          "hobbies": "Education",
          "name": "Hippeux",
          "personality": "Smug",
          "species": "Hippo"
         },
         {
          "birthday": "March11th",
          "catchphrase": "\"thumper\"",
          "gender": "male",
          "hobbies": "Nature",
          "name": "Hopkins",
          "personality": "Lazy",
          "species": "Rabbit"
         },
         {
          "birthday": "April6th",
          "catchphrase": "\"slushie\"",
          "gender": "male",
          "hobbies": "Music",
          "name": "Hopper",
          "personality": "Cranky",
          "species": "Penguin"
         },
         {
          "birthday": "March20th",
          "catchphrase": "\"schnozzle\"",
          "gender": "male",
          "hobbies": "Nature",
          "name": "Hornsby",
          "personality": "Lazy",
          "species": "Rhino"
         },
         {
          "birthday": "July9th",
          "catchphrase": "\"hopper\"",
          "gender": "male",
          "hobbies": "Fitness",
          "name": "Huck",
          "personality": "Smug",
          "species": "Frog"
         },
         {
          "birthday": "December30th",
          "catchphrase": "\"snortle\"",
          "gender": "male",
          "hobbies": "Play",
          "name": "Hugh",
          "personality": "Lazy",
          "species": "Pig"
         },
         {
          "birthday": "November2nd",
          "catchphrase": "\"waddler\"",
          "gender": "male",
          "hobbies": "Fitness",
          "name": "Iggly",
          "personality": "Jock",
          "species": "Penguin"
         },
         {
          "birthday": "May16th",
          "catchphrase": "\"roadie\"",
          "gender": "male",
          "hobbies": "Nature",
          "name": "Ike",
          "personality": "Cranky",
          "species": "Bear"
         },
         {
          "birthday": "August24th",
          "catchphrase": "\"yafeel\"",
          "gender": "male",
          "hobbies": "Nature",
          "name": "JacobNAJakeyPAL",
          "personality": "Lazy",
          "species": "Bird"
         },
         {
          "birthday": "June22nd",
          "catchphrase": "\"zutalors\"",
          "gender": "male",
          "hobbies": "Music",
          "name": "Jacques",
          "personality": "Smug",
          "species": "Bird"
         },
         {
          "birthday": "October27th",
          "catchphrase": "\"croak-kay\"",
          "gender": "female",
          "hobbies": "Fashion",
          "name": "Jambette",
          "personality": "Normal",
          "species": "Frog"
         },
         {
          "birthday": "July17th",
          "catchphrase": "\"heeeeeyy\"",
          "gender": "male",
          "hobbies": "Fitness",
          "name": "Jay",
          "personality": "Jock",
          "species": "Bird"
         },
         {
          "birthday": "July8th",
          "catchphrase": "\"nee-deep\"",
          "gender": "male",
          "hobbies": "Play",
          "name": "Jeremiah",
          "personality": "Lazy",
          "species": "Frog"
         },
         {
          "birthday": "February2nd",
          "catchphrase": "\"bzzert\"",
          "gender": "male",
          "hobbies": "Fitness",
          "name": "Jitters",
          "personality": "Jock",
          "species": "Bird"
         },
         {
          "birthday": "January3rd",
          "catchphrase": "\"bleeeeeck\"",
          "gender": "male",
          "hobbies": "Play",
          "name": "Joey",
          "personality": "Lazy",
          "species": "Duck"
         },
         {
          "birthday": "March10th",
          "catchphrase": "\"myohmy\"",
          "gender": "female",
          "hobbies": "Music",
          "name": "Judy",
          "personality": "Snooty",
          "species": "Cub"
         },
         {
          "birthday": "July31st",
          "catchphrase": "\"dahling\"",
          "gender": "female",
          "hobbies": "Education",
          "name": "Julia",
          "personality": "Snooty",
          "species": "Ostrich"
         },
         {
          "birthday": "March15th",
          "catchphrase": "\"glitter\"",
          "gender": "male",
          "hobbies": "Music",
          "name": "Julian",
          "personality": "Smug",
          "species": "Horse"
         },
         {
          "birthday": "May21st",
          "catchphrase": "\"rainbow\"",
          "gender": "female",
          "hobbies": "Nature",
          "name": "June",
          "personality": "Normal",
          "species": "Cub"
         },
         {
          "birthday": "November29th",
          "catchphrase": "\"meooo-OH\"",
          "gender": "male",
          "hobbies": "Music",
          "name": "Kabuki",
          "personality": "Cranky",
          "species": "Cat"
         },
         {
          "birthday": "April27th",
          "catchphrase": "\"purrty\"",
          "gender": "female",
          "hobbies": "Music",
          "name": "Katt",
          "personality": "Sisterly",
          "species": "Cat"
         },
         {
          "birthday": "June1st",
          "catchphrase": "\"wingo\"",
          "gender": "male",
          "hobbies": "Music",
          "name": "Keaton",
          "personality": "Smug",
          "species": "Eagle"
         },
         {
          "birthday": "December23rd",
          "catchphrase": "\"nodoubt\"",
          "gender": "male",
          "hobbies": "Education",
          "name": "Ken",
          "personality": "Smug",
          "species": "Chicken"
         },
         {
          "birthday": "July27th",
          "catchphrase": "\"bitty\"",
          "gender": "female",
          "hobbies": "Play",
          "name": "Ketchup",
          "personality": "Peppy",
          "species": "Duck"
         },
         {
          "birthday": "April26th",
          "catchphrase": "\"weeweewee\"",
          "gender": "male",
          "hobbies": "Play",
          "name": "Kevin",
          "personality": "Jock",
          "species": "Pig"
         },
         {
          "birthday": "August1st",
          "catchphrase": "\"psst\"",
          "gender": "male",
          "hobbies": "Fitness",
          "name": "KidCat",
          "personality": "Jock",
          "species": "Cat"
         },
         {
          "birthday": "June28th",
          "catchphrase": "\"wut\"",
          "gender": "male",
          "hobbies": "Education",
          "name": "Kidd",
          "personality": "Smug",
          "species": "Goat"
         },
         {
          "birthday": "October8th",
          "catchphrase": "\"kittycat\"",
          "gender": "female",
          "hobbies": "Education",
          "name": "Kiki",
          "personality": "Normal",
          "species": "Cat"
         },
         {
          "birthday": "October11th",
          "catchphrase": "\"child\"",
          "gender": "female",
          "hobbies": "Education",
          "name": "Kitt",
          "personality": "Normal",
          "species": "Kangaroo"
         },
         {
          "birthday": "February15th",
          "catchphrase": "\"mrowrr\"",
          "gender": "female",
          "hobbies": "Fashion",
          "name": "Kitty",
          "personality": "Snooty",
          "species": "Cat"
         },
         {
          "birthday": "March31st",
          "catchphrase": "\"strudel\"",
          "gender": "male",
          "hobbies": "Education",
          "name": "Klaus",
          "personality": "Smug",
          "species": "Bear"
         },
         {
          "birthday": "November23rd",
          "catchphrase": "\"cluckling\"",
          "gender": "male",
          "hobbies": "Education",
          "name": "Knox",
          "personality": "Cranky",
          "species": "Chicken"
         },
         {
          "birthday": "September28th",
          "catchphrase": "\"grahgrah\"",
          "gender": "male",
          "hobbies": "Fitness",
          "name": "Kody",
          "personality": "Jock",
          "species": "Cub"
         },
         {
          "birthday": "December6th",
          "catchphrase": "\"alpha\"",
          "gender": "male",
          "hobbies": "Music",
          "name": "Kyle",
          "personality": "Smug",
          "species": "Wolf"
         },
         {
          "birthday": "May15th",
          "catchphrase": "\"flexin'\"",
          "gender": "male",
          "hobbies": "Fitness",
          "name": "Leonardo",
          "personality": "Jock",
          "species": "Tiger"
         },
         {
          "birthday": "August14th",
          "catchphrase": "\"lioncub\"",
          "gender": "male",
          "hobbies": "Education",
          "name": "Leopold",
          "personality": "Smug",
          "species": "Lion"
         },
         {
          "birthday": "February4th",
          "catchphrase": "\"toady\"",
          "gender": "female",
          "hobbies": "Education",
          "name": "Lily",
          "personality": "Normal",
          "species": "Frog"
         },
         {
          "birthday": "October17th",
          "catchphrase": "\"squinky\"",
          "gender": "male",
          "hobbies": "Education",
          "name": "Limberg",
          "personality": "Cranky",
          "species": "Mouse"
         },
         {
          "birthday": "July29th",
          "catchphrase": "\"precisely\"",
          "gender": "male",
          "hobbies": "Music",
          "name": "Lionel",
          "personality": "Smug",
          "species": "Lion"
         },
         {
          "birthday": "November5th",
          "catchphrase": "\"ah-rooooo\"",
          "gender": "male",
          "hobbies": "Education",
          "name": "Lobo",
          "personality": "Cranky",
          "species": "Wolf"
         },
         {
          "birthday": "March27th",
          "catchphrase": "\"bonbon\"",
          "gender": "female",
          "hobbies": "Music",
          "name": "Lolly",
          "personality": "Normal",
          "species": "Cat"
         },
         {
          "birthday": "August20th",
          "catchphrase": "\"badoom\"",
          "gender": "male",
          "hobbies": "Education",
          "name": "Lopez",
          "personality": "Smug",
          "species": "Deer"
         },
         {
          "birthday": "March26th",
          "catchphrase": "\"hoohooha\"",
          "gender": "male",
          "hobbies": "Fitness",
          "name": "Louie",
          "personality": "Jock",
          "species": "Gorilla"
         },
         {
          "birthday": "December12th",
          "catchphrase": "\"cacaw\"",
          "gender": "male",
          "hobbies": "Fitness",
          "name": "Lucha",
          "personality": "Smug",
          "species": "Bird"
         },
         {
          "birthday": "November4th",
          "catchphrase": "\"rrr-owch\"",
          "gender": "male",
          "hobbies": "Play",
          "name": "Lucky",
          "personality": "Lazy",
          "species": "Dog"
         },
         {
          "birthday": "June2nd",
          "catchphrase": "\"snoooink\"",
          "gender": "female",
          "hobbies": "Music",
          "name": "Lucy",
          "personality": "Normal",
          "species": "Pig"
         },
         {
          "birthday": "October12th",
          "catchphrase": "\"chips\"",
          "gender": "male",
          "hobbies": "Play",
          "name": "Lyman",
          "personality": "Jock",
          "species": "Koala"
         },
         {
          "birthday": "November11th",
          "catchphrase": "\"woowoof\"",
          "gender": "male",
          "hobbies": "Fitness",
          "name": "Mac",
          "personality": "Jock",
          "species": "Dog"
         },
         {
          "birthday": "January11th",
          "catchphrase": "\"yippee\"",
          "gender": "female",
          "hobbies": "Play",
          "name": "Maddie",
          "personality": "Peppy",
          "species": "Dog"
         },
         {
          "birthday": "April8th",
          "catchphrase": "\"duckling\"",
          "gender": "female",
          "hobbies": "Fashion",
          "name": "Maelle",
          "personality": "Snooty",
          "species": "Duck"
         },
         {
          "birthday": "September3rd",
          "catchphrase": "\"schep\"",
          "gender": "female",
          "hobbies": "Nature",
          "name": "Maggie",
          "personality": "Normal",
          "species": "Pig"
         },
         {
          "birthday": "November17th",
          "catchphrase": "\"quackpth\"",
          "gender": "female",
          "hobbies": "Fashion",
          "name": "Mallary",
          "personality": "Snooty",
          "species": "Duck"
         },
         {
          "birthday": "June15th",
          "catchphrase": "\"honey\"",
          "gender": "female",
          "hobbies": "Education",
          "name": "Maple",
          "personality": "Normal",
          "species": "Cub"
         },
         {
          "birthday": "December31st",
          "catchphrase": "\"non\"",
          "gender": "male",
          "hobbies": "Play",
          "name": "Marcel",
          "personality": "Lazy",
          "species": "Dog"
         },
         {
          "birthday": "May31st",
          "catchphrase": "\"pouches\"",
          "gender": "female",
          "hobbies": "Nature",
          "name": "Marcie",
          "personality": "Normal",
          "species": "Kangaroo"
         },
         {
          "birthday": "January28th",
          "catchphrase": "\"tootie\"",
          "gender": "female",
          "hobbies": "Education",
          "name": "Margie",
          "personality": "Normal",
          "species": "Elephant"
         },
         {
          "birthday": "June26th",
          "catchphrase": "\"blurp\"",
          "gender": "female",
          "hobbies": "Music",
          "name": "Marina",
          "personality": "Normal",
          "species": "Octopus"
         },
         {
          "birthday": "September29th",
          "catchphrase": "\"sulky\"",
          "gender": "male",
          "hobbies": "Music",
          "name": "Marshal",
          "personality": "Smug",
          "species": "Squirrel"
         },
         {
          "birthday": "November12th",
          "catchphrase": "\"weebaby\"",
          "gender": "female",
          "hobbies": "Fitness",
          "name": "Mathilda",
          "personality": "Snooty",
          "species": "Kangaroo"
         },
         {
          "birthday": "March13th",
          "catchphrase": "\"sundae\"",
          "gender": "female",
          "hobbies": "Nature",
          "name": "Megan",
          "personality": "Normal",
          "species": "Bear"
         },
         {
          "birthday": "April12th",
          "catchphrase": "\"toasty\"",
          "gender": "female",
          "hobbies": "Education",
          "name": "Melba",
          "personality": "Normal",
          "species": "Koala"
         },
         {
          "birthday": "March19th",
          "catchphrase": "\"shortcake\"",
          "gender": "female",
          "hobbies": "Nature",
          "name": "Merengue",
          "personality": "Normal",
          "species": "Rhino"
         },
         {
          "birthday": "June29th",
          "catchphrase": "\"mweee\"",
          "gender": "female",
          "hobbies": "Fashion",
          "name": "Merry",
          "personality": "Peppy",
          "species": "Cat"
         },
         {
          "birthday": "March12th",
          "catchphrase": "\"tweedledee\"",
          "gender": "female",
          "hobbies": "Education",
          "name": "Midge",
          "personality": "Normal",
          "species": "Bird"
         },
         {
          "birthday": "May2nd",
          "catchphrase": "\"ahhhhhh\"",
          "gender": "female",
          "hobbies": "Fashion",
          "name": "Mint",
          "personality": "Snooty",
          "species": "Squirrel"
         },
         {
          "birthday": "July6th",
          "catchphrase": "\"cottontail\"",
          "gender": "female",
          "hobbies": "Fitness",
          "name": "Mira",
          "personality": "Sisterly",
          "species": "Rabbit"
         },
         {
          "birthday": "April23rd",
          "catchphrase": "\"quackulous\"",
          "gender": "female",
          "hobbies": "Fashion",
          "name": "Miranda",
          "personality": "Snooty",
          "species": "Duck"
         },
         {
          "birthday": "September25th",
          "catchphrase": "\"mew\"",
          "gender": "female",
          "hobbies": "Education",
          "name": "Mitzi",
          "personality": "Normal",
          "species": "Cat"
         },
         {
          "birthday": "January12th",
          "catchphrase": "\"myawn\"",
          "gender": "male",
          "hobbies": "Play",
          "name": "Moe",
          "personality": "Lazy",
          "species": "Cat"
         },
         {
          "birthday": "March7th",
          "catchphrase": "\"quackidee\"",
          "gender": "female",
          "hobbies": "Nature",
          "name": "Molly",
          "personality": "Normal",
          "species": "Duck"
         },
         {
          "birthday": "September30th",
          "catchphrase": "\"pffffft\"",
          "gender": "female",
          "hobbies": "Fashion",
          "name": "Monique",
          "personality": "Snooty",
          "species": "Cat"
         },
         {
          "birthday": "December7th",
          "catchphrase": "\"g'tang\"",
          "gender": "male",
          "hobbies": "Education",
          "name": "Monty",
          "personality": "Cranky",
          "species": "Monkey"
         },
         {
          "birthday": "September13th",
          "catchphrase": "\"shorty\"",
          "gender": "male",
          "hobbies": "Fitness",
          "name": "Moose",
          "personality": "Jock",
          "species": "Mouse"
         },
         {
          "birthday": "July10th",
          "catchphrase": "\"cagey\"",
          "gender": "male",
          "hobbies": "Fitness",
          "name": "Mott",
          "personality": "Jock",
          "species": "Lion"
         },
         {
          "birthday": "February14th",
          "catchphrase": "\"nightshade\"",
          "gender": "female",
          "hobbies": "Music",
          "name": "Muffy",
          "personality": "Sisterly",
          "species": "Sheep"
         },
         {
          "birthday": "December29th",
          "catchphrase": "\"malarkey\"",
          "gender": "male",
          "hobbies": "Education",
          "name": "Murphy",
          "personality": "Cranky",
          "species": "Cub"
         },
         {
          "birthday": "August24th",
          "catchphrase": "\"kid\"",
          "gender": "female",
          "hobbies": "Nature",
          "name": "Nan",
          "personality": "Normal",
          "species": "Goat"
         },
         {
          "birthday": "August23rd",
          "catchphrase": "\"popo\"",
          "gender": "female",
          "hobbies": "Education",
          "name": "Nana",
          "personality": "Normal",
          "species": "Monkey"
         },
         {
          "birthday": "February28th",
          "catchphrase": "\"moolah\"",
          "gender": "female",
          "hobbies": "Fashion",
          "name": "Naomi",
          "personality": "Snooty",
          "species": "Cow"
         },
         {
          "birthday": "August16th",
          "catchphrase": "\"yawwwn\"",
          "gender": "male",
          "hobbies": "Play",
          "name": "Nate",
          "personality": "Lazy",
          "species": "Bear"
         },
         {
          "birthday": "July19th",
          "catchphrase": "\"niblet\"",
          "gender": "female",
          "hobbies": "Fashion",
          "name": "Nibbles",
          "personality": "Peppy",
          "species": "Squirrel"
         },
         {
          "birthday": "September20th",
          "catchphrase": "\"hoofhoo\"",
          "gender": "female",
          "hobbies": "Nature",
          "name": "Norma",
          "personality": "Normal",
          "species": "Cow"
         },
         {
          "birthday": "September20th",
          "catchphrase": "\"sucker\"",
          "gender": "male",
          "hobbies": "Play",
          "name": "Octavian",
          "personality": "Cranky",
          "species": "Octopus"
         },
         {
          "birthday": "July24th",
          "catchphrase": "\"amigo\"",
          "gender": "male",
          "hobbies": "Nature",
          "name": "O'Hare",
          "personality": "Smug",
          "species": "Rabbit"
         },
         {
          "birthday": "May19th",
          "catchphrase": "\"whiffa\"",
          "gender": "male",
          "hobbies": "Education",
          "name": "Olaf",
          "personality": "Smug",
          "species": "Anteater"
         },
         {
          "birthday": "July12th",
          "catchphrase": "\"sweetpea\"",
          "gender": "female",
          "hobbies": "Nature",
          "name": "Olive",
          "personality": "Normal",
          "species": "Cub"
         },
         {
          "birthday": "February3rd",
          "catchphrase": "\"purrr\"",
          "gender": "female",
          "hobbies": "Music",
          "name": "Olivia",
          "personality": "Snooty",
          "species": "Cat"
         },
         {
          "birthday": "January20th",
          "catchphrase": "\"snoot\"",
          "gender": "female",
          "hobbies": "Fashion",
          "name": "Opal",
          "personality": "Snooty",
          "species": "Elephant"
         },
         {
          "birthday": "May7th",
          "catchphrase": "\"ol'bear\"",
          "gender": "male",
          "hobbies": "Play",
          "name": "Ozzie",
          "personality": "Lazy",
          "species": "Koala"
         },
         {
          "birthday": "November14th",
          "catchphrase": "\"sooey\"",
          "gender": "female",
          "hobbies": "Music",
          "name": "Pancetti",
          "personality": "Snooty",
          "species": "Pig"
         },
         {
          "birthday": "November9th",
          "catchphrase": "\"snooooof\"",
          "gender": "female",
          "hobbies": "Fashion",
          "name": "Pango",
          "personality": "Peppy",
          "species": "Anteater"
         },
         {
          "birthday": "May5th",
          "catchphrase": "\"pal\"",
          "gender": "male",
          "hobbies": "Nature",
          "name": "Paolo",
          "personality": "Lazy",
          "species": "Elephant"
         },
         {
          "birthday": "January10th",
          "catchphrase": "\"haaay\"",
          "gender": "male",
          "hobbies": "Nature",
          "name": "Papi",
          "personality": "Lazy",
          "species": "Horse"
         },
         {
          "birthday": "December26th",
          "catchphrase": "\"kidders\"",
          "gender": "female",
          "hobbies": "Music",
          "name": "Pashmina",
          "personality": "Sisterly",
          "species": "Goat"
         },
         {
          "birthday": "February23rd",
          "catchphrase": "\"quackle\"",
          "gender": "female",
          "hobbies": "Fashion",
          "name": "Pate",
          "personality": "Peppy",
          "species": "Duck"
         },
         {
          "birthday": "May10th",
          "catchphrase": "\"how-now\"",
          "gender": "female",
          "hobbies": "Fashion",
          "name": "Patty",
          "personality": "Peppy",
          "species": "Cow"
         },
         {
          "birthday": "March22nd",
          "catchphrase": "\"yodelay\"",
          "gender": "female",
          "hobbies": "Fitness",
          "name": "Paula",
          "personality": "Sisterly",
          "species": "Bear"
         },
         {
          "birthday": "November28th",
          "catchphrase": "\"neighbor\"",
          "gender": "female",
          "hobbies": "Education",
          "name": "Peaches",
          "personality": "Normal",
          "species": "Horse"
         },
         {
          "birthday": "June8th",
          "catchphrase": "\"slacker\"",
          "gender": "female",
          "hobbies": "Fashion",
          "name": "Peanut",
          "personality": "Peppy",
          "species": "Squirrel"
         },
         {
          "birthday": "September10th",
          "catchphrase": "\"chipmunk\"",
          "gender": "female",
          "hobbies": "Fashion",
          "name": "Pecan",
          "personality": "Snooty",
          "species": "Squirrel"
         },
         {
          "birthday": "July25th",
          "catchphrase": "\"crunch\"",
          "gender": "male",
          "hobbies": "Play",
          "name": "Peck",
          "personality": "Jock",
          "species": "Bird"
         },
         {
          "birthday": "September11th",
          "catchphrase": "\"li'lbittybaby\"",
          "gender": "male",
          "hobbies": "Fitness",
          "name": "Peewee",
          "personality": "Cranky",
          "species": "Gorilla"
         },
         {
          "birthday": "May23rd",
          "catchphrase": "\"shweetie\"",
          "gender": "female",
          "hobbies": "Fashion",
          "name": "Peggy",
          "personality": "Peppy",
          "species": "Pig"
         },
         {
          "birthday": "May18th",
          "catchphrase": "\"bud\"",
          "gender": "female",
          "hobbies": "Nature",
          "name": "Pekoe",
          "personality": "Normal",
          "species": "Cub"
         },
         {
          "birthday": "February5th",
          "catchphrase": "\"ohbow\"",
          "gender": "female",
          "hobbies": "Fashion",
          "name": "Penelope",
          "personality": "Peppy",
          "species": "Mouse"
         },
         {
          "birthday": "November27th",
          "catchphrase": "\"hurk\"",
          "gender": "male",
          "hobbies": "Music",
          "name": "Phil",
          "personality": "Smug",
          "species": "Ostrich"
         },
         {
          "birthday": "April22nd",
          "catchphrase": "\"sparky\"",
          "gender": "female",
          "hobbies": "Fitness",
          "name": "Phoebe",
          "personality": "Sisterly",
          "species": "Ostrich"
         },
         {
          "birthday": "January8th",
          "catchphrase": "\"hawkeye\"",
          "gender": "male",
          "hobbies": "Fitness",
          "name": "Pierce",
          "personality": "Jock",
          "species": "Eagle"
         },
         {
          "birthday": "April19th",
          "catchphrase": "\"honkhonk\"",
          "gender": "male",
          "hobbies": "Music",
          "name": "Pietro",
          "personality": "Smug",
          "species": "Sheep"
         },
         {
          "birthday": "September9th",
          "catchphrase": "\"wah\"",
          "gender": "female",
          "hobbies": "Fashion",
          "name": "Pinky",
          "personality": "Peppy",
          "species": "Bear"
         },
         {
          "birthday": "April18th",
          "catchphrase": "\"chickadee\"",
          "gender": "female",
          "hobbies": "Play",
          "name": "Piper",
          "personality": "Peppy",
          "species": "Bird"
         },
         {
          "birthday": "June14th",
          "catchphrase": "\"li'lhare\"",
          "gender": "female",
          "hobbies": "Fashion",
          "name": "Pippy",
          "personality": "Peppy",
          "species": "Rabbit"
         },
         {
          "birthday": "October12th",
          "catchphrase": "\"chicky-poo\"",
          "gender": "female",
          "hobbies": "Play",
          "name": "Plucky",
          "personality": "Sisterly",
          "species": "Chicken"
         },
         {
          "birthday": "February11th",
          "catchphrase": "\"rahrah\"",
          "gender": "female",
          "hobbies": "Music",
          "name": "Pompom",
          "personality": "Peppy",
          "species": "Duck"
         },
         {
          "birthday": "January2nd",
          "catchphrase": "\"li'lbear\"",
          "gender": "male",
          "hobbies": "Fitness",
          "name": "Poncho",
          "personality": "Jock",
          "species": "Cub"
         },
         {
          "birthday": "August5th",
          "catchphrase": "\"nutty\"",
          "gender": "female",
          "hobbies": "Education",
          "name": "Poppy",
          "personality": "Normal",
          "species": "Squirrel"
         },
         {
          "birthday": "October25th",
          "catchphrase": "\"ruffian\"",
          "gender": "female",
          "hobbies": "Fashion",
          "name": "Portia",
          "personality": "Snooty",
          "species": "Dog"
         },
         {
          "birthday": "July21st",
          "catchphrase": "\"burrup\"",
          "gender": "male",
          "hobbies": "Play",
          "name": "Prince",
          "personality": "Lazy",
          "species": "Frog"
         },
         {
          "birthday": "February21st",
          "catchphrase": "\"brrrrrrrrr\"",
          "gender": "male",
          "hobbies": "Fitness",
          "name": "Puck",
          "personality": "Lazy",
          "species": "Penguin"
         },
         {
          "birthday": "January13th",
          "catchphrase": "\"splish\"",
          "gender": "female",
          "hobbies": "Fashion",
          "name": "Puddles",
          "personality": "Peppy",
          "species": "Frog"
         },
         {
          "birthday": "June11th",
          "catchphrase": "\"golly\"",
          "gender": "male",
          "hobbies": "Play",
          "name": "Pudge",
          "personality": "Lazy",
          "species": "Cub"
         },
         {
          "birthday": "April11th",
          "catchphrase": "\"mrmpht\"",
          "gender": "male",
          "hobbies": "Play",
          "name": "Punchy",
          "personality": "Lazy",
          "species": "Cat"
         },
         {
          "birthday": "May29th",
          "catchphrase": "\"kitten\"",
          "gender": "female",
          "hobbies": "Fashion",
          "name": "Purrl",
          "personality": "Snooty",
          "species": "Cat"
         },
         {
          "birthday": "November13th",
          "catchphrase": "\"chicken\"",
          "gender": "female",
          "hobbies": "Fashion",
          "name": "Queenie",
          "personality": "Snooty",
          "species": "Ostrich"
         },
         {
          "birthday": "December22nd",
          "catchphrase": "\"ridukulous\"",
          "gender": "male",
          "hobbies": "Music",
          "name": "Quillson",
          "personality": "Smug",
          "species": "Duck"
         },
         {
          "birthday": "June6th",
          "catchphrase": "\"aaach—\"",
          "gender": "male",
          "hobbies": "Nature",
          "name": "Raddle",
          "personality": "Lazy",
          "species": "Frog"
         },
         {
          "birthday": "April7th",
          "catchphrase": "\"swine\"",
          "gender": "male",
          "hobbies": "Music",
          "name": "Rasher",
          "personality": "Cranky",
          "species": "Pig"
         },
         {
          "birthday": "October1st",
          "catchphrase": "\"crisp\"",
          "gender": "male",
          "hobbies": "Nature",
          "name": "Raymond",
          "personality": "Smug",
          "species": "Cat"
         },
         {
          "birthday": "May28th",
          "catchphrase": "\"yoyoyo\"",
          "gender": "female",
          "hobbies": "Music",
          "name": "Renée",
          "personality": "Sisterly",
          "species": "Rhino"
         },
         {
          "birthday": "June4th",
          "catchphrase": "\"ayupyup\"",
          "gender": "female",
          "hobbies": "Play",
          "name": "Reneigh",
          "personality": "Sisterly",
          "species": "Horse"
         },
         {
          "birthday": "July24th",
          "catchphrase": "\"coolcat\"",
          "gender": "male",
          "hobbies": "Nature",
          "name": "Rex",
          "personality": "Lazy",
          "species": "Lion"
         },
         {
          "birthday": "January24th",
          "catchphrase": "\"bigfoot\"",
          "gender": "female",
          "hobbies": "Music",
          "name": "Rhonda",
          "personality": "Normal",
          "species": "Rhino"
         },
         {
          "birthday": "February13th",
          "catchphrase": "\"zzrrbbitt\"",
          "gender": "male",
          "hobbies": "Fitness",
          "name": "Ribbot",
          "personality": "Jock",
          "species": "Frog"
         },
         {
          "birthday": "September14th",
          "catchphrase": "\"nutcase\"",
          "gender": "male",
          "hobbies": "Education",
          "name": "Ricky",
          "personality": "Cranky",
          "species": "Squirrel"
         },
         {
          "birthday": "January17th",
          "catchphrase": "\"squee\"",
          "gender": "male",
          "hobbies": "Education",
          "name": "Rizzo",
          "personality": "Cranky",
          "species": "Mouse"
         },
         {
          "birthday": "January5th",
          "catchphrase": "\"b-b-buddy\"",
          "gender": "male",
          "hobbies": "Fitness",
          "name": "Roald",
          "personality": "Jock",
          "species": "Penguin"
         },
         {
          "birthday": "December4th",
          "catchphrase": "\"la-di-da\"",
          "gender": "female",
          "hobbies": "Fashion",
          "name": "Robin",
          "personality": "Snooty",
          "species": "Bird"
         },
         {
          "birthday": "August18th",
          "catchphrase": "\"hippie\"",
          "gender": "male",
          "hobbies": "Education",
          "name": "Rocco",
          "personality": "Cranky",
          "species": "Hippo"
         },
         {
          "birthday": "April14th",
          "catchphrase": "\"vroom\"",
          "gender": "female",
          "hobbies": "Fitness",
          "name": "Rocket",
          "personality": "Sisterly",
          "species": "Gorilla"
         },
         {
          "birthday": "August14th",
          "catchphrase": "\"ace\"",
          "gender": "male",
          "hobbies": "Fitness",
          "name": "Rod",
          "personality": "Jock",
          "species": "Mouse"
         },
         {
          "birthday": "October29th",
          "catchphrase": "\"chaps\"",
          "gender": "male",
          "hobbies": "Fitness",
          "name": "Rodeo",
          "personality": "Lazy",
          "species": "Bull"
         },
         {
          "birthday": "November10th",
          "catchphrase": "\"leham\"",
          "gender": "male",
          "hobbies": "Music",
          "name": "Rodney",
          "personality": "Smug",
          "species": "Hamster"
         },
         {
          "birthday": "August22nd",
          "catchphrase": "\"grrrolf\"",
          "gender": "male",
          "hobbies": "Fitness",
          "name": "Rolf",
          "personality": "Cranky",
          "species": "Tiger"
         },
         {
          "birthday": "December1st",
          "catchphrase": "\"punches\"",
          "gender": "male",
          "hobbies": "Fitness",
          "name": "Rooney",
          "personality": "Cranky",
          "species": "Kangaroo"
         },
         {
          "birthday": "August7th",
          "catchphrase": "\"capital\"",
          "gender": "male",
          "hobbies": "Music",
          "name": "Rory",
          "personality": "Jock",
          "species": "Lion"
         },
         {
          "birthday": "June16th",
          "catchphrase": "\"nay\"",
          "gender": "male",
          "hobbies": "Music",
          "name": "Roscoe",
          "personality": "Cranky",
          "species": "Horse"
         },
         {
          "birthday": "February27th",
          "catchphrase": "\"silly\"",
          "gender": "female",
          "hobbies": "Music",
          "name": "Rosie",
          "personality": "Peppy",
          "species": "Cat"
         },
         {
          "birthday": "August26th",
          "catchphrase": "\"mango\"",
          "gender": "male",
          "hobbies": "Fitness",
          "name": "Rowan",
          "personality": "Jock",
          "species": "Tiger"
         },
         {
          "birthday": "December25th",
          "catchphrase": "\"li'lears\"",
          "gender": "female",
          "hobbies": "Nature",
          "name": "Ruby",
          "personality": "Peppy",
          "species": "Rabbit"
         },
         {
          "birthday": "December20th",
          "catchphrase": "\"mush\"",
          "gender": "male",
          "hobbies": "Play",
          "name": "Rudy",
          "personality": "Jock",
          "species": "Cat"
         },
         {
          "birthday": "June19th",
          "catchphrase": "\"nutmeg\"",
          "gender": "female",
          "hobbies": "Music",
          "name": "Sally",
          "personality": "Normal",
          "species": "Squirrel"
         },
         {
          "birthday": "July5th",
          "catchphrase": "\"pipsqueak\"",
          "gender": "male",
          "hobbies": "Fitness",
          "name": "Samson",
          "personality": "Jock",
          "species": "Mouse"
         },
         {
          "birthday": "October21st",
          "catchphrase": "\"speedy\"",
          "gender": "female",
          "hobbies": "Nature",
          "name": "Sandy",
          "personality": "Normal",
          "species": "Ostrich"
         },
         {
          "birthday": "January25th",
          "catchphrase": "\"y'all\"",
          "gender": "female",
          "hobbies": "Music",
          "name": "Savannah",
          "personality": "Normal",
          "species": "Horse"
         },
         {
          "birthday": "June13th",
          "catchphrase": "\"zipzoom\"",
          "gender": "male",
          "hobbies": "Fitness",
          "name": "Scoot",
          "personality": "Jock",
          "species": "Duck"
         },
         {
          "birthday": "April10th",
          "catchphrase": "\"cheeky\"",
          "gender": "female",
          "hobbies": "Music",
          "name": "Shari",
          "personality": "Sisterly",
          "species": "Monkey"
         },
         {
          "birthday": "February26th",
          "catchphrase": "\"cardio\"",
          "gender": "male",
          "hobbies": "Play",
          "name": "Sheldon",
          "personality": "Jock",
          "species": "Squirrel"
         },
         {
          "birthday": "November24th",
          "catchphrase": "\"baabaabaa\"",
          "gender": "male",
          "hobbies": "Education",
          "name": "Shep",
          "personality": "Smug",
          "species": "Dog"
         },
         {
          "birthday": "January18th",
          "catchphrase": "\"bawwww\"",
          "gender": "male",
          "hobbies": "Nature",
          "name": "Sherb",
          "personality": "Lazy",
          "species": "Goat"
         },
         {
          "birthday": "January19th",
          "catchphrase": "\"zzzook\"",
          "gender": "male",
          "hobbies": "Play",
          "name": "Simon",
          "personality": "Lazy",
          "species": "Monkey"
         },
         {
          "birthday": "March24th",
          "catchphrase": "\"airmail\"",
          "gender": "female",
          "hobbies": "Music",
          "name": "Skye",
          "personality": "Normal",
          "species": "Wolf"
         },
         {
          "birthday": "November15th",
          "catchphrase": "\"hoo-rah\"",
          "gender": "male",
          "hobbies": "Play",
          "name": "Sly",
          "personality": "Jock",
          "species": "Alligator"
         },
         {
          "birthday": "November3rd",
          "catchphrase": "\"bunyip\"",
          "gender": "male",
          "hobbies": "Fitness",
          "name": "Snake",
          "personality": "Jock",
          "species": "Rabbit"
         },
         {
          "birthday": "October24th",
          "catchphrase": "\"sniffff\"",
          "gender": "female",
          "hobbies": "Education",
          "name": "Snooty",
          "personality": "Snooty",
          "species": "Anteater"
         },
         {
          "birthday": "August9th",
          "catchphrase": "\"tarnation\"",
          "gender": "female",
          "hobbies": "Education",
          "name": "Soleil",
          "personality": "Snooty",
          "species": "Hamster"
         },
         {
          "birthday": "November20th",
          "catchphrase": "\"likewhoa\"",
          "gender": "male",
          "hobbies": "Play",
          "name": "Sparro",
          "personality": "Jock",
          "species": "Bird"
         },
         {
          "birthday": "June17th",
          "catchphrase": "\"punk\"",
          "gender": "male",
          "hobbies": "Nature",
          "name": "Spike",
          "personality": "Cranky",
          "species": "Rhino"
         },
         {
          "birthday": "September3rd",
          "catchphrase": "\"snork\"",
          "gender": "male",
          "hobbies": "Play",
          "name": "SporkNACracklePAL",
          "personality": "Lazy",
          "species": "Pig"
         },
         {
          "birthday": "February20th",
          "catchphrase": "\"frappe\"",
          "gender": "female",
          "hobbies": "Play",
          "name": "Sprinkle",
          "personality": "Peppy",
          "species": "Penguin"
         },
         {
          "birthday": "December1st",
          "catchphrase": "\"zort\"",
          "gender": "male",
          "hobbies": "Music",
          "name": "Sprocket",
          "personality": "Jock",
          "species": "Ostrich"
         },
         {
          "birthday": "July9th",
          "catchphrase": "\"krzzt\"",
          "gender": "male",
          "hobbies": "Music",
          "name": "Static",
          "personality": "Cranky",
          "species": "Squirrel"
         },
         {
          "birthday": "April9th",
          "catchphrase": "\"baa-dabing\"",
          "gender": "female",
          "hobbies": "Nature",
          "name": "Stella",
          "personality": "Normal",
          "species": "Sheep"
         },
         {
          "birthday": "December11th",
          "catchphrase": "\"skraaaaw\"",
          "gender": "male",
          "hobbies": "Fitness",
          "name": "Sterling",
          "personality": "Jock",
          "species": "Eagle"
         },
         {
          "birthday": "August17th",
          "catchphrase": "\"GAAHHH\"",
          "gender": "male",
          "hobbies": "Fitness",
          "name": "Stinky",
          "personality": "Jock",
          "species": "Cat"
         },
         {
          "birthday": "February10th",
          "catchphrase": "\"stuffin'\"",
          "gender": "male",
          "hobbies": "Play",
          "name": "Stitches",
          "personality": "Lazy",
          "species": "Cub"
         },
         {
          "birthday": "April20th",
          "catchphrase": "\"mrooooo\"",
          "gender": "male",
          "hobbies": "Nature",
          "name": "Stu",
          "personality": "Lazy",
          "species": "Bull"
         },
         {
          "birthday": "June21st",
          "catchphrase": "\"sunshine\"",
          "gender": "female",
          "hobbies": "Music",
          "name": "Sydney",
          "personality": "Normal",
          "species": "Koala"
         },
         {
          "birthday": "October22nd",
          "catchphrase": "\"hubbub\"",
          "gender": "female",
          "hobbies": "Nature",
          "name": "Sylvana",
          "personality": "Normal",
          "species": "Squirrel"
         },
         {
          "birthday": "May3rd",
          "catchphrase": "\"boing\"",
          "gender": "female",
          "hobbies": "Music",
          "name": "Sylvia",
          "personality": "Sisterly",
          "species": "Kangaroo"
         },
         {
          "birthday": "August13th",
          "catchphrase": "\"me-WOW\"",
          "gender": "female",
          "hobbies": "Music",
          "name": "Tabby",
          "personality": "Peppy",
          "species": "Cat"
         },
         {
          "birthday": "August3rd",
          "catchphrase": "\"sluuuurp\"",
          "gender": "male",
          "hobbies": "Play",
          "name": "Tad",
          "personality": "Jock",
          "species": "Frog"
         },
         {
          "birthday": "April2nd",
          "catchphrase": "\"chimpy\"",
          "gender": "female",
          "hobbies": "Fashion",
          "name": "Tammi",
          "personality": "Peppy",
          "species": "Monkey"
         },
         {
          "birthday": "June23rd",
          "catchphrase": "\"yaheard\"",
          "gender": "female",
          "hobbies": "Play",
          "name": "Tammy",
          "personality": "Sisterly",
          "species": "Cub"
         },
         {
          "birthday": "June17th",
          "catchphrase": "\"reeeeOWR\"",
          "gender": "female",
          "hobbies": "Music",
          "name": "Tangy",
          "personality": "Peppy",
          "species": "Cat"
         },
         {
          "birthday": "May6th",
          "catchphrase": "\"kerPOW\"",
          "gender": "male",
          "hobbies": "Fitness",
          "name": "Tank",
          "personality": "Jock",
          "species": "Rhino"
         },
         {
          "birthday": "November30th",
          "catchphrase": "\"nicenice\"",
          "gender": "female",
          "hobbies": "Fitness",
          "name": "Tasha",
          "personality": "Snooty",
          "species": "Squirrel"
         },
         {
          "birthday": "May20th",
          "catchphrase": "\"moocher\"",
          "gender": "male",
          "hobbies": "Education",
          "name": "T-Bone",
          "personality": "Cranky",
          "species": "Bull"
         },
         {
          "birthday": "September26th",
          "catchphrase": "\"grooof\"",
          "gender": "male",
          "hobbies": "Fitness",
          "name": "Teddy",
          "personality": "Jock",
          "species": "Bear"
         },
         {
          "birthday": "October6th",
          "catchphrase": "\"picante\"",
          "gender": "male",
          "hobbies": "Music",
          "name": "Tex",
          "personality": "Smug",
          "species": "Penguin"
         },
         {
          "birthday": "November18th",
          "catchphrase": "\"teacup\"",
          "gender": "female",
          "hobbies": "Nature",
          "name": "Tia",
          "personality": "Normal",
          "species": "Elephant"
         },
         {
          "birthday": "January9th",
          "catchphrase": "\"bunbun\"",
          "gender": "female",
          "hobbies": "Fashion",
          "name": "Tiffany",
          "personality": "Snooty",
          "species": "Rabbit"
         },
         {
          "birthday": "October21st",
          "catchphrase": "\"pinenut\"",
          "gender": "female",
          "hobbies": "Education",
          "name": "Timbra",
          "personality": "Snooty",
          "species": "Sheep"
         },
         {
          "birthday": "August25th",
          "catchphrase": "\"pushy\"",
          "gender": "female",
          "hobbies": "Fashion",
          "name": "Tipper",
          "personality": "Snooty",
          "species": "Cow"
         },
         {
          "birthday": "December10th",
          "catchphrase": "\"me-YOWZA\"",
          "gender": "male",
          "hobbies": "Education",
          "name": "Tom",
          "personality": "Cranky",
          "species": "Cat"
         },
         {
          "birthday": "July28th",
          "catchphrase": "\"snoutie\"",
          "gender": "female",
          "hobbies": "Fashion",
          "name": "Truffles",
          "personality": "Peppy",
          "species": "Pig"
         },
         {
          "birthday": "September7th",
          "catchphrase": "\"fuzzers\"",
          "gender": "male",
          "hobbies": "Nature",
          "name": "Tucker",
          "personality": "Lazy",
          "species": "Elephant"
         },
         {
          "birthday": "September15th",
          "catchphrase": "\"twinkles\"",
          "gender": "female",
          "hobbies": "Fashion",
          "name": "Tutu",
          "personality": "Peppy",
          "species": "Bear"
         },
         {
          "birthday": "July13th",
          "catchphrase": "\"cheepers\"",
          "gender": "female",
          "hobbies": "Fashion",
          "name": "Twiggy",
          "personality": "Peppy",
          "species": "Bird"
         },
         {
          "birthday": "August19th",
          "catchphrase": "\"grrrRAH\"",
          "gender": "male",
          "hobbies": "Play",
          "name": "Tybalt",
          "personality": "Jock",
          "species": "Tiger"
         },
         {
          "birthday": "January16th",
          "catchphrase": "\"grooomph\"",
          "gender": "female",
          "hobbies": "Music",
          "name": "Ursala",
          "personality": "Sisterly",
          "species": "Bear"
         },
         {
          "birthday": "January14th",
          "catchphrase": "\"blih\"",
          "gender": "female",
          "hobbies": "Education",
          "name": "Velma",
          "personality": "Snooty",
          "species": "Goat"
         },
         {
          "birthday": "April16th",
          "catchphrase": "\"baaaffo\"",
          "gender": "female",
          "hobbies": "Fashion",
          "name": "Vesta",
          "personality": "Normal",
          "species": "Sheep"
         },
         {
          "birthday": "December29th",
          "catchphrase": "\"cud\"",
          "gender": "male",
          "hobbies": "Fitness",
          "name": "Vic",
          "personality": "Cranky",
          "species": "Bull"
         },
         {
          "birthday": "July11th",
          "catchphrase": "\"sugarcube\"",
          "gender": "female",
          "hobbies": "Fitness",
          "name": "Victoria",
          "personality": "Peppy",
          "species": "Horse"
         },
         {
          "birthday": "September1st",
          "catchphrase": "\"sweetie\"",
          "gender": "female",
          "hobbies": "Fitness",
          "name": "Violet",
          "personality": "Snooty",
          "species": "Gorilla"
         },
         {
          "birthday": "January26th",
          "catchphrase": "\"piffle\"",
          "gender": "female",
          "hobbies": "Education",
          "name": "Vivian",
          "personality": "Snooty",
          "species": "Wolf"
         },
         {
          "birthday": "August2nd",
          "catchphrase": "\"nyet\"",
          "gender": "male",
          "hobbies": "Play",
          "name": "Vladimir",
          "personality": "Cranky",
          "species": "Cub"
         },
         {
          "birthday": "October30th",
          "catchphrase": "\"soitgoes\"",
          "gender": "male",
          "hobbies": "Nature",
          "name": "Wade",
          "personality": "Lazy",
          "species": "Penguin"
         },
         {
          "birthday": "June10th",
          "catchphrase": "\"wuh\"",
          "gender": "male",
          "hobbies": "Play",
          "name": "Walker",
          "personality": "Lazy",
          "species": "Dog"
         },
         {
          "birthday": "April24th",
          "catchphrase": "\"pockets\"",
          "gender": "male",
          "hobbies": "Fitness",
          "name": "Walt",
          "personality": "Cranky",
          "species": "Kangaroo"
         },
         {
          "birthday": "August21st",
          "catchphrase": "\"grr-ribbit\"",
          "gender": "male",
          "hobbies": "Education",
          "name": "WartJr.",
          "personality": "Cranky",
          "species": "Frog"
         },
         {
          "birthday": "June30th",
          "catchphrase": "\"quaa\"",
          "gender": "male",
          "hobbies": "Nature",
          "name": "Weber",
          "personality": "Lazy",
          "species": "Duck"
         },
         {
          "birthday": "August15th",
          "catchphrase": "\"lambkins\"",
          "gender": "female",
          "hobbies": "Fashion",
          "name": "Wendy",
          "personality": "Peppy",
          "species": "Sheep"
         },
         {
          "birthday": "September17th",
          "catchphrase": "\"snappy\"",
          "gender": "female",
          "hobbies": "Fashion",
          "name": "Whitney",
          "personality": "Snooty",
          "species": "Wolf"
         },
         {
          "birthday": "November26th",
          "catchphrase": "\"bopeep\"",
          "gender": "female",
          "hobbies": "Fashion",
          "name": "Willow",
          "personality": "Snooty",
          "species": "Sheep"
         },
         {
          "birthday": "January31st",
          "catchphrase": "\"hay-OK\"",
          "gender": "female",
          "hobbies": "Fashion",
          "name": "Winnie",
          "personality": "Peppy",
          "species": "Horse"
         },
         {
          "birthday": "November25th",
          "catchphrase": "\"snarrrl\"",
          "gender": "male",
          "hobbies": "Education",
          "name": "Wolfgang",
          "personality": "Cranky",
          "species": "Wolf"
         },
         {
          "birthday": "July20th",
          "catchphrase": "\"tsktsk\"",
          "gender": "female",
          "hobbies": "Fashion",
          "name": "Yuka",
          "personality": "Snooty",
          "species": "Koala"
         },
         {
          "birthday": "June7th",
          "catchphrase": "\"pronk\"",
          "gender": "male",
          "hobbies": "Music",
          "name": "Zell",
          "personality": "Smug",
          "species": "Deer"
         },
         {
          "birthday": "March8th",
          "catchphrase": "\"bloop\"",
          "gender": "male",
          "hobbies": "Nature",
          "name": "Zucker",
          "personality": "Lazy",
          "species": "Octopus"
         }
        ]
       },
       "encoding": {
        "color": {
         "field": "hobbies",
         "type": "nominal"
        },
        "x": {
         "field": "species",
         "type": "nominal"
        },
        "y": {
         "aggregate": "count",
         "type": "quantitative"
        }
       },
       "mark": "bar"
      },
      "image/png": "[encoded data removed]",
      "text/plain": [
       "<VegaLite 4 object>\n",
       "\n",
       "If you see this message, it means the renderer has not been properly enabled\n",
       "for the frontend that you are using. For more information, see\n",
       "https://altair-viz.github.io/user_guide/troubleshooting.html\n"
      ]
     },
     "execution_count": 19,
     "metadata": {},
     "output_type": "execute_result"
    }
   ],
   "source": [
    "alt.Chart(cleaned_data).mark_bar().encode(\n",
    "    alt.X('species'),\n",
    "    y = 'count()',\n",
    "    color = 'hobbies'\n",
    ")"
   ]
  },
  {
   "cell_type": "markdown",
   "metadata": {},
   "source": [
    "### It seems like hobbies are pretty balanced among all species... Wait! Why there is no on interested in education among Alligator, Cow, Gorrilla, Octopus and Rhino? I can understand that there were only 4 cows and 3 Octopus so it's hard to fill in all the categories. \n",
    "### Apparently the only thing Gorilla cares is Fitness!"
   ]
  },
  {
   "cell_type": "code",
   "execution_count": null,
   "metadata": {},
   "outputs": [],
   "source": []
  }
 ],
 "metadata": {
  "kernelspec": {
   "display_name": "Python 3",
   "language": "python",
   "name": "python3"
  },
  "language_info": {
   "codemirror_mode": {
    "name": "ipython",
    "version": 3
   },
   "file_extension": ".py",
   "mimetype": "text/x-python",
   "name": "python",
   "nbconvert_exporter": "python",
   "pygments_lexer": "ipython3",
   "version": "3.7.6"
  }
 },
 "nbformat": 4,
 "nbformat_minor": 4
}
